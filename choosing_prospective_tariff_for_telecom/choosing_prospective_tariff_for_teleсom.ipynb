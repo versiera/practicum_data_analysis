{
 "cells": [
  {
   "cell_type": "markdown",
   "metadata": {},
   "source": [
    "# Определение перспективного тарифа для телеком-компании\n",
    "\n",
    "**Входные данные**\n",
    "\n",
    "Выборка, состоящая из 500 пользователей телеком-компании, со следующими данными: кто они, откуда, каким тарифом пользуются, сколько звонков и сообщений каждый отправил за 2018 год.\n",
    "\n",
    "Описание тарифов:\n",
    "\n",
    "Смарт\n",
    "\n",
    "* Ежемесячная плата: 550 рублей\n",
    "* Включено 500 минут разговора, 50 сообщений и 15 Гб интернет-трафика\n",
    "* Стоимость услуг сверх тарифного пакета:\n",
    "    * минута разговора: 3 рубля\n",
    "    * сообщение: 3 рубля\n",
    "    * 1 Гб интернет-трафика: 200 рублей\n",
    "    \n",
    "    \n",
    "Ультра\n",
    "\n",
    "* Ежемесячная плата: 1950 рублей\n",
    "* Включено 3000 минут разговора, 1000 сообщений и 30 Гб интернет-трафика\n",
    "* Стоимость услуг сверх тарифного пакета:\n",
    "    * минута разговора: 1 рубль\n",
    "    * сообщение: 1 рубль\n",
    "    * 1 Гб интернет-трафика: 150 рублей\n",
    "    \n",
    "Правила тарификации:\n",
    "\n",
    "Оператор всегда округляет секунды до минут, а мегабайты — до гигабайт. Каждый звонок округляется отдельно: даже если он длился всего 1 секунду, будет засчитан как 1 минута.\n",
    "\n",
    "Для веб-трафика отдельные сессии не считаются. Вместо этого общая сумма за месяц округляется в бо́льшую сторону. Если абонент использует 1025 мегабайт в этом месяце, с него возьмут плату за 2 гигабайта.\n",
    "\n",
    "\n",
    "**Задача**\n",
    "\n",
    "Проанализировать поведение клиентов и сделать вывод — какой тариф приносит больше денег. Это поможет коммерческому департаменту понять, каким образом скорректировать рекламный бюджет."
   ]
  },
  {
   "cell_type": "markdown",
   "metadata": {
    "toc": true
   },
   "source": [
    "<h1>Содержание<span class=\"tocSkip\"></span></h1>\n",
    "<div class=\"toc\"><ul class=\"toc-item\"><li><span><a href=\"#Изучение-данных\" data-toc-modified-id=\"Изучение-данных-1\"><span class=\"toc-item-num\">1&nbsp;&nbsp;</span>Изучение данных</a></span></li><li><span><a href=\"#Предобработка-данных\" data-toc-modified-id=\"Предобработка-данных-2\"><span class=\"toc-item-num\">2&nbsp;&nbsp;</span>Предобработка данных</a></span><ul class=\"toc-item\"><li><span><a href=\"#users\" data-toc-modified-id=\"users-2.1\"><span class=\"toc-item-num\">2.1&nbsp;&nbsp;</span>users</a></span></li><li><span><a href=\"#tariffs\" data-toc-modified-id=\"tariffs-2.2\"><span class=\"toc-item-num\">2.2&nbsp;&nbsp;</span>tariffs</a></span></li><li><span><a href=\"#calls\" data-toc-modified-id=\"calls-2.3\"><span class=\"toc-item-num\">2.3&nbsp;&nbsp;</span>calls</a></span></li><li><span><a href=\"#messages\" data-toc-modified-id=\"messages-2.4\"><span class=\"toc-item-num\">2.4&nbsp;&nbsp;</span>messages</a></span></li><li><span><a href=\"#internet\" data-toc-modified-id=\"internet-2.5\"><span class=\"toc-item-num\">2.5&nbsp;&nbsp;</span>internet</a></span></li><li><span><a href=\"#Дополнительные-расчеты\" data-toc-modified-id=\"Дополнительные-расчеты-2.6\"><span class=\"toc-item-num\">2.6&nbsp;&nbsp;</span>Дополнительные расчеты</a></span></li></ul></li><li><span><a href=\"#Анализ-поведения-клиентов\" data-toc-modified-id=\"Анализ-поведения-клиентов-3\"><span class=\"toc-item-num\">3&nbsp;&nbsp;</span>Анализ поведения клиентов</a></span><ul class=\"toc-item\"><li><span><a href=\"#Данные-по-звонкам\" data-toc-modified-id=\"Данные-по-звонкам-3.1\"><span class=\"toc-item-num\">3.1&nbsp;&nbsp;</span>Данные по звонкам</a></span></li><li><span><a href=\"#Данные-по-сообщениям\" data-toc-modified-id=\"Данные-по-сообщениям-3.2\"><span class=\"toc-item-num\">3.2&nbsp;&nbsp;</span>Данные по сообщениям</a></span></li><li><span><a href=\"#Данные-по-интернет-трафику\" data-toc-modified-id=\"Данные-по-интернет-трафику-3.3\"><span class=\"toc-item-num\">3.3&nbsp;&nbsp;</span>Данные по интернет-трафику</a></span></li><li><span><a href=\"#Данные-по-выручке\" data-toc-modified-id=\"Данные-по-выручке-3.4\"><span class=\"toc-item-num\">3.4&nbsp;&nbsp;</span>Данные по выручке</a></span></li></ul></li><li><span><a href=\"#Проверка-гипотез\" data-toc-modified-id=\"Проверка-гипотез-4\"><span class=\"toc-item-num\">4&nbsp;&nbsp;</span>Проверка гипотез</a></span><ul class=\"toc-item\"><li><span><a href=\"#Cредняя-выручка-пользователей-тарифов-&quot;Ультра&quot;-и-&quot;Смарт&quot;-различаются\" data-toc-modified-id=\"Cредняя-выручка-пользователей-тарифов-&quot;Ультра&quot;-и-&quot;Смарт&quot;-различаются-4.1\"><span class=\"toc-item-num\">4.1&nbsp;&nbsp;</span>Cредняя выручка пользователей тарифов \"Ультра\" и \"Смарт\" различаются</a></span></li><li><span><a href=\"#Средняя-выручка-пользователей-из-Москвы-отличается-от-выручки-пользователей-из-других-регионов\" data-toc-modified-id=\"Средняя-выручка-пользователей-из-Москвы-отличается-от-выручки-пользователей-из-других-регионов-4.2\"><span class=\"toc-item-num\">4.2&nbsp;&nbsp;</span>Средняя выручка пользователей из Москвы отличается от выручки пользователей из других регионов</a></span></li></ul></li><li><span><a href=\"#Общий-вывод\" data-toc-modified-id=\"Общий-вывод-5\"><span class=\"toc-item-num\">5&nbsp;&nbsp;</span>Общий вывод</a></span></li></ul></div>"
   ]
  },
  {
   "cell_type": "markdown",
   "metadata": {},
   "source": [
    "## Изучение данных"
   ]
  },
  {
   "cell_type": "code",
   "execution_count": 1,
   "metadata": {},
   "outputs": [],
   "source": [
    "# Импорт библиотек\n",
    "import pandas as pd\n",
    "import numpy as np\n",
    "from scipy import stats as st\n",
    "\n",
    "import matplotlib.pyplot as plt\n",
    "import seaborn as sns\n",
    "%matplotlib inline\n",
    "\n",
    "# Отключение варнингов\n",
    "import warnings\n",
    "warnings.filterwarnings('ignore')"
   ]
  },
  {
   "cell_type": "markdown",
   "metadata": {},
   "source": [
    "Выведем общую информацию о представленных таблицах:"
   ]
  },
  {
   "cell_type": "code",
   "execution_count": 2,
   "metadata": {},
   "outputs": [
    {
     "name": "stdout",
     "output_type": "stream",
     "text": [
      "<class 'pandas.core.frame.DataFrame'>\n",
      "RangeIndex: 500 entries, 0 to 499\n",
      "Data columns (total 8 columns):\n",
      " #   Column      Non-Null Count  Dtype \n",
      "---  ------      --------------  ----- \n",
      " 0   user_id     500 non-null    int64 \n",
      " 1   age         500 non-null    int64 \n",
      " 2   churn_date  38 non-null     object\n",
      " 3   city        500 non-null    object\n",
      " 4   first_name  500 non-null    object\n",
      " 5   last_name   500 non-null    object\n",
      " 6   reg_date    500 non-null    object\n",
      " 7   tariff      500 non-null    object\n",
      "dtypes: int64(2), object(6)\n",
      "memory usage: 31.4+ KB\n"
     ]
    }
   ],
   "source": [
    "users = pd.read_csv('/datasets/users.csv')\n",
    "users.info()"
   ]
  },
  {
   "cell_type": "markdown",
   "metadata": {},
   "source": [
    "Таблица `users` содержит информацию о пользователях:\n",
    "- user_id — уникальный идентификатор пользователя\n",
    "- age — возраст пользователя (годы)\n",
    "- churn_date — дата прекращения пользования тарифом (если значение пропущено, то тариф ещё действовал на момент выгрузки данных)\n",
    "- city — город проживания пользователя\n",
    "- first_name — имя пользователя\n",
    "- last_name — фамилия пользователя\n",
    "- reg_date — дата подключения тарифа (день, месяц, год)\n",
    "- tariff — название тарифного плана"
   ]
  },
  {
   "cell_type": "code",
   "execution_count": 3,
   "metadata": {},
   "outputs": [
    {
     "name": "stdout",
     "output_type": "stream",
     "text": [
      "<class 'pandas.core.frame.DataFrame'>\n",
      "RangeIndex: 2 entries, 0 to 1\n",
      "Data columns (total 8 columns):\n",
      " #   Column                 Non-Null Count  Dtype \n",
      "---  ------                 --------------  ----- \n",
      " 0   messages_included      2 non-null      int64 \n",
      " 1   mb_per_month_included  2 non-null      int64 \n",
      " 2   minutes_included       2 non-null      int64 \n",
      " 3   rub_monthly_fee        2 non-null      int64 \n",
      " 4   rub_per_gb             2 non-null      int64 \n",
      " 5   rub_per_message        2 non-null      int64 \n",
      " 6   rub_per_minute         2 non-null      int64 \n",
      " 7   tariff_name            2 non-null      object\n",
      "dtypes: int64(7), object(1)\n",
      "memory usage: 256.0+ bytes\n"
     ]
    }
   ],
   "source": [
    "tariffs = pd.read_csv('/datasets/tariffs.csv')\n",
    "tariffs.info()"
   ]
  },
  {
   "cell_type": "markdown",
   "metadata": {},
   "source": [
    "Таблица `tariffs` содержит информацию о тарифах:\n",
    "- messages_included — количество сообщений в месяц, включённых в абонентскую плату\n",
    "- mb_per_month_included — объём интернет-трафика, включённого в абонентскую плату (в мегабайтах)\n",
    "- minutes_included — количество минут разговора в месяц, включённых в абонентскую плату\n",
    "- rub_monthly_fee — ежемесячная абонентская плата в рублях\n",
    "- rub_per_gb — стоимость дополнительного гигабайта интернет-трафика сверх тарифного пакета (1 гигабайт = 1024 мегабайта)\n",
    "- rub_per_message — стоимость отправки сообщения сверх тарифного пакета\n",
    "- rub_per_minute — стоимость минуты разговора сверх тарифного пакета (например, если в тарифе 100 минут разговора в месяц, то со 101 минуты будет взиматься плата)\n",
    "- tariff_name — название тарифа"
   ]
  },
  {
   "cell_type": "code",
   "execution_count": 4,
   "metadata": {},
   "outputs": [
    {
     "name": "stdout",
     "output_type": "stream",
     "text": [
      "<class 'pandas.core.frame.DataFrame'>\n",
      "RangeIndex: 202607 entries, 0 to 202606\n",
      "Data columns (total 4 columns):\n",
      " #   Column     Non-Null Count   Dtype  \n",
      "---  ------     --------------   -----  \n",
      " 0   id         202607 non-null  object \n",
      " 1   call_date  202607 non-null  object \n",
      " 2   duration   202607 non-null  float64\n",
      " 3   user_id    202607 non-null  int64  \n",
      "dtypes: float64(1), int64(1), object(2)\n",
      "memory usage: 6.2+ MB\n"
     ]
    }
   ],
   "source": [
    "calls = pd.read_csv('/datasets/calls.csv')\n",
    "calls.info()"
   ]
  },
  {
   "cell_type": "markdown",
   "metadata": {},
   "source": [
    "Таблица `calls` содержит информацию о звонках:\n",
    "- id — уникальный номер звонка\n",
    "- call_date — дата звонка\n",
    "- duration — длительность звонка в минутах\n",
    "- user_id — идентификатор пользователя, сделавшего звонок"
   ]
  },
  {
   "cell_type": "code",
   "execution_count": 5,
   "metadata": {},
   "outputs": [
    {
     "name": "stdout",
     "output_type": "stream",
     "text": [
      "<class 'pandas.core.frame.DataFrame'>\n",
      "RangeIndex: 149396 entries, 0 to 149395\n",
      "Data columns (total 5 columns):\n",
      " #   Column        Non-Null Count   Dtype  \n",
      "---  ------        --------------   -----  \n",
      " 0   Unnamed: 0    149396 non-null  int64  \n",
      " 1   id            149396 non-null  object \n",
      " 2   mb_used       149396 non-null  float64\n",
      " 3   session_date  149396 non-null  object \n",
      " 4   user_id       149396 non-null  int64  \n",
      "dtypes: float64(1), int64(2), object(2)\n",
      "memory usage: 5.7+ MB\n"
     ]
    }
   ],
   "source": [
    "internet = pd.read_csv('/datasets/internet.csv')\n",
    "internet.info()"
   ]
  },
  {
   "cell_type": "markdown",
   "metadata": {},
   "source": [
    "Таблица `internet` содержит информацию об интернет-сессиях:\n",
    "- id — уникальный номер сессии\n",
    "- mb_used — объём потраченного за сессию интернет-трафика (в мегабайтах)\n",
    "- session_date — дата интернет-сессии\n",
    "- user_id — идентификатор пользователя"
   ]
  },
  {
   "cell_type": "code",
   "execution_count": 6,
   "metadata": {},
   "outputs": [
    {
     "name": "stdout",
     "output_type": "stream",
     "text": [
      "<class 'pandas.core.frame.DataFrame'>\n",
      "RangeIndex: 123036 entries, 0 to 123035\n",
      "Data columns (total 3 columns):\n",
      " #   Column        Non-Null Count   Dtype \n",
      "---  ------        --------------   ----- \n",
      " 0   id            123036 non-null  object\n",
      " 1   message_date  123036 non-null  object\n",
      " 2   user_id       123036 non-null  int64 \n",
      "dtypes: int64(1), object(2)\n",
      "memory usage: 2.8+ MB\n"
     ]
    }
   ],
   "source": [
    "messages = pd.read_csv('/datasets/messages.csv')\n",
    "messages.info()"
   ]
  },
  {
   "cell_type": "markdown",
   "metadata": {},
   "source": [
    "Таблица `messages` содержит информацию о сообщениях:\n",
    "- id — уникальный номер сообщения\n",
    "- message_date — дата сообщения\n",
    "- user_id — идентификатор пользователя, отправившего сообщение"
   ]
  },
  {
   "cell_type": "markdown",
   "metadata": {},
   "source": [
    "## Предобработка данных"
   ]
  },
  {
   "cell_type": "markdown",
   "metadata": {},
   "source": [
    "### users"
   ]
  },
  {
   "cell_type": "markdown",
   "metadata": {},
   "source": [
    "Приведем столбцы с датами к формату datetime."
   ]
  },
  {
   "cell_type": "code",
   "execution_count": 7,
   "metadata": {},
   "outputs": [],
   "source": [
    "users['reg_date'] = pd.to_datetime(users['reg_date'], format='%Y-%m-%d')\n",
    "users['churn_date'] = pd.to_datetime(users['churn_date'], format='%Y-%m-%d')"
   ]
  },
  {
   "cell_type": "markdown",
   "metadata": {},
   "source": [
    "### tariffs"
   ]
  },
  {
   "cell_type": "markdown",
   "metadata": {},
   "source": [
    "Так как по правилам компании мегабайты, потраченные за месяц, округляются до гигабайт, создадим столбец с количеством гигабайт, включенных в тариф (чтобы все измерялось в одних и тех же единицах). Также для удобства получения значений из таблицы установим название тарифа в качестве индекса"
   ]
  },
  {
   "cell_type": "code",
   "execution_count": 8,
   "metadata": {},
   "outputs": [
    {
     "data": {
      "text/html": [
       "<div>\n",
       "<style scoped>\n",
       "    .dataframe tbody tr th:only-of-type {\n",
       "        vertical-align: middle;\n",
       "    }\n",
       "\n",
       "    .dataframe tbody tr th {\n",
       "        vertical-align: top;\n",
       "    }\n",
       "\n",
       "    .dataframe thead th {\n",
       "        text-align: right;\n",
       "    }\n",
       "</style>\n",
       "<table border=\"1\" class=\"dataframe\">\n",
       "  <thead>\n",
       "    <tr style=\"text-align: right;\">\n",
       "      <th></th>\n",
       "      <th>messages_included</th>\n",
       "      <th>mb_per_month_included</th>\n",
       "      <th>minutes_included</th>\n",
       "      <th>rub_monthly_fee</th>\n",
       "      <th>rub_per_gb</th>\n",
       "      <th>rub_per_message</th>\n",
       "      <th>rub_per_minute</th>\n",
       "      <th>gb_per_month_included</th>\n",
       "    </tr>\n",
       "    <tr>\n",
       "      <th>tariff_name</th>\n",
       "      <th></th>\n",
       "      <th></th>\n",
       "      <th></th>\n",
       "      <th></th>\n",
       "      <th></th>\n",
       "      <th></th>\n",
       "      <th></th>\n",
       "      <th></th>\n",
       "    </tr>\n",
       "  </thead>\n",
       "  <tbody>\n",
       "    <tr>\n",
       "      <th>smart</th>\n",
       "      <td>50</td>\n",
       "      <td>15360</td>\n",
       "      <td>500</td>\n",
       "      <td>550</td>\n",
       "      <td>200</td>\n",
       "      <td>3</td>\n",
       "      <td>3</td>\n",
       "      <td>15</td>\n",
       "    </tr>\n",
       "    <tr>\n",
       "      <th>ultra</th>\n",
       "      <td>1000</td>\n",
       "      <td>30720</td>\n",
       "      <td>3000</td>\n",
       "      <td>1950</td>\n",
       "      <td>150</td>\n",
       "      <td>1</td>\n",
       "      <td>1</td>\n",
       "      <td>30</td>\n",
       "    </tr>\n",
       "  </tbody>\n",
       "</table>\n",
       "</div>"
      ],
      "text/plain": [
       "             messages_included  mb_per_month_included  minutes_included  \\\n",
       "tariff_name                                                               \n",
       "smart                       50                  15360               500   \n",
       "ultra                     1000                  30720              3000   \n",
       "\n",
       "             rub_monthly_fee  rub_per_gb  rub_per_message  rub_per_minute  \\\n",
       "tariff_name                                                                 \n",
       "smart                    550         200                3               3   \n",
       "ultra                   1950         150                1               1   \n",
       "\n",
       "             gb_per_month_included  \n",
       "tariff_name                         \n",
       "smart                           15  \n",
       "ultra                           30  "
      ]
     },
     "execution_count": 8,
     "metadata": {},
     "output_type": "execute_result"
    }
   ],
   "source": [
    "# Создание столбца с количеством включенных в тариф гб\n",
    "tariffs['gb_per_month_included'] = (tariffs['mb_per_month_included'] / 1024).astype('int')\n",
    "\n",
    "# Установка tariff_name в качестве индекса таблицы\n",
    "tariffs = tariffs.set_index('tariff_name')\n",
    "\n",
    "tariffs"
   ]
  },
  {
   "cell_type": "markdown",
   "metadata": {},
   "source": [
    "### calls"
   ]
  },
  {
   "cell_type": "markdown",
   "metadata": {},
   "source": [
    "Приведем столбец с датой совершения звонка к формату datetime, создадим столбец с месяцем совершения звонка. \n",
    "\n",
    "По правилам оператора секунды округляются до минут. Причем каждый звонок округляется отдельно: даже если он длился всего 1 секунду, будет засчитан как 1 минута. Методом ceil округлим значения в столбце duration до большего целого."
   ]
  },
  {
   "cell_type": "code",
   "execution_count": 9,
   "metadata": {},
   "outputs": [
    {
     "name": "stdout",
     "output_type": "stream",
     "text": [
      "<class 'pandas.core.frame.DataFrame'>\n",
      "RangeIndex: 202607 entries, 0 to 202606\n",
      "Data columns (total 5 columns):\n",
      " #   Column     Non-Null Count   Dtype         \n",
      "---  ------     --------------   -----         \n",
      " 0   id         202607 non-null  object        \n",
      " 1   call_date  202607 non-null  datetime64[ns]\n",
      " 2   duration   202607 non-null  int64         \n",
      " 3   user_id    202607 non-null  int64         \n",
      " 4   month      202607 non-null  int64         \n",
      "dtypes: datetime64[ns](1), int64(3), object(1)\n",
      "memory usage: 7.7+ MB\n"
     ]
    }
   ],
   "source": [
    "# Изменение типа данных в столбце call_date на datetime\n",
    "calls['call_date'] = pd.to_datetime(calls['call_date'], format='%Y-%m-%d')\n",
    "\n",
    "# Создание столбца с месяцем совершения звонка\n",
    "calls['month'] = pd.DatetimeIndex(calls['call_date']).month\n",
    "\n",
    "# Округление длительности звонка до большего целого и приведение к типу int\n",
    "calls['duration'] = np.ceil(calls['duration']).astype('int')\n",
    "\n",
    "calls.info()"
   ]
  },
  {
   "cell_type": "markdown",
   "metadata": {},
   "source": [
    "### messages"
   ]
  },
  {
   "cell_type": "markdown",
   "metadata": {},
   "source": [
    "Аналогично таблице calls приведем столбец с датой отправки сообщения к формату datetime, создадим столбец с месяцем."
   ]
  },
  {
   "cell_type": "code",
   "execution_count": 10,
   "metadata": {},
   "outputs": [
    {
     "name": "stdout",
     "output_type": "stream",
     "text": [
      "<class 'pandas.core.frame.DataFrame'>\n",
      "RangeIndex: 123036 entries, 0 to 123035\n",
      "Data columns (total 4 columns):\n",
      " #   Column        Non-Null Count   Dtype         \n",
      "---  ------        --------------   -----         \n",
      " 0   id            123036 non-null  object        \n",
      " 1   message_date  123036 non-null  datetime64[ns]\n",
      " 2   user_id       123036 non-null  int64         \n",
      " 3   month         123036 non-null  int64         \n",
      "dtypes: datetime64[ns](1), int64(2), object(1)\n",
      "memory usage: 3.8+ MB\n"
     ]
    }
   ],
   "source": [
    "# Изменение типа данных в столбце message_date на datetime\n",
    "messages['message_date'] = pd.to_datetime(messages['message_date'], format='%Y-%m-%d')\n",
    "\n",
    "# Создание столбца с месяцем отправки сообщения\n",
    "messages['month'] = pd.DatetimeIndex(messages['message_date']).month\n",
    "\n",
    "messages.info()"
   ]
  },
  {
   "cell_type": "markdown",
   "metadata": {},
   "source": [
    "### internet"
   ]
  },
  {
   "cell_type": "markdown",
   "metadata": {},
   "source": [
    "В таблице присутствует столбец `Unnamed: 0`, дублирующий индексы, — его можно удалить. Кроме того есть записи с нулевыми сессиями, которые никак не отражаются в подсчетах — их также удалим.\n",
    "\n",
    "Аналогично предыдущим таблицам обработаем столбец с датой."
   ]
  },
  {
   "cell_type": "code",
   "execution_count": 11,
   "metadata": {},
   "outputs": [
    {
     "name": "stdout",
     "output_type": "stream",
     "text": [
      "<class 'pandas.core.frame.DataFrame'>\n",
      "Int64Index: 129798 entries, 0 to 149395\n",
      "Data columns (total 5 columns):\n",
      " #   Column        Non-Null Count   Dtype         \n",
      "---  ------        --------------   -----         \n",
      " 0   id            129798 non-null  object        \n",
      " 1   mb_used       129798 non-null  float64       \n",
      " 2   session_date  129798 non-null  datetime64[ns]\n",
      " 3   user_id       129798 non-null  int64         \n",
      " 4   month         129798 non-null  int64         \n",
      "dtypes: datetime64[ns](1), float64(1), int64(2), object(1)\n",
      "memory usage: 5.9+ MB\n"
     ]
    }
   ],
   "source": [
    "# Удаление столбца Unnamed:0\n",
    "internet = internet.drop(columns='Unnamed: 0')\n",
    "\n",
    "# Удаление строк с нулевыми сессиями\n",
    "internet = internet.query('mb_used > 0')\n",
    "\n",
    "# Изменение типа данных в столбце session_date на datetime\n",
    "internet['session_date'] = pd.to_datetime(internet['session_date'], format='%Y-%m-%d')\n",
    "\n",
    "# Создание столбца с месяцем сессии\n",
    "internet['month'] = pd.DatetimeIndex(internet['session_date']).month\n",
    "\n",
    "internet.info()"
   ]
  },
  {
   "cell_type": "markdown",
   "metadata": {},
   "source": [
    "### Дополнительные расчеты"
   ]
  },
  {
   "cell_type": "markdown",
   "metadata": {},
   "source": [
    "Создадим вспомогательную таблицу, которая будет содержать данные по каждому пользователю:\n",
    "- количество сделанных звонков и израсходованных минут разговора по месяцам;\n",
    "- количество отправленных сообщений по месяцам;\n",
    "- объем израсходованного интернет-трафика по месяцам;\n",
    "- помесячную выручку с каждого пользователя.\n",
    "\n",
    "При объединении данных могут появиться пропуски (например, клиент отправлял сообщения, но не сделал ни одного звонка за месяц и т.д.). Так как тариф все равно используется, заменим такие пропуски на 0."
   ]
  },
  {
   "cell_type": "code",
   "execution_count": 12,
   "metadata": {},
   "outputs": [
    {
     "data": {
      "text/html": [
       "<div>\n",
       "<style scoped>\n",
       "    .dataframe tbody tr th:only-of-type {\n",
       "        vertical-align: middle;\n",
       "    }\n",
       "\n",
       "    .dataframe tbody tr th {\n",
       "        vertical-align: top;\n",
       "    }\n",
       "\n",
       "    .dataframe thead th {\n",
       "        text-align: right;\n",
       "    }\n",
       "</style>\n",
       "<table border=\"1\" class=\"dataframe\">\n",
       "  <thead>\n",
       "    <tr style=\"text-align: right;\">\n",
       "      <th></th>\n",
       "      <th></th>\n",
       "      <th>calls</th>\n",
       "      <th>minutes</th>\n",
       "      <th>messages</th>\n",
       "      <th>internet</th>\n",
       "    </tr>\n",
       "    <tr>\n",
       "      <th>user_id</th>\n",
       "      <th>month</th>\n",
       "      <th></th>\n",
       "      <th></th>\n",
       "      <th></th>\n",
       "      <th></th>\n",
       "    </tr>\n",
       "  </thead>\n",
       "  <tbody>\n",
       "    <tr>\n",
       "      <th rowspan=\"8\" valign=\"top\">1000</th>\n",
       "      <th>5</th>\n",
       "      <td>22</td>\n",
       "      <td>159</td>\n",
       "      <td>22</td>\n",
       "      <td>3</td>\n",
       "    </tr>\n",
       "    <tr>\n",
       "      <th>6</th>\n",
       "      <td>43</td>\n",
       "      <td>172</td>\n",
       "      <td>60</td>\n",
       "      <td>23</td>\n",
       "    </tr>\n",
       "    <tr>\n",
       "      <th>7</th>\n",
       "      <td>47</td>\n",
       "      <td>340</td>\n",
       "      <td>75</td>\n",
       "      <td>14</td>\n",
       "    </tr>\n",
       "    <tr>\n",
       "      <th>8</th>\n",
       "      <td>52</td>\n",
       "      <td>408</td>\n",
       "      <td>81</td>\n",
       "      <td>14</td>\n",
       "    </tr>\n",
       "    <tr>\n",
       "      <th>9</th>\n",
       "      <td>58</td>\n",
       "      <td>466</td>\n",
       "      <td>57</td>\n",
       "      <td>15</td>\n",
       "    </tr>\n",
       "    <tr>\n",
       "      <th>10</th>\n",
       "      <td>57</td>\n",
       "      <td>350</td>\n",
       "      <td>73</td>\n",
       "      <td>15</td>\n",
       "    </tr>\n",
       "    <tr>\n",
       "      <th>11</th>\n",
       "      <td>43</td>\n",
       "      <td>338</td>\n",
       "      <td>58</td>\n",
       "      <td>15</td>\n",
       "    </tr>\n",
       "    <tr>\n",
       "      <th>12</th>\n",
       "      <td>46</td>\n",
       "      <td>333</td>\n",
       "      <td>70</td>\n",
       "      <td>10</td>\n",
       "    </tr>\n",
       "    <tr>\n",
       "      <th rowspan=\"2\" valign=\"top\">1001</th>\n",
       "      <th>11</th>\n",
       "      <td>59</td>\n",
       "      <td>430</td>\n",
       "      <td>0</td>\n",
       "      <td>18</td>\n",
       "    </tr>\n",
       "    <tr>\n",
       "      <th>12</th>\n",
       "      <td>63</td>\n",
       "      <td>414</td>\n",
       "      <td>0</td>\n",
       "      <td>14</td>\n",
       "    </tr>\n",
       "    <tr>\n",
       "      <th rowspan=\"5\" valign=\"top\">1002</th>\n",
       "      <th>6</th>\n",
       "      <td>15</td>\n",
       "      <td>117</td>\n",
       "      <td>4</td>\n",
       "      <td>11</td>\n",
       "    </tr>\n",
       "    <tr>\n",
       "      <th>7</th>\n",
       "      <td>26</td>\n",
       "      <td>214</td>\n",
       "      <td>11</td>\n",
       "      <td>18</td>\n",
       "    </tr>\n",
       "    <tr>\n",
       "      <th>8</th>\n",
       "      <td>42</td>\n",
       "      <td>289</td>\n",
       "      <td>13</td>\n",
       "      <td>20</td>\n",
       "    </tr>\n",
       "    <tr>\n",
       "      <th>9</th>\n",
       "      <td>36</td>\n",
       "      <td>206</td>\n",
       "      <td>4</td>\n",
       "      <td>17</td>\n",
       "    </tr>\n",
       "    <tr>\n",
       "      <th>10</th>\n",
       "      <td>33</td>\n",
       "      <td>212</td>\n",
       "      <td>10</td>\n",
       "      <td>14</td>\n",
       "    </tr>\n",
       "  </tbody>\n",
       "</table>\n",
       "</div>"
      ],
      "text/plain": [
       "               calls  minutes  messages  internet\n",
       "user_id month                                    \n",
       "1000    5         22      159        22         3\n",
       "        6         43      172        60        23\n",
       "        7         47      340        75        14\n",
       "        8         52      408        81        14\n",
       "        9         58      466        57        15\n",
       "        10        57      350        73        15\n",
       "        11        43      338        58        15\n",
       "        12        46      333        70        10\n",
       "1001    11        59      430         0        18\n",
       "        12        63      414         0        14\n",
       "1002    6         15      117         4        11\n",
       "        7         26      214        11        18\n",
       "        8         42      289        13        20\n",
       "        9         36      206         4        17\n",
       "        10        33      212        10        14"
      ]
     },
     "execution_count": 12,
     "metadata": {},
     "output_type": "execute_result"
    }
   ],
   "source": [
    "# Создание таблицы с количеством сделанных звонков каждым пользователем по месяцам\n",
    "calls_per_month = calls.pivot_table(index=['user_id', 'month'], values='duration', aggfunc='count')\n",
    "\n",
    "# Создание таблицы с общей длительностью сделанных звонков каждым пользователем по месяцам\n",
    "minutes_per_month = calls.pivot_table(index=['user_id', 'month'], values='duration', aggfunc='sum')\n",
    "\n",
    "# Создание таблицы с количеством отправленных сообщений каждым пользователем по месяцам\n",
    "messages_per_month = messages.pivot_table(index=['user_id', 'month'], values='id', aggfunc='count')\n",
    "\n",
    "# Создание таблицы с количеством израсходованных мб интернет-трафика каждым пользователем по месяцам\n",
    "# и округление мб за месяц до гб по правилам оператора (округление вверх)\n",
    "internet_per_month = internet.pivot_table(index=['user_id', 'month'], values='mb_used', aggfunc='sum')\n",
    "internet_per_month = np.ceil(internet_per_month / 1024).astype('int')\n",
    "\n",
    "# Объединение созданных таблиц в одну с данными по каждому пользователю\n",
    "data_per_month = calls_per_month.join(minutes_per_month, how='outer', lsuffix='_calls') \\\n",
    "                                  .join(messages_per_month, how='outer') \\\n",
    "                                  .join(internet_per_month, how='outer') \\\n",
    "                                  .fillna(0)\\\n",
    "                                  .astype('int')\n",
    "data_per_month.columns = ['calls', 'minutes', 'messages', 'internet']\n",
    "data_per_month.head(15)"
   ]
  },
  {
   "cell_type": "markdown",
   "metadata": {},
   "source": [
    "Добавим в созданную таблицу данные о тарифе (чтобы рассчитать выручку с каждого пользователя) и городе (для проверки гипотез):"
   ]
  },
  {
   "cell_type": "code",
   "execution_count": 13,
   "metadata": {},
   "outputs": [
    {
     "data": {
      "text/html": [
       "<div>\n",
       "<style scoped>\n",
       "    .dataframe tbody tr th:only-of-type {\n",
       "        vertical-align: middle;\n",
       "    }\n",
       "\n",
       "    .dataframe tbody tr th {\n",
       "        vertical-align: top;\n",
       "    }\n",
       "\n",
       "    .dataframe thead th {\n",
       "        text-align: right;\n",
       "    }\n",
       "</style>\n",
       "<table border=\"1\" class=\"dataframe\">\n",
       "  <thead>\n",
       "    <tr style=\"text-align: right;\">\n",
       "      <th></th>\n",
       "      <th></th>\n",
       "      <th>calls</th>\n",
       "      <th>minutes</th>\n",
       "      <th>messages</th>\n",
       "      <th>internet</th>\n",
       "      <th>tariff</th>\n",
       "      <th>city</th>\n",
       "    </tr>\n",
       "    <tr>\n",
       "      <th>user_id</th>\n",
       "      <th>month</th>\n",
       "      <th></th>\n",
       "      <th></th>\n",
       "      <th></th>\n",
       "      <th></th>\n",
       "      <th></th>\n",
       "      <th></th>\n",
       "    </tr>\n",
       "  </thead>\n",
       "  <tbody>\n",
       "    <tr>\n",
       "      <th rowspan=\"8\" valign=\"top\">1000</th>\n",
       "      <th>5</th>\n",
       "      <td>22</td>\n",
       "      <td>159</td>\n",
       "      <td>22</td>\n",
       "      <td>3</td>\n",
       "      <td>ultra</td>\n",
       "      <td>Краснодар</td>\n",
       "    </tr>\n",
       "    <tr>\n",
       "      <th>6</th>\n",
       "      <td>43</td>\n",
       "      <td>172</td>\n",
       "      <td>60</td>\n",
       "      <td>23</td>\n",
       "      <td>ultra</td>\n",
       "      <td>Краснодар</td>\n",
       "    </tr>\n",
       "    <tr>\n",
       "      <th>7</th>\n",
       "      <td>47</td>\n",
       "      <td>340</td>\n",
       "      <td>75</td>\n",
       "      <td>14</td>\n",
       "      <td>ultra</td>\n",
       "      <td>Краснодар</td>\n",
       "    </tr>\n",
       "    <tr>\n",
       "      <th>8</th>\n",
       "      <td>52</td>\n",
       "      <td>408</td>\n",
       "      <td>81</td>\n",
       "      <td>14</td>\n",
       "      <td>ultra</td>\n",
       "      <td>Краснодар</td>\n",
       "    </tr>\n",
       "    <tr>\n",
       "      <th>9</th>\n",
       "      <td>58</td>\n",
       "      <td>466</td>\n",
       "      <td>57</td>\n",
       "      <td>15</td>\n",
       "      <td>ultra</td>\n",
       "      <td>Краснодар</td>\n",
       "    </tr>\n",
       "    <tr>\n",
       "      <th>10</th>\n",
       "      <td>57</td>\n",
       "      <td>350</td>\n",
       "      <td>73</td>\n",
       "      <td>15</td>\n",
       "      <td>ultra</td>\n",
       "      <td>Краснодар</td>\n",
       "    </tr>\n",
       "    <tr>\n",
       "      <th>11</th>\n",
       "      <td>43</td>\n",
       "      <td>338</td>\n",
       "      <td>58</td>\n",
       "      <td>15</td>\n",
       "      <td>ultra</td>\n",
       "      <td>Краснодар</td>\n",
       "    </tr>\n",
       "    <tr>\n",
       "      <th>12</th>\n",
       "      <td>46</td>\n",
       "      <td>333</td>\n",
       "      <td>70</td>\n",
       "      <td>10</td>\n",
       "      <td>ultra</td>\n",
       "      <td>Краснодар</td>\n",
       "    </tr>\n",
       "    <tr>\n",
       "      <th rowspan=\"2\" valign=\"top\">1001</th>\n",
       "      <th>11</th>\n",
       "      <td>59</td>\n",
       "      <td>430</td>\n",
       "      <td>0</td>\n",
       "      <td>18</td>\n",
       "      <td>smart</td>\n",
       "      <td>Москва</td>\n",
       "    </tr>\n",
       "    <tr>\n",
       "      <th>12</th>\n",
       "      <td>63</td>\n",
       "      <td>414</td>\n",
       "      <td>0</td>\n",
       "      <td>14</td>\n",
       "      <td>smart</td>\n",
       "      <td>Москва</td>\n",
       "    </tr>\n",
       "    <tr>\n",
       "      <th rowspan=\"5\" valign=\"top\">1002</th>\n",
       "      <th>6</th>\n",
       "      <td>15</td>\n",
       "      <td>117</td>\n",
       "      <td>4</td>\n",
       "      <td>11</td>\n",
       "      <td>smart</td>\n",
       "      <td>Стерлитамак</td>\n",
       "    </tr>\n",
       "    <tr>\n",
       "      <th>7</th>\n",
       "      <td>26</td>\n",
       "      <td>214</td>\n",
       "      <td>11</td>\n",
       "      <td>18</td>\n",
       "      <td>smart</td>\n",
       "      <td>Стерлитамак</td>\n",
       "    </tr>\n",
       "    <tr>\n",
       "      <th>8</th>\n",
       "      <td>42</td>\n",
       "      <td>289</td>\n",
       "      <td>13</td>\n",
       "      <td>20</td>\n",
       "      <td>smart</td>\n",
       "      <td>Стерлитамак</td>\n",
       "    </tr>\n",
       "    <tr>\n",
       "      <th>9</th>\n",
       "      <td>36</td>\n",
       "      <td>206</td>\n",
       "      <td>4</td>\n",
       "      <td>17</td>\n",
       "      <td>smart</td>\n",
       "      <td>Стерлитамак</td>\n",
       "    </tr>\n",
       "    <tr>\n",
       "      <th>10</th>\n",
       "      <td>33</td>\n",
       "      <td>212</td>\n",
       "      <td>10</td>\n",
       "      <td>14</td>\n",
       "      <td>smart</td>\n",
       "      <td>Стерлитамак</td>\n",
       "    </tr>\n",
       "  </tbody>\n",
       "</table>\n",
       "</div>"
      ],
      "text/plain": [
       "               calls  minutes  messages  internet tariff         city\n",
       "user_id month                                                        \n",
       "1000    5         22      159        22         3  ultra    Краснодар\n",
       "        6         43      172        60        23  ultra    Краснодар\n",
       "        7         47      340        75        14  ultra    Краснодар\n",
       "        8         52      408        81        14  ultra    Краснодар\n",
       "        9         58      466        57        15  ultra    Краснодар\n",
       "        10        57      350        73        15  ultra    Краснодар\n",
       "        11        43      338        58        15  ultra    Краснодар\n",
       "        12        46      333        70        10  ultra    Краснодар\n",
       "1001    11        59      430         0        18  smart       Москва\n",
       "        12        63      414         0        14  smart       Москва\n",
       "1002    6         15      117         4        11  smart  Стерлитамак\n",
       "        7         26      214        11        18  smart  Стерлитамак\n",
       "        8         42      289        13        20  smart  Стерлитамак\n",
       "        9         36      206         4        17  smart  Стерлитамак\n",
       "        10        33      212        10        14  smart  Стерлитамак"
      ]
     },
     "execution_count": 13,
     "metadata": {},
     "output_type": "execute_result"
    }
   ],
   "source": [
    "data_per_month = data_per_month.join(users[['user_id', 'tariff', 'city']].set_index('user_id'))\n",
    "data_per_month.head(15)"
   ]
  },
  {
   "cell_type": "markdown",
   "metadata": {},
   "source": [
    "Создадим функцию для расчета выручки пользователей по месяцам и вызовем ее для созданной таблицы:"
   ]
  },
  {
   "cell_type": "code",
   "execution_count": 14,
   "metadata": {},
   "outputs": [],
   "source": [
    "# Функция для расчета выручки\n",
    "def calc_income(row):\n",
    "    row['income'] = tariffs['rub_monthly_fee'][row['tariff']]                      # Выручка за месяц равна тарифной плате\n",
    "    overmins = row['minutes'] - tariffs['minutes_included'][row['tariff']]         # Расчет доп минут (сверх тарифного пакета)\n",
    "    if overmins > 0:\n",
    "        row['income'] += overmins * tariffs['rub_per_minute'][row['tariff']]       # Добавление к выручке платы за доп минуты\n",
    "    overmessages = row['messages'] - tariffs['messages_included'][row['tariff']]   # Расчет доп сообщений\n",
    "    if overmessages > 0:\n",
    "        row['income'] += overmessages * tariffs['rub_per_message'][row['tariff']]  # Добавление к выручке платы за доп сообщения\n",
    "    overgb = row['internet'] - tariffs['gb_per_month_included'][row['tariff']]     # Расчет доп гб\n",
    "    if overgb > 0:\n",
    "        row['income'] += overgb * tariffs['rub_per_gb'][row['tariff']]             # Добавление к выручке платы за доп гб\n",
    "    return row"
   ]
  },
  {
   "cell_type": "code",
   "execution_count": 15,
   "metadata": {},
   "outputs": [
    {
     "data": {
      "text/html": [
       "<div>\n",
       "<style scoped>\n",
       "    .dataframe tbody tr th:only-of-type {\n",
       "        vertical-align: middle;\n",
       "    }\n",
       "\n",
       "    .dataframe tbody tr th {\n",
       "        vertical-align: top;\n",
       "    }\n",
       "\n",
       "    .dataframe thead th {\n",
       "        text-align: right;\n",
       "    }\n",
       "</style>\n",
       "<table border=\"1\" class=\"dataframe\">\n",
       "  <thead>\n",
       "    <tr style=\"text-align: right;\">\n",
       "      <th></th>\n",
       "      <th></th>\n",
       "      <th>calls</th>\n",
       "      <th>minutes</th>\n",
       "      <th>messages</th>\n",
       "      <th>internet</th>\n",
       "      <th>tariff</th>\n",
       "      <th>city</th>\n",
       "      <th>income</th>\n",
       "    </tr>\n",
       "    <tr>\n",
       "      <th>user_id</th>\n",
       "      <th>month</th>\n",
       "      <th></th>\n",
       "      <th></th>\n",
       "      <th></th>\n",
       "      <th></th>\n",
       "      <th></th>\n",
       "      <th></th>\n",
       "      <th></th>\n",
       "    </tr>\n",
       "  </thead>\n",
       "  <tbody>\n",
       "    <tr>\n",
       "      <th rowspan=\"8\" valign=\"top\">1000</th>\n",
       "      <th>5</th>\n",
       "      <td>22</td>\n",
       "      <td>159</td>\n",
       "      <td>22</td>\n",
       "      <td>3</td>\n",
       "      <td>ultra</td>\n",
       "      <td>Краснодар</td>\n",
       "      <td>1950</td>\n",
       "    </tr>\n",
       "    <tr>\n",
       "      <th>6</th>\n",
       "      <td>43</td>\n",
       "      <td>172</td>\n",
       "      <td>60</td>\n",
       "      <td>23</td>\n",
       "      <td>ultra</td>\n",
       "      <td>Краснодар</td>\n",
       "      <td>1950</td>\n",
       "    </tr>\n",
       "    <tr>\n",
       "      <th>7</th>\n",
       "      <td>47</td>\n",
       "      <td>340</td>\n",
       "      <td>75</td>\n",
       "      <td>14</td>\n",
       "      <td>ultra</td>\n",
       "      <td>Краснодар</td>\n",
       "      <td>1950</td>\n",
       "    </tr>\n",
       "    <tr>\n",
       "      <th>8</th>\n",
       "      <td>52</td>\n",
       "      <td>408</td>\n",
       "      <td>81</td>\n",
       "      <td>14</td>\n",
       "      <td>ultra</td>\n",
       "      <td>Краснодар</td>\n",
       "      <td>1950</td>\n",
       "    </tr>\n",
       "    <tr>\n",
       "      <th>9</th>\n",
       "      <td>58</td>\n",
       "      <td>466</td>\n",
       "      <td>57</td>\n",
       "      <td>15</td>\n",
       "      <td>ultra</td>\n",
       "      <td>Краснодар</td>\n",
       "      <td>1950</td>\n",
       "    </tr>\n",
       "    <tr>\n",
       "      <th>10</th>\n",
       "      <td>57</td>\n",
       "      <td>350</td>\n",
       "      <td>73</td>\n",
       "      <td>15</td>\n",
       "      <td>ultra</td>\n",
       "      <td>Краснодар</td>\n",
       "      <td>1950</td>\n",
       "    </tr>\n",
       "    <tr>\n",
       "      <th>11</th>\n",
       "      <td>43</td>\n",
       "      <td>338</td>\n",
       "      <td>58</td>\n",
       "      <td>15</td>\n",
       "      <td>ultra</td>\n",
       "      <td>Краснодар</td>\n",
       "      <td>1950</td>\n",
       "    </tr>\n",
       "    <tr>\n",
       "      <th>12</th>\n",
       "      <td>46</td>\n",
       "      <td>333</td>\n",
       "      <td>70</td>\n",
       "      <td>10</td>\n",
       "      <td>ultra</td>\n",
       "      <td>Краснодар</td>\n",
       "      <td>1950</td>\n",
       "    </tr>\n",
       "    <tr>\n",
       "      <th rowspan=\"2\" valign=\"top\">1001</th>\n",
       "      <th>11</th>\n",
       "      <td>59</td>\n",
       "      <td>430</td>\n",
       "      <td>0</td>\n",
       "      <td>18</td>\n",
       "      <td>smart</td>\n",
       "      <td>Москва</td>\n",
       "      <td>1150</td>\n",
       "    </tr>\n",
       "    <tr>\n",
       "      <th>12</th>\n",
       "      <td>63</td>\n",
       "      <td>414</td>\n",
       "      <td>0</td>\n",
       "      <td>14</td>\n",
       "      <td>smart</td>\n",
       "      <td>Москва</td>\n",
       "      <td>550</td>\n",
       "    </tr>\n",
       "    <tr>\n",
       "      <th rowspan=\"5\" valign=\"top\">1002</th>\n",
       "      <th>6</th>\n",
       "      <td>15</td>\n",
       "      <td>117</td>\n",
       "      <td>4</td>\n",
       "      <td>11</td>\n",
       "      <td>smart</td>\n",
       "      <td>Стерлитамак</td>\n",
       "      <td>550</td>\n",
       "    </tr>\n",
       "    <tr>\n",
       "      <th>7</th>\n",
       "      <td>26</td>\n",
       "      <td>214</td>\n",
       "      <td>11</td>\n",
       "      <td>18</td>\n",
       "      <td>smart</td>\n",
       "      <td>Стерлитамак</td>\n",
       "      <td>1150</td>\n",
       "    </tr>\n",
       "    <tr>\n",
       "      <th>8</th>\n",
       "      <td>42</td>\n",
       "      <td>289</td>\n",
       "      <td>13</td>\n",
       "      <td>20</td>\n",
       "      <td>smart</td>\n",
       "      <td>Стерлитамак</td>\n",
       "      <td>1550</td>\n",
       "    </tr>\n",
       "    <tr>\n",
       "      <th>9</th>\n",
       "      <td>36</td>\n",
       "      <td>206</td>\n",
       "      <td>4</td>\n",
       "      <td>17</td>\n",
       "      <td>smart</td>\n",
       "      <td>Стерлитамак</td>\n",
       "      <td>950</td>\n",
       "    </tr>\n",
       "    <tr>\n",
       "      <th>10</th>\n",
       "      <td>33</td>\n",
       "      <td>212</td>\n",
       "      <td>10</td>\n",
       "      <td>14</td>\n",
       "      <td>smart</td>\n",
       "      <td>Стерлитамак</td>\n",
       "      <td>550</td>\n",
       "    </tr>\n",
       "  </tbody>\n",
       "</table>\n",
       "</div>"
      ],
      "text/plain": [
       "               calls  minutes  messages  internet tariff         city  income\n",
       "user_id month                                                                \n",
       "1000    5         22      159        22         3  ultra    Краснодар    1950\n",
       "        6         43      172        60        23  ultra    Краснодар    1950\n",
       "        7         47      340        75        14  ultra    Краснодар    1950\n",
       "        8         52      408        81        14  ultra    Краснодар    1950\n",
       "        9         58      466        57        15  ultra    Краснодар    1950\n",
       "        10        57      350        73        15  ultra    Краснодар    1950\n",
       "        11        43      338        58        15  ultra    Краснодар    1950\n",
       "        12        46      333        70        10  ultra    Краснодар    1950\n",
       "1001    11        59      430         0        18  smart       Москва    1150\n",
       "        12        63      414         0        14  smart       Москва     550\n",
       "1002    6         15      117         4        11  smart  Стерлитамак     550\n",
       "        7         26      214        11        18  smart  Стерлитамак    1150\n",
       "        8         42      289        13        20  smart  Стерлитамак    1550\n",
       "        9         36      206         4        17  smart  Стерлитамак     950\n",
       "        10        33      212        10        14  smart  Стерлитамак     550"
      ]
     },
     "execution_count": 15,
     "metadata": {},
     "output_type": "execute_result"
    }
   ],
   "source": [
    "# Вызов функции к данным по использованным услугам по месяцам\n",
    "data_per_month = data_per_month.apply(calc_income, axis=1)\n",
    "data_per_month.head(15)"
   ]
  },
  {
   "cell_type": "markdown",
   "metadata": {},
   "source": [
    "Проверим, сохранились ли в сводной таблице данные о всех пользователях из исходного датасета:"
   ]
  },
  {
   "cell_type": "code",
   "execution_count": 17,
   "metadata": {},
   "outputs": [
    {
     "data": {
      "text/plain": [
       "498"
      ]
     },
     "execution_count": 17,
     "metadata": {},
     "output_type": "execute_result"
    }
   ],
   "source": [
    "# Число пользователей в сводной таблице\n",
    "len(data_per_month.unstack())"
   ]
  },
  {
   "cell_type": "code",
   "execution_count": 18,
   "metadata": {},
   "outputs": [
    {
     "data": {
      "text/plain": [
       "500"
      ]
     },
     "execution_count": 18,
     "metadata": {},
     "output_type": "execute_result"
    }
   ],
   "source": [
    "# Число пользователей в исходном датасете\n",
    "len(users)"
   ]
  },
  {
   "cell_type": "markdown",
   "metadata": {},
   "source": [
    "Отсутствуют данные по двум клиентам, так как они не пользовались услугами. Чтобы выяснить причину, просмотрим всю информацию по этим пользователям."
   ]
  },
  {
   "cell_type": "code",
   "execution_count": 19,
   "metadata": {},
   "outputs": [
    {
     "name": "stdout",
     "output_type": "stream",
     "text": [
      "1128\n",
      "1371\n"
     ]
    }
   ],
   "source": [
    "# Определим id пропущенных клиентов\n",
    "aft_users = np.array(data_per_month.unstack().index)\n",
    "bef_users = np.array(users['user_id'])\n",
    "\n",
    "for user in bef_users:\n",
    "    if user not in aft_users:\n",
    "        print(user)"
   ]
  },
  {
   "cell_type": "code",
   "execution_count": 20,
   "metadata": {},
   "outputs": [
    {
     "data": {
      "text/html": [
       "<div>\n",
       "<style scoped>\n",
       "    .dataframe tbody tr th:only-of-type {\n",
       "        vertical-align: middle;\n",
       "    }\n",
       "\n",
       "    .dataframe tbody tr th {\n",
       "        vertical-align: top;\n",
       "    }\n",
       "\n",
       "    .dataframe thead th {\n",
       "        text-align: right;\n",
       "    }\n",
       "</style>\n",
       "<table border=\"1\" class=\"dataframe\">\n",
       "  <thead>\n",
       "    <tr style=\"text-align: right;\">\n",
       "      <th></th>\n",
       "      <th>user_id</th>\n",
       "      <th>age</th>\n",
       "      <th>churn_date</th>\n",
       "      <th>city</th>\n",
       "      <th>first_name</th>\n",
       "      <th>last_name</th>\n",
       "      <th>reg_date</th>\n",
       "      <th>tariff</th>\n",
       "    </tr>\n",
       "  </thead>\n",
       "  <tbody>\n",
       "    <tr>\n",
       "      <th>128</th>\n",
       "      <td>1128</td>\n",
       "      <td>51</td>\n",
       "      <td>2018-12-23</td>\n",
       "      <td>Волжский</td>\n",
       "      <td>Ксения</td>\n",
       "      <td>Агаева</td>\n",
       "      <td>2018-12-15</td>\n",
       "      <td>ultra</td>\n",
       "    </tr>\n",
       "    <tr>\n",
       "      <th>371</th>\n",
       "      <td>1371</td>\n",
       "      <td>50</td>\n",
       "      <td>2018-12-30</td>\n",
       "      <td>Омск</td>\n",
       "      <td>Ириней</td>\n",
       "      <td>Трофимов</td>\n",
       "      <td>2018-12-25</td>\n",
       "      <td>smart</td>\n",
       "    </tr>\n",
       "  </tbody>\n",
       "</table>\n",
       "</div>"
      ],
      "text/plain": [
       "     user_id  age churn_date      city first_name last_name   reg_date tariff\n",
       "128     1128   51 2018-12-23  Волжский     Ксения    Агаева 2018-12-15  ultra\n",
       "371     1371   50 2018-12-30      Омск     Ириней  Трофимов 2018-12-25  smart"
      ]
     },
     "execution_count": 20,
     "metadata": {},
     "output_type": "execute_result"
    }
   ],
   "source": [
    "# Выведем данные из таблицы users по пропущенным клиентам\n",
    "users.query('user_id in [1128, 1371]')"
   ]
  },
  {
   "cell_type": "markdown",
   "metadata": {},
   "source": [
    "Первый клиент подключил тариф на 8 дней, второй — на 5. При этом никаких услуг использовано не было. В описании тарифа нет пояснений, снимается ли с таких пользователей ежемесяная тарифная плата (возможно, есть какой-то пробный период). Но в любом случае таких клиентов всего 2 и их данные не отражают поведение пользователей тарифов (нет услуг), поэтому принято решение не включать их в сводную таблицу."
   ]
  },
  {
   "cell_type": "markdown",
   "metadata": {},
   "source": [
    "## Анализ поведения клиентов"
   ]
  },
  {
   "cell_type": "markdown",
   "metadata": {},
   "source": [
    "### Данные по звонкам"
   ]
  },
  {
   "cell_type": "markdown",
   "metadata": {},
   "source": [
    "Сравним, сколько минут в месяц тратят пользователи каждого тарифа."
   ]
  },
  {
   "cell_type": "code",
   "execution_count": 21,
   "metadata": {},
   "outputs": [
    {
     "data": {
      "text/plain": [
       "count    2229.000000\n",
       "mean      417.934948\n",
       "std       190.313730\n",
       "min         0.000000\n",
       "25%       282.000000\n",
       "50%       422.000000\n",
       "75%       545.000000\n",
       "max      1435.000000\n",
       "Name: minutes, dtype: float64"
      ]
     },
     "execution_count": 21,
     "metadata": {},
     "output_type": "execute_result"
    }
   ],
   "source": [
    "# Основные статистики для тарифа Смарт по всем месяцам\n",
    "data_per_month.query('tariff==\"smart\"')['minutes'].describe()"
   ]
  },
  {
   "cell_type": "code",
   "execution_count": 22,
   "metadata": {},
   "outputs": [
    {
     "data": {
      "text/plain": [
       "count     985.000000\n",
       "mean      526.623350\n",
       "std       317.606098\n",
       "min         0.000000\n",
       "25%       284.000000\n",
       "50%       518.000000\n",
       "75%       752.000000\n",
       "max      1673.000000\n",
       "Name: minutes, dtype: float64"
      ]
     },
     "execution_count": 22,
     "metadata": {},
     "output_type": "execute_result"
    }
   ],
   "source": [
    "# Основные статистики для тарифа Ультра по всем месяцам\n",
    "data_per_month.query('tariff==\"ultra\"')['minutes'].describe()"
   ]
  },
  {
   "cell_type": "code",
   "execution_count": 23,
   "metadata": {},
   "outputs": [
    {
     "data": {
      "text/plain": [
       "<AxesSubplot:xlabel='minutes', ylabel='Count'>"
      ]
     },
     "execution_count": 23,
     "metadata": {},
     "output_type": "execute_result"
    },
    {
     "data": {
      "image/png": "[encoded data removed]",
      "text/plain": [
       "<Figure size 1080x360 with 1 Axes>"
      ]
     },
     "metadata": {
      "needs_background": "light"
     },
     "output_type": "display_data"
    }
   ],
   "source": [
    "# Гистограмма распределения израсходованных минут в месяц по тарифам\n",
    "fig = plt.figure(figsize=(15,5))\n",
    "ax = fig.add_subplot(1,1,1)\n",
    "sns.histplot(data_per_month, x='minutes', hue='tariff', bins=50, ax=ax)"
   ]
  },
  {
   "cell_type": "markdown",
   "metadata": {},
   "source": [
    "Чтобы проверить, отличаются ли статистики по месяцам, построим ящики с усами по каждому месяцу."
   ]
  },
  {
   "cell_type": "code",
   "execution_count": 24,
   "metadata": {},
   "outputs": [
    {
     "data": {
      "image/png": "[encoded data removed]",
      "text/plain": [
       "<Figure size 1080x360 with 1 Axes>"
      ]
     },
     "metadata": {
      "needs_background": "light"
     },
     "output_type": "display_data"
    }
   ],
   "source": [
    "fig = plt.figure(figsize=(15,5))\n",
    "ax = fig.add_subplot(1,1,1)\n",
    "sns.boxplot(x='month', y='minutes', data=data_per_month.reset_index(), hue='tariff', ax=ax)\n",
    "plt.grid()"
   ]
  },
  {
   "cell_type": "markdown",
   "metadata": {},
   "source": [
    "Как и в целом, так и по месяцам, пользователи тарифа \"Смарт\" в среднем используют меньше минут в месяц (кроме февраля, где медиана оказалась больше приблизительно на 100 минут, и марта — где они равны).\n",
    "\n",
    "Несмотря на то, что в тариф \"Ультра\" включено 3000 минут разговора, 75% пользователей не тратят больше 752 минут. Есть отдельные выбросы, но даже они не превышают 1700 минут. Пользователи тарифа \"Смарт\", напротив, часто доплачивают за потраченные минуты: четверть пользователей тратит больше 545 минут (из 500, включенных в тариф).\n",
    "\n",
    "\n",
    "На первый взгляд разброс значений по месяцам у пользователей тарифа \"Ультра\" гораздо выше. Проверим это, рассчитав среднее, дисперсию и стандартное отклонение."
   ]
  },
  {
   "cell_type": "code",
   "execution_count": 25,
   "metadata": {},
   "outputs": [
    {
     "data": {
      "text/html": [
       "<div>\n",
       "<style scoped>\n",
       "    .dataframe tbody tr th:only-of-type {\n",
       "        vertical-align: middle;\n",
       "    }\n",
       "\n",
       "    .dataframe tbody tr th {\n",
       "        vertical-align: top;\n",
       "    }\n",
       "\n",
       "    .dataframe thead th {\n",
       "        text-align: right;\n",
       "    }\n",
       "</style>\n",
       "<table border=\"1\" class=\"dataframe\">\n",
       "  <thead>\n",
       "    <tr style=\"text-align: right;\">\n",
       "      <th></th>\n",
       "      <th></th>\n",
       "      <th>mean</th>\n",
       "      <th>var</th>\n",
       "      <th>std</th>\n",
       "    </tr>\n",
       "    <tr>\n",
       "      <th>month</th>\n",
       "      <th>tariff</th>\n",
       "      <th></th>\n",
       "      <th></th>\n",
       "      <th></th>\n",
       "    </tr>\n",
       "  </thead>\n",
       "  <tbody>\n",
       "    <tr>\n",
       "      <th rowspan=\"2\" valign=\"top\">1</th>\n",
       "      <th>smart</th>\n",
       "      <td>203.852941</td>\n",
       "      <td>23787.341355</td>\n",
       "      <td>154.231454</td>\n",
       "    </tr>\n",
       "    <tr>\n",
       "      <th>ultra</th>\n",
       "      <td>428.111111</td>\n",
       "      <td>72769.361111</td>\n",
       "      <td>269.757968</td>\n",
       "    </tr>\n",
       "    <tr>\n",
       "      <th rowspan=\"2\" valign=\"top\">2</th>\n",
       "      <th>smart</th>\n",
       "      <td>298.689655</td>\n",
       "      <td>36412.287961</td>\n",
       "      <td>190.820041</td>\n",
       "    </tr>\n",
       "    <tr>\n",
       "      <th>ultra</th>\n",
       "      <td>297.125000</td>\n",
       "      <td>87919.679348</td>\n",
       "      <td>296.512528</td>\n",
       "    </tr>\n",
       "    <tr>\n",
       "      <th rowspan=\"2\" valign=\"top\">3</th>\n",
       "      <th>smart</th>\n",
       "      <td>390.051948</td>\n",
       "      <td>36823.155161</td>\n",
       "      <td>191.893604</td>\n",
       "    </tr>\n",
       "    <tr>\n",
       "      <th>ultra</th>\n",
       "      <td>489.648649</td>\n",
       "      <td>111384.900901</td>\n",
       "      <td>333.743765</td>\n",
       "    </tr>\n",
       "    <tr>\n",
       "      <th rowspan=\"2\" valign=\"top\">4</th>\n",
       "      <th>smart</th>\n",
       "      <td>367.133929</td>\n",
       "      <td>34778.207127</td>\n",
       "      <td>186.489161</td>\n",
       "    </tr>\n",
       "    <tr>\n",
       "      <th>ultra</th>\n",
       "      <td>458.018182</td>\n",
       "      <td>71653.870034</td>\n",
       "      <td>267.682405</td>\n",
       "    </tr>\n",
       "    <tr>\n",
       "      <th rowspan=\"2\" valign=\"top\">5</th>\n",
       "      <th>smart</th>\n",
       "      <td>387.361702</td>\n",
       "      <td>34820.061094</td>\n",
       "      <td>186.601343</td>\n",
       "    </tr>\n",
       "    <tr>\n",
       "      <th>ultra</th>\n",
       "      <td>510.328358</td>\n",
       "      <td>83870.193578</td>\n",
       "      <td>289.603511</td>\n",
       "    </tr>\n",
       "    <tr>\n",
       "      <th rowspan=\"2\" valign=\"top\">6</th>\n",
       "      <th>smart</th>\n",
       "      <td>395.640244</td>\n",
       "      <td>30742.918861</td>\n",
       "      <td>175.336587</td>\n",
       "    </tr>\n",
       "    <tr>\n",
       "      <th>ultra</th>\n",
       "      <td>479.702381</td>\n",
       "      <td>91535.946500</td>\n",
       "      <td>302.549081</td>\n",
       "    </tr>\n",
       "    <tr>\n",
       "      <th rowspan=\"2\" valign=\"top\">7</th>\n",
       "      <th>smart</th>\n",
       "      <td>408.353234</td>\n",
       "      <td>32250.269602</td>\n",
       "      <td>179.583601</td>\n",
       "    </tr>\n",
       "    <tr>\n",
       "      <th>ultra</th>\n",
       "      <td>545.791209</td>\n",
       "      <td>94322.278144</td>\n",
       "      <td>307.119322</td>\n",
       "    </tr>\n",
       "    <tr>\n",
       "      <th rowspan=\"2\" valign=\"top\">8</th>\n",
       "      <th>smart</th>\n",
       "      <td>421.468085</td>\n",
       "      <td>34793.583379</td>\n",
       "      <td>186.530382</td>\n",
       "    </tr>\n",
       "    <tr>\n",
       "      <th>ultra</th>\n",
       "      <td>510.775701</td>\n",
       "      <td>97956.496385</td>\n",
       "      <td>312.980026</td>\n",
       "    </tr>\n",
       "    <tr>\n",
       "      <th rowspan=\"2\" valign=\"top\">9</th>\n",
       "      <th>smart</th>\n",
       "      <td>428.611538</td>\n",
       "      <td>33535.342723</td>\n",
       "      <td>183.126576</td>\n",
       "    </tr>\n",
       "    <tr>\n",
       "      <th>ultra</th>\n",
       "      <td>539.443478</td>\n",
       "      <td>105716.775286</td>\n",
       "      <td>325.141162</td>\n",
       "    </tr>\n",
       "    <tr>\n",
       "      <th rowspan=\"2\" valign=\"top\">10</th>\n",
       "      <th>smart</th>\n",
       "      <td>426.136054</td>\n",
       "      <td>35392.336375</td>\n",
       "      <td>188.128510</td>\n",
       "    </tr>\n",
       "    <tr>\n",
       "      <th>ultra</th>\n",
       "      <td>558.081301</td>\n",
       "      <td>106464.583500</td>\n",
       "      <td>326.289110</td>\n",
       "    </tr>\n",
       "    <tr>\n",
       "      <th rowspan=\"2\" valign=\"top\">11</th>\n",
       "      <th>smart</th>\n",
       "      <td>435.265823</td>\n",
       "      <td>31605.237050</td>\n",
       "      <td>177.778618</td>\n",
       "    </tr>\n",
       "    <tr>\n",
       "      <th>ultra</th>\n",
       "      <td>541.380597</td>\n",
       "      <td>96570.057064</td>\n",
       "      <td>310.757232</td>\n",
       "    </tr>\n",
       "    <tr>\n",
       "      <th rowspan=\"2\" valign=\"top\">12</th>\n",
       "      <th>smart</th>\n",
       "      <td>478.560831</td>\n",
       "      <td>39698.622033</td>\n",
       "      <td>199.245131</td>\n",
       "    </tr>\n",
       "    <tr>\n",
       "      <th>ultra</th>\n",
       "      <td>592.805755</td>\n",
       "      <td>117276.331561</td>\n",
       "      <td>342.456321</td>\n",
       "    </tr>\n",
       "  </tbody>\n",
       "</table>\n",
       "</div>"
      ],
      "text/plain": [
       "                    mean            var         std\n",
       "month tariff                                       \n",
       "1     smart   203.852941   23787.341355  154.231454\n",
       "      ultra   428.111111   72769.361111  269.757968\n",
       "2     smart   298.689655   36412.287961  190.820041\n",
       "      ultra   297.125000   87919.679348  296.512528\n",
       "3     smart   390.051948   36823.155161  191.893604\n",
       "      ultra   489.648649  111384.900901  333.743765\n",
       "4     smart   367.133929   34778.207127  186.489161\n",
       "      ultra   458.018182   71653.870034  267.682405\n",
       "5     smart   387.361702   34820.061094  186.601343\n",
       "      ultra   510.328358   83870.193578  289.603511\n",
       "6     smart   395.640244   30742.918861  175.336587\n",
       "      ultra   479.702381   91535.946500  302.549081\n",
       "7     smart   408.353234   32250.269602  179.583601\n",
       "      ultra   545.791209   94322.278144  307.119322\n",
       "8     smart   421.468085   34793.583379  186.530382\n",
       "      ultra   510.775701   97956.496385  312.980026\n",
       "9     smart   428.611538   33535.342723  183.126576\n",
       "      ultra   539.443478  105716.775286  325.141162\n",
       "10    smart   426.136054   35392.336375  188.128510\n",
       "      ultra   558.081301  106464.583500  326.289110\n",
       "11    smart   435.265823   31605.237050  177.778618\n",
       "      ultra   541.380597   96570.057064  310.757232\n",
       "12    smart   478.560831   39698.622033  199.245131\n",
       "      ultra   592.805755  117276.331561  342.456321"
      ]
     },
     "execution_count": 25,
     "metadata": {},
     "output_type": "execute_result"
    }
   ],
   "source": [
    "# Создание сводной таблицы с группировкой по месяцам и тарифам\n",
    "# и расчетом среднего, дисперсии и стандартного отклонения\n",
    "calls_data = data_per_month.pivot_table(index=['month', 'tariff'], values='minutes', aggfunc=[np.mean, np.var, np.std])\n",
    "calls_data.columns = ['mean', 'var', 'std']\n",
    "calls_data"
   ]
  },
  {
   "cell_type": "markdown",
   "metadata": {},
   "source": [
    "Изобразим полученные значения на гистограммах:"
   ]
  },
  {
   "cell_type": "code",
   "execution_count": 26,
   "metadata": {},
   "outputs": [
    {
     "data": {
      "text/plain": [
       "<AxesSubplot:xlabel='std', ylabel='Count'>"
      ]
     },
     "execution_count": 26,
     "metadata": {},
     "output_type": "execute_result"
    },
    {
     "data": {
      "image/png": "[encoded data removed]",
      "text/plain": [
       "<Figure size 1440x360 with 3 Axes>"
      ]
     },
     "metadata": {
      "needs_background": "light"
     },
     "output_type": "display_data"
    }
   ],
   "source": [
    "fig, axes = plt.subplots(1, 3, figsize=(20,5))\n",
    "sns.histplot(calls_data, x='mean', hue='tariff', element='step', ax=axes[0])\n",
    "sns.histplot(calls_data, x='var', hue='tariff', element='step', ax=axes[1])\n",
    "sns.histplot(calls_data, x='std', hue='tariff', element='step', ax=axes[2])"
   ]
  },
  {
   "cell_type": "markdown",
   "metadata": {},
   "source": [
    "Действительно, распределения всех статистик для тарифа \"Ультра\" смещены вправо. Длительность совершенных за месяц звонков в среднем больше приблизительно на 100 минут, значения разбросаны сильнее. "
   ]
  },
  {
   "cell_type": "markdown",
   "metadata": {},
   "source": [
    "### Данные по сообщениям"
   ]
  },
  {
   "cell_type": "markdown",
   "metadata": {},
   "source": [
    "Сравним, сколько сообщений в месяц отправляют пользователи каждого тарифа."
   ]
  },
  {
   "cell_type": "code",
   "execution_count": 27,
   "metadata": {},
   "outputs": [
    {
     "data": {
      "text/plain": [
       "count    2229.000000\n",
       "mean       33.384029\n",
       "std        28.227876\n",
       "min         0.000000\n",
       "25%        10.000000\n",
       "50%        28.000000\n",
       "75%        51.000000\n",
       "max       143.000000\n",
       "Name: messages, dtype: float64"
      ]
     },
     "execution_count": 27,
     "metadata": {},
     "output_type": "execute_result"
    }
   ],
   "source": [
    "# Основные статистики для тарифа Смарт по всем месяцам\n",
    "data_per_month.query('tariff==\"smart\"')['messages'].describe()"
   ]
  },
  {
   "cell_type": "code",
   "execution_count": 28,
   "metadata": {},
   "outputs": [
    {
     "data": {
      "text/plain": [
       "count    985.000000\n",
       "mean      49.363452\n",
       "std       47.804457\n",
       "min        0.000000\n",
       "25%        6.000000\n",
       "50%       38.000000\n",
       "75%       79.000000\n",
       "max      224.000000\n",
       "Name: messages, dtype: float64"
      ]
     },
     "execution_count": 28,
     "metadata": {},
     "output_type": "execute_result"
    }
   ],
   "source": [
    "# Основные статистики для тарифа Ультра по всем месяцам\n",
    "data_per_month.query('tariff==\"ultra\"')['messages'].describe()"
   ]
  },
  {
   "cell_type": "code",
   "execution_count": 29,
   "metadata": {},
   "outputs": [
    {
     "data": {
      "text/plain": [
       "<AxesSubplot:xlabel='messages', ylabel='Count'>"
      ]
     },
     "execution_count": 29,
     "metadata": {},
     "output_type": "execute_result"
    },
    {
     "data": {
      "image/png": "[encoded data removed]",
      "text/plain": [
       "<Figure size 1080x360 with 1 Axes>"
      ]
     },
     "metadata": {
      "needs_background": "light"
     },
     "output_type": "display_data"
    }
   ],
   "source": [
    "# Гистограмма распределения числа отправленных сообщений в месяц по тарифам\n",
    "fig = plt.figure(figsize=(15,5))\n",
    "ax = fig.add_subplot(1,1,1)\n",
    "sns.histplot(data_per_month, x='messages', hue='tariff', bins=40, ax=ax)"
   ]
  },
  {
   "cell_type": "markdown",
   "metadata": {},
   "source": [
    "Пстроим ящики с усами по каждому месяцу:"
   ]
  },
  {
   "cell_type": "code",
   "execution_count": 30,
   "metadata": {},
   "outputs": [
    {
     "data": {
      "image/png": "[encoded data removed]",
      "text/plain": [
       "<Figure size 1080x360 with 1 Axes>"
      ]
     },
     "metadata": {
      "needs_background": "light"
     },
     "output_type": "display_data"
    }
   ],
   "source": [
    "fig = plt.figure(figsize=(15,5))\n",
    "ax = fig.add_subplot(1,1,1)\n",
    "sns.boxplot(x='month', y='messages', data=data_per_month.reset_index(), hue='tariff', ax=ax)\n",
    "plt.grid()"
   ]
  },
  {
   "cell_type": "markdown",
   "metadata": {},
   "source": [
    "Наблюдается пик у нуля для обоих тарифов (везде есть пользователи, которые вообще не отправляеют сообщения). В целом пользователи \"Ультра\" отправляют больше сообщений (медиана равна 38 против 28 для тарифа \"Смарт\", на гистограмме хвост справа длиннее). Но если посмотреть на данные по месяцам, то с февраля по май медиана отправленных сообщений для пользователей \"Смарт\" была выше, в июне — равна.\n",
    "\n",
    "Изучим подробнее, насколько сильно разбросаны данные."
   ]
  },
  {
   "cell_type": "code",
   "execution_count": 31,
   "metadata": {
    "scrolled": true
   },
   "outputs": [
    {
     "data": {
      "text/html": [
       "<div>\n",
       "<style scoped>\n",
       "    .dataframe tbody tr th:only-of-type {\n",
       "        vertical-align: middle;\n",
       "    }\n",
       "\n",
       "    .dataframe tbody tr th {\n",
       "        vertical-align: top;\n",
       "    }\n",
       "\n",
       "    .dataframe thead th {\n",
       "        text-align: right;\n",
       "    }\n",
       "</style>\n",
       "<table border=\"1\" class=\"dataframe\">\n",
       "  <thead>\n",
       "    <tr style=\"text-align: right;\">\n",
       "      <th></th>\n",
       "      <th></th>\n",
       "      <th>mean</th>\n",
       "      <th>var</th>\n",
       "      <th>std</th>\n",
       "    </tr>\n",
       "    <tr>\n",
       "      <th>month</th>\n",
       "      <th>tariff</th>\n",
       "      <th></th>\n",
       "      <th></th>\n",
       "      <th></th>\n",
       "    </tr>\n",
       "  </thead>\n",
       "  <tbody>\n",
       "    <tr>\n",
       "      <th rowspan=\"2\" valign=\"top\">1</th>\n",
       "      <th>smart</th>\n",
       "      <td>18.235294</td>\n",
       "      <td>262.367201</td>\n",
       "      <td>16.197753</td>\n",
       "    </tr>\n",
       "    <tr>\n",
       "      <th>ultra</th>\n",
       "      <td>33.777778</td>\n",
       "      <td>940.694444</td>\n",
       "      <td>30.670742</td>\n",
       "    </tr>\n",
       "    <tr>\n",
       "      <th rowspan=\"2\" valign=\"top\">2</th>\n",
       "      <th>smart</th>\n",
       "      <td>24.086207</td>\n",
       "      <td>473.097701</td>\n",
       "      <td>21.750809</td>\n",
       "    </tr>\n",
       "    <tr>\n",
       "      <th>ultra</th>\n",
       "      <td>21.958333</td>\n",
       "      <td>716.824275</td>\n",
       "      <td>26.773574</td>\n",
       "    </tr>\n",
       "    <tr>\n",
       "      <th rowspan=\"2\" valign=\"top\">3</th>\n",
       "      <th>smart</th>\n",
       "      <td>31.857143</td>\n",
       "      <td>718.492481</td>\n",
       "      <td>26.804710</td>\n",
       "    </tr>\n",
       "    <tr>\n",
       "      <th>ultra</th>\n",
       "      <td>32.297297</td>\n",
       "      <td>1732.381381</td>\n",
       "      <td>41.621886</td>\n",
       "    </tr>\n",
       "    <tr>\n",
       "      <th rowspan=\"2\" valign=\"top\">4</th>\n",
       "      <th>smart</th>\n",
       "      <td>30.741071</td>\n",
       "      <td>602.139559</td>\n",
       "      <td>24.538532</td>\n",
       "    </tr>\n",
       "    <tr>\n",
       "      <th>ultra</th>\n",
       "      <td>31.563636</td>\n",
       "      <td>1407.287542</td>\n",
       "      <td>37.513831</td>\n",
       "    </tr>\n",
       "    <tr>\n",
       "      <th rowspan=\"2\" valign=\"top\">5</th>\n",
       "      <th>smart</th>\n",
       "      <td>33.773050</td>\n",
       "      <td>730.990983</td>\n",
       "      <td>27.036845</td>\n",
       "    </tr>\n",
       "    <tr>\n",
       "      <th>ultra</th>\n",
       "      <td>37.850746</td>\n",
       "      <td>1624.644052</td>\n",
       "      <td>40.306874</td>\n",
       "    </tr>\n",
       "    <tr>\n",
       "      <th rowspan=\"2\" valign=\"top\">6</th>\n",
       "      <th>smart</th>\n",
       "      <td>33.402439</td>\n",
       "      <td>806.806374</td>\n",
       "      <td>28.404337</td>\n",
       "    </tr>\n",
       "    <tr>\n",
       "      <th>ultra</th>\n",
       "      <td>41.726190</td>\n",
       "      <td>1986.297619</td>\n",
       "      <td>44.567899</td>\n",
       "    </tr>\n",
       "    <tr>\n",
       "      <th rowspan=\"2\" valign=\"top\">7</th>\n",
       "      <th>smart</th>\n",
       "      <td>33.751244</td>\n",
       "      <td>799.887811</td>\n",
       "      <td>28.282288</td>\n",
       "    </tr>\n",
       "    <tr>\n",
       "      <th>ultra</th>\n",
       "      <td>49.846154</td>\n",
       "      <td>2372.042735</td>\n",
       "      <td>48.703621</td>\n",
       "    </tr>\n",
       "    <tr>\n",
       "      <th rowspan=\"2\" valign=\"top\">8</th>\n",
       "      <th>smart</th>\n",
       "      <td>33.638298</td>\n",
       "      <td>838.257501</td>\n",
       "      <td>28.952677</td>\n",
       "    </tr>\n",
       "    <tr>\n",
       "      <th>ultra</th>\n",
       "      <td>48.439252</td>\n",
       "      <td>2171.739199</td>\n",
       "      <td>46.601923</td>\n",
       "    </tr>\n",
       "    <tr>\n",
       "      <th rowspan=\"2\" valign=\"top\">9</th>\n",
       "      <th>smart</th>\n",
       "      <td>33.638462</td>\n",
       "      <td>790.617820</td>\n",
       "      <td>28.117927</td>\n",
       "    </tr>\n",
       "    <tr>\n",
       "      <th>ultra</th>\n",
       "      <td>52.286957</td>\n",
       "      <td>2152.855530</td>\n",
       "      <td>46.398874</td>\n",
       "    </tr>\n",
       "    <tr>\n",
       "      <th rowspan=\"2\" valign=\"top\">10</th>\n",
       "      <th>smart</th>\n",
       "      <td>33.765306</td>\n",
       "      <td>816.111966</td>\n",
       "      <td>28.567673</td>\n",
       "    </tr>\n",
       "    <tr>\n",
       "      <th>ultra</th>\n",
       "      <td>58.430894</td>\n",
       "      <td>2697.181661</td>\n",
       "      <td>51.934398</td>\n",
       "    </tr>\n",
       "    <tr>\n",
       "      <th rowspan=\"2\" valign=\"top\">11</th>\n",
       "      <th>smart</th>\n",
       "      <td>34.075949</td>\n",
       "      <td>805.937071</td>\n",
       "      <td>28.389031</td>\n",
       "    </tr>\n",
       "    <tr>\n",
       "      <th>ultra</th>\n",
       "      <td>55.791045</td>\n",
       "      <td>2476.948491</td>\n",
       "      <td>49.768951</td>\n",
       "    </tr>\n",
       "    <tr>\n",
       "      <th rowspan=\"2\" valign=\"top\">12</th>\n",
       "      <th>smart</th>\n",
       "      <td>35.994065</td>\n",
       "      <td>934.952346</td>\n",
       "      <td>30.576990</td>\n",
       "    </tr>\n",
       "    <tr>\n",
       "      <th>ultra</th>\n",
       "      <td>60.611511</td>\n",
       "      <td>2681.978417</td>\n",
       "      <td>51.787821</td>\n",
       "    </tr>\n",
       "  </tbody>\n",
       "</table>\n",
       "</div>"
      ],
      "text/plain": [
       "                   mean          var        std\n",
       "month tariff                                   \n",
       "1     smart   18.235294   262.367201  16.197753\n",
       "      ultra   33.777778   940.694444  30.670742\n",
       "2     smart   24.086207   473.097701  21.750809\n",
       "      ultra   21.958333   716.824275  26.773574\n",
       "3     smart   31.857143   718.492481  26.804710\n",
       "      ultra   32.297297  1732.381381  41.621886\n",
       "4     smart   30.741071   602.139559  24.538532\n",
       "      ultra   31.563636  1407.287542  37.513831\n",
       "5     smart   33.773050   730.990983  27.036845\n",
       "      ultra   37.850746  1624.644052  40.306874\n",
       "6     smart   33.402439   806.806374  28.404337\n",
       "      ultra   41.726190  1986.297619  44.567899\n",
       "7     smart   33.751244   799.887811  28.282288\n",
       "      ultra   49.846154  2372.042735  48.703621\n",
       "8     smart   33.638298   838.257501  28.952677\n",
       "      ultra   48.439252  2171.739199  46.601923\n",
       "9     smart   33.638462   790.617820  28.117927\n",
       "      ultra   52.286957  2152.855530  46.398874\n",
       "10    smart   33.765306   816.111966  28.567673\n",
       "      ultra   58.430894  2697.181661  51.934398\n",
       "11    smart   34.075949   805.937071  28.389031\n",
       "      ultra   55.791045  2476.948491  49.768951\n",
       "12    smart   35.994065   934.952346  30.576990\n",
       "      ultra   60.611511  2681.978417  51.787821"
      ]
     },
     "execution_count": 31,
     "metadata": {},
     "output_type": "execute_result"
    }
   ],
   "source": [
    "# Создание сводной таблицы с группировкой по месяцам и тарифам\n",
    "# и расчетом среднего, дисперсии и стандартного отклонения\n",
    "messages_data = data_per_month.pivot_table(index=['month', 'tariff'], values='messages', aggfunc=[np.mean, np.var, np.std])\n",
    "messages_data.columns = ['mean', 'var', 'std']\n",
    "messages_data"
   ]
  },
  {
   "cell_type": "markdown",
   "metadata": {},
   "source": [
    "Изобразим полученные значения на гистограммах:"
   ]
  },
  {
   "cell_type": "code",
   "execution_count": 32,
   "metadata": {},
   "outputs": [
    {
     "data": {
      "text/plain": [
       "<AxesSubplot:xlabel='std', ylabel='Count'>"
      ]
     },
     "execution_count": 32,
     "metadata": {},
     "output_type": "execute_result"
    },
    {
     "data": {
      "image/png": "[encoded data removed]",
      "text/plain": [
       "<Figure size 1440x360 with 3 Axes>"
      ]
     },
     "metadata": {
      "needs_background": "light"
     },
     "output_type": "display_data"
    }
   ],
   "source": [
    "fig, axes = plt.subplots(1, 3, figsize=(20,5))\n",
    "sns.histplot(messages_data, x='mean', hue='tariff', element='step', ax=axes[0])\n",
    "sns.histplot(messages_data, x='var', hue='tariff', element='step', ax=axes[1])\n",
    "sns.histplot(messages_data, x='std', hue='tariff', element='step', ax=axes[2])"
   ]
  },
  {
   "cell_type": "markdown",
   "metadata": {},
   "source": [
    "Распределения статистик для сообщений, как и для звонков, смещены вправо."
   ]
  },
  {
   "cell_type": "markdown",
   "metadata": {},
   "source": [
    "### Данные по интернет-трафику"
   ]
  },
  {
   "cell_type": "markdown",
   "metadata": {},
   "source": [
    "Сравним, какой объем интернет-трафика требуется пользователям каждого тарифа в месяц."
   ]
  },
  {
   "cell_type": "code",
   "execution_count": 33,
   "metadata": {},
   "outputs": [
    {
     "data": {
      "text/plain": [
       "count    2229.000000\n",
       "mean       16.328847\n",
       "std         5.747061\n",
       "min         0.000000\n",
       "25%        13.000000\n",
       "50%        17.000000\n",
       "75%        20.000000\n",
       "max        38.000000\n",
       "Name: internet, dtype: float64"
      ]
     },
     "execution_count": 33,
     "metadata": {},
     "output_type": "execute_result"
    }
   ],
   "source": [
    "# Основные статистики для тарифа Смарт по всем месяцам\n",
    "data_per_month.query('tariff==\"smart\"')['internet'].describe()"
   ]
  },
  {
   "cell_type": "code",
   "execution_count": 34,
   "metadata": {},
   "outputs": [
    {
     "data": {
      "text/plain": [
       "count    985.000000\n",
       "mean      19.494416\n",
       "std        9.853511\n",
       "min        0.000000\n",
       "25%       12.000000\n",
       "50%       19.000000\n",
       "75%       27.000000\n",
       "max       49.000000\n",
       "Name: internet, dtype: float64"
      ]
     },
     "execution_count": 34,
     "metadata": {},
     "output_type": "execute_result"
    }
   ],
   "source": [
    "# Основные статистики для тарифа Ультра по всем месяцам\n",
    "data_per_month.query('tariff==\"ultra\"')['internet'].describe()"
   ]
  },
  {
   "cell_type": "code",
   "execution_count": 35,
   "metadata": {},
   "outputs": [
    {
     "data": {
      "text/plain": [
       "<AxesSubplot:xlabel='internet', ylabel='Count'>"
      ]
     },
     "execution_count": 35,
     "metadata": {},
     "output_type": "execute_result"
    },
    {
     "data": {
      "image/png": "[encoded data removed]",
      "text/plain": [
       "<Figure size 1080x360 with 1 Axes>"
      ]
     },
     "metadata": {
      "needs_background": "light"
     },
     "output_type": "display_data"
    }
   ],
   "source": [
    "# Гистограмма распределения объема потраченного интернет-трафика в месяц по тарифам\n",
    "fig = plt.figure(figsize=(15,5))\n",
    "ax = fig.add_subplot(1,1,1)\n",
    "sns.histplot(data_per_month, x='internet', hue='tariff', bins=50, ax=ax)"
   ]
  },
  {
   "cell_type": "markdown",
   "metadata": {},
   "source": [
    "Построим ящики с усами по каждому месяцу."
   ]
  },
  {
   "cell_type": "code",
   "execution_count": 36,
   "metadata": {},
   "outputs": [
    {
     "data": {
      "image/png": "[encoded data removed]",
      "text/plain": [
       "<Figure size 1080x360 with 1 Axes>"
      ]
     },
     "metadata": {
      "needs_background": "light"
     },
     "output_type": "display_data"
    }
   ],
   "source": [
    "fig = plt.figure(figsize=(15,5))\n",
    "ax = fig.add_subplot(1,1,1)\n",
    "sns.boxplot(x='month', y='internet', data=data_per_month.reset_index(), hue='tariff', ax=ax)\n",
    "plt.grid()"
   ]
  },
  {
   "cell_type": "markdown",
   "metadata": {},
   "source": [
    "В целом распределения объема интернет-трафика больше всего напоминают нормальные.\n",
    "\n",
    "Пользователи тарифа \"Ультра\" расходуют больше интернет-трафика, причем четверть из них тратит больше 27гб в месяц. Это единственная услуга, по которой возможности тарифа используются в полном объеме, приходится даже доплачивать. \n",
    "\n",
    "Пользователям \"Смарт\" явно не хватает включенных в тариф гб. Больше половины из них вынуждены доплачивать за дополнительные гб."
   ]
  },
  {
   "cell_type": "code",
   "execution_count": 37,
   "metadata": {},
   "outputs": [
    {
     "data": {
      "text/html": [
       "<div>\n",
       "<style scoped>\n",
       "    .dataframe tbody tr th:only-of-type {\n",
       "        vertical-align: middle;\n",
       "    }\n",
       "\n",
       "    .dataframe tbody tr th {\n",
       "        vertical-align: top;\n",
       "    }\n",
       "\n",
       "    .dataframe thead th {\n",
       "        text-align: right;\n",
       "    }\n",
       "</style>\n",
       "<table border=\"1\" class=\"dataframe\">\n",
       "  <thead>\n",
       "    <tr style=\"text-align: right;\">\n",
       "      <th></th>\n",
       "      <th></th>\n",
       "      <th>mean</th>\n",
       "      <th>var</th>\n",
       "      <th>std</th>\n",
       "    </tr>\n",
       "    <tr>\n",
       "      <th>month</th>\n",
       "      <th>tariff</th>\n",
       "      <th></th>\n",
       "      <th></th>\n",
       "      <th></th>\n",
       "    </tr>\n",
       "  </thead>\n",
       "  <tbody>\n",
       "    <tr>\n",
       "      <th rowspan=\"2\" valign=\"top\">1</th>\n",
       "      <th>smart</th>\n",
       "      <td>8.735294</td>\n",
       "      <td>39.412656</td>\n",
       "      <td>6.277950</td>\n",
       "    </tr>\n",
       "    <tr>\n",
       "      <th>ultra</th>\n",
       "      <td>13.222222</td>\n",
       "      <td>44.444444</td>\n",
       "      <td>6.666667</td>\n",
       "    </tr>\n",
       "    <tr>\n",
       "      <th rowspan=\"2\" valign=\"top\">2</th>\n",
       "      <th>smart</th>\n",
       "      <td>11.844828</td>\n",
       "      <td>37.150938</td>\n",
       "      <td>6.095157</td>\n",
       "    </tr>\n",
       "    <tr>\n",
       "      <th>ultra</th>\n",
       "      <td>12.000000</td>\n",
       "      <td>109.130435</td>\n",
       "      <td>10.446551</td>\n",
       "    </tr>\n",
       "    <tr>\n",
       "      <th rowspan=\"2\" valign=\"top\">3</th>\n",
       "      <th>smart</th>\n",
       "      <td>15.233766</td>\n",
       "      <td>32.549897</td>\n",
       "      <td>5.705252</td>\n",
       "    </tr>\n",
       "    <tr>\n",
       "      <th>ultra</th>\n",
       "      <td>17.648649</td>\n",
       "      <td>114.345345</td>\n",
       "      <td>10.693238</td>\n",
       "    </tr>\n",
       "    <tr>\n",
       "      <th rowspan=\"2\" valign=\"top\">4</th>\n",
       "      <th>smart</th>\n",
       "      <td>13.625000</td>\n",
       "      <td>31.299550</td>\n",
       "      <td>5.594600</td>\n",
       "    </tr>\n",
       "    <tr>\n",
       "      <th>ultra</th>\n",
       "      <td>16.963636</td>\n",
       "      <td>89.443098</td>\n",
       "      <td>9.457436</td>\n",
       "    </tr>\n",
       "    <tr>\n",
       "      <th rowspan=\"2\" valign=\"top\">5</th>\n",
       "      <th>smart</th>\n",
       "      <td>15.907801</td>\n",
       "      <td>34.370010</td>\n",
       "      <td>5.862594</td>\n",
       "    </tr>\n",
       "    <tr>\n",
       "      <th>ultra</th>\n",
       "      <td>19.373134</td>\n",
       "      <td>95.631389</td>\n",
       "      <td>9.779130</td>\n",
       "    </tr>\n",
       "    <tr>\n",
       "      <th rowspan=\"2\" valign=\"top\">6</th>\n",
       "      <th>smart</th>\n",
       "      <td>15.951220</td>\n",
       "      <td>31.911716</td>\n",
       "      <td>5.649046</td>\n",
       "    </tr>\n",
       "    <tr>\n",
       "      <th>ultra</th>\n",
       "      <td>18.940476</td>\n",
       "      <td>82.394005</td>\n",
       "      <td>9.077114</td>\n",
       "    </tr>\n",
       "    <tr>\n",
       "      <th rowspan=\"2\" valign=\"top\">7</th>\n",
       "      <th>smart</th>\n",
       "      <td>15.875622</td>\n",
       "      <td>33.419453</td>\n",
       "      <td>5.780956</td>\n",
       "    </tr>\n",
       "    <tr>\n",
       "      <th>ultra</th>\n",
       "      <td>20.505495</td>\n",
       "      <td>96.430525</td>\n",
       "      <td>9.819905</td>\n",
       "    </tr>\n",
       "    <tr>\n",
       "      <th rowspan=\"2\" valign=\"top\">8</th>\n",
       "      <th>smart</th>\n",
       "      <td>16.736170</td>\n",
       "      <td>30.041207</td>\n",
       "      <td>5.480986</td>\n",
       "    </tr>\n",
       "    <tr>\n",
       "      <th>ultra</th>\n",
       "      <td>19.598131</td>\n",
       "      <td>105.148298</td>\n",
       "      <td>10.254184</td>\n",
       "    </tr>\n",
       "    <tr>\n",
       "      <th rowspan=\"2\" valign=\"top\">9</th>\n",
       "      <th>smart</th>\n",
       "      <td>16.392308</td>\n",
       "      <td>25.884110</td>\n",
       "      <td>5.087643</td>\n",
       "    </tr>\n",
       "    <tr>\n",
       "      <th>ultra</th>\n",
       "      <td>19.243478</td>\n",
       "      <td>86.255988</td>\n",
       "      <td>9.287410</td>\n",
       "    </tr>\n",
       "    <tr>\n",
       "      <th rowspan=\"2\" valign=\"top\">10</th>\n",
       "      <th>smart</th>\n",
       "      <td>16.880952</td>\n",
       "      <td>32.897042</td>\n",
       "      <td>5.735594</td>\n",
       "    </tr>\n",
       "    <tr>\n",
       "      <th>ultra</th>\n",
       "      <td>20.065041</td>\n",
       "      <td>91.258030</td>\n",
       "      <td>9.552907</td>\n",
       "    </tr>\n",
       "    <tr>\n",
       "      <th rowspan=\"2\" valign=\"top\">11</th>\n",
       "      <th>smart</th>\n",
       "      <td>17.000000</td>\n",
       "      <td>27.180952</td>\n",
       "      <td>5.213535</td>\n",
       "    </tr>\n",
       "    <tr>\n",
       "      <th>ultra</th>\n",
       "      <td>19.805970</td>\n",
       "      <td>93.796656</td>\n",
       "      <td>9.684867</td>\n",
       "    </tr>\n",
       "    <tr>\n",
       "      <th rowspan=\"2\" valign=\"top\">12</th>\n",
       "      <th>smart</th>\n",
       "      <td>18.201780</td>\n",
       "      <td>29.786544</td>\n",
       "      <td>5.457705</td>\n",
       "    </tr>\n",
       "    <tr>\n",
       "      <th>ultra</th>\n",
       "      <td>21.741007</td>\n",
       "      <td>103.236784</td>\n",
       "      <td>10.160550</td>\n",
       "    </tr>\n",
       "  </tbody>\n",
       "</table>\n",
       "</div>"
      ],
      "text/plain": [
       "                   mean         var        std\n",
       "month tariff                                  \n",
       "1     smart    8.735294   39.412656   6.277950\n",
       "      ultra   13.222222   44.444444   6.666667\n",
       "2     smart   11.844828   37.150938   6.095157\n",
       "      ultra   12.000000  109.130435  10.446551\n",
       "3     smart   15.233766   32.549897   5.705252\n",
       "      ultra   17.648649  114.345345  10.693238\n",
       "4     smart   13.625000   31.299550   5.594600\n",
       "      ultra   16.963636   89.443098   9.457436\n",
       "5     smart   15.907801   34.370010   5.862594\n",
       "      ultra   19.373134   95.631389   9.779130\n",
       "6     smart   15.951220   31.911716   5.649046\n",
       "      ultra   18.940476   82.394005   9.077114\n",
       "7     smart   15.875622   33.419453   5.780956\n",
       "      ultra   20.505495   96.430525   9.819905\n",
       "8     smart   16.736170   30.041207   5.480986\n",
       "      ultra   19.598131  105.148298  10.254184\n",
       "9     smart   16.392308   25.884110   5.087643\n",
       "      ultra   19.243478   86.255988   9.287410\n",
       "10    smart   16.880952   32.897042   5.735594\n",
       "      ultra   20.065041   91.258030   9.552907\n",
       "11    smart   17.000000   27.180952   5.213535\n",
       "      ultra   19.805970   93.796656   9.684867\n",
       "12    smart   18.201780   29.786544   5.457705\n",
       "      ultra   21.741007  103.236784  10.160550"
      ]
     },
     "execution_count": 37,
     "metadata": {},
     "output_type": "execute_result"
    }
   ],
   "source": [
    "# Создание сводной таблицы с группировкой по месяцам и тарифам\n",
    "# и расчетом среднего, дисперсии и стандартного отклонения\n",
    "internet_data = data_per_month.pivot_table(index=['month', 'tariff'], values='internet', aggfunc=[np.mean, np.var, np.std])\n",
    "internet_data.columns = ['mean', 'var', 'std']\n",
    "internet_data"
   ]
  },
  {
   "cell_type": "code",
   "execution_count": 38,
   "metadata": {},
   "outputs": [
    {
     "data": {
      "text/plain": [
       "<AxesSubplot:xlabel='std', ylabel='Count'>"
      ]
     },
     "execution_count": 38,
     "metadata": {},
     "output_type": "execute_result"
    },
    {
     "data": {
      "image/png": "[encoded data removed]",
      "text/plain": [
       "<Figure size 1440x360 with 3 Axes>"
      ]
     },
     "metadata": {
      "needs_background": "light"
     },
     "output_type": "display_data"
    }
   ],
   "source": [
    "fig, axes = plt.subplots(1, 3, figsize=(20,5))\n",
    "sns.histplot(internet_data, x='mean', hue='tariff', element='step',bins=12, ax=axes[0])\n",
    "sns.histplot(internet_data, x='var', hue='tariff', element='step', ax=axes[1])\n",
    "sns.histplot(internet_data, x='std', hue='tariff', element='step', ax=axes[2])"
   ]
  },
  {
   "cell_type": "markdown",
   "metadata": {},
   "source": [
    "Распределения смещены вправо, причем пик для тарифа \"Смарт\" приходится на 16гб в мес., что превышает объем, включенный в пакет. Значения тарифа \"Ультра\" разбросаны сильнее."
   ]
  },
  {
   "cell_type": "markdown",
   "metadata": {},
   "source": [
    "### Данные по выручке"
   ]
  },
  {
   "cell_type": "code",
   "execution_count": 39,
   "metadata": {},
   "outputs": [
    {
     "data": {
      "text/plain": [
       "count    2229.000000\n",
       "mean     1289.973531\n",
       "std       818.404367\n",
       "min       550.000000\n",
       "25%       550.000000\n",
       "50%      1023.000000\n",
       "75%      1750.000000\n",
       "max      6770.000000\n",
       "Name: income, dtype: float64"
      ]
     },
     "execution_count": 39,
     "metadata": {},
     "output_type": "execute_result"
    }
   ],
   "source": [
    "# Основные статистики для тарифа Смарт по всем месяцам\n",
    "data_per_month.query('tariff==\"smart\"')['income'].describe()"
   ]
  },
  {
   "cell_type": "code",
   "execution_count": 40,
   "metadata": {},
   "outputs": [
    {
     "data": {
      "text/plain": [
       "count     985.000000\n",
       "mean     2070.152284\n",
       "std       376.187114\n",
       "min      1950.000000\n",
       "25%      1950.000000\n",
       "50%      1950.000000\n",
       "75%      1950.000000\n",
       "max      4800.000000\n",
       "Name: income, dtype: float64"
      ]
     },
     "execution_count": 40,
     "metadata": {},
     "output_type": "execute_result"
    }
   ],
   "source": [
    "# Основные статистики для тарифа Ультра по всем месяцам\n",
    "data_per_month.query('tariff==\"ultra\"')['income'].describe()"
   ]
  },
  {
   "cell_type": "code",
   "execution_count": 41,
   "metadata": {},
   "outputs": [
    {
     "data": {
      "text/plain": [
       "<AxesSubplot:xlabel='income', ylabel='Count'>"
      ]
     },
     "execution_count": 41,
     "metadata": {},
     "output_type": "execute_result"
    },
    {
     "data": {
      "image/png": "[encoded data removed]",
      "text/plain": [
       "<Figure size 1080x360 with 1 Axes>"
      ]
     },
     "metadata": {
      "needs_background": "light"
     },
     "output_type": "display_data"
    }
   ],
   "source": [
    "# Гистограмма распределения выручки в месяц по тарифам\n",
    "fig = plt.figure(figsize=(15,5))\n",
    "ax = fig.add_subplot(1,1,1)\n",
    "sns.histplot(data_per_month, x='income', hue='tariff', ax=ax)"
   ]
  },
  {
   "cell_type": "markdown",
   "metadata": {},
   "source": [
    "Пики у обоих тарифов приходятся на значения, равные тарифной плате. Но пользователи тарифа \"Ультра\" гораздо реже доплачивают за использование услуг сверх тарифного плана: меньше четверти выборки платили за доп услуги, в то время как у \"Смарт\" — больше половины."
   ]
  },
  {
   "cell_type": "markdown",
   "metadata": {},
   "source": [
    "Посмотрим, как изменялась выручка с каждого тарифа по месяцам:"
   ]
  },
  {
   "cell_type": "code",
   "execution_count": 42,
   "metadata": {},
   "outputs": [
    {
     "data": {
      "text/plain": [
       "<AxesSubplot:xlabel='month', ylabel='income'>"
      ]
     },
     "execution_count": 42,
     "metadata": {},
     "output_type": "execute_result"
    },
    {
     "data": {
      "image/png": "[encoded data removed]",
      "text/plain": [
       "<Figure size 1080x576 with 1 Axes>"
      ]
     },
     "metadata": {
      "needs_background": "light"
     },
     "output_type": "display_data"
    }
   ],
   "source": [
    "# Создание сводной таблицы с группировкой по месяцам и тарифам\n",
    "# и расчет суммы выручки за месяц\n",
    "income_data = data_per_month.pivot_table(index=['month', 'tariff'], values='income', aggfunc='sum')\n",
    "\n",
    "# Построение столбчатого графика по месяцам\n",
    "fig = plt.figure(figsize=(15,8))\n",
    "ax = fig.add_subplot(1,1,1)\n",
    "ax.grid()\n",
    "sns.barplot(data=income_data.reset_index(), x='month', y='income', hue='tariff', ax=ax)"
   ]
  },
  {
   "cell_type": "markdown",
   "metadata": {},
   "source": [
    "Выручка от обоих тарифов растет, но с разной скоростью. Первые 4 месяца тарифы приносили практически одну и ту же сумму в месяц (отрыв был небольшой), но уже с 5 выручка по тарифу «Смарт» начала расти сильнее. К декабрю разница превысила 200000.\n",
    "\n",
    "Таким образом, выручка по «Смарт» стремительно растет. Есть основания предполалагать, что этот тариф перспективнее."
   ]
  },
  {
   "cell_type": "markdown",
   "metadata": {},
   "source": [
    "## Проверка гипотез"
   ]
  },
  {
   "cell_type": "markdown",
   "metadata": {},
   "source": [
    "При проверке гипотез о равенстве средних генеральных совокупностей будем применять t-test, так как проводится сравнение двух независимых выборок большого размера. Критический уровень статистической значимости примем равным 5%."
   ]
  },
  {
   "cell_type": "code",
   "execution_count": 43,
   "metadata": {},
   "outputs": [],
   "source": [
    "alpha = .05"
   ]
  },
  {
   "cell_type": "markdown",
   "metadata": {},
   "source": [
    "### Cредняя выручка пользователей тарифов \"Ультра\" и \"Смарт\" различаются"
   ]
  },
  {
   "cell_type": "markdown",
   "metadata": {},
   "source": [
    "Сформулируем нулевую и альтернативную гипотезы:\n",
    "* $H_0$ — значения средней выручки пользователей тарифов \"Ультра\" и \"Смарт\" равны.\n",
    "* $H_1$ — значения средней выручки пользователей тарифов \"Ультра\" и \"Смарт\" не равны"
   ]
  },
  {
   "cell_type": "markdown",
   "metadata": {},
   "source": [
    "Проверим, отличается ли размер выборок:"
   ]
  },
  {
   "cell_type": "code",
   "execution_count": 44,
   "metadata": {},
   "outputs": [
    {
     "data": {
      "text/plain": [
       "2229"
      ]
     },
     "metadata": {},
     "output_type": "display_data"
    },
    {
     "data": {
      "text/plain": [
       "985"
      ]
     },
     "metadata": {},
     "output_type": "display_data"
    }
   ],
   "source": [
    "display(data_per_month.query('tariff == \"smart\"')['income'].shape[0])\n",
    "display(data_per_month.query('tariff == \"ultra\"')['income'].shape[0])"
   ]
  },
  {
   "cell_type": "markdown",
   "metadata": {},
   "source": [
    "Так как размер выборок отличается, установим `equal_var = False`."
   ]
  },
  {
   "cell_type": "code",
   "execution_count": 45,
   "metadata": {},
   "outputs": [
    {
     "name": "stdout",
     "output_type": "stream",
     "text": [
      "p-value:  4.2606313931076085e-250\n",
      "Отвергаем нулевую гипотезу\n"
     ]
    }
   ],
   "source": [
    "# Проверка гипотезы о равенстве среднего двух генеральных совокупностей\n",
    "# по двум выборкам: пользователей тарифа Смарт и пользователей тарифа Ультра\n",
    "results = st.ttest_ind(\n",
    "    data_per_month.query('tariff == \"smart\"')['income'],\n",
    "    data_per_month.query('tariff == \"ultra\"')['income'],\n",
    "    equal_var = False\n",
    ")\n",
    "print('p-value: ', results.pvalue)\n",
    "\n",
    "# Сравнение получившегося p-value с заданным уровнем статистической значимости\n",
    "if results.pvalue < alpha:\n",
    "    print(\"Отвергаем нулевую гипотезу\")\n",
    "else:\n",
    "    print(\"Нет оснований отвергнуть нулевую гипотезу\") "
   ]
  },
  {
   "cell_type": "markdown",
   "metadata": {},
   "source": [
    "**Вывод**. При условии, что гипотеза верна, вероятность получить такие и более отличающиеся значения средних у выборок очень низкая. Поэтому нулевая гипотеза отвергается: значения средней выручки пользователей тарифов \"Ультра\" и \"Смарт\" не равны. Это также видно и по полученным выборочным средним, они отличаются почти в два раза:"
   ]
  },
  {
   "cell_type": "code",
   "execution_count": 46,
   "metadata": {},
   "outputs": [
    {
     "name": "stdout",
     "output_type": "stream",
     "text": [
      "Средняя выручка пользователей Смарт равна 1289.9735307312696\n",
      "Средняя выручка пользователей Ультра равна 2070.1522842639592\n"
     ]
    }
   ],
   "source": [
    "print('Средняя выручка пользователей Смарт равна', data_per_month.query('tariff == \"smart\"')['income'].mean())\n",
    "print('Средняя выручка пользователей Ультра равна', data_per_month.query('tariff == \"ultra\"')['income'].mean())"
   ]
  },
  {
   "cell_type": "markdown",
   "metadata": {},
   "source": [
    "### Средняя выручка пользователей из Москвы отличается от выручки пользователей из других регионов"
   ]
  },
  {
   "cell_type": "markdown",
   "metadata": {},
   "source": [
    "Сформулируем нулевую и альтернативную гипотезы:\n",
    "* $H_0$ — значения средней выручки пользователей из Москвы и из других регионов равны.\n",
    "* $H_1$ — значения средней выручки пользователей из Москвы и из других регионов не равны"
   ]
  },
  {
   "cell_type": "markdown",
   "metadata": {},
   "source": [
    "Проверим, отличается ли размер выборок:"
   ]
  },
  {
   "cell_type": "code",
   "execution_count": 47,
   "metadata": {},
   "outputs": [
    {
     "data": {
      "text/plain": [
       "611"
      ]
     },
     "metadata": {},
     "output_type": "display_data"
    },
    {
     "data": {
      "text/plain": [
       "2603"
      ]
     },
     "metadata": {},
     "output_type": "display_data"
    }
   ],
   "source": [
    "display(data_per_month.query('city == \"Москва\"')['income'].shape[0])\n",
    "display(data_per_month.query('city != \"Москва\"')['income'].shape[0])"
   ]
  },
  {
   "cell_type": "markdown",
   "metadata": {},
   "source": [
    "Так как размер выборок отличается, установим `equal_var = False`."
   ]
  },
  {
   "cell_type": "code",
   "execution_count": 48,
   "metadata": {},
   "outputs": [
    {
     "name": "stdout",
     "output_type": "stream",
     "text": [
      "p-value:  0.5257376663729298\n",
      "Нет оснований отвергнуть нулевую гипотезу\n"
     ]
    }
   ],
   "source": [
    "# Проверка гипотезы о равенстве среднего двух генеральных совокупностей\n",
    "# по двум выборкам: пользователей из Москвы и пользователей из других городов\n",
    "results = st.ttest_ind(\n",
    "    data_per_month.query('city == \"Москва\"')['income'],\n",
    "    data_per_month.query('city != \"Москва\"')['income'],\n",
    "    equal_var = False\n",
    ")\n",
    "print('p-value: ', results.pvalue)\n",
    "\n",
    "# Сравнение получившегося p-value с заданным уровнем статистической значимости\n",
    "if results.pvalue < alpha:\n",
    "    print(\"Отвергаем нулевую гипотезу\")\n",
    "else:\n",
    "    print(\"Нет оснований отвергнуть нулевую гипотезу\") "
   ]
  },
  {
   "cell_type": "markdown",
   "metadata": {},
   "source": [
    "**Вывод**. При условии, что гипотеза верна, вероятность получить такие и более отличающиеся значения средних у выборок больше 50%, что является высоким показателем. Поэтому нет оснований отвергать нулевую гипотезу. Это также видно и по полученным выборочным средним, которые близки друг к другу:"
   ]
  },
  {
   "cell_type": "code",
   "execution_count": 49,
   "metadata": {},
   "outputs": [
    {
     "name": "stdout",
     "output_type": "stream",
     "text": [
      "Средняя выручка пользователей из Москвы равна 1546.7135842880523\n",
      "Средняя выручка пользователей из других регионов равна 1524.9362274298885\n"
     ]
    }
   ],
   "source": [
    "print('Средняя выручка пользователей из Москвы равна', data_per_month.query('city == \"Москва\"')['income'].mean())\n",
    "print('Средняя выручка пользователей из других регионов равна', data_per_month.query('city != \"Москва\"')['income'].mean())"
   ]
  },
  {
   "cell_type": "markdown",
   "metadata": {},
   "source": [
    "## Общий вывод"
   ]
  },
  {
   "cell_type": "markdown",
   "metadata": {},
   "source": [
    "Выяснили, что средние выручки от тарифов отличаются: тариф \"Ультра\" приносит больше денег, чем \"Смарт\". В изученной выборке это значения в месяц по каждому пользователю 2070 и 1289 руб соответственно. Также у этого тарифа стремительнее растет суммарная выручка по месяцам.  Можно сделать вывод, что **скорректировать рекламный бюджет лучше в сторону тарифа \"Ультра\" (однако для окончательного решения вопроса бюджетирования необходимо оценить прибыль от продаж каждого тарифа)**.\n",
    "\n",
    "Также стоит отметить, что прибыльность тарифа обоснована тем, что его пользователи вынуждены доплачивать за дополнительные услуги сверх тарифного плана. Это прослеживается в особенностях поведения клиентов:\n",
    "\n",
    "- В среднем изученной выборке требуется в месяц:\n",
    "    - 418 минут на разговоры для тарифа \"Смарт\" (из 500 включенных в тариф), 527 — для \"Ультра\" (из 3000);\n",
    "    - 33 сообщения для тарифа \"Смарт\" (из 50 включенных в тариф), 49 — для \"Ультра\" (из 1000);\n",
    "    - 16гб для тарифа \"Смарт\" (из 15 включенных в тариф), 19 — для \"Ультра\" (из 30).\n",
    "- Более 25% выборки пользователей тарифа \"Смарт\" вынуждены доплачивать за услуги сверх тарифного плана, более 50% доплачивают за интернет-трафик.\n",
    "- Обладатели тарифа \"Ультра\", напротив, не пользуются предложенными услугами в полной мере. 75% из них не используют и половины минут, предложенных в тарифе, максимальное число отправленных сообщений — 224 из 1000 предложенных. Все доплаты сверх тарифного плана в тарифе \"Ультра\" осуществляются за интернет-трафик.\n",
    "- Нет оснований полагать, что средняя выручка от пользователей из Москвы отличается от выручки пользователей из других городов."
   ]
  }
 ],
 "metadata": {
  "ExecuteTimeLog": [
   {
    "duration": 966,
    "start_time": "2022-02-17T17:57:20.011Z"
   },
   {
    "duration": 19,
    "start_time": "2022-02-17T17:57:26.653Z"
   },
   {
    "duration": 128,
    "start_time": "2022-02-17T17:57:42.343Z"
   },
   {
    "duration": 75,
    "start_time": "2022-02-17T17:57:54.025Z"
   },
   {
    "duration": 10,
    "start_time": "2022-02-17T17:57:57.204Z"
   },
   {
    "duration": 81,
    "start_time": "2022-02-17T17:58:04.941Z"
   },
   {
    "duration": 40,
    "start_time": "2022-02-17T17:58:07.314Z"
   },
   {
    "duration": 6,
    "start_time": "2022-02-17T18:03:32.981Z"
   },
   {
    "duration": 113,
    "start_time": "2022-02-17T18:21:08.596Z"
   },
   {
    "duration": 3,
    "start_time": "2022-02-17T18:21:10.388Z"
   },
   {
    "duration": 19,
    "start_time": "2022-02-17T18:21:25.817Z"
   },
   {
    "duration": 11,
    "start_time": "2022-02-17T18:29:35.666Z"
   },
   {
    "duration": 35,
    "start_time": "2022-02-17T18:29:41.997Z"
   },
   {
    "duration": 13,
    "start_time": "2022-02-17T18:31:05.570Z"
   },
   {
    "duration": 12,
    "start_time": "2022-02-17T18:31:16.737Z"
   },
   {
    "duration": 13,
    "start_time": "2022-02-17T18:32:12.769Z"
   },
   {
    "duration": 7,
    "start_time": "2022-02-17T18:41:32.615Z"
   },
   {
    "duration": 5,
    "start_time": "2022-02-17T18:43:06.864Z"
   },
   {
    "duration": 11,
    "start_time": "2022-02-17T18:43:20.220Z"
   },
   {
    "duration": 748,
    "start_time": "2022-02-17T18:48:36.390Z"
   },
   {
    "duration": 395,
    "start_time": "2022-02-17T18:48:43.158Z"
   },
   {
    "duration": 59,
    "start_time": "2022-02-17T18:48:49.474Z"
   },
   {
    "duration": 10,
    "start_time": "2022-02-17T18:49:32.101Z"
   },
   {
    "duration": 15,
    "start_time": "2022-02-17T18:50:28.201Z"
   },
   {
    "duration": 60,
    "start_time": "2022-02-17T18:50:57.823Z"
   },
   {
    "duration": 55,
    "start_time": "2022-02-17T18:54:24.059Z"
   },
   {
    "duration": 9,
    "start_time": "2022-02-17T18:55:48.054Z"
   },
   {
    "duration": 278,
    "start_time": "2022-02-17T19:10:31.382Z"
   },
   {
    "duration": 293,
    "start_time": "2022-02-17T19:10:38.167Z"
   },
   {
    "duration": 7,
    "start_time": "2022-02-17T19:10:47.520Z"
   },
   {
    "duration": 3987,
    "start_time": "2022-02-17T19:13:54.708Z"
   },
   {
    "duration": 3604,
    "start_time": "2022-02-17T19:14:15.170Z"
   },
   {
    "duration": 909,
    "start_time": "2022-02-17T19:15:47.072Z"
   },
   {
    "duration": 135,
    "start_time": "2022-02-17T19:15:47.984Z"
   },
   {
    "duration": 30,
    "start_time": "2022-02-17T19:15:48.123Z"
   },
   {
    "duration": 15,
    "start_time": "2022-02-17T19:15:48.158Z"
   },
   {
    "duration": 73,
    "start_time": "2022-02-17T19:15:48.176Z"
   },
   {
    "duration": 9,
    "start_time": "2022-02-17T19:15:48.252Z"
   },
   {
    "duration": 12,
    "start_time": "2022-02-17T19:15:48.263Z"
   },
   {
    "duration": 10,
    "start_time": "2022-02-17T19:15:48.279Z"
   },
   {
    "duration": 58,
    "start_time": "2022-02-17T19:15:48.294Z"
   },
   {
    "duration": 16,
    "start_time": "2022-02-17T19:15:48.355Z"
   },
   {
    "duration": 7,
    "start_time": "2022-02-17T19:15:48.374Z"
   },
   {
    "duration": 9,
    "start_time": "2022-02-17T19:15:48.384Z"
   },
   {
    "duration": 14,
    "start_time": "2022-02-17T19:15:48.396Z"
   },
   {
    "duration": 15,
    "start_time": "2022-02-17T19:15:48.450Z"
   },
   {
    "duration": 8,
    "start_time": "2022-02-17T19:16:36.889Z"
   },
   {
    "duration": 9,
    "start_time": "2022-02-17T19:18:10.522Z"
   },
   {
    "duration": 9,
    "start_time": "2022-02-17T19:18:43.441Z"
   },
   {
    "duration": 98,
    "start_time": "2022-02-17T19:20:10.063Z"
   },
   {
    "duration": 29,
    "start_time": "2022-02-17T19:20:18.333Z"
   },
   {
    "duration": 9,
    "start_time": "2022-02-17T19:20:20.564Z"
   },
   {
    "duration": 509,
    "start_time": "2022-02-17T19:20:39.271Z"
   },
   {
    "duration": 42,
    "start_time": "2022-02-17T19:22:07.731Z"
   },
   {
    "duration": 9,
    "start_time": "2022-02-17T19:22:23.285Z"
   },
   {
    "duration": 10,
    "start_time": "2022-02-17T20:57:59.757Z"
   },
   {
    "duration": 12,
    "start_time": "2022-02-17T20:58:05.475Z"
   },
   {
    "duration": 970,
    "start_time": "2022-02-17T20:59:14.764Z"
   },
   {
    "duration": 173,
    "start_time": "2022-02-17T20:59:15.738Z"
   },
   {
    "duration": 32,
    "start_time": "2022-02-17T20:59:15.918Z"
   },
   {
    "duration": 10,
    "start_time": "2022-02-17T20:59:15.952Z"
   },
   {
    "duration": 39,
    "start_time": "2022-02-17T20:59:15.964Z"
   },
   {
    "duration": 46,
    "start_time": "2022-02-17T20:59:16.006Z"
   },
   {
    "duration": 8,
    "start_time": "2022-02-17T20:59:16.058Z"
   },
   {
    "duration": 42,
    "start_time": "2022-02-17T20:59:16.069Z"
   },
   {
    "duration": 40,
    "start_time": "2022-02-17T20:59:16.114Z"
   },
   {
    "duration": 15,
    "start_time": "2022-02-17T20:59:16.156Z"
   },
   {
    "duration": 12,
    "start_time": "2022-02-17T20:59:16.173Z"
   },
   {
    "duration": 10,
    "start_time": "2022-02-17T20:59:16.187Z"
   },
   {
    "duration": 49,
    "start_time": "2022-02-17T20:59:16.199Z"
   },
   {
    "duration": 13,
    "start_time": "2022-02-17T20:59:16.251Z"
   },
   {
    "duration": 13,
    "start_time": "2022-02-17T20:59:16.267Z"
   },
   {
    "duration": 862,
    "start_time": "2022-02-17T21:39:24.917Z"
   },
   {
    "duration": 125,
    "start_time": "2022-02-17T21:39:25.782Z"
   },
   {
    "duration": 36,
    "start_time": "2022-02-17T21:39:25.914Z"
   },
   {
    "duration": 10,
    "start_time": "2022-02-17T21:39:25.952Z"
   },
   {
    "duration": 48,
    "start_time": "2022-02-17T21:39:25.966Z"
   },
   {
    "duration": 33,
    "start_time": "2022-02-17T21:39:26.017Z"
   },
   {
    "duration": 8,
    "start_time": "2022-02-17T21:39:26.053Z"
   },
   {
    "duration": 41,
    "start_time": "2022-02-17T21:39:26.066Z"
   },
   {
    "duration": 40,
    "start_time": "2022-02-17T21:39:26.110Z"
   },
   {
    "duration": 12,
    "start_time": "2022-02-17T21:39:26.153Z"
   },
   {
    "duration": 13,
    "start_time": "2022-02-17T21:39:26.168Z"
   },
   {
    "duration": 9,
    "start_time": "2022-02-17T21:39:26.184Z"
   },
   {
    "duration": 9,
    "start_time": "2022-02-17T21:39:26.196Z"
   },
   {
    "duration": 9,
    "start_time": "2022-02-17T21:39:26.248Z"
   },
   {
    "duration": 21,
    "start_time": "2022-02-17T21:39:26.259Z"
   },
   {
    "duration": 12,
    "start_time": "2022-02-17T21:39:26.283Z"
   },
   {
    "duration": 12,
    "start_time": "2022-02-17T21:52:35.031Z"
   },
   {
    "duration": 8,
    "start_time": "2022-02-17T22:02:04.290Z"
   },
   {
    "duration": 416,
    "start_time": "2022-02-17T22:02:38.412Z"
   },
   {
    "duration": 327,
    "start_time": "2022-02-17T22:02:50.091Z"
   },
   {
    "duration": 770,
    "start_time": "2022-02-17T22:03:09.438Z"
   },
   {
    "duration": 129,
    "start_time": "2022-02-17T22:03:10.211Z"
   },
   {
    "duration": 16,
    "start_time": "2022-02-17T22:03:10.344Z"
   },
   {
    "duration": 11,
    "start_time": "2022-02-17T22:03:10.363Z"
   },
   {
    "duration": 73,
    "start_time": "2022-02-17T22:03:10.377Z"
   },
   {
    "duration": 10,
    "start_time": "2022-02-17T22:03:10.453Z"
   },
   {
    "duration": 14,
    "start_time": "2022-02-17T22:03:10.466Z"
   },
   {
    "duration": 70,
    "start_time": "2022-02-17T22:03:10.484Z"
   },
   {
    "duration": 7,
    "start_time": "2022-02-17T22:03:10.558Z"
   },
   {
    "duration": 15,
    "start_time": "2022-02-17T22:03:10.568Z"
   },
   {
    "duration": 13,
    "start_time": "2022-02-17T22:03:10.585Z"
   },
   {
    "duration": 14,
    "start_time": "2022-02-17T22:03:10.601Z"
   },
   {
    "duration": 19,
    "start_time": "2022-02-17T22:03:10.649Z"
   },
   {
    "duration": 12,
    "start_time": "2022-02-17T22:03:10.670Z"
   },
   {
    "duration": 10,
    "start_time": "2022-02-17T22:03:10.684Z"
   },
   {
    "duration": 7,
    "start_time": "2022-02-17T22:03:10.696Z"
   },
   {
    "duration": 42,
    "start_time": "2022-02-17T22:03:10.706Z"
   },
   {
    "duration": 18,
    "start_time": "2022-02-17T22:03:10.751Z"
   },
   {
    "duration": 12,
    "start_time": "2022-02-17T22:03:10.772Z"
   },
   {
    "duration": 439,
    "start_time": "2022-02-17T22:03:52.368Z"
   },
   {
    "duration": 803,
    "start_time": "2022-02-17T22:04:02.551Z"
   },
   {
    "duration": 131,
    "start_time": "2022-02-17T22:04:03.357Z"
   },
   {
    "duration": 16,
    "start_time": "2022-02-17T22:04:03.494Z"
   },
   {
    "duration": 10,
    "start_time": "2022-02-17T22:04:03.513Z"
   },
   {
    "duration": 41,
    "start_time": "2022-02-17T22:04:03.549Z"
   },
   {
    "duration": 10,
    "start_time": "2022-02-17T22:04:03.592Z"
   },
   {
    "duration": 43,
    "start_time": "2022-02-17T22:04:03.605Z"
   },
   {
    "duration": 63,
    "start_time": "2022-02-17T22:04:03.653Z"
   },
   {
    "duration": 8,
    "start_time": "2022-02-17T22:04:03.719Z"
   },
   {
    "duration": 13,
    "start_time": "2022-02-17T22:04:03.749Z"
   },
   {
    "duration": 11,
    "start_time": "2022-02-17T22:04:03.765Z"
   },
   {
    "duration": 11,
    "start_time": "2022-02-17T22:04:03.779Z"
   },
   {
    "duration": 57,
    "start_time": "2022-02-17T22:04:03.793Z"
   },
   {
    "duration": 12,
    "start_time": "2022-02-17T22:04:03.853Z"
   },
   {
    "duration": 12,
    "start_time": "2022-02-17T22:04:03.868Z"
   },
   {
    "duration": 12,
    "start_time": "2022-02-17T22:04:03.882Z"
   },
   {
    "duration": 15,
    "start_time": "2022-02-17T22:04:03.897Z"
   },
   {
    "duration": 33,
    "start_time": "2022-02-17T22:04:03.915Z"
   },
   {
    "duration": 12,
    "start_time": "2022-02-17T22:04:03.951Z"
   },
   {
    "duration": 14,
    "start_time": "2022-02-17T22:04:03.966Z"
   },
   {
    "duration": 91,
    "start_time": "2022-02-17T22:04:56.810Z"
   },
   {
    "duration": 8072,
    "start_time": "2022-02-17T22:05:01.745Z"
   },
   {
    "duration": 7939,
    "start_time": "2022-02-17T22:05:25.427Z"
   },
   {
    "duration": 589,
    "start_time": "2022-02-18T08:49:09.081Z"
   },
   {
    "duration": 107,
    "start_time": "2022-02-18T08:49:09.672Z"
   },
   {
    "duration": 12,
    "start_time": "2022-02-18T08:49:09.784Z"
   },
   {
    "duration": 18,
    "start_time": "2022-02-18T08:49:09.799Z"
   },
   {
    "duration": 45,
    "start_time": "2022-02-18T08:49:09.819Z"
   },
   {
    "duration": 7,
    "start_time": "2022-02-18T08:49:09.866Z"
   },
   {
    "duration": 6,
    "start_time": "2022-02-18T08:49:09.877Z"
   },
   {
    "duration": 28,
    "start_time": "2022-02-18T08:49:09.885Z"
   },
   {
    "duration": 6,
    "start_time": "2022-02-18T08:49:09.915Z"
   },
   {
    "duration": 44,
    "start_time": "2022-02-18T08:49:09.923Z"
   },
   {
    "duration": 9,
    "start_time": "2022-02-18T08:49:09.969Z"
   },
   {
    "duration": 7,
    "start_time": "2022-02-18T08:49:09.979Z"
   },
   {
    "duration": 12,
    "start_time": "2022-02-18T08:49:09.988Z"
   },
   {
    "duration": 6,
    "start_time": "2022-02-18T08:49:10.002Z"
   },
   {
    "duration": 48,
    "start_time": "2022-02-18T08:49:10.011Z"
   },
   {
    "duration": 5,
    "start_time": "2022-02-18T08:49:10.061Z"
   },
   {
    "duration": 13,
    "start_time": "2022-02-18T08:49:10.068Z"
   },
   {
    "duration": 9,
    "start_time": "2022-02-18T08:49:10.083Z"
   },
   {
    "duration": 581,
    "start_time": "2022-02-18T08:49:42.528Z"
   },
   {
    "duration": 94,
    "start_time": "2022-02-18T08:49:43.111Z"
   },
   {
    "duration": 9,
    "start_time": "2022-02-18T08:49:43.207Z"
   },
   {
    "duration": 12,
    "start_time": "2022-02-18T08:49:43.218Z"
   },
   {
    "duration": 35,
    "start_time": "2022-02-18T08:49:43.231Z"
   },
   {
    "duration": 6,
    "start_time": "2022-02-18T08:49:43.268Z"
   },
   {
    "duration": 14,
    "start_time": "2022-02-18T08:49:43.276Z"
   },
   {
    "duration": 28,
    "start_time": "2022-02-18T08:49:43.292Z"
   },
   {
    "duration": 5,
    "start_time": "2022-02-18T08:49:43.322Z"
   },
   {
    "duration": 32,
    "start_time": "2022-02-18T08:49:43.329Z"
   },
   {
    "duration": 9,
    "start_time": "2022-02-18T08:49:43.364Z"
   },
   {
    "duration": 6,
    "start_time": "2022-02-18T08:49:43.375Z"
   },
   {
    "duration": 11,
    "start_time": "2022-02-18T08:49:43.383Z"
   },
   {
    "duration": 5,
    "start_time": "2022-02-18T08:49:43.395Z"
   },
   {
    "duration": 6,
    "start_time": "2022-02-18T08:49:43.401Z"
   },
   {
    "duration": 5,
    "start_time": "2022-02-18T08:49:43.409Z"
   },
   {
    "duration": 10,
    "start_time": "2022-02-18T08:49:43.415Z"
   },
   {
    "duration": 37,
    "start_time": "2022-02-18T08:49:43.427Z"
   },
   {
    "duration": 9,
    "start_time": "2022-02-18T08:50:50.979Z"
   },
   {
    "duration": 9,
    "start_time": "2022-02-18T08:50:57.112Z"
   },
   {
    "duration": 9,
    "start_time": "2022-02-18T08:59:51.997Z"
   },
   {
    "duration": 10,
    "start_time": "2022-02-18T08:59:56.178Z"
   },
   {
    "duration": 9,
    "start_time": "2022-02-18T09:00:08.712Z"
   },
   {
    "duration": 9,
    "start_time": "2022-02-18T09:01:20.211Z"
   },
   {
    "duration": 5,
    "start_time": "2022-02-18T09:20:47.532Z"
   },
   {
    "duration": 6,
    "start_time": "2022-02-18T09:22:48.088Z"
   },
   {
    "duration": 6,
    "start_time": "2022-02-18T09:23:33.224Z"
   },
   {
    "duration": 34,
    "start_time": "2022-02-18T09:25:29.570Z"
   },
   {
    "duration": 10,
    "start_time": "2022-02-18T09:25:48.871Z"
   },
   {
    "duration": 10,
    "start_time": "2022-02-18T09:30:37.583Z"
   },
   {
    "duration": 7,
    "start_time": "2022-02-18T09:30:57.107Z"
   },
   {
    "duration": 65,
    "start_time": "2022-02-18T09:31:47.805Z"
   },
   {
    "duration": 8,
    "start_time": "2022-02-18T09:31:58.365Z"
   },
   {
    "duration": 17,
    "start_time": "2022-02-18T09:33:11.015Z"
   },
   {
    "duration": 8,
    "start_time": "2022-02-18T09:33:22.456Z"
   },
   {
    "duration": 5,
    "start_time": "2022-02-18T09:53:54.992Z"
   },
   {
    "duration": 15,
    "start_time": "2022-02-18T09:54:06.777Z"
   },
   {
    "duration": 9,
    "start_time": "2022-02-18T09:54:27.327Z"
   },
   {
    "duration": 608,
    "start_time": "2022-02-18T09:54:46.900Z"
   },
   {
    "duration": 91,
    "start_time": "2022-02-18T09:54:47.510Z"
   },
   {
    "duration": 10,
    "start_time": "2022-02-18T09:54:47.603Z"
   },
   {
    "duration": 8,
    "start_time": "2022-02-18T09:54:47.614Z"
   },
   {
    "duration": 47,
    "start_time": "2022-02-18T09:54:47.623Z"
   },
   {
    "duration": 6,
    "start_time": "2022-02-18T09:54:47.671Z"
   },
   {
    "duration": 12,
    "start_time": "2022-02-18T09:54:47.678Z"
   },
   {
    "duration": 33,
    "start_time": "2022-02-18T09:54:47.692Z"
   },
   {
    "duration": 4,
    "start_time": "2022-02-18T09:54:47.727Z"
   },
   {
    "duration": 15,
    "start_time": "2022-02-18T09:54:47.732Z"
   },
   {
    "duration": 10,
    "start_time": "2022-02-18T09:54:47.758Z"
   },
   {
    "duration": 3,
    "start_time": "2022-02-18T09:54:47.770Z"
   },
   {
    "duration": 10,
    "start_time": "2022-02-18T09:54:47.775Z"
   },
   {
    "duration": 7,
    "start_time": "2022-02-18T09:54:47.787Z"
   },
   {
    "duration": 13,
    "start_time": "2022-02-18T09:54:47.796Z"
   },
   {
    "duration": 9,
    "start_time": "2022-02-18T09:54:47.810Z"
   },
   {
    "duration": 8,
    "start_time": "2022-02-18T09:54:47.821Z"
   },
   {
    "duration": 43,
    "start_time": "2022-02-18T09:54:47.830Z"
   },
   {
    "duration": 6,
    "start_time": "2022-02-18T09:54:47.875Z"
   },
   {
    "duration": 12,
    "start_time": "2022-02-18T09:54:47.883Z"
   },
   {
    "duration": 9,
    "start_time": "2022-02-18T09:54:47.897Z"
   },
   {
    "duration": 386,
    "start_time": "2022-02-18T09:58:53.116Z"
   },
   {
    "duration": 528,
    "start_time": "2022-02-18T09:59:12.395Z"
   },
   {
    "duration": 595,
    "start_time": "2022-02-18T09:59:49.105Z"
   },
   {
    "duration": 89,
    "start_time": "2022-02-18T09:59:49.702Z"
   },
   {
    "duration": 9,
    "start_time": "2022-02-18T09:59:49.793Z"
   },
   {
    "duration": 18,
    "start_time": "2022-02-18T09:59:49.804Z"
   },
   {
    "duration": 39,
    "start_time": "2022-02-18T09:59:49.823Z"
   },
   {
    "duration": 5,
    "start_time": "2022-02-18T09:59:49.864Z"
   },
   {
    "duration": 15,
    "start_time": "2022-02-18T09:59:49.871Z"
   },
   {
    "duration": 45,
    "start_time": "2022-02-18T09:59:49.889Z"
   },
   {
    "duration": 14,
    "start_time": "2022-02-18T09:59:49.936Z"
   },
   {
    "duration": 26,
    "start_time": "2022-02-18T09:59:49.952Z"
   },
   {
    "duration": 20,
    "start_time": "2022-02-18T09:59:49.980Z"
   },
   {
    "duration": 6,
    "start_time": "2022-02-18T09:59:50.001Z"
   },
   {
    "duration": 27,
    "start_time": "2022-02-18T09:59:50.008Z"
   },
   {
    "duration": 25,
    "start_time": "2022-02-18T09:59:50.037Z"
   },
   {
    "duration": 39,
    "start_time": "2022-02-18T09:59:50.064Z"
   },
   {
    "duration": 15,
    "start_time": "2022-02-18T09:59:50.105Z"
   },
   {
    "duration": 25,
    "start_time": "2022-02-18T09:59:50.122Z"
   },
   {
    "duration": 26,
    "start_time": "2022-02-18T09:59:50.148Z"
   },
   {
    "duration": 24,
    "start_time": "2022-02-18T09:59:50.176Z"
   },
   {
    "duration": 27,
    "start_time": "2022-02-18T09:59:50.202Z"
   },
   {
    "duration": 20,
    "start_time": "2022-02-18T09:59:50.231Z"
   },
   {
    "duration": 571,
    "start_time": "2022-02-18T09:59:50.253Z"
   },
   {
    "duration": 581,
    "start_time": "2022-02-18T11:00:26.072Z"
   },
   {
    "duration": 96,
    "start_time": "2022-02-18T11:00:26.656Z"
   },
   {
    "duration": 12,
    "start_time": "2022-02-18T11:00:26.754Z"
   },
   {
    "duration": 9,
    "start_time": "2022-02-18T11:00:26.768Z"
   },
   {
    "duration": 28,
    "start_time": "2022-02-18T11:00:26.779Z"
   },
   {
    "duration": 6,
    "start_time": "2022-02-18T11:00:26.809Z"
   },
   {
    "duration": 8,
    "start_time": "2022-02-18T11:00:26.817Z"
   },
   {
    "duration": 43,
    "start_time": "2022-02-18T11:00:26.827Z"
   },
   {
    "duration": 6,
    "start_time": "2022-02-18T11:00:26.873Z"
   },
   {
    "duration": 16,
    "start_time": "2022-02-18T11:00:26.881Z"
   },
   {
    "duration": 5,
    "start_time": "2022-02-18T11:00:26.898Z"
   },
   {
    "duration": 10,
    "start_time": "2022-02-18T11:00:26.905Z"
   },
   {
    "duration": 43,
    "start_time": "2022-02-18T11:00:26.917Z"
   },
   {
    "duration": 5,
    "start_time": "2022-02-18T11:00:26.962Z"
   },
   {
    "duration": 8,
    "start_time": "2022-02-18T11:00:26.968Z"
   },
   {
    "duration": 9,
    "start_time": "2022-02-18T11:00:26.977Z"
   },
   {
    "duration": 11,
    "start_time": "2022-02-18T11:00:26.987Z"
   },
   {
    "duration": 9,
    "start_time": "2022-02-18T11:00:27.000Z"
   },
   {
    "duration": 7,
    "start_time": "2022-02-18T11:00:27.010Z"
   },
   {
    "duration": 44,
    "start_time": "2022-02-18T11:00:27.019Z"
   },
   {
    "duration": 8,
    "start_time": "2022-02-18T11:00:27.065Z"
   },
   {
    "duration": 10,
    "start_time": "2022-02-18T11:00:27.075Z"
   },
   {
    "duration": 8,
    "start_time": "2022-02-18T11:00:27.087Z"
   },
   {
    "duration": 552,
    "start_time": "2022-02-18T11:00:27.097Z"
   },
   {
    "duration": 31,
    "start_time": "2022-02-18T11:08:26.387Z"
   },
   {
    "duration": 13,
    "start_time": "2022-02-18T11:08:38.880Z"
   },
   {
    "duration": 12,
    "start_time": "2022-02-18T11:09:11.976Z"
   },
   {
    "duration": 10,
    "start_time": "2022-02-18T11:09:34.398Z"
   },
   {
    "duration": 10,
    "start_time": "2022-02-18T11:09:46.588Z"
   },
   {
    "duration": 10,
    "start_time": "2022-02-18T11:10:20.981Z"
   },
   {
    "duration": 10,
    "start_time": "2022-02-18T11:10:56.282Z"
   },
   {
    "duration": 12,
    "start_time": "2022-02-18T11:11:07.329Z"
   },
   {
    "duration": 11,
    "start_time": "2022-02-18T11:11:20.011Z"
   },
   {
    "duration": 11,
    "start_time": "2022-02-18T11:12:35.896Z"
   },
   {
    "duration": 38,
    "start_time": "2022-02-18T11:12:57.846Z"
   },
   {
    "duration": 30,
    "start_time": "2022-02-18T11:14:57.741Z"
   },
   {
    "duration": 30,
    "start_time": "2022-02-18T11:15:51.018Z"
   },
   {
    "duration": 591,
    "start_time": "2022-02-18T11:16:31.774Z"
   },
   {
    "duration": 104,
    "start_time": "2022-02-18T11:16:32.367Z"
   },
   {
    "duration": 17,
    "start_time": "2022-02-18T11:16:32.474Z"
   },
   {
    "duration": 9,
    "start_time": "2022-02-18T11:16:32.493Z"
   },
   {
    "duration": 61,
    "start_time": "2022-02-18T11:16:32.504Z"
   },
   {
    "duration": 6,
    "start_time": "2022-02-18T11:16:32.567Z"
   },
   {
    "duration": 9,
    "start_time": "2022-02-18T11:16:32.575Z"
   },
   {
    "duration": 27,
    "start_time": "2022-02-18T11:16:32.587Z"
   },
   {
    "duration": 5,
    "start_time": "2022-02-18T11:16:32.616Z"
   },
   {
    "duration": 37,
    "start_time": "2022-02-18T11:16:32.623Z"
   },
   {
    "duration": 9,
    "start_time": "2022-02-18T11:16:32.662Z"
   },
   {
    "duration": 51,
    "start_time": "2022-02-18T11:16:32.673Z"
   },
   {
    "duration": 2,
    "start_time": "2022-02-18T11:16:32.725Z"
   },
   {
    "duration": 11,
    "start_time": "2022-02-18T11:16:32.729Z"
   },
   {
    "duration": 18,
    "start_time": "2022-02-18T11:16:32.742Z"
   },
   {
    "duration": 9,
    "start_time": "2022-02-18T11:16:32.761Z"
   },
   {
    "duration": 16,
    "start_time": "2022-02-18T11:16:32.771Z"
   },
   {
    "duration": 9,
    "start_time": "2022-02-18T11:16:32.789Z"
   },
   {
    "duration": 14,
    "start_time": "2022-02-18T11:16:32.800Z"
   },
   {
    "duration": 8,
    "start_time": "2022-02-18T11:16:32.817Z"
   },
   {
    "duration": 37,
    "start_time": "2022-02-18T11:16:32.827Z"
   },
   {
    "duration": 8,
    "start_time": "2022-02-18T11:16:32.866Z"
   },
   {
    "duration": 543,
    "start_time": "2022-02-18T11:16:32.877Z"
   },
   {
    "duration": 43,
    "start_time": "2022-02-18T11:21:48.061Z"
   },
   {
    "duration": 42,
    "start_time": "2022-02-18T11:22:14.721Z"
   },
   {
    "duration": 10,
    "start_time": "2022-02-18T12:40:45.083Z"
   },
   {
    "duration": 331,
    "start_time": "2022-02-19T08:04:41.037Z"
   },
   {
    "duration": 721,
    "start_time": "2022-02-19T08:05:10.408Z"
   },
   {
    "duration": 125,
    "start_time": "2022-02-19T08:05:11.132Z"
   },
   {
    "duration": 15,
    "start_time": "2022-02-19T08:05:11.262Z"
   },
   {
    "duration": 10,
    "start_time": "2022-02-19T08:05:11.280Z"
   },
   {
    "duration": 68,
    "start_time": "2022-02-19T08:05:11.293Z"
   },
   {
    "duration": 10,
    "start_time": "2022-02-19T08:05:11.364Z"
   },
   {
    "duration": 10,
    "start_time": "2022-02-19T08:05:11.377Z"
   },
   {
    "duration": 424,
    "start_time": "2022-02-19T08:05:11.391Z"
   },
   {
    "duration": -877,
    "start_time": "2022-02-19T08:05:12.695Z"
   },
   {
    "duration": -878,
    "start_time": "2022-02-19T08:05:12.697Z"
   },
   {
    "duration": -880,
    "start_time": "2022-02-19T08:05:12.701Z"
   },
   {
    "duration": -881,
    "start_time": "2022-02-19T08:05:12.703Z"
   },
   {
    "duration": -882,
    "start_time": "2022-02-19T08:05:12.706Z"
   },
   {
    "duration": -883,
    "start_time": "2022-02-19T08:05:12.708Z"
   },
   {
    "duration": -884,
    "start_time": "2022-02-19T08:05:12.710Z"
   },
   {
    "duration": -885,
    "start_time": "2022-02-19T08:05:12.713Z"
   },
   {
    "duration": -886,
    "start_time": "2022-02-19T08:05:12.715Z"
   },
   {
    "duration": -887,
    "start_time": "2022-02-19T08:05:12.717Z"
   },
   {
    "duration": -888,
    "start_time": "2022-02-19T08:05:12.720Z"
   },
   {
    "duration": -889,
    "start_time": "2022-02-19T08:05:12.722Z"
   },
   {
    "duration": -889,
    "start_time": "2022-02-19T08:05:12.724Z"
   },
   {
    "duration": -891,
    "start_time": "2022-02-19T08:05:12.727Z"
   },
   {
    "duration": -894,
    "start_time": "2022-02-19T08:05:12.731Z"
   },
   {
    "duration": -894,
    "start_time": "2022-02-19T08:05:12.733Z"
   },
   {
    "duration": 55,
    "start_time": "2022-02-19T08:05:29.525Z"
   },
   {
    "duration": 59,
    "start_time": "2022-02-19T08:06:24.584Z"
   },
   {
    "duration": 288,
    "start_time": "2022-02-19T08:23:28.256Z"
   },
   {
    "duration": 240,
    "start_time": "2022-02-19T08:23:55.069Z"
   },
   {
    "duration": 198,
    "start_time": "2022-02-19T08:24:35.408Z"
   },
   {
    "duration": 199,
    "start_time": "2022-02-19T08:25:57.494Z"
   },
   {
    "duration": 178,
    "start_time": "2022-02-19T08:26:10.290Z"
   },
   {
    "duration": 196,
    "start_time": "2022-02-19T08:26:19.894Z"
   },
   {
    "duration": 224,
    "start_time": "2022-02-19T08:27:10.810Z"
   },
   {
    "duration": 937,
    "start_time": "2022-02-19T08:27:47.718Z"
   },
   {
    "duration": 130,
    "start_time": "2022-02-19T08:27:48.658Z"
   },
   {
    "duration": 15,
    "start_time": "2022-02-19T08:27:48.791Z"
   },
   {
    "duration": 10,
    "start_time": "2022-02-19T08:27:48.809Z"
   },
   {
    "duration": 64,
    "start_time": "2022-02-19T08:27:48.822Z"
   },
   {
    "duration": 8,
    "start_time": "2022-02-19T08:27:48.888Z"
   },
   {
    "duration": 12,
    "start_time": "2022-02-19T08:27:48.899Z"
   },
   {
    "duration": 285,
    "start_time": "2022-02-19T08:27:48.914Z"
   },
   {
    "duration": 7,
    "start_time": "2022-02-19T08:27:49.202Z"
   },
   {
    "duration": 14,
    "start_time": "2022-02-19T08:27:49.212Z"
   },
   {
    "duration": 36,
    "start_time": "2022-02-19T08:27:49.228Z"
   },
   {
    "duration": 69,
    "start_time": "2022-02-19T08:27:49.266Z"
   },
   {
    "duration": 25,
    "start_time": "2022-02-19T08:27:49.337Z"
   },
   {
    "duration": 7,
    "start_time": "2022-02-19T08:27:49.364Z"
   },
   {
    "duration": 10,
    "start_time": "2022-02-19T08:27:49.373Z"
   },
   {
    "duration": 12,
    "start_time": "2022-02-19T08:27:49.386Z"
   },
   {
    "duration": 15,
    "start_time": "2022-02-19T08:27:49.400Z"
   },
   {
    "duration": 51,
    "start_time": "2022-02-19T08:27:49.418Z"
   },
   {
    "duration": 11,
    "start_time": "2022-02-19T08:27:49.472Z"
   },
   {
    "duration": 11,
    "start_time": "2022-02-19T08:27:49.486Z"
   },
   {
    "duration": 11,
    "start_time": "2022-02-19T08:27:49.499Z"
   },
   {
    "duration": 55,
    "start_time": "2022-02-19T08:27:49.512Z"
   },
   {
    "duration": 935,
    "start_time": "2022-02-19T08:27:49.569Z"
   },
   {
    "duration": 218,
    "start_time": "2022-02-19T08:29:29.216Z"
   },
   {
    "duration": 814,
    "start_time": "2022-02-19T08:30:11.236Z"
   },
   {
    "duration": 711,
    "start_time": "2022-02-19T08:31:35.878Z"
   },
   {
    "duration": 39,
    "start_time": "2022-02-19T08:32:07.690Z"
   },
   {
    "duration": 8,
    "start_time": "2022-02-19T08:33:07.529Z"
   },
   {
    "duration": 62,
    "start_time": "2022-02-19T08:49:28.513Z"
   },
   {
    "duration": 410,
    "start_time": "2022-02-19T08:57:27.016Z"
   },
   {
    "duration": 402,
    "start_time": "2022-02-19T08:57:37.808Z"
   },
   {
    "duration": 415,
    "start_time": "2022-02-19T08:58:16.081Z"
   },
   {
    "duration": 364,
    "start_time": "2022-02-19T08:58:22.493Z"
   },
   {
    "duration": 410,
    "start_time": "2022-02-19T08:58:27.107Z"
   },
   {
    "duration": 470,
    "start_time": "2022-02-19T08:58:34.948Z"
   },
   {
    "duration": 312,
    "start_time": "2022-02-19T08:58:50.084Z"
   },
   {
    "duration": 219,
    "start_time": "2022-02-19T08:59:20.971Z"
   },
   {
    "duration": 261,
    "start_time": "2022-02-19T09:00:02.494Z"
   },
   {
    "duration": 574,
    "start_time": "2022-02-19T09:01:57.745Z"
   },
   {
    "duration": 257,
    "start_time": "2022-02-19T09:02:12.995Z"
   },
   {
    "duration": 288,
    "start_time": "2022-02-19T09:02:47.536Z"
   },
   {
    "duration": 320,
    "start_time": "2022-02-19T09:03:41.473Z"
   },
   {
    "duration": 637,
    "start_time": "2022-02-19T09:03:56.685Z"
   },
   {
    "duration": 449,
    "start_time": "2022-02-19T09:04:14.188Z"
   },
   {
    "duration": 568,
    "start_time": "2022-02-19T09:04:36.493Z"
   },
   {
    "duration": 298,
    "start_time": "2022-02-19T09:05:20.141Z"
   },
   {
    "duration": 527,
    "start_time": "2022-02-19T09:05:33.455Z"
   },
   {
    "duration": 595,
    "start_time": "2022-02-19T15:49:10.107Z"
   },
   {
    "duration": 103,
    "start_time": "2022-02-19T15:49:10.704Z"
   },
   {
    "duration": 20,
    "start_time": "2022-02-19T15:49:10.809Z"
   },
   {
    "duration": 8,
    "start_time": "2022-02-19T15:49:10.831Z"
   },
   {
    "duration": 28,
    "start_time": "2022-02-19T15:49:10.841Z"
   },
   {
    "duration": 7,
    "start_time": "2022-02-19T15:49:10.872Z"
   },
   {
    "duration": 37,
    "start_time": "2022-02-19T15:49:10.881Z"
   },
   {
    "duration": 137,
    "start_time": "2022-02-19T15:49:10.921Z"
   },
   {
    "duration": 4,
    "start_time": "2022-02-19T15:49:11.060Z"
   },
   {
    "duration": 11,
    "start_time": "2022-02-19T15:49:11.066Z"
   },
   {
    "duration": 9,
    "start_time": "2022-02-19T15:49:11.078Z"
   },
   {
    "duration": 277,
    "start_time": "2022-02-19T15:49:11.088Z"
   },
   {
    "duration": 323,
    "start_time": "2022-02-19T15:49:11.367Z"
   },
   {
    "duration": 89,
    "start_time": "2022-02-19T15:49:11.692Z"
   },
   {
    "duration": 2,
    "start_time": "2022-02-19T15:49:11.782Z"
   },
   {
    "duration": 5,
    "start_time": "2022-02-19T15:49:11.786Z"
   },
   {
    "duration": 9,
    "start_time": "2022-02-19T15:49:11.792Z"
   },
   {
    "duration": 22,
    "start_time": "2022-02-19T15:49:11.803Z"
   },
   {
    "duration": 9,
    "start_time": "2022-02-19T15:49:11.827Z"
   },
   {
    "duration": 6,
    "start_time": "2022-02-19T15:49:11.838Z"
   },
   {
    "duration": 8,
    "start_time": "2022-02-19T15:49:11.846Z"
   },
   {
    "duration": 9,
    "start_time": "2022-02-19T15:49:11.855Z"
   },
   {
    "duration": 8,
    "start_time": "2022-02-19T15:49:11.866Z"
   },
   {
    "duration": 45,
    "start_time": "2022-02-19T15:49:11.875Z"
   },
   {
    "duration": 568,
    "start_time": "2022-02-19T15:49:11.921Z"
   },
   {
    "duration": 515,
    "start_time": "2022-02-19T15:50:49.560Z"
   },
   {
    "duration": 87,
    "start_time": "2022-02-19T15:50:50.077Z"
   },
   {
    "duration": 11,
    "start_time": "2022-02-19T15:50:50.167Z"
   },
   {
    "duration": 8,
    "start_time": "2022-02-19T15:50:50.180Z"
   },
   {
    "duration": 46,
    "start_time": "2022-02-19T15:50:50.189Z"
   },
   {
    "duration": 6,
    "start_time": "2022-02-19T15:50:50.237Z"
   },
   {
    "duration": 15,
    "start_time": "2022-02-19T15:50:50.245Z"
   },
   {
    "duration": 133,
    "start_time": "2022-02-19T15:50:50.262Z"
   },
   {
    "duration": 5,
    "start_time": "2022-02-19T15:50:50.397Z"
   },
   {
    "duration": 18,
    "start_time": "2022-02-19T15:50:50.403Z"
   },
   {
    "duration": 8,
    "start_time": "2022-02-19T15:50:50.422Z"
   },
   {
    "duration": 252,
    "start_time": "2022-02-19T15:50:50.431Z"
   },
   {
    "duration": 325,
    "start_time": "2022-02-19T15:50:50.684Z"
   },
   {
    "duration": 82,
    "start_time": "2022-02-19T15:50:51.011Z"
   },
   {
    "duration": 2,
    "start_time": "2022-02-19T15:50:51.095Z"
   },
   {
    "duration": 4,
    "start_time": "2022-02-19T15:50:51.099Z"
   },
   {
    "duration": 18,
    "start_time": "2022-02-19T15:50:51.104Z"
   },
   {
    "duration": 8,
    "start_time": "2022-02-19T15:50:51.124Z"
   },
   {
    "duration": 8,
    "start_time": "2022-02-19T15:50:51.134Z"
   },
   {
    "duration": 5,
    "start_time": "2022-02-19T15:50:51.144Z"
   },
   {
    "duration": 7,
    "start_time": "2022-02-19T15:50:51.151Z"
   },
   {
    "duration": 13,
    "start_time": "2022-02-19T15:50:51.160Z"
   },
   {
    "duration": 6,
    "start_time": "2022-02-19T15:50:51.176Z"
   },
   {
    "duration": 36,
    "start_time": "2022-02-19T15:50:51.184Z"
   },
   {
    "duration": 3,
    "start_time": "2022-02-19T15:50:51.221Z"
   },
   {
    "duration": 717,
    "start_time": "2022-02-20T10:07:53.813Z"
   },
   {
    "duration": 101,
    "start_time": "2022-02-20T10:07:54.533Z"
   },
   {
    "duration": 12,
    "start_time": "2022-02-20T10:07:54.636Z"
   },
   {
    "duration": 8,
    "start_time": "2022-02-20T10:07:54.650Z"
   },
   {
    "duration": 51,
    "start_time": "2022-02-20T10:07:54.659Z"
   },
   {
    "duration": 7,
    "start_time": "2022-02-20T10:07:54.712Z"
   },
   {
    "duration": 8,
    "start_time": "2022-02-20T10:07:54.721Z"
   },
   {
    "duration": 164,
    "start_time": "2022-02-20T10:07:54.732Z"
   },
   {
    "duration": 11,
    "start_time": "2022-02-20T10:07:54.898Z"
   },
   {
    "duration": 19,
    "start_time": "2022-02-20T10:07:54.911Z"
   },
   {
    "duration": 11,
    "start_time": "2022-02-20T10:07:54.931Z"
   },
   {
    "duration": 291,
    "start_time": "2022-02-20T10:07:54.943Z"
   },
   {
    "duration": 324,
    "start_time": "2022-02-20T10:07:55.236Z"
   },
   {
    "duration": 91,
    "start_time": "2022-02-20T10:07:55.561Z"
   },
   {
    "duration": 3,
    "start_time": "2022-02-20T10:07:55.653Z"
   },
   {
    "duration": 6,
    "start_time": "2022-02-20T10:07:55.657Z"
   },
   {
    "duration": 13,
    "start_time": "2022-02-20T10:07:55.665Z"
   },
   {
    "duration": 11,
    "start_time": "2022-02-20T10:07:55.679Z"
   },
   {
    "duration": 11,
    "start_time": "2022-02-20T10:07:55.707Z"
   },
   {
    "duration": 7,
    "start_time": "2022-02-20T10:07:55.720Z"
   },
   {
    "duration": 13,
    "start_time": "2022-02-20T10:07:55.729Z"
   },
   {
    "duration": 9,
    "start_time": "2022-02-20T10:07:55.744Z"
   },
   {
    "duration": 8,
    "start_time": "2022-02-20T10:07:55.756Z"
   },
   {
    "duration": 45,
    "start_time": "2022-02-20T10:07:55.766Z"
   },
   {
    "duration": 2,
    "start_time": "2022-02-20T10:07:55.813Z"
   },
   {
    "duration": 5,
    "start_time": "2022-02-20T10:10:33.510Z"
   },
   {
    "duration": 5,
    "start_time": "2022-02-20T10:10:35.264Z"
   },
   {
    "duration": 9,
    "start_time": "2022-02-20T10:15:43.710Z"
   },
   {
    "duration": 10,
    "start_time": "2022-02-20T10:25:23.779Z"
   },
   {
    "duration": 39,
    "start_time": "2022-02-20T10:26:47.793Z"
   },
   {
    "duration": 8,
    "start_time": "2022-02-20T10:27:09.450Z"
   },
   {
    "duration": 12,
    "start_time": "2022-02-20T10:27:16.797Z"
   },
   {
    "duration": 11,
    "start_time": "2022-02-20T10:27:30.973Z"
   },
   {
    "duration": 10,
    "start_time": "2022-02-20T10:27:41.668Z"
   },
   {
    "duration": 10,
    "start_time": "2022-02-20T10:30:10.057Z"
   },
   {
    "duration": 10,
    "start_time": "2022-02-20T10:30:57.707Z"
   },
   {
    "duration": 443,
    "start_time": "2022-02-20T12:11:03.486Z"
   },
   {
    "duration": 3,
    "start_time": "2022-02-20T12:11:26.227Z"
   },
   {
    "duration": 3,
    "start_time": "2022-02-20T12:11:31.368Z"
   },
   {
    "duration": 346,
    "start_time": "2022-02-20T12:11:37.595Z"
   },
   {
    "duration": 301,
    "start_time": "2022-02-20T12:12:26.857Z"
   },
   {
    "duration": 7,
    "start_time": "2022-02-20T12:12:48.924Z"
   },
   {
    "duration": 5,
    "start_time": "2022-02-20T12:12:51.378Z"
   },
   {
    "duration": 5,
    "start_time": "2022-02-20T12:13:02.420Z"
   },
   {
    "duration": 5,
    "start_time": "2022-02-20T12:13:14.130Z"
   },
   {
    "duration": 5,
    "start_time": "2022-02-20T12:13:18.736Z"
   },
   {
    "duration": 5,
    "start_time": "2022-02-20T12:13:24.567Z"
   },
   {
    "duration": 5,
    "start_time": "2022-02-20T12:23:59.697Z"
   },
   {
    "duration": 10,
    "start_time": "2022-02-20T12:24:26.011Z"
   },
   {
    "duration": 455,
    "start_time": "2022-02-20T12:24:32.380Z"
   },
   {
    "duration": 7,
    "start_time": "2022-02-20T12:26:21.724Z"
   },
   {
    "duration": 15,
    "start_time": "2022-02-20T12:26:30.976Z"
   },
   {
    "duration": 11,
    "start_time": "2022-02-20T12:29:20.290Z"
   },
   {
    "duration": 10,
    "start_time": "2022-02-20T12:29:35.702Z"
   },
   {
    "duration": 12,
    "start_time": "2022-02-20T12:30:05.877Z"
   },
   {
    "duration": 11,
    "start_time": "2022-02-20T12:30:06.623Z"
   },
   {
    "duration": 6,
    "start_time": "2022-02-20T12:39:38.805Z"
   },
   {
    "duration": 4,
    "start_time": "2022-02-20T12:39:53.068Z"
   },
   {
    "duration": 5,
    "start_time": "2022-02-20T12:40:06.750Z"
   },
   {
    "duration": 5,
    "start_time": "2022-02-20T12:40:36.897Z"
   },
   {
    "duration": 29,
    "start_time": "2022-02-20T12:41:04.676Z"
   },
   {
    "duration": 668,
    "start_time": "2022-02-20T12:42:19.981Z"
   },
   {
    "duration": 107,
    "start_time": "2022-02-20T12:42:20.652Z"
   },
   {
    "duration": 12,
    "start_time": "2022-02-20T12:42:20.761Z"
   },
   {
    "duration": 9,
    "start_time": "2022-02-20T12:42:20.776Z"
   },
   {
    "duration": 45,
    "start_time": "2022-02-20T12:42:20.787Z"
   },
   {
    "duration": 6,
    "start_time": "2022-02-20T12:42:20.834Z"
   },
   {
    "duration": 11,
    "start_time": "2022-02-20T12:42:20.842Z"
   },
   {
    "duration": 180,
    "start_time": "2022-02-20T12:42:20.856Z"
   },
   {
    "duration": 9,
    "start_time": "2022-02-20T12:42:21.040Z"
   },
   {
    "duration": 19,
    "start_time": "2022-02-20T12:42:21.051Z"
   },
   {
    "duration": 35,
    "start_time": "2022-02-20T12:42:21.072Z"
   },
   {
    "duration": 4,
    "start_time": "2022-02-20T12:42:21.110Z"
   },
   {
    "duration": 27,
    "start_time": "2022-02-20T12:42:21.116Z"
   },
   {
    "duration": 26,
    "start_time": "2022-02-20T12:42:21.147Z"
   },
   {
    "duration": 10,
    "start_time": "2022-02-20T12:42:21.175Z"
   },
   {
    "duration": 20,
    "start_time": "2022-02-20T12:42:21.188Z"
   },
   {
    "duration": 12,
    "start_time": "2022-02-20T12:42:21.211Z"
   },
   {
    "duration": 31,
    "start_time": "2022-02-20T12:42:21.225Z"
   },
   {
    "duration": 4,
    "start_time": "2022-02-20T12:42:21.258Z"
   },
   {
    "duration": 46,
    "start_time": "2022-02-20T12:42:21.265Z"
   },
   {
    "duration": 13,
    "start_time": "2022-02-20T12:42:21.313Z"
   },
   {
    "duration": 10,
    "start_time": "2022-02-20T12:42:21.339Z"
   },
   {
    "duration": 16,
    "start_time": "2022-02-20T12:42:21.352Z"
   },
   {
    "duration": 9,
    "start_time": "2022-02-20T12:42:21.370Z"
   },
   {
    "duration": 27,
    "start_time": "2022-02-20T12:42:21.381Z"
   },
   {
    "duration": 10,
    "start_time": "2022-02-20T12:42:21.410Z"
   },
   {
    "duration": 10,
    "start_time": "2022-02-20T12:42:21.421Z"
   },
   {
    "duration": 16,
    "start_time": "2022-02-20T12:42:21.433Z"
   },
   {
    "duration": 10,
    "start_time": "2022-02-20T12:42:21.451Z"
   },
   {
    "duration": 7,
    "start_time": "2022-02-20T12:42:21.463Z"
   },
   {
    "duration": 6,
    "start_time": "2022-02-20T12:42:35.440Z"
   },
   {
    "duration": 5,
    "start_time": "2022-02-20T12:42:41.480Z"
   },
   {
    "duration": 8,
    "start_time": "2022-02-20T12:43:06.041Z"
   },
   {
    "duration": 28,
    "start_time": "2022-02-20T12:43:10.405Z"
   },
   {
    "duration": 5,
    "start_time": "2022-02-20T12:43:23.714Z"
   },
   {
    "duration": 5,
    "start_time": "2022-02-20T12:43:30.629Z"
   },
   {
    "duration": 5,
    "start_time": "2022-02-20T12:44:42.004Z"
   },
   {
    "duration": 10,
    "start_time": "2022-02-20T12:45:52.173Z"
   },
   {
    "duration": 10,
    "start_time": "2022-02-20T12:45:58.821Z"
   },
   {
    "duration": 337,
    "start_time": "2022-02-20T12:47:34.171Z"
   },
   {
    "duration": 268,
    "start_time": "2022-02-20T12:47:43.769Z"
   },
   {
    "duration": 8,
    "start_time": "2022-02-20T12:48:15.356Z"
   },
   {
    "duration": 12,
    "start_time": "2022-02-20T12:48:40.763Z"
   },
   {
    "duration": 253,
    "start_time": "2022-02-20T12:48:57.343Z"
   },
   {
    "duration": 1232,
    "start_time": "2022-02-20T12:49:17.607Z"
   },
   {
    "duration": 1248,
    "start_time": "2022-02-20T12:49:25.469Z"
   },
   {
    "duration": 1110,
    "start_time": "2022-02-20T12:49:29.737Z"
   },
   {
    "duration": 6594,
    "start_time": "2022-02-20T12:49:38.962Z"
   },
   {
    "duration": 25,
    "start_time": "2022-02-20T12:54:12.674Z"
   },
   {
    "duration": 17,
    "start_time": "2022-02-20T12:55:27.951Z"
   },
   {
    "duration": 14,
    "start_time": "2022-02-20T12:55:48.752Z"
   },
   {
    "duration": 18,
    "start_time": "2022-02-20T13:25:34.921Z"
   },
   {
    "duration": 23,
    "start_time": "2022-02-20T13:27:18.905Z"
   },
   {
    "duration": 14,
    "start_time": "2022-02-20T13:27:55.028Z"
   },
   {
    "duration": 11,
    "start_time": "2022-02-20T14:07:25.197Z"
   },
   {
    "duration": 5,
    "start_time": "2022-02-20T14:16:31.767Z"
   },
   {
    "duration": 714,
    "start_time": "2022-02-20T14:17:13.837Z"
   },
   {
    "duration": 127,
    "start_time": "2022-02-20T14:17:14.553Z"
   },
   {
    "duration": 26,
    "start_time": "2022-02-20T14:17:14.683Z"
   },
   {
    "duration": 11,
    "start_time": "2022-02-20T14:17:14.712Z"
   },
   {
    "duration": 63,
    "start_time": "2022-02-20T14:17:14.725Z"
   },
   {
    "duration": 18,
    "start_time": "2022-02-20T14:17:14.791Z"
   },
   {
    "duration": 37,
    "start_time": "2022-02-20T14:17:14.811Z"
   },
   {
    "duration": 215,
    "start_time": "2022-02-20T14:17:14.850Z"
   },
   {
    "duration": 9,
    "start_time": "2022-02-20T14:17:15.083Z"
   },
   {
    "duration": 54,
    "start_time": "2022-02-20T14:17:15.095Z"
   },
   {
    "duration": 39,
    "start_time": "2022-02-20T14:17:15.151Z"
   },
   {
    "duration": 29,
    "start_time": "2022-02-20T14:17:15.192Z"
   },
   {
    "duration": 31,
    "start_time": "2022-02-20T14:17:15.223Z"
   },
   {
    "duration": 52,
    "start_time": "2022-02-20T14:17:15.256Z"
   },
   {
    "duration": 16,
    "start_time": "2022-02-20T14:17:15.310Z"
   },
   {
    "duration": 30,
    "start_time": "2022-02-20T14:17:15.328Z"
   },
   {
    "duration": 37,
    "start_time": "2022-02-20T14:17:15.360Z"
   },
   {
    "duration": 36,
    "start_time": "2022-02-20T14:17:15.399Z"
   },
   {
    "duration": 56,
    "start_time": "2022-02-20T14:17:15.437Z"
   },
   {
    "duration": 27,
    "start_time": "2022-02-20T14:17:15.495Z"
   },
   {
    "duration": 30,
    "start_time": "2022-02-20T14:17:15.524Z"
   },
   {
    "duration": 33,
    "start_time": "2022-02-20T14:17:15.556Z"
   },
   {
    "duration": 26,
    "start_time": "2022-02-20T14:17:15.592Z"
   },
   {
    "duration": 37,
    "start_time": "2022-02-20T14:17:15.620Z"
   },
   {
    "duration": 37,
    "start_time": "2022-02-20T14:17:15.660Z"
   },
   {
    "duration": 23,
    "start_time": "2022-02-20T14:17:15.700Z"
   },
   {
    "duration": 16,
    "start_time": "2022-02-20T14:17:15.727Z"
   },
   {
    "duration": 12,
    "start_time": "2022-02-20T14:17:15.746Z"
   },
   {
    "duration": 43,
    "start_time": "2022-02-20T14:18:06.865Z"
   },
   {
    "duration": 747,
    "start_time": "2022-02-21T07:27:42.275Z"
   },
   {
    "duration": 144,
    "start_time": "2022-02-21T07:27:43.027Z"
   },
   {
    "duration": 16,
    "start_time": "2022-02-21T07:27:43.177Z"
   },
   {
    "duration": 31,
    "start_time": "2022-02-21T07:27:43.196Z"
   },
   {
    "duration": 45,
    "start_time": "2022-02-21T07:27:43.230Z"
   },
   {
    "duration": 9,
    "start_time": "2022-02-21T07:27:43.278Z"
   },
   {
    "duration": 39,
    "start_time": "2022-02-21T07:27:43.293Z"
   },
   {
    "duration": 240,
    "start_time": "2022-02-21T07:27:43.335Z"
   },
   {
    "duration": 9,
    "start_time": "2022-02-21T07:27:43.577Z"
   },
   {
    "duration": 37,
    "start_time": "2022-02-21T07:27:43.589Z"
   },
   {
    "duration": 12,
    "start_time": "2022-02-21T07:27:43.629Z"
   },
   {
    "duration": 7,
    "start_time": "2022-02-21T07:27:43.644Z"
   },
   {
    "duration": 10,
    "start_time": "2022-02-21T07:27:43.653Z"
   },
   {
    "duration": 60,
    "start_time": "2022-02-21T07:27:43.666Z"
   },
   {
    "duration": 5,
    "start_time": "2022-02-21T07:27:43.729Z"
   },
   {
    "duration": 11,
    "start_time": "2022-02-21T07:27:43.736Z"
   },
   {
    "duration": 13,
    "start_time": "2022-02-21T07:27:43.750Z"
   },
   {
    "duration": 3,
    "start_time": "2022-02-21T07:27:43.765Z"
   },
   {
    "duration": 17,
    "start_time": "2022-02-21T07:27:43.771Z"
   },
   {
    "duration": 12,
    "start_time": "2022-02-21T07:27:43.827Z"
   },
   {
    "duration": 13,
    "start_time": "2022-02-21T07:27:43.842Z"
   },
   {
    "duration": 11,
    "start_time": "2022-02-21T07:27:43.861Z"
   },
   {
    "duration": 52,
    "start_time": "2022-02-21T07:27:43.874Z"
   },
   {
    "duration": 15,
    "start_time": "2022-02-21T07:27:43.929Z"
   },
   {
    "duration": 13,
    "start_time": "2022-02-21T07:27:43.946Z"
   },
   {
    "duration": 13,
    "start_time": "2022-02-21T07:27:43.962Z"
   },
   {
    "duration": 53,
    "start_time": "2022-02-21T07:27:43.978Z"
   },
   {
    "duration": 10,
    "start_time": "2022-02-21T07:27:44.034Z"
   },
   {
    "duration": 15,
    "start_time": "2022-02-21T07:43:00.001Z"
   },
   {
    "duration": 38,
    "start_time": "2022-02-21T07:43:06.348Z"
   },
   {
    "duration": 378,
    "start_time": "2022-02-21T07:43:56.546Z"
   },
   {
    "duration": 19,
    "start_time": "2022-02-21T07:44:03.536Z"
   },
   {
    "duration": 16,
    "start_time": "2022-02-21T07:45:49.350Z"
   },
   {
    "duration": 99,
    "start_time": "2022-02-21T07:47:47.519Z"
   },
   {
    "duration": 22,
    "start_time": "2022-02-21T07:47:52.644Z"
   },
   {
    "duration": 822,
    "start_time": "2022-02-22T07:15:39.938Z"
   },
   {
    "duration": 141,
    "start_time": "2022-02-22T07:15:40.763Z"
   },
   {
    "duration": 30,
    "start_time": "2022-02-22T07:15:40.908Z"
   },
   {
    "duration": 10,
    "start_time": "2022-02-22T07:15:40.942Z"
   },
   {
    "duration": 42,
    "start_time": "2022-02-22T07:15:40.955Z"
   },
   {
    "duration": 29,
    "start_time": "2022-02-22T07:15:41.000Z"
   },
   {
    "duration": 10,
    "start_time": "2022-02-22T07:15:41.031Z"
   },
   {
    "duration": 236,
    "start_time": "2022-02-22T07:15:41.045Z"
   },
   {
    "duration": 7,
    "start_time": "2022-02-22T07:15:41.284Z"
   },
   {
    "duration": 36,
    "start_time": "2022-02-22T07:15:41.293Z"
   },
   {
    "duration": 13,
    "start_time": "2022-02-22T07:15:41.331Z"
   },
   {
    "duration": 5,
    "start_time": "2022-02-22T07:15:41.347Z"
   },
   {
    "duration": 7,
    "start_time": "2022-02-22T07:15:41.355Z"
   },
   {
    "duration": 61,
    "start_time": "2022-02-22T07:15:41.365Z"
   },
   {
    "duration": 5,
    "start_time": "2022-02-22T07:15:41.429Z"
   },
   {
    "duration": 11,
    "start_time": "2022-02-22T07:15:41.437Z"
   },
   {
    "duration": 8,
    "start_time": "2022-02-22T07:15:41.450Z"
   },
   {
    "duration": 5,
    "start_time": "2022-02-22T07:15:41.461Z"
   },
   {
    "duration": 57,
    "start_time": "2022-02-22T07:15:41.469Z"
   },
   {
    "duration": 14,
    "start_time": "2022-02-22T07:15:41.529Z"
   },
   {
    "duration": 13,
    "start_time": "2022-02-22T07:15:41.545Z"
   },
   {
    "duration": 14,
    "start_time": "2022-02-22T07:15:41.560Z"
   },
   {
    "duration": 49,
    "start_time": "2022-02-22T07:15:41.579Z"
   },
   {
    "duration": 12,
    "start_time": "2022-02-22T07:15:41.631Z"
   },
   {
    "duration": 14,
    "start_time": "2022-02-22T07:15:41.646Z"
   },
   {
    "duration": 14,
    "start_time": "2022-02-22T07:15:41.663Z"
   },
   {
    "duration": 49,
    "start_time": "2022-02-22T07:15:41.680Z"
   },
   {
    "duration": 12,
    "start_time": "2022-02-22T07:15:41.732Z"
   },
   {
    "duration": 7,
    "start_time": "2022-02-22T07:15:41.747Z"
   },
   {
    "duration": 373,
    "start_time": "2022-02-22T07:29:14.308Z"
   },
   {
    "duration": 6403,
    "start_time": "2022-02-22T07:29:35.026Z"
   },
   {
    "duration": 7911,
    "start_time": "2022-02-22T07:31:49.666Z"
   },
   {
    "duration": 15,
    "start_time": "2022-02-22T07:32:21.004Z"
   },
   {
    "duration": 21,
    "start_time": "2022-02-22T07:38:47.625Z"
   },
   {
    "duration": 21,
    "start_time": "2022-02-22T07:38:53.562Z"
   },
   {
    "duration": 13,
    "start_time": "2022-02-22T07:43:40.007Z"
   },
   {
    "duration": 12,
    "start_time": "2022-02-22T07:43:58.751Z"
   },
   {
    "duration": 20,
    "start_time": "2022-02-22T07:44:11.954Z"
   },
   {
    "duration": 11,
    "start_time": "2022-02-22T07:44:15.746Z"
   },
   {
    "duration": 60,
    "start_time": "2022-02-22T07:44:48.060Z"
   },
   {
    "duration": 54,
    "start_time": "2022-02-22T07:45:33.412Z"
   },
   {
    "duration": 747,
    "start_time": "2022-02-22T07:49:43.380Z"
   },
   {
    "duration": 127,
    "start_time": "2022-02-22T07:49:44.129Z"
   },
   {
    "duration": 15,
    "start_time": "2022-02-22T07:49:44.259Z"
   },
   {
    "duration": 10,
    "start_time": "2022-02-22T07:49:44.276Z"
   },
   {
    "duration": 74,
    "start_time": "2022-02-22T07:49:44.288Z"
   },
   {
    "duration": 9,
    "start_time": "2022-02-22T07:49:44.365Z"
   },
   {
    "duration": 8,
    "start_time": "2022-02-22T07:49:44.377Z"
   },
   {
    "duration": 244,
    "start_time": "2022-02-22T07:49:44.389Z"
   },
   {
    "duration": 9,
    "start_time": "2022-02-22T07:49:44.636Z"
   },
   {
    "duration": 19,
    "start_time": "2022-02-22T07:49:44.648Z"
   },
   {
    "duration": 14,
    "start_time": "2022-02-22T07:49:44.670Z"
   },
   {
    "duration": 44,
    "start_time": "2022-02-22T07:49:44.687Z"
   },
   {
    "duration": 8,
    "start_time": "2022-02-22T07:49:44.734Z"
   },
   {
    "duration": 21,
    "start_time": "2022-02-22T07:49:44.745Z"
   },
   {
    "duration": 6,
    "start_time": "2022-02-22T07:49:44.769Z"
   },
   {
    "duration": 50,
    "start_time": "2022-02-22T07:49:44.778Z"
   },
   {
    "duration": 3,
    "start_time": "2022-02-22T07:49:44.830Z"
   },
   {
    "duration": 68,
    "start_time": "2022-02-22T07:49:44.835Z"
   },
   {
    "duration": 31,
    "start_time": "2022-02-22T07:49:44.906Z"
   },
   {
    "duration": 34,
    "start_time": "2022-02-22T07:49:44.939Z"
   },
   {
    "duration": 11,
    "start_time": "2022-02-22T07:49:44.976Z"
   },
   {
    "duration": 14,
    "start_time": "2022-02-22T07:49:44.990Z"
   },
   {
    "duration": 16,
    "start_time": "2022-02-22T07:49:45.029Z"
   },
   {
    "duration": 12,
    "start_time": "2022-02-22T07:49:45.048Z"
   },
   {
    "duration": 14,
    "start_time": "2022-02-22T07:49:45.063Z"
   },
   {
    "duration": 48,
    "start_time": "2022-02-22T07:49:45.080Z"
   },
   {
    "duration": 4,
    "start_time": "2022-02-22T07:49:45.130Z"
   },
   {
    "duration": 81,
    "start_time": "2022-02-22T07:50:45.451Z"
   },
   {
    "duration": 83,
    "start_time": "2022-02-22T07:51:01.659Z"
   },
   {
    "duration": 85,
    "start_time": "2022-02-22T07:51:08.924Z"
   },
   {
    "duration": 59,
    "start_time": "2022-02-22T07:51:39.984Z"
   },
   {
    "duration": 2427,
    "start_time": "2022-02-22T07:52:38.849Z"
   },
   {
    "duration": 19,
    "start_time": "2022-02-22T07:52:52.603Z"
   },
   {
    "duration": 18,
    "start_time": "2022-02-22T07:53:18.255Z"
   },
   {
    "duration": 25,
    "start_time": "2022-02-22T07:53:43.905Z"
   },
   {
    "duration": 21,
    "start_time": "2022-02-22T07:54:20.253Z"
   },
   {
    "duration": 13,
    "start_time": "2022-02-22T07:59:20.794Z"
   },
   {
    "duration": 22,
    "start_time": "2022-02-22T08:00:38.105Z"
   },
   {
    "duration": 19,
    "start_time": "2022-02-22T08:00:39.995Z"
   },
   {
    "duration": 697,
    "start_time": "2022-02-22T08:17:49.788Z"
   },
   {
    "duration": 68,
    "start_time": "2022-02-22T08:17:55.178Z"
   },
   {
    "duration": 14,
    "start_time": "2022-02-22T08:18:04.571Z"
   },
   {
    "duration": 9,
    "start_time": "2022-02-22T08:18:14.437Z"
   },
   {
    "duration": 6,
    "start_time": "2022-02-22T08:25:04.119Z"
   },
   {
    "duration": 13,
    "start_time": "2022-02-22T08:27:19.727Z"
   },
   {
    "duration": 29,
    "start_time": "2022-02-22T08:52:21.608Z"
   },
   {
    "duration": 17,
    "start_time": "2022-02-22T08:52:32.247Z"
   },
   {
    "duration": 303,
    "start_time": "2022-02-22T09:10:59.461Z"
   },
   {
    "duration": 257,
    "start_time": "2022-02-22T09:11:04.383Z"
   },
   {
    "duration": 7,
    "start_time": "2022-02-22T09:12:12.564Z"
   },
   {
    "duration": 8,
    "start_time": "2022-02-22T09:12:48.289Z"
   },
   {
    "duration": 7,
    "start_time": "2022-02-22T09:28:00.925Z"
   },
   {
    "duration": 15,
    "start_time": "2022-02-22T09:34:42.170Z"
   },
   {
    "duration": 15,
    "start_time": "2022-02-22T09:35:44.169Z"
   },
   {
    "duration": 8,
    "start_time": "2022-02-22T09:37:24.167Z"
   },
   {
    "duration": 421,
    "start_time": "2022-02-22T09:40:49.959Z"
   },
   {
    "duration": 327,
    "start_time": "2022-02-22T09:44:56.806Z"
   },
   {
    "duration": 293,
    "start_time": "2022-02-22T09:45:04.305Z"
   },
   {
    "duration": 64,
    "start_time": "2022-02-22T09:45:12.175Z"
   },
   {
    "duration": 55,
    "start_time": "2022-02-22T09:45:55.929Z"
   },
   {
    "duration": 281,
    "start_time": "2022-02-22T10:11:46.867Z"
   },
   {
    "duration": 11,
    "start_time": "2022-02-22T10:12:45.182Z"
   },
   {
    "duration": 285,
    "start_time": "2022-02-22T10:12:53.302Z"
   },
   {
    "duration": 273,
    "start_time": "2022-02-22T10:12:57.981Z"
   },
   {
    "duration": 18,
    "start_time": "2022-02-22T10:14:16.372Z"
   },
   {
    "duration": 16,
    "start_time": "2022-02-22T10:14:25.615Z"
   },
   {
    "duration": 821,
    "start_time": "2022-02-22T10:14:37.505Z"
   },
   {
    "duration": 161,
    "start_time": "2022-02-22T10:14:38.329Z"
   },
   {
    "duration": 15,
    "start_time": "2022-02-22T10:14:38.493Z"
   },
   {
    "duration": 28,
    "start_time": "2022-02-22T10:14:38.510Z"
   },
   {
    "duration": 60,
    "start_time": "2022-02-22T10:14:38.541Z"
   },
   {
    "duration": 8,
    "start_time": "2022-02-22T10:14:38.604Z"
   },
   {
    "duration": 41,
    "start_time": "2022-02-22T10:14:38.615Z"
   },
   {
    "duration": 224,
    "start_time": "2022-02-22T10:14:38.660Z"
   },
   {
    "duration": 8,
    "start_time": "2022-02-22T10:14:38.887Z"
   },
   {
    "duration": 36,
    "start_time": "2022-02-22T10:14:38.898Z"
   },
   {
    "duration": 9,
    "start_time": "2022-02-22T10:14:38.936Z"
   },
   {
    "duration": 13,
    "start_time": "2022-02-22T10:14:38.947Z"
   },
   {
    "duration": 27,
    "start_time": "2022-02-22T10:14:38.963Z"
   },
   {
    "duration": 4,
    "start_time": "2022-02-22T10:14:38.993Z"
   },
   {
    "duration": 27,
    "start_time": "2022-02-22T10:14:39.000Z"
   },
   {
    "duration": 10,
    "start_time": "2022-02-22T10:14:39.029Z"
   },
   {
    "duration": 38,
    "start_time": "2022-02-22T10:14:39.042Z"
   },
   {
    "duration": 42,
    "start_time": "2022-02-22T10:14:39.083Z"
   },
   {
    "duration": 10,
    "start_time": "2022-02-22T10:14:39.128Z"
   },
   {
    "duration": 22,
    "start_time": "2022-02-22T10:14:39.141Z"
   },
   {
    "duration": 16,
    "start_time": "2022-02-22T10:14:39.166Z"
   },
   {
    "duration": 21,
    "start_time": "2022-02-22T10:14:39.184Z"
   },
   {
    "duration": 352,
    "start_time": "2022-02-22T10:14:39.210Z"
   },
   {
    "duration": 56,
    "start_time": "2022-02-22T10:14:39.509Z"
   },
   {
    "duration": 54,
    "start_time": "2022-02-22T10:14:39.512Z"
   },
   {
    "duration": 54,
    "start_time": "2022-02-22T10:14:39.514Z"
   },
   {
    "duration": 52,
    "start_time": "2022-02-22T10:14:39.517Z"
   },
   {
    "duration": 51,
    "start_time": "2022-02-22T10:14:39.520Z"
   },
   {
    "duration": 50,
    "start_time": "2022-02-22T10:14:39.522Z"
   },
   {
    "duration": 48,
    "start_time": "2022-02-22T10:14:39.525Z"
   },
   {
    "duration": 48,
    "start_time": "2022-02-22T10:14:39.527Z"
   },
   {
    "duration": 42,
    "start_time": "2022-02-22T10:14:39.534Z"
   },
   {
    "duration": 40,
    "start_time": "2022-02-22T10:14:39.537Z"
   },
   {
    "duration": 38,
    "start_time": "2022-02-22T10:14:39.541Z"
   },
   {
    "duration": 36,
    "start_time": "2022-02-22T10:14:39.544Z"
   },
   {
    "duration": 832,
    "start_time": "2022-02-22T10:15:01.989Z"
   },
   {
    "duration": 136,
    "start_time": "2022-02-22T10:15:02.827Z"
   },
   {
    "duration": 16,
    "start_time": "2022-02-22T10:15:02.969Z"
   },
   {
    "duration": 11,
    "start_time": "2022-02-22T10:15:02.988Z"
   },
   {
    "duration": 43,
    "start_time": "2022-02-22T10:15:03.027Z"
   },
   {
    "duration": 8,
    "start_time": "2022-02-22T10:15:03.073Z"
   },
   {
    "duration": 17,
    "start_time": "2022-02-22T10:15:03.084Z"
   },
   {
    "duration": 244,
    "start_time": "2022-02-22T10:15:03.129Z"
   },
   {
    "duration": 8,
    "start_time": "2022-02-22T10:15:03.376Z"
   },
   {
    "duration": 39,
    "start_time": "2022-02-22T10:15:03.387Z"
   },
   {
    "duration": 6,
    "start_time": "2022-02-22T10:15:03.429Z"
   },
   {
    "duration": 21,
    "start_time": "2022-02-22T10:15:03.439Z"
   },
   {
    "duration": 33,
    "start_time": "2022-02-22T10:15:03.463Z"
   },
   {
    "duration": 7,
    "start_time": "2022-02-22T10:15:03.499Z"
   },
   {
    "duration": 32,
    "start_time": "2022-02-22T10:15:03.508Z"
   },
   {
    "duration": 27,
    "start_time": "2022-02-22T10:15:03.543Z"
   },
   {
    "duration": 71,
    "start_time": "2022-02-22T10:15:03.573Z"
   },
   {
    "duration": 36,
    "start_time": "2022-02-22T10:15:03.647Z"
   },
   {
    "duration": 37,
    "start_time": "2022-02-22T10:15:03.686Z"
   },
   {
    "duration": 20,
    "start_time": "2022-02-22T10:15:03.726Z"
   },
   {
    "duration": 16,
    "start_time": "2022-02-22T10:15:03.749Z"
   },
   {
    "duration": 12,
    "start_time": "2022-02-22T10:15:03.768Z"
   },
   {
    "duration": 25,
    "start_time": "2022-02-22T10:15:03.783Z"
   },
   {
    "duration": 48,
    "start_time": "2022-02-22T10:15:03.811Z"
   },
   {
    "duration": 19,
    "start_time": "2022-02-22T10:15:03.862Z"
   },
   {
    "duration": 7,
    "start_time": "2022-02-22T10:15:03.886Z"
   },
   {
    "duration": 48,
    "start_time": "2022-02-22T10:15:03.897Z"
   },
   {
    "duration": 19,
    "start_time": "2022-02-22T10:15:03.948Z"
   },
   {
    "duration": 18,
    "start_time": "2022-02-22T10:15:03.969Z"
   },
   {
    "duration": 16,
    "start_time": "2022-02-22T10:15:03.990Z"
   },
   {
    "duration": 38,
    "start_time": "2022-02-22T10:15:04.008Z"
   },
   {
    "duration": 16,
    "start_time": "2022-02-22T10:15:04.049Z"
   },
   {
    "duration": 20,
    "start_time": "2022-02-22T10:15:04.068Z"
   },
   {
    "duration": 24,
    "start_time": "2022-02-22T10:15:04.091Z"
   },
   {
    "duration": 10,
    "start_time": "2022-02-22T10:15:04.118Z"
   },
   {
    "duration": 118,
    "start_time": "2022-02-22T10:16:50.858Z"
   },
   {
    "duration": 8,
    "start_time": "2022-02-22T10:18:19.894Z"
   },
   {
    "duration": 9,
    "start_time": "2022-02-22T10:28:18.365Z"
   },
   {
    "duration": 6,
    "start_time": "2022-02-22T10:28:43.458Z"
   },
   {
    "duration": 384,
    "start_time": "2022-02-22T10:37:00.061Z"
   },
   {
    "duration": 8,
    "start_time": "2022-02-22T10:37:34.031Z"
   },
   {
    "duration": 760,
    "start_time": "2022-02-22T10:37:43.970Z"
   },
   {
    "duration": 133,
    "start_time": "2022-02-22T10:37:44.733Z"
   },
   {
    "duration": 16,
    "start_time": "2022-02-22T10:37:44.869Z"
   },
   {
    "duration": 10,
    "start_time": "2022-02-22T10:37:44.887Z"
   },
   {
    "duration": 65,
    "start_time": "2022-02-22T10:37:44.899Z"
   },
   {
    "duration": 9,
    "start_time": "2022-02-22T10:37:44.967Z"
   },
   {
    "duration": 12,
    "start_time": "2022-02-22T10:37:44.978Z"
   },
   {
    "duration": 253,
    "start_time": "2022-02-22T10:37:44.994Z"
   },
   {
    "duration": 8,
    "start_time": "2022-02-22T10:37:45.250Z"
   },
   {
    "duration": 18,
    "start_time": "2022-02-22T10:37:45.261Z"
   },
   {
    "duration": 5,
    "start_time": "2022-02-22T10:37:45.281Z"
   },
   {
    "duration": 37,
    "start_time": "2022-02-22T10:37:45.289Z"
   },
   {
    "duration": 19,
    "start_time": "2022-02-22T10:37:45.329Z"
   },
   {
    "duration": 4,
    "start_time": "2022-02-22T10:37:45.351Z"
   },
   {
    "duration": 12,
    "start_time": "2022-02-22T10:37:45.358Z"
   },
   {
    "duration": 10,
    "start_time": "2022-02-22T10:37:45.373Z"
   },
   {
    "duration": 60,
    "start_time": "2022-02-22T10:37:45.386Z"
   },
   {
    "duration": 24,
    "start_time": "2022-02-22T10:37:45.448Z"
   },
   {
    "duration": 9,
    "start_time": "2022-02-22T10:37:45.475Z"
   },
   {
    "duration": 45,
    "start_time": "2022-02-22T10:37:45.486Z"
   },
   {
    "duration": 10,
    "start_time": "2022-02-22T10:37:45.534Z"
   },
   {
    "duration": 11,
    "start_time": "2022-02-22T10:37:45.547Z"
   },
   {
    "duration": 10,
    "start_time": "2022-02-22T10:37:45.564Z"
   },
   {
    "duration": 59,
    "start_time": "2022-02-22T10:37:45.577Z"
   },
   {
    "duration": 13,
    "start_time": "2022-02-22T10:37:45.639Z"
   },
   {
    "duration": 7,
    "start_time": "2022-02-22T10:37:45.654Z"
   },
   {
    "duration": 10,
    "start_time": "2022-02-22T10:37:45.663Z"
   },
   {
    "duration": 54,
    "start_time": "2022-02-22T10:37:45.675Z"
   },
   {
    "duration": 8,
    "start_time": "2022-02-22T10:37:45.733Z"
   },
   {
    "duration": 9,
    "start_time": "2022-02-22T10:37:45.744Z"
   },
   {
    "duration": 10,
    "start_time": "2022-02-22T10:37:45.755Z"
   },
   {
    "duration": 13,
    "start_time": "2022-02-22T10:37:45.768Z"
   },
   {
    "duration": 46,
    "start_time": "2022-02-22T10:37:45.783Z"
   },
   {
    "duration": 13,
    "start_time": "2022-02-22T10:37:45.832Z"
   },
   {
    "duration": 12,
    "start_time": "2022-02-22T10:37:45.847Z"
   },
   {
    "duration": 11,
    "start_time": "2022-02-22T10:37:45.861Z"
   },
   {
    "duration": 3,
    "start_time": "2022-02-22T10:37:45.874Z"
   },
   {
    "duration": 8,
    "start_time": "2022-02-22T10:38:49.257Z"
   },
   {
    "duration": 8,
    "start_time": "2022-02-22T10:38:52.069Z"
   },
   {
    "duration": 34,
    "start_time": "2022-02-22T10:39:25.689Z"
   },
   {
    "duration": 738,
    "start_time": "2022-02-22T10:41:14.859Z"
   },
   {
    "duration": 132,
    "start_time": "2022-02-22T10:41:15.600Z"
   },
   {
    "duration": 16,
    "start_time": "2022-02-22T10:41:15.735Z"
   },
   {
    "duration": 10,
    "start_time": "2022-02-22T10:41:15.754Z"
   },
   {
    "duration": 69,
    "start_time": "2022-02-22T10:41:15.767Z"
   },
   {
    "duration": 9,
    "start_time": "2022-02-22T10:41:15.838Z"
   },
   {
    "duration": 7,
    "start_time": "2022-02-22T10:41:15.850Z"
   },
   {
    "duration": 243,
    "start_time": "2022-02-22T10:41:15.861Z"
   },
   {
    "duration": 7,
    "start_time": "2022-02-22T10:41:16.107Z"
   },
   {
    "duration": 13,
    "start_time": "2022-02-22T10:41:16.126Z"
   },
   {
    "duration": 12,
    "start_time": "2022-02-22T10:41:16.142Z"
   },
   {
    "duration": 11,
    "start_time": "2022-02-22T10:41:16.157Z"
   },
   {
    "duration": 27,
    "start_time": "2022-02-22T10:41:16.171Z"
   },
   {
    "duration": 6,
    "start_time": "2022-02-22T10:41:16.200Z"
   },
   {
    "duration": 12,
    "start_time": "2022-02-22T10:41:16.227Z"
   },
   {
    "duration": 8,
    "start_time": "2022-02-22T10:41:16.242Z"
   },
   {
    "duration": 25,
    "start_time": "2022-02-22T10:41:16.253Z"
   },
   {
    "duration": 53,
    "start_time": "2022-02-22T10:41:16.280Z"
   },
   {
    "duration": 11,
    "start_time": "2022-02-22T10:41:16.335Z"
   },
   {
    "duration": 22,
    "start_time": "2022-02-22T10:41:16.348Z"
   },
   {
    "duration": 16,
    "start_time": "2022-02-22T10:41:16.372Z"
   },
   {
    "duration": 7,
    "start_time": "2022-02-22T10:41:16.391Z"
   },
   {
    "duration": 10,
    "start_time": "2022-02-22T10:41:16.429Z"
   },
   {
    "duration": 28,
    "start_time": "2022-02-22T10:41:16.442Z"
   },
   {
    "duration": 14,
    "start_time": "2022-02-22T10:41:16.472Z"
   },
   {
    "duration": 6,
    "start_time": "2022-02-22T10:41:16.489Z"
   },
   {
    "duration": 62,
    "start_time": "2022-02-22T10:41:16.498Z"
   },
   {
    "duration": 10,
    "start_time": "2022-02-22T10:41:16.563Z"
   },
   {
    "duration": 15,
    "start_time": "2022-02-22T10:41:16.576Z"
   },
   {
    "duration": 40,
    "start_time": "2022-02-22T10:41:16.593Z"
   },
   {
    "duration": 9,
    "start_time": "2022-02-22T10:41:16.635Z"
   },
   {
    "duration": 9,
    "start_time": "2022-02-22T10:41:16.647Z"
   },
   {
    "duration": 17,
    "start_time": "2022-02-22T10:41:16.658Z"
   },
   {
    "duration": 50,
    "start_time": "2022-02-22T10:41:16.677Z"
   },
   {
    "duration": 10,
    "start_time": "2022-02-22T10:41:16.730Z"
   },
   {
    "duration": 15,
    "start_time": "2022-02-22T10:41:16.742Z"
   },
   {
    "duration": 12,
    "start_time": "2022-02-22T10:41:16.760Z"
   },
   {
    "duration": 12,
    "start_time": "2022-02-22T10:41:16.775Z"
   },
   {
    "duration": 726,
    "start_time": "2022-02-22T10:49:18.289Z"
   },
   {
    "duration": 819,
    "start_time": "2022-02-22T10:57:31.708Z"
   },
   {
    "duration": 140,
    "start_time": "2022-02-22T10:57:32.529Z"
   },
   {
    "duration": 17,
    "start_time": "2022-02-22T10:57:32.671Z"
   },
   {
    "duration": 36,
    "start_time": "2022-02-22T10:57:32.690Z"
   },
   {
    "duration": 47,
    "start_time": "2022-02-22T10:57:32.730Z"
   },
   {
    "duration": 10,
    "start_time": "2022-02-22T10:57:32.780Z"
   },
   {
    "duration": 38,
    "start_time": "2022-02-22T10:57:32.793Z"
   },
   {
    "duration": 241,
    "start_time": "2022-02-22T10:57:32.835Z"
   },
   {
    "duration": 8,
    "start_time": "2022-02-22T10:57:33.080Z"
   },
   {
    "duration": 36,
    "start_time": "2022-02-22T10:57:33.091Z"
   },
   {
    "duration": 5,
    "start_time": "2022-02-22T10:57:33.130Z"
   },
   {
    "duration": 8,
    "start_time": "2022-02-22T10:57:33.138Z"
   },
   {
    "duration": 25,
    "start_time": "2022-02-22T10:57:33.149Z"
   },
   {
    "duration": 6,
    "start_time": "2022-02-22T10:57:33.177Z"
   },
   {
    "duration": 49,
    "start_time": "2022-02-22T10:57:33.186Z"
   },
   {
    "duration": 8,
    "start_time": "2022-02-22T10:57:33.238Z"
   },
   {
    "duration": 24,
    "start_time": "2022-02-22T10:57:33.249Z"
   },
   {
    "duration": 55,
    "start_time": "2022-02-22T10:57:33.275Z"
   },
   {
    "duration": 10,
    "start_time": "2022-02-22T10:57:33.333Z"
   },
   {
    "duration": 14,
    "start_time": "2022-02-22T10:57:33.346Z"
   },
   {
    "duration": 15,
    "start_time": "2022-02-22T10:57:33.363Z"
   },
   {
    "duration": 45,
    "start_time": "2022-02-22T10:57:33.381Z"
   },
   {
    "duration": 11,
    "start_time": "2022-02-22T10:57:33.431Z"
   },
   {
    "duration": 38,
    "start_time": "2022-02-22T10:57:33.445Z"
   },
   {
    "duration": 15,
    "start_time": "2022-02-22T10:57:33.485Z"
   },
   {
    "duration": 29,
    "start_time": "2022-02-22T10:57:33.503Z"
   },
   {
    "duration": 39,
    "start_time": "2022-02-22T10:57:33.536Z"
   },
   {
    "duration": 17,
    "start_time": "2022-02-22T10:57:33.578Z"
   },
   {
    "duration": 39,
    "start_time": "2022-02-22T10:57:33.597Z"
   },
   {
    "duration": 24,
    "start_time": "2022-02-22T10:57:33.639Z"
   },
   {
    "duration": 17,
    "start_time": "2022-02-22T10:57:33.666Z"
   },
   {
    "duration": 11,
    "start_time": "2022-02-22T10:57:33.686Z"
   },
   {
    "duration": 35,
    "start_time": "2022-02-22T10:57:33.700Z"
   },
   {
    "duration": 14,
    "start_time": "2022-02-22T10:57:33.738Z"
   },
   {
    "duration": 20,
    "start_time": "2022-02-22T10:57:33.755Z"
   },
   {
    "duration": 13,
    "start_time": "2022-02-22T10:57:33.778Z"
   },
   {
    "duration": 41,
    "start_time": "2022-02-22T10:57:33.793Z"
   },
   {
    "duration": 3,
    "start_time": "2022-02-22T10:57:33.837Z"
   },
   {
    "duration": 18,
    "start_time": "2022-02-22T11:07:17.919Z"
   },
   {
    "duration": 10,
    "start_time": "2022-02-22T11:07:25.850Z"
   },
   {
    "duration": 6,
    "start_time": "2022-02-22T11:07:31.597Z"
   },
   {
    "duration": 18,
    "start_time": "2022-02-22T11:15:32.744Z"
   },
   {
    "duration": 53,
    "start_time": "2022-02-22T11:15:41.619Z"
   },
   {
    "duration": 1103,
    "start_time": "2022-02-22T11:25:10.323Z"
   },
   {
    "duration": 38,
    "start_time": "2022-02-22T11:25:15.745Z"
   },
   {
    "duration": 110,
    "start_time": "2022-02-22T12:19:39.540Z"
   },
   {
    "duration": 833,
    "start_time": "2022-02-22T12:27:41.949Z"
   },
   {
    "duration": 297,
    "start_time": "2022-02-22T12:28:16.883Z"
   },
   {
    "duration": 302,
    "start_time": "2022-02-22T12:28:30.294Z"
   },
   {
    "duration": 444,
    "start_time": "2022-02-22T12:28:41.421Z"
   },
   {
    "duration": 502,
    "start_time": "2022-02-22T12:29:02.254Z"
   },
   {
    "duration": 723,
    "start_time": "2022-02-22T12:29:12.088Z"
   },
   {
    "duration": 781,
    "start_time": "2022-02-22T12:32:43.457Z"
   },
   {
    "duration": 799,
    "start_time": "2022-02-22T12:35:44.717Z"
   },
   {
    "duration": 232,
    "start_time": "2022-02-22T12:37:17.245Z"
   },
   {
    "duration": 503,
    "start_time": "2022-02-22T12:37:33.584Z"
   },
   {
    "duration": 394,
    "start_time": "2022-02-22T12:38:28.980Z"
   },
   {
    "duration": 785,
    "start_time": "2022-02-22T12:38:51.565Z"
   },
   {
    "duration": 669,
    "start_time": "2022-02-22T12:42:16.113Z"
   },
   {
    "duration": 677,
    "start_time": "2022-02-22T12:42:33.486Z"
   },
   {
    "duration": 682,
    "start_time": "2022-02-22T12:43:09.491Z"
   },
   {
    "duration": 654,
    "start_time": "2022-02-22T12:43:15.203Z"
   },
   {
    "duration": 777,
    "start_time": "2022-02-22T12:43:30.815Z"
   },
   {
    "duration": 678,
    "start_time": "2022-02-22T12:45:14.528Z"
   },
   {
    "duration": 764,
    "start_time": "2022-02-22T12:45:19.750Z"
   },
   {
    "duration": 671,
    "start_time": "2022-02-22T12:45:28.277Z"
   },
   {
    "duration": 809,
    "start_time": "2022-02-22T12:45:43.786Z"
   },
   {
    "duration": 544,
    "start_time": "2022-02-22T12:45:50.143Z"
   },
   {
    "duration": 627,
    "start_time": "2022-02-22T12:45:58.995Z"
   },
   {
    "duration": 461,
    "start_time": "2022-02-22T12:46:05.517Z"
   },
   {
    "duration": 530,
    "start_time": "2022-02-22T12:46:11.222Z"
   },
   {
    "duration": 556,
    "start_time": "2022-02-22T12:46:18.982Z"
   },
   {
    "duration": 521,
    "start_time": "2022-02-22T12:46:44.755Z"
   },
   {
    "duration": 539,
    "start_time": "2022-02-22T12:47:08.890Z"
   },
   {
    "duration": 522,
    "start_time": "2022-02-22T12:47:25.996Z"
   },
   {
    "duration": 545,
    "start_time": "2022-02-22T12:47:33.199Z"
   },
   {
    "duration": 632,
    "start_time": "2022-02-22T12:47:39.271Z"
   },
   {
    "duration": 606,
    "start_time": "2022-02-22T12:47:52.090Z"
   },
   {
    "duration": 509,
    "start_time": "2022-02-22T12:47:55.281Z"
   },
   {
    "duration": 678,
    "start_time": "2022-02-22T12:48:01.666Z"
   },
   {
    "duration": 504,
    "start_time": "2022-02-22T12:48:07.857Z"
   },
   {
    "duration": 471,
    "start_time": "2022-02-22T12:49:38.111Z"
   },
   {
    "duration": 405,
    "start_time": "2022-02-22T12:49:47.853Z"
   },
   {
    "duration": 343,
    "start_time": "2022-02-22T12:50:02.561Z"
   },
   {
    "duration": 354,
    "start_time": "2022-02-22T12:50:09.536Z"
   },
   {
    "duration": 229,
    "start_time": "2022-02-22T12:50:30.434Z"
   },
   {
    "duration": 427,
    "start_time": "2022-02-22T12:56:29.613Z"
   },
   {
    "duration": 500,
    "start_time": "2022-02-22T15:36:30.243Z"
   },
   {
    "duration": 281,
    "start_time": "2022-02-22T18:20:45.970Z"
   },
   {
    "duration": 700,
    "start_time": "2022-02-22T18:20:52.247Z"
   },
   {
    "duration": 116,
    "start_time": "2022-02-22T18:20:52.949Z"
   },
   {
    "duration": 17,
    "start_time": "2022-02-22T18:20:53.069Z"
   },
   {
    "duration": 33,
    "start_time": "2022-02-22T18:20:53.088Z"
   },
   {
    "duration": 49,
    "start_time": "2022-02-22T18:20:53.123Z"
   },
   {
    "duration": 13,
    "start_time": "2022-02-22T18:20:53.175Z"
   },
   {
    "duration": 20,
    "start_time": "2022-02-22T18:20:53.191Z"
   },
   {
    "duration": 179,
    "start_time": "2022-02-22T18:20:53.214Z"
   },
   {
    "duration": 6,
    "start_time": "2022-02-22T18:20:53.395Z"
   },
   {
    "duration": 36,
    "start_time": "2022-02-22T18:20:53.403Z"
   },
   {
    "duration": 10,
    "start_time": "2022-02-22T18:20:53.441Z"
   },
   {
    "duration": 24,
    "start_time": "2022-02-22T18:20:53.453Z"
   },
   {
    "duration": 37,
    "start_time": "2022-02-22T18:20:53.479Z"
   },
   {
    "duration": 25,
    "start_time": "2022-02-22T18:20:53.518Z"
   },
   {
    "duration": 28,
    "start_time": "2022-02-22T18:20:53.545Z"
   },
   {
    "duration": 32,
    "start_time": "2022-02-22T18:20:53.575Z"
   },
   {
    "duration": 27,
    "start_time": "2022-02-22T18:20:53.608Z"
   },
   {
    "duration": 15,
    "start_time": "2022-02-22T18:20:53.637Z"
   },
   {
    "duration": 12,
    "start_time": "2022-02-22T18:20:53.653Z"
   },
   {
    "duration": 30,
    "start_time": "2022-02-22T18:20:53.666Z"
   },
   {
    "duration": 27,
    "start_time": "2022-02-22T18:20:53.698Z"
   },
   {
    "duration": 36,
    "start_time": "2022-02-22T18:20:53.726Z"
   },
   {
    "duration": 59,
    "start_time": "2022-02-22T18:20:53.766Z"
   },
   {
    "duration": 72,
    "start_time": "2022-02-22T18:20:53.827Z"
   },
   {
    "duration": 44,
    "start_time": "2022-02-22T18:20:53.901Z"
   },
   {
    "duration": 38,
    "start_time": "2022-02-22T18:20:53.947Z"
   },
   {
    "duration": 42,
    "start_time": "2022-02-22T18:20:53.988Z"
   },
   {
    "duration": 51,
    "start_time": "2022-02-22T18:20:54.032Z"
   },
   {
    "duration": 39,
    "start_time": "2022-02-22T18:20:54.085Z"
   },
   {
    "duration": 21,
    "start_time": "2022-02-22T18:20:54.126Z"
   },
   {
    "duration": 38,
    "start_time": "2022-02-22T18:20:54.149Z"
   },
   {
    "duration": 41,
    "start_time": "2022-02-22T18:20:54.189Z"
   },
   {
    "duration": 28,
    "start_time": "2022-02-22T18:20:54.232Z"
   },
   {
    "duration": 42,
    "start_time": "2022-02-22T18:20:54.262Z"
   },
   {
    "duration": 660,
    "start_time": "2022-02-22T18:20:54.306Z"
   },
   {
    "duration": 83,
    "start_time": "2022-02-22T18:20:54.968Z"
   },
   {
    "duration": 533,
    "start_time": "2022-02-22T18:20:55.053Z"
   },
   {
    "duration": 336,
    "start_time": "2022-02-22T18:20:55.589Z"
   },
   {
    "duration": 183,
    "start_time": "2022-02-22T18:20:55.928Z"
   },
   {
    "duration": 9,
    "start_time": "2022-02-22T18:20:56.113Z"
   },
   {
    "duration": 22,
    "start_time": "2022-02-22T18:20:56.124Z"
   },
   {
    "duration": 38,
    "start_time": "2022-02-22T18:20:56.148Z"
   },
   {
    "duration": 19,
    "start_time": "2022-02-22T18:20:56.188Z"
   },
   {
    "duration": 49,
    "start_time": "2022-02-22T18:20:56.209Z"
   },
   {
    "duration": 21,
    "start_time": "2022-02-22T18:20:56.260Z"
   },
   {
    "duration": 316,
    "start_time": "2022-02-22T18:21:21.748Z"
   },
   {
    "duration": 422,
    "start_time": "2022-02-22T18:21:36.903Z"
   },
   {
    "duration": 640,
    "start_time": "2022-02-22T18:21:41.825Z"
   },
   {
    "duration": 327,
    "start_time": "2022-02-22T18:21:53.586Z"
   },
   {
    "duration": 327,
    "start_time": "2022-02-22T18:23:09.586Z"
   },
   {
    "duration": 315,
    "start_time": "2022-02-22T18:23:15.929Z"
   },
   {
    "duration": 350,
    "start_time": "2022-02-22T18:24:29.762Z"
   },
   {
    "duration": 86,
    "start_time": "2022-02-22T18:29:29.258Z"
   },
   {
    "duration": 392,
    "start_time": "2022-02-22T18:31:04.334Z"
   },
   {
    "duration": 399,
    "start_time": "2022-02-22T18:31:15.540Z"
   },
   {
    "duration": 6,
    "start_time": "2022-02-22T18:33:57.457Z"
   },
   {
    "duration": 1236,
    "start_time": "2022-02-22T18:38:33.441Z"
   },
   {
    "duration": 727,
    "start_time": "2022-02-22T18:38:49.836Z"
   },
   {
    "duration": 736,
    "start_time": "2022-02-22T18:39:00.809Z"
   },
   {
    "duration": 792,
    "start_time": "2022-02-22T18:39:14.548Z"
   },
   {
    "duration": 799,
    "start_time": "2022-02-22T18:39:43.928Z"
   },
   {
    "duration": 1010,
    "start_time": "2022-02-22T18:40:04.100Z"
   },
   {
    "duration": 889,
    "start_time": "2022-02-22T18:40:12.740Z"
   },
   {
    "duration": 919,
    "start_time": "2022-02-22T18:40:22.138Z"
   },
   {
    "duration": 1159,
    "start_time": "2022-02-22T18:41:04.770Z"
   },
   {
    "duration": 1030,
    "start_time": "2022-02-22T18:41:14.621Z"
   },
   {
    "duration": 730,
    "start_time": "2022-02-22T18:43:50.065Z"
   },
   {
    "duration": 368,
    "start_time": "2022-02-22T18:45:07.240Z"
   },
   {
    "duration": 842,
    "start_time": "2022-02-22T18:47:18.861Z"
   },
   {
    "duration": 894,
    "start_time": "2022-02-22T18:47:36.695Z"
   },
   {
    "duration": 1021,
    "start_time": "2022-02-22T18:47:47.182Z"
   },
   {
    "duration": 934,
    "start_time": "2022-02-22T18:48:04.608Z"
   },
   {
    "duration": 939,
    "start_time": "2022-02-22T18:48:16.864Z"
   },
   {
    "duration": 1054,
    "start_time": "2022-02-22T18:49:24.703Z"
   },
   {
    "duration": 1058,
    "start_time": "2022-02-22T18:49:43.301Z"
   },
   {
    "duration": 1143,
    "start_time": "2022-02-22T18:50:48.333Z"
   },
   {
    "duration": 1105,
    "start_time": "2022-02-22T18:53:15.475Z"
   },
   {
    "duration": 1150,
    "start_time": "2022-02-22T18:53:33.108Z"
   },
   {
    "duration": 1230,
    "start_time": "2022-02-22T18:53:41.731Z"
   },
   {
    "duration": 1473,
    "start_time": "2022-02-22T18:53:47.737Z"
   },
   {
    "duration": 1162,
    "start_time": "2022-02-22T18:53:53.185Z"
   },
   {
    "duration": 1131,
    "start_time": "2022-02-22T18:55:08.153Z"
   },
   {
    "duration": 1353,
    "start_time": "2022-02-22T18:55:14.176Z"
   },
   {
    "duration": 1219,
    "start_time": "2022-02-22T18:55:21.388Z"
   },
   {
    "duration": 1511,
    "start_time": "2022-02-22T18:55:28.511Z"
   },
   {
    "duration": 1216,
    "start_time": "2022-02-22T18:55:36.343Z"
   },
   {
    "duration": 1216,
    "start_time": "2022-02-22T18:55:45.523Z"
   },
   {
    "duration": 1356,
    "start_time": "2022-02-22T18:55:55.056Z"
   },
   {
    "duration": 1232,
    "start_time": "2022-02-22T18:56:03.960Z"
   },
   {
    "duration": 1702,
    "start_time": "2022-02-22T18:56:13.581Z"
   },
   {
    "duration": 1334,
    "start_time": "2022-02-22T19:03:02.042Z"
   },
   {
    "duration": 1291,
    "start_time": "2022-02-22T19:03:06.966Z"
   },
   {
    "duration": 1348,
    "start_time": "2022-02-22T19:03:15.817Z"
   },
   {
    "duration": 1232,
    "start_time": "2022-02-22T19:03:33.691Z"
   },
   {
    "duration": 1244,
    "start_time": "2022-02-22T19:03:42.240Z"
   },
   {
    "duration": 169,
    "start_time": "2022-02-22T19:30:50.889Z"
   },
   {
    "duration": 1725,
    "start_time": "2022-02-22T19:31:05.568Z"
   },
   {
    "duration": 156,
    "start_time": "2022-02-22T19:31:15.051Z"
   },
   {
    "duration": 1246,
    "start_time": "2022-02-22T19:31:19.193Z"
   },
   {
    "duration": 1242,
    "start_time": "2022-02-22T19:31:31.422Z"
   },
   {
    "duration": 1300,
    "start_time": "2022-02-22T19:33:11.049Z"
   },
   {
    "duration": 1333,
    "start_time": "2022-02-22T19:33:19.086Z"
   },
   {
    "duration": 1281,
    "start_time": "2022-02-22T19:34:31.484Z"
   },
   {
    "duration": 1247,
    "start_time": "2022-02-22T19:34:39.465Z"
   },
   {
    "duration": 1777,
    "start_time": "2022-02-22T19:34:52.693Z"
   },
   {
    "duration": 1225,
    "start_time": "2022-02-22T19:35:05.944Z"
   },
   {
    "duration": 1212,
    "start_time": "2022-02-22T19:35:22.246Z"
   },
   {
    "duration": 1263,
    "start_time": "2022-02-22T19:35:50.150Z"
   },
   {
    "duration": 1243,
    "start_time": "2022-02-22T19:37:00.094Z"
   },
   {
    "duration": 1144,
    "start_time": "2022-02-22T19:37:08.758Z"
   },
   {
    "duration": 1200,
    "start_time": "2022-02-22T19:38:01.732Z"
   },
   {
    "duration": 1101,
    "start_time": "2022-02-22T19:38:11.672Z"
   },
   {
    "duration": 1111,
    "start_time": "2022-02-22T19:38:19.936Z"
   },
   {
    "duration": 1744,
    "start_time": "2022-02-22T19:38:42.927Z"
   },
   {
    "duration": 1099,
    "start_time": "2022-02-22T19:38:51.375Z"
   },
   {
    "duration": 1146,
    "start_time": "2022-02-22T19:38:56.448Z"
   },
   {
    "duration": 1070,
    "start_time": "2022-02-22T19:39:57.137Z"
   },
   {
    "duration": 1100,
    "start_time": "2022-02-22T19:40:04.456Z"
   },
   {
    "duration": 1128,
    "start_time": "2022-02-22T19:40:10.121Z"
   },
   {
    "duration": 395,
    "start_time": "2022-02-22T19:59:17.615Z"
   },
   {
    "duration": 367,
    "start_time": "2022-02-22T19:59:23.947Z"
   },
   {
    "duration": 405,
    "start_time": "2022-02-22T19:59:29.678Z"
   },
   {
    "duration": 411,
    "start_time": "2022-02-22T19:59:40.337Z"
   },
   {
    "duration": 389,
    "start_time": "2022-02-22T19:59:55.018Z"
   },
   {
    "duration": 351,
    "start_time": "2022-02-22T19:59:59.209Z"
   },
   {
    "duration": 361,
    "start_time": "2022-02-22T20:00:07.498Z"
   },
   {
    "duration": 388,
    "start_time": "2022-02-22T20:02:59.543Z"
   },
   {
    "duration": 297,
    "start_time": "2022-02-22T20:06:52.262Z"
   },
   {
    "duration": 570,
    "start_time": "2022-02-22T20:18:32.173Z"
   },
   {
    "duration": 535,
    "start_time": "2022-02-22T20:18:42.739Z"
   },
   {
    "duration": 597,
    "start_time": "2022-02-22T20:19:05.317Z"
   },
   {
    "duration": 546,
    "start_time": "2022-02-22T20:19:15.379Z"
   },
   {
    "duration": 472,
    "start_time": "2022-02-22T20:19:56.474Z"
   },
   {
    "duration": 444,
    "start_time": "2022-02-22T20:20:03.504Z"
   },
   {
    "duration": 446,
    "start_time": "2022-02-22T20:20:13.569Z"
   },
   {
    "duration": 468,
    "start_time": "2022-02-22T20:20:28.765Z"
   },
   {
    "duration": 455,
    "start_time": "2022-02-22T20:32:26.480Z"
   },
   {
    "duration": 450,
    "start_time": "2022-02-22T20:32:44.587Z"
   },
   {
    "duration": 742,
    "start_time": "2022-02-22T20:32:59.984Z"
   },
   {
    "duration": 507,
    "start_time": "2022-02-22T20:33:29.708Z"
   },
   {
    "duration": 553,
    "start_time": "2022-02-22T20:33:36.191Z"
   },
   {
    "duration": 1287,
    "start_time": "2022-02-22T20:33:49.972Z"
   },
   {
    "duration": 521,
    "start_time": "2022-02-22T20:37:23.137Z"
   },
   {
    "duration": 10,
    "start_time": "2022-02-22T20:40:20.377Z"
   },
   {
    "duration": 57,
    "start_time": "2022-02-22T20:54:52.851Z"
   },
   {
    "duration": 56,
    "start_time": "2022-02-22T20:55:07.854Z"
   },
   {
    "duration": 58,
    "start_time": "2022-02-22T20:55:16.694Z"
   },
   {
    "duration": 34,
    "start_time": "2022-02-22T20:55:37.271Z"
   },
   {
    "duration": 43,
    "start_time": "2022-02-22T20:59:36.035Z"
   },
   {
    "duration": 39,
    "start_time": "2022-02-22T20:59:58.074Z"
   },
   {
    "duration": 42,
    "start_time": "2022-02-22T21:01:25.018Z"
   },
   {
    "duration": 33,
    "start_time": "2022-02-22T21:02:18.297Z"
   },
   {
    "duration": 1204,
    "start_time": "2022-02-22T21:07:03.891Z"
   },
   {
    "duration": 264,
    "start_time": "2022-02-22T21:08:58.315Z"
   },
   {
    "duration": 711,
    "start_time": "2022-02-22T21:11:06.376Z"
   },
   {
    "duration": 102,
    "start_time": "2022-02-22T21:11:07.089Z"
   },
   {
    "duration": 12,
    "start_time": "2022-02-22T21:11:07.194Z"
   },
   {
    "duration": 9,
    "start_time": "2022-02-22T21:11:07.208Z"
   },
   {
    "duration": 31,
    "start_time": "2022-02-22T21:11:07.219Z"
   },
   {
    "duration": 7,
    "start_time": "2022-02-22T21:11:07.270Z"
   },
   {
    "duration": 7,
    "start_time": "2022-02-22T21:11:07.279Z"
   },
   {
    "duration": 164,
    "start_time": "2022-02-22T21:11:07.288Z"
   },
   {
    "duration": 7,
    "start_time": "2022-02-22T21:11:07.468Z"
   },
   {
    "duration": 29,
    "start_time": "2022-02-22T21:11:07.477Z"
   },
   {
    "duration": 4,
    "start_time": "2022-02-22T21:11:07.507Z"
   },
   {
    "duration": 8,
    "start_time": "2022-02-22T21:11:07.513Z"
   },
   {
    "duration": 25,
    "start_time": "2022-02-22T21:11:07.523Z"
   },
   {
    "duration": 7,
    "start_time": "2022-02-22T21:11:07.549Z"
   },
   {
    "duration": 20,
    "start_time": "2022-02-22T21:11:07.557Z"
   },
   {
    "duration": 7,
    "start_time": "2022-02-22T21:11:07.579Z"
   },
   {
    "duration": 15,
    "start_time": "2022-02-22T21:11:07.588Z"
   },
   {
    "duration": 15,
    "start_time": "2022-02-22T21:11:07.605Z"
   },
   {
    "duration": 7,
    "start_time": "2022-02-22T21:11:07.622Z"
   },
   {
    "duration": 11,
    "start_time": "2022-02-22T21:11:07.630Z"
   },
   {
    "duration": 7,
    "start_time": "2022-02-22T21:11:07.670Z"
   },
   {
    "duration": 6,
    "start_time": "2022-02-22T21:11:07.679Z"
   },
   {
    "duration": 8,
    "start_time": "2022-02-22T21:11:07.686Z"
   },
   {
    "duration": 21,
    "start_time": "2022-02-22T21:11:07.695Z"
   },
   {
    "duration": 10,
    "start_time": "2022-02-22T21:11:07.718Z"
   },
   {
    "duration": 5,
    "start_time": "2022-02-22T21:11:07.730Z"
   },
   {
    "duration": 21,
    "start_time": "2022-02-22T21:11:07.772Z"
   },
   {
    "duration": 15,
    "start_time": "2022-02-22T21:11:07.796Z"
   },
   {
    "duration": 10,
    "start_time": "2022-02-22T21:11:07.813Z"
   },
   {
    "duration": 7,
    "start_time": "2022-02-22T21:11:07.825Z"
   },
   {
    "duration": 19,
    "start_time": "2022-02-22T21:11:07.834Z"
   },
   {
    "duration": 23,
    "start_time": "2022-02-22T21:11:07.855Z"
   },
   {
    "duration": 4,
    "start_time": "2022-02-22T21:11:07.880Z"
   },
   {
    "duration": 24,
    "start_time": "2022-02-22T21:11:07.885Z"
   },
   {
    "duration": 654,
    "start_time": "2022-02-22T21:11:07.910Z"
   },
   {
    "duration": 78,
    "start_time": "2022-02-22T21:11:08.566Z"
   },
   {
    "duration": 1400,
    "start_time": "2022-02-22T21:11:08.646Z"
   },
   {
    "duration": 1267,
    "start_time": "2022-02-22T21:11:10.048Z"
   },
   {
    "duration": 355,
    "start_time": "2022-02-22T21:11:11.317Z"
   },
   {
    "duration": 623,
    "start_time": "2022-02-22T21:11:11.674Z"
   },
   {
    "duration": 9,
    "start_time": "2022-02-22T21:11:12.298Z"
   },
   {
    "duration": 83,
    "start_time": "2022-02-22T21:11:12.309Z"
   },
   {
    "duration": 704,
    "start_time": "2022-02-22T21:13:19.610Z"
   },
   {
    "duration": 106,
    "start_time": "2022-02-22T21:13:20.316Z"
   },
   {
    "duration": 15,
    "start_time": "2022-02-22T21:13:20.425Z"
   },
   {
    "duration": 28,
    "start_time": "2022-02-22T21:13:20.442Z"
   },
   {
    "duration": 32,
    "start_time": "2022-02-22T21:13:20.472Z"
   },
   {
    "duration": 7,
    "start_time": "2022-02-22T21:13:20.506Z"
   },
   {
    "duration": 12,
    "start_time": "2022-02-22T21:13:20.514Z"
   },
   {
    "duration": 178,
    "start_time": "2022-02-22T21:13:20.529Z"
   },
   {
    "duration": 6,
    "start_time": "2022-02-22T21:13:20.709Z"
   },
   {
    "duration": 12,
    "start_time": "2022-02-22T21:13:20.717Z"
   },
   {
    "duration": 3,
    "start_time": "2022-02-22T21:13:20.731Z"
   },
   {
    "duration": 35,
    "start_time": "2022-02-22T21:13:20.736Z"
   },
   {
    "duration": 11,
    "start_time": "2022-02-22T21:13:20.773Z"
   },
   {
    "duration": 4,
    "start_time": "2022-02-22T21:13:20.786Z"
   },
   {
    "duration": 15,
    "start_time": "2022-02-22T21:13:20.792Z"
   },
   {
    "duration": 7,
    "start_time": "2022-02-22T21:13:20.809Z"
   },
   {
    "duration": 53,
    "start_time": "2022-02-22T21:13:20.818Z"
   },
   {
    "duration": 16,
    "start_time": "2022-02-22T21:13:20.873Z"
   },
   {
    "duration": 8,
    "start_time": "2022-02-22T21:13:20.891Z"
   },
   {
    "duration": 10,
    "start_time": "2022-02-22T21:13:20.900Z"
   },
   {
    "duration": 11,
    "start_time": "2022-02-22T21:13:20.912Z"
   },
   {
    "duration": 5,
    "start_time": "2022-02-22T21:13:20.925Z"
   },
   {
    "duration": 42,
    "start_time": "2022-02-22T21:13:20.934Z"
   },
   {
    "duration": 20,
    "start_time": "2022-02-22T21:13:20.979Z"
   },
   {
    "duration": 12,
    "start_time": "2022-02-22T21:13:21.002Z"
   },
   {
    "duration": 8,
    "start_time": "2022-02-22T21:13:21.016Z"
   },
   {
    "duration": 53,
    "start_time": "2022-02-22T21:13:21.026Z"
   },
   {
    "duration": 12,
    "start_time": "2022-02-22T21:13:21.081Z"
   },
   {
    "duration": 17,
    "start_time": "2022-02-22T21:13:21.095Z"
   },
   {
    "duration": 9,
    "start_time": "2022-02-22T21:13:21.114Z"
   },
   {
    "duration": 16,
    "start_time": "2022-02-22T21:13:21.125Z"
   },
   {
    "duration": 26,
    "start_time": "2022-02-22T21:13:21.143Z"
   },
   {
    "duration": 4,
    "start_time": "2022-02-22T21:13:21.171Z"
   },
   {
    "duration": 22,
    "start_time": "2022-02-22T21:13:21.176Z"
   },
   {
    "duration": 677,
    "start_time": "2022-02-22T21:13:21.200Z"
   },
   {
    "duration": 77,
    "start_time": "2022-02-22T21:13:21.879Z"
   },
   {
    "duration": 1358,
    "start_time": "2022-02-22T21:13:21.958Z"
   },
   {
    "duration": 1232,
    "start_time": "2022-02-22T21:13:23.318Z"
   },
   {
    "duration": 404,
    "start_time": "2022-02-22T21:13:24.553Z"
   },
   {
    "duration": 626,
    "start_time": "2022-02-22T21:13:24.959Z"
   },
   {
    "duration": 10,
    "start_time": "2022-02-22T21:13:25.587Z"
   },
   {
    "duration": 39,
    "start_time": "2022-02-22T21:13:25.599Z"
   },
   {
    "duration": 3,
    "start_time": "2022-02-22T21:13:25.640Z"
   },
   {
    "duration": 30,
    "start_time": "2022-02-22T21:13:25.644Z"
   },
   {
    "duration": 13,
    "start_time": "2022-02-22T21:13:25.676Z"
   },
   {
    "duration": 8,
    "start_time": "2022-02-22T21:13:25.691Z"
   },
   {
    "duration": 12,
    "start_time": "2022-02-22T21:13:25.701Z"
   },
   {
    "duration": 10,
    "start_time": "2022-02-22T21:13:25.714Z"
   },
   {
    "duration": 2,
    "start_time": "2022-02-22T21:13:25.726Z"
   },
   {
    "duration": 174,
    "start_time": "2022-02-22T21:15:12.078Z"
   },
   {
    "duration": 497,
    "start_time": "2022-02-22T21:16:00.333Z"
   },
   {
    "duration": 540,
    "start_time": "2022-02-22T21:16:10.879Z"
   },
   {
    "duration": 373,
    "start_time": "2022-02-22T21:17:51.671Z"
   },
   {
    "duration": 447,
    "start_time": "2022-02-22T21:18:30.877Z"
   },
   {
    "duration": 707,
    "start_time": "2022-02-22T21:21:20.789Z"
   },
   {
    "duration": 106,
    "start_time": "2022-02-22T21:21:21.498Z"
   },
   {
    "duration": 13,
    "start_time": "2022-02-22T21:21:21.606Z"
   },
   {
    "duration": 27,
    "start_time": "2022-02-22T21:21:21.621Z"
   },
   {
    "duration": 50,
    "start_time": "2022-02-22T21:21:21.649Z"
   },
   {
    "duration": 7,
    "start_time": "2022-02-22T21:21:21.701Z"
   },
   {
    "duration": 9,
    "start_time": "2022-02-22T21:21:21.710Z"
   },
   {
    "duration": 165,
    "start_time": "2022-02-22T21:21:21.722Z"
   },
   {
    "duration": 6,
    "start_time": "2022-02-22T21:21:21.889Z"
   },
   {
    "duration": 20,
    "start_time": "2022-02-22T21:21:21.897Z"
   },
   {
    "duration": 5,
    "start_time": "2022-02-22T21:21:21.919Z"
   },
   {
    "duration": 6,
    "start_time": "2022-02-22T21:21:21.926Z"
   },
   {
    "duration": 37,
    "start_time": "2022-02-22T21:21:21.934Z"
   },
   {
    "duration": 3,
    "start_time": "2022-02-22T21:21:21.973Z"
   },
   {
    "duration": 14,
    "start_time": "2022-02-22T21:21:21.978Z"
   },
   {
    "duration": 5,
    "start_time": "2022-02-22T21:21:21.994Z"
   },
   {
    "duration": 26,
    "start_time": "2022-02-22T21:21:22.002Z"
   },
   {
    "duration": 32,
    "start_time": "2022-02-22T21:21:22.030Z"
   },
   {
    "duration": 10,
    "start_time": "2022-02-22T21:21:22.064Z"
   },
   {
    "duration": 8,
    "start_time": "2022-02-22T21:21:22.076Z"
   },
   {
    "duration": 10,
    "start_time": "2022-02-22T21:21:22.086Z"
   },
   {
    "duration": 5,
    "start_time": "2022-02-22T21:21:22.098Z"
   },
   {
    "duration": 8,
    "start_time": "2022-02-22T21:21:22.106Z"
   },
   {
    "duration": 18,
    "start_time": "2022-02-22T21:21:22.116Z"
   },
   {
    "duration": 43,
    "start_time": "2022-02-22T21:21:22.135Z"
   },
   {
    "duration": 5,
    "start_time": "2022-02-22T21:21:22.180Z"
   },
   {
    "duration": 22,
    "start_time": "2022-02-22T21:21:22.186Z"
   },
   {
    "duration": 12,
    "start_time": "2022-02-22T21:21:22.210Z"
   },
   {
    "duration": 9,
    "start_time": "2022-02-22T21:21:22.224Z"
   },
   {
    "duration": 39,
    "start_time": "2022-02-22T21:21:22.234Z"
   },
   {
    "duration": 10,
    "start_time": "2022-02-22T21:21:22.274Z"
   },
   {
    "duration": 9,
    "start_time": "2022-02-22T21:21:22.286Z"
   },
   {
    "duration": 3,
    "start_time": "2022-02-22T21:21:22.297Z"
   },
   {
    "duration": 15,
    "start_time": "2022-02-22T21:21:22.302Z"
   },
   {
    "duration": 701,
    "start_time": "2022-02-22T21:21:22.319Z"
   },
   {
    "duration": 92,
    "start_time": "2022-02-22T21:21:23.022Z"
   },
   {
    "duration": 1361,
    "start_time": "2022-02-22T21:21:23.116Z"
   },
   {
    "duration": 1249,
    "start_time": "2022-02-22T21:21:24.478Z"
   },
   {
    "duration": 371,
    "start_time": "2022-02-22T21:21:25.729Z"
   },
   {
    "duration": 615,
    "start_time": "2022-02-22T21:21:26.102Z"
   },
   {
    "duration": 10,
    "start_time": "2022-02-22T21:21:26.719Z"
   },
   {
    "duration": 45,
    "start_time": "2022-02-22T21:21:26.731Z"
   },
   {
    "duration": 445,
    "start_time": "2022-02-22T21:21:26.778Z"
   },
   {
    "duration": 774,
    "start_time": "2022-02-22T21:21:27.225Z"
   },
   {
    "duration": 3,
    "start_time": "2022-02-22T21:21:28.001Z"
   },
   {
    "duration": 67,
    "start_time": "2022-02-22T21:21:28.006Z"
   },
   {
    "duration": 9,
    "start_time": "2022-02-22T21:21:28.074Z"
   },
   {
    "duration": 16,
    "start_time": "2022-02-22T21:21:28.085Z"
   },
   {
    "duration": 20,
    "start_time": "2022-02-22T21:21:28.102Z"
   },
   {
    "duration": 9,
    "start_time": "2022-02-22T21:21:28.124Z"
   },
   {
    "duration": 10,
    "start_time": "2022-02-22T21:21:28.135Z"
   },
   {
    "duration": 480,
    "start_time": "2022-02-22T21:35:18.157Z"
   },
   {
    "duration": 499,
    "start_time": "2022-02-22T21:36:34.393Z"
   },
   {
    "duration": 498,
    "start_time": "2022-02-22T21:36:41.331Z"
   },
   {
    "duration": 519,
    "start_time": "2022-02-22T21:36:58.550Z"
   },
   {
    "duration": 458,
    "start_time": "2022-02-22T21:37:04.236Z"
   },
   {
    "duration": 525,
    "start_time": "2022-02-22T21:37:10.900Z"
   },
   {
    "duration": 656,
    "start_time": "2022-02-22T21:37:41.407Z"
   },
   {
    "duration": 515,
    "start_time": "2022-02-22T21:37:49.094Z"
   },
   {
    "duration": 497,
    "start_time": "2022-02-22T21:37:57.891Z"
   },
   {
    "duration": 475,
    "start_time": "2022-02-22T21:38:03.689Z"
   },
   {
    "duration": 9,
    "start_time": "2022-02-22T21:42:23.679Z"
   },
   {
    "duration": 809,
    "start_time": "2022-02-23T10:00:51.700Z"
   },
   {
    "duration": 121,
    "start_time": "2022-02-23T10:00:52.511Z"
   },
   {
    "duration": 16,
    "start_time": "2022-02-23T10:00:52.635Z"
   },
   {
    "duration": 18,
    "start_time": "2022-02-23T10:00:52.653Z"
   },
   {
    "duration": 52,
    "start_time": "2022-02-23T10:00:52.673Z"
   },
   {
    "duration": 7,
    "start_time": "2022-02-23T10:00:52.728Z"
   },
   {
    "duration": 13,
    "start_time": "2022-02-23T10:00:52.737Z"
   },
   {
    "duration": 169,
    "start_time": "2022-02-23T10:00:52.753Z"
   },
   {
    "duration": 7,
    "start_time": "2022-02-23T10:00:52.926Z"
   },
   {
    "duration": 14,
    "start_time": "2022-02-23T10:00:52.935Z"
   },
   {
    "duration": 4,
    "start_time": "2022-02-23T10:00:52.951Z"
   },
   {
    "duration": 8,
    "start_time": "2022-02-23T10:00:52.957Z"
   },
   {
    "duration": 16,
    "start_time": "2022-02-23T10:00:52.967Z"
   },
   {
    "duration": 4,
    "start_time": "2022-02-23T10:00:53.007Z"
   },
   {
    "duration": 24,
    "start_time": "2022-02-23T10:00:53.014Z"
   },
   {
    "duration": 7,
    "start_time": "2022-02-23T10:00:53.040Z"
   },
   {
    "duration": 17,
    "start_time": "2022-02-23T10:00:53.049Z"
   },
   {
    "duration": 14,
    "start_time": "2022-02-23T10:00:53.068Z"
   },
   {
    "duration": 10,
    "start_time": "2022-02-23T10:00:53.108Z"
   },
   {
    "duration": 9,
    "start_time": "2022-02-23T10:00:53.121Z"
   },
   {
    "duration": 16,
    "start_time": "2022-02-23T10:00:53.132Z"
   },
   {
    "duration": 8,
    "start_time": "2022-02-23T10:00:53.150Z"
   },
   {
    "duration": 9,
    "start_time": "2022-02-23T10:00:53.164Z"
   },
   {
    "duration": 45,
    "start_time": "2022-02-23T10:00:53.176Z"
   },
   {
    "duration": 13,
    "start_time": "2022-02-23T10:00:53.223Z"
   },
   {
    "duration": 8,
    "start_time": "2022-02-23T10:00:53.238Z"
   },
   {
    "duration": 58,
    "start_time": "2022-02-23T10:00:53.249Z"
   },
   {
    "duration": 14,
    "start_time": "2022-02-23T10:00:53.309Z"
   },
   {
    "duration": 11,
    "start_time": "2022-02-23T10:00:53.325Z"
   },
   {
    "duration": 9,
    "start_time": "2022-02-23T10:00:53.338Z"
   },
   {
    "duration": 12,
    "start_time": "2022-02-23T10:00:53.349Z"
   },
   {
    "duration": 15,
    "start_time": "2022-02-23T10:00:53.363Z"
   },
   {
    "duration": 28,
    "start_time": "2022-02-23T10:00:53.380Z"
   },
   {
    "duration": 25,
    "start_time": "2022-02-23T10:00:53.410Z"
   },
   {
    "duration": 727,
    "start_time": "2022-02-23T10:00:53.437Z"
   },
   {
    "duration": 87,
    "start_time": "2022-02-23T10:00:54.167Z"
   },
   {
    "duration": 1358,
    "start_time": "2022-02-23T10:00:54.256Z"
   },
   {
    "duration": 1217,
    "start_time": "2022-02-23T10:00:55.616Z"
   },
   {
    "duration": 358,
    "start_time": "2022-02-23T10:00:56.835Z"
   },
   {
    "duration": 24,
    "start_time": "2022-02-23T10:00:57.195Z"
   },
   {
    "duration": 738,
    "start_time": "2022-02-23T10:00:57.221Z"
   },
   {
    "duration": 10,
    "start_time": "2022-02-23T10:00:57.961Z"
   },
   {
    "duration": 50,
    "start_time": "2022-02-23T10:00:57.973Z"
   },
   {
    "duration": 498,
    "start_time": "2022-02-23T10:00:58.025Z"
   },
   {
    "duration": 8,
    "start_time": "2022-02-23T10:00:58.525Z"
   },
   {
    "duration": 16,
    "start_time": "2022-02-23T10:00:58.535Z"
   },
   {
    "duration": 9,
    "start_time": "2022-02-23T10:00:58.554Z"
   },
   {
    "duration": 13,
    "start_time": "2022-02-23T10:00:58.566Z"
   },
   {
    "duration": 36,
    "start_time": "2022-02-23T10:00:58.581Z"
   },
   {
    "duration": 10,
    "start_time": "2022-02-23T10:00:58.619Z"
   },
   {
    "duration": 32,
    "start_time": "2022-02-23T10:04:19.187Z"
   },
   {
    "duration": 322,
    "start_time": "2022-02-23T10:05:08.075Z"
   },
   {
    "duration": 533,
    "start_time": "2022-02-23T10:05:30.656Z"
   },
   {
    "duration": 537,
    "start_time": "2022-02-23T10:06:13.797Z"
   },
   {
    "duration": 681,
    "start_time": "2022-02-23T10:06:18.507Z"
   },
   {
    "duration": 4,
    "start_time": "2022-02-23T10:07:08.710Z"
   },
   {
    "duration": 48,
    "start_time": "2022-02-23T10:07:15.892Z"
   },
   {
    "duration": 12,
    "start_time": "2022-02-23T10:07:34.370Z"
   },
   {
    "duration": 11,
    "start_time": "2022-02-23T10:07:45.593Z"
   },
   {
    "duration": 552,
    "start_time": "2022-02-23T10:08:26.107Z"
   },
   {
    "duration": 11,
    "start_time": "2022-02-23T10:08:54.164Z"
   },
   {
    "duration": 37,
    "start_time": "2022-02-23T10:09:49.658Z"
   },
   {
    "duration": 39,
    "start_time": "2022-02-23T10:10:05.749Z"
   },
   {
    "duration": 11,
    "start_time": "2022-02-23T10:24:31.697Z"
   },
   {
    "duration": 15,
    "start_time": "2022-02-23T10:24:37.486Z"
   },
   {
    "duration": 232,
    "start_time": "2022-02-23T10:24:57.979Z"
   },
   {
    "duration": 17,
    "start_time": "2022-02-23T10:25:56.521Z"
   },
   {
    "duration": 234,
    "start_time": "2022-02-23T10:26:20.999Z"
   },
   {
    "duration": 216,
    "start_time": "2022-02-23T10:26:43.144Z"
   },
   {
    "duration": 445,
    "start_time": "2022-02-23T10:27:18.826Z"
   },
   {
    "duration": 269,
    "start_time": "2022-02-23T10:27:31.483Z"
   },
   {
    "duration": 261,
    "start_time": "2022-02-23T10:27:54.148Z"
   },
   {
    "duration": 318,
    "start_time": "2022-02-23T10:28:10.831Z"
   },
   {
    "duration": 338,
    "start_time": "2022-02-23T10:28:35.843Z"
   },
   {
    "duration": 490,
    "start_time": "2022-02-23T10:28:57.069Z"
   },
   {
    "duration": 285,
    "start_time": "2022-02-23T10:29:10.134Z"
   },
   {
    "duration": 301,
    "start_time": "2022-02-23T10:36:47.891Z"
   },
   {
    "duration": 298,
    "start_time": "2022-02-23T10:48:05.655Z"
   },
   {
    "duration": 350,
    "start_time": "2022-02-23T11:05:41.532Z"
   },
   {
    "duration": 607,
    "start_time": "2022-02-23T11:06:40.919Z"
   },
   {
    "duration": 164,
    "start_time": "2022-02-23T11:07:06.312Z"
   },
   {
    "duration": 2799,
    "start_time": "2022-02-23T11:07:26.118Z"
   },
   {
    "duration": 235,
    "start_time": "2022-02-23T11:07:40.797Z"
   },
   {
    "duration": 307,
    "start_time": "2022-02-23T11:07:51.112Z"
   },
   {
    "duration": 282,
    "start_time": "2022-02-23T11:11:15.019Z"
   },
   {
    "duration": 313,
    "start_time": "2022-02-23T11:11:32.720Z"
   },
   {
    "duration": 279,
    "start_time": "2022-02-23T11:11:37.246Z"
   },
   {
    "duration": 413,
    "start_time": "2022-02-23T11:11:41.681Z"
   },
   {
    "duration": 288,
    "start_time": "2022-02-23T11:11:48.243Z"
   },
   {
    "duration": 320,
    "start_time": "2022-02-23T11:11:52.489Z"
   },
   {
    "duration": 308,
    "start_time": "2022-02-23T11:11:55.791Z"
   },
   {
    "duration": 439,
    "start_time": "2022-02-23T11:15:18.595Z"
   },
   {
    "duration": 439,
    "start_time": "2022-02-23T11:19:30.646Z"
   },
   {
    "duration": 405,
    "start_time": "2022-02-23T11:19:36.018Z"
   },
   {
    "duration": 401,
    "start_time": "2022-02-23T11:19:39.300Z"
   },
   {
    "duration": 558,
    "start_time": "2022-02-23T11:19:45.894Z"
   },
   {
    "duration": 472,
    "start_time": "2022-02-23T11:20:32.703Z"
   },
   {
    "duration": 467,
    "start_time": "2022-02-23T11:20:48.157Z"
   },
   {
    "duration": 482,
    "start_time": "2022-02-23T11:20:53.201Z"
   },
   {
    "duration": 469,
    "start_time": "2022-02-23T11:20:57.863Z"
   },
   {
    "duration": 513,
    "start_time": "2022-02-23T11:21:03.924Z"
   },
   {
    "duration": 439,
    "start_time": "2022-02-23T11:21:07.347Z"
   },
   {
    "duration": 443,
    "start_time": "2022-02-23T11:21:11.394Z"
   },
   {
    "duration": 626,
    "start_time": "2022-02-23T11:21:14.325Z"
   },
   {
    "duration": 262,
    "start_time": "2022-02-23T11:21:28.339Z"
   },
   {
    "duration": 10,
    "start_time": "2022-02-23T11:21:34.185Z"
   },
   {
    "duration": 58,
    "start_time": "2022-02-23T13:03:34.793Z"
   },
   {
    "duration": 10,
    "start_time": "2022-02-23T13:03:45.671Z"
   },
   {
    "duration": 9,
    "start_time": "2022-02-23T13:03:53.166Z"
   },
   {
    "duration": 42,
    "start_time": "2022-02-23T13:04:13.240Z"
   },
   {
    "duration": 11,
    "start_time": "2022-02-23T13:10:23.584Z"
   },
   {
    "duration": 860,
    "start_time": "2022-02-23T13:12:41.822Z"
   },
   {
    "duration": 1033,
    "start_time": "2022-02-23T13:34:16.657Z"
   },
   {
    "duration": 1115,
    "start_time": "2022-02-23T13:34:22.063Z"
   },
   {
    "duration": 1127,
    "start_time": "2022-02-23T13:34:25.151Z"
   },
   {
    "duration": 1494,
    "start_time": "2022-02-23T13:34:36.393Z"
   },
   {
    "duration": 1812,
    "start_time": "2022-02-23T13:35:16.634Z"
   },
   {
    "duration": 13,
    "start_time": "2022-02-23T17:48:15.832Z"
   },
   {
    "duration": 41,
    "start_time": "2022-02-23T17:48:51.946Z"
   },
   {
    "duration": 1402,
    "start_time": "2022-02-23T17:50:25.621Z"
   },
   {
    "duration": 1590,
    "start_time": "2022-02-23T17:50:38.087Z"
   },
   {
    "duration": 35,
    "start_time": "2022-02-23T17:53:24.689Z"
   },
   {
    "duration": 43,
    "start_time": "2022-02-23T17:53:29.767Z"
   },
   {
    "duration": 34,
    "start_time": "2022-02-23T17:53:36.061Z"
   },
   {
    "duration": 42,
    "start_time": "2022-02-23T17:53:48.435Z"
   },
   {
    "duration": 43,
    "start_time": "2022-02-23T17:54:13.643Z"
   },
   {
    "duration": 44,
    "start_time": "2022-02-23T17:54:29.912Z"
   },
   {
    "duration": 13,
    "start_time": "2022-02-23T18:13:15.472Z"
   },
   {
    "duration": 12,
    "start_time": "2022-02-23T18:13:37.533Z"
   },
   {
    "duration": 1811,
    "start_time": "2022-02-23T18:18:04.809Z"
   },
   {
    "duration": 225,
    "start_time": "2022-02-23T18:18:36.754Z"
   },
   {
    "duration": 1510,
    "start_time": "2022-02-23T18:18:42.736Z"
   },
   {
    "duration": 1590,
    "start_time": "2022-02-23T18:18:49.608Z"
   },
   {
    "duration": 1568,
    "start_time": "2022-02-23T18:19:13.109Z"
   },
   {
    "duration": 1631,
    "start_time": "2022-02-23T18:19:35.245Z"
   },
   {
    "duration": 12,
    "start_time": "2022-02-23T18:20:05.702Z"
   },
   {
    "duration": 13,
    "start_time": "2022-02-23T18:20:24.983Z"
   },
   {
    "duration": 1904,
    "start_time": "2022-02-23T18:20:57.903Z"
   },
   {
    "duration": 83,
    "start_time": "2022-02-23T18:21:58.801Z"
   },
   {
    "duration": 1532,
    "start_time": "2022-02-23T18:22:06.924Z"
   },
   {
    "duration": 2122,
    "start_time": "2022-02-23T18:22:33.759Z"
   },
   {
    "duration": 1545,
    "start_time": "2022-02-23T18:22:57.592Z"
   },
   {
    "duration": 1471,
    "start_time": "2022-02-23T18:23:14.165Z"
   },
   {
    "duration": 1488,
    "start_time": "2022-02-23T18:23:58.119Z"
   },
   {
    "duration": 1566,
    "start_time": "2022-02-23T18:24:32.444Z"
   },
   {
    "duration": 12,
    "start_time": "2022-02-23T18:26:00.438Z"
   },
   {
    "duration": 8,
    "start_time": "2022-02-23T18:26:09.364Z"
   },
   {
    "duration": 81,
    "start_time": "2022-02-23T18:26:14.530Z"
   },
   {
    "duration": 9,
    "start_time": "2022-02-23T18:26:18.579Z"
   },
   {
    "duration": 13,
    "start_time": "2022-02-23T18:42:58.054Z"
   },
   {
    "duration": 4,
    "start_time": "2022-02-23T18:44:17.128Z"
   },
   {
    "duration": 1470,
    "start_time": "2022-02-23T20:26:31.570Z"
   },
   {
    "duration": 1329,
    "start_time": "2022-02-23T20:27:25.429Z"
   },
   {
    "duration": 1772,
    "start_time": "2022-02-23T20:27:32.976Z"
   },
   {
    "duration": 1407,
    "start_time": "2022-02-23T20:27:50.041Z"
   },
   {
    "duration": 1416,
    "start_time": "2022-02-23T20:27:56.829Z"
   },
   {
    "duration": 1273,
    "start_time": "2022-02-23T20:28:06.269Z"
   },
   {
    "duration": 1223,
    "start_time": "2022-02-23T20:28:15.680Z"
   },
   {
    "duration": 1149,
    "start_time": "2022-02-23T20:28:28.123Z"
   },
   {
    "duration": 1761,
    "start_time": "2022-02-23T20:28:40.080Z"
   },
   {
    "duration": 1585,
    "start_time": "2022-02-23T20:28:57.805Z"
   },
   {
    "duration": 1634,
    "start_time": "2022-02-23T20:30:10.236Z"
   },
   {
    "duration": 2203,
    "start_time": "2022-02-23T20:30:43.663Z"
   },
   {
    "duration": 714,
    "start_time": "2022-02-23T20:33:06.432Z"
   },
   {
    "duration": 98,
    "start_time": "2022-02-23T20:33:07.149Z"
   },
   {
    "duration": 13,
    "start_time": "2022-02-23T20:33:07.249Z"
   },
   {
    "duration": 11,
    "start_time": "2022-02-23T20:33:07.264Z"
   },
   {
    "duration": 56,
    "start_time": "2022-02-23T20:33:07.277Z"
   },
   {
    "duration": 7,
    "start_time": "2022-02-23T20:33:07.335Z"
   },
   {
    "duration": 14,
    "start_time": "2022-02-23T20:33:07.344Z"
   },
   {
    "duration": 160,
    "start_time": "2022-02-23T20:33:07.360Z"
   },
   {
    "duration": 6,
    "start_time": "2022-02-23T20:33:07.524Z"
   },
   {
    "duration": 26,
    "start_time": "2022-02-23T20:33:07.533Z"
   },
   {
    "duration": 4,
    "start_time": "2022-02-23T20:33:07.561Z"
   },
   {
    "duration": 15,
    "start_time": "2022-02-23T20:33:07.567Z"
   },
   {
    "duration": 19,
    "start_time": "2022-02-23T20:33:07.583Z"
   },
   {
    "duration": 15,
    "start_time": "2022-02-23T20:33:07.604Z"
   },
   {
    "duration": 27,
    "start_time": "2022-02-23T20:33:07.621Z"
   },
   {
    "duration": 6,
    "start_time": "2022-02-23T20:33:07.650Z"
   },
   {
    "duration": 24,
    "start_time": "2022-02-23T20:33:07.657Z"
   },
   {
    "duration": 18,
    "start_time": "2022-02-23T20:33:07.682Z"
   },
   {
    "duration": 9,
    "start_time": "2022-02-23T20:33:07.707Z"
   },
   {
    "duration": 12,
    "start_time": "2022-02-23T20:33:07.718Z"
   },
   {
    "duration": 15,
    "start_time": "2022-02-23T20:33:07.733Z"
   },
   {
    "duration": 15,
    "start_time": "2022-02-23T20:33:07.750Z"
   },
   {
    "duration": 18,
    "start_time": "2022-02-23T20:33:07.767Z"
   },
   {
    "duration": 31,
    "start_time": "2022-02-23T20:33:07.787Z"
   },
   {
    "duration": 13,
    "start_time": "2022-02-23T20:33:07.820Z"
   },
   {
    "duration": 6,
    "start_time": "2022-02-23T20:33:07.835Z"
   },
   {
    "duration": 25,
    "start_time": "2022-02-23T20:33:07.845Z"
   },
   {
    "duration": 36,
    "start_time": "2022-02-23T20:33:07.873Z"
   },
   {
    "duration": 402,
    "start_time": "2022-02-23T20:33:07.912Z"
   },
   {
    "duration": -66,
    "start_time": "2022-02-23T20:33:08.382Z"
   },
   {
    "duration": -70,
    "start_time": "2022-02-23T20:33:08.387Z"
   },
   {
    "duration": -74,
    "start_time": "2022-02-23T20:33:08.392Z"
   },
   {
    "duration": -100,
    "start_time": "2022-02-23T20:33:08.420Z"
   },
   {
    "duration": -103,
    "start_time": "2022-02-23T20:33:08.424Z"
   },
   {
    "duration": -106,
    "start_time": "2022-02-23T20:33:08.429Z"
   },
   {
    "duration": -108,
    "start_time": "2022-02-23T20:33:08.432Z"
   },
   {
    "duration": -111,
    "start_time": "2022-02-23T20:33:08.436Z"
   },
   {
    "duration": -113,
    "start_time": "2022-02-23T20:33:08.440Z"
   },
   {
    "duration": -115,
    "start_time": "2022-02-23T20:33:08.443Z"
   },
   {
    "duration": -118,
    "start_time": "2022-02-23T20:33:08.448Z"
   },
   {
    "duration": -121,
    "start_time": "2022-02-23T20:33:08.452Z"
   },
   {
    "duration": -123,
    "start_time": "2022-02-23T20:33:08.455Z"
   },
   {
    "duration": -125,
    "start_time": "2022-02-23T20:33:08.458Z"
   },
   {
    "duration": -127,
    "start_time": "2022-02-23T20:33:08.461Z"
   },
   {
    "duration": -138,
    "start_time": "2022-02-23T20:33:08.473Z"
   },
   {
    "duration": -142,
    "start_time": "2022-02-23T20:33:08.478Z"
   },
   {
    "duration": -145,
    "start_time": "2022-02-23T20:33:08.482Z"
   },
   {
    "duration": -147,
    "start_time": "2022-02-23T20:33:08.485Z"
   },
   {
    "duration": -150,
    "start_time": "2022-02-23T20:33:08.489Z"
   },
   {
    "duration": -152,
    "start_time": "2022-02-23T20:33:08.492Z"
   },
   {
    "duration": -155,
    "start_time": "2022-02-23T20:33:08.496Z"
   },
   {
    "duration": -157,
    "start_time": "2022-02-23T20:33:08.499Z"
   },
   {
    "duration": -160,
    "start_time": "2022-02-23T20:33:08.503Z"
   },
   {
    "duration": -162,
    "start_time": "2022-02-23T20:33:08.506Z"
   },
   {
    "duration": -165,
    "start_time": "2022-02-23T20:33:08.510Z"
   },
   {
    "duration": -167,
    "start_time": "2022-02-23T20:33:08.513Z"
   },
   {
    "duration": -169,
    "start_time": "2022-02-23T20:33:08.516Z"
   },
   {
    "duration": -170,
    "start_time": "2022-02-23T20:33:08.519Z"
   },
   {
    "duration": 835,
    "start_time": "2022-02-23T20:34:07.772Z"
   },
   {
    "duration": 98,
    "start_time": "2022-02-23T20:34:08.610Z"
   },
   {
    "duration": 13,
    "start_time": "2022-02-23T20:34:08.710Z"
   },
   {
    "duration": 13,
    "start_time": "2022-02-23T20:34:08.725Z"
   },
   {
    "duration": 33,
    "start_time": "2022-02-23T20:34:08.740Z"
   },
   {
    "duration": 7,
    "start_time": "2022-02-23T20:34:08.774Z"
   },
   {
    "duration": 6,
    "start_time": "2022-02-23T20:34:08.809Z"
   },
   {
    "duration": 181,
    "start_time": "2022-02-23T20:34:08.819Z"
   },
   {
    "duration": 7,
    "start_time": "2022-02-23T20:34:09.009Z"
   },
   {
    "duration": 14,
    "start_time": "2022-02-23T20:34:09.018Z"
   },
   {
    "duration": 4,
    "start_time": "2022-02-23T20:34:09.034Z"
   },
   {
    "duration": 8,
    "start_time": "2022-02-23T20:34:09.039Z"
   },
   {
    "duration": 18,
    "start_time": "2022-02-23T20:34:09.048Z"
   },
   {
    "duration": 4,
    "start_time": "2022-02-23T20:34:09.068Z"
   },
   {
    "duration": 45,
    "start_time": "2022-02-23T20:34:09.073Z"
   },
   {
    "duration": 6,
    "start_time": "2022-02-23T20:34:09.120Z"
   },
   {
    "duration": 22,
    "start_time": "2022-02-23T20:34:09.128Z"
   },
   {
    "duration": 16,
    "start_time": "2022-02-23T20:34:09.152Z"
   },
   {
    "duration": 8,
    "start_time": "2022-02-23T20:34:09.170Z"
   },
   {
    "duration": 38,
    "start_time": "2022-02-23T20:34:09.180Z"
   },
   {
    "duration": 8,
    "start_time": "2022-02-23T20:34:09.220Z"
   },
   {
    "duration": 7,
    "start_time": "2022-02-23T20:34:09.230Z"
   },
   {
    "duration": 8,
    "start_time": "2022-02-23T20:34:09.241Z"
   },
   {
    "duration": 54,
    "start_time": "2022-02-23T20:34:09.252Z"
   },
   {
    "duration": 11,
    "start_time": "2022-02-23T20:34:09.309Z"
   },
   {
    "duration": 6,
    "start_time": "2022-02-23T20:34:09.322Z"
   },
   {
    "duration": 22,
    "start_time": "2022-02-23T20:34:09.330Z"
   },
   {
    "duration": 11,
    "start_time": "2022-02-23T20:34:09.354Z"
   },
   {
    "duration": 43,
    "start_time": "2022-02-23T20:34:09.367Z"
   },
   {
    "duration": 3,
    "start_time": "2022-02-23T20:34:09.412Z"
   },
   {
    "duration": 13,
    "start_time": "2022-02-23T20:34:09.417Z"
   },
   {
    "duration": 9,
    "start_time": "2022-02-23T20:34:09.431Z"
   },
   {
    "duration": 14,
    "start_time": "2022-02-23T20:34:09.442Z"
   },
   {
    "duration": 5,
    "start_time": "2022-02-23T20:34:09.458Z"
   },
   {
    "duration": 19,
    "start_time": "2022-02-23T20:34:09.464Z"
   },
   {
    "duration": 760,
    "start_time": "2022-02-23T20:34:09.485Z"
   },
   {
    "duration": 89,
    "start_time": "2022-02-23T20:34:10.247Z"
   },
   {
    "duration": 1275,
    "start_time": "2022-02-23T20:34:10.338Z"
   },
   {
    "duration": 1126,
    "start_time": "2022-02-23T20:34:11.615Z"
   },
   {
    "duration": 335,
    "start_time": "2022-02-23T20:34:12.743Z"
   },
   {
    "duration": 578,
    "start_time": "2022-02-23T20:34:13.080Z"
   },
   {
    "duration": 9,
    "start_time": "2022-02-23T20:34:13.660Z"
   },
   {
    "duration": 51,
    "start_time": "2022-02-23T20:34:13.671Z"
   },
   {
    "duration": 425,
    "start_time": "2022-02-23T20:34:13.724Z"
   },
   {
    "duration": 368,
    "start_time": "2022-02-23T20:34:14.151Z"
   },
   {
    "duration": 1779,
    "start_time": "2022-02-23T20:34:14.522Z"
   },
   {
    "duration": 14,
    "start_time": "2022-02-23T20:34:16.303Z"
   },
   {
    "duration": 1798,
    "start_time": "2022-02-23T20:34:16.319Z"
   },
   {
    "duration": 1696,
    "start_time": "2022-02-23T20:34:18.119Z"
   },
   {
    "duration": 1807,
    "start_time": "2022-02-23T20:34:19.817Z"
   },
   {
    "duration": 9,
    "start_time": "2022-02-23T20:34:21.627Z"
   },
   {
    "duration": 12,
    "start_time": "2022-02-23T20:34:21.638Z"
   },
   {
    "duration": 5,
    "start_time": "2022-02-23T20:34:21.652Z"
   },
   {
    "duration": 12,
    "start_time": "2022-02-23T20:34:21.659Z"
   },
   {
    "duration": 43,
    "start_time": "2022-02-23T20:34:21.673Z"
   },
   {
    "duration": 9,
    "start_time": "2022-02-23T20:34:21.719Z"
   },
   {
    "duration": 10,
    "start_time": "2022-02-23T20:34:21.730Z"
   },
   {
    "duration": 15,
    "start_time": "2022-02-23T20:34:21.743Z"
   },
   {
    "duration": 3,
    "start_time": "2022-02-23T20:34:21.760Z"
   },
   {
    "duration": 1502,
    "start_time": "2022-02-23T20:40:10.052Z"
   },
   {
    "duration": 1452,
    "start_time": "2022-02-23T20:40:19.992Z"
   },
   {
    "duration": 10,
    "start_time": "2022-02-23T20:42:54.536Z"
   },
   {
    "duration": 42,
    "start_time": "2022-02-23T20:43:00.850Z"
   },
   {
    "duration": 24,
    "start_time": "2022-02-23T20:43:09.691Z"
   },
   {
    "duration": 22,
    "start_time": "2022-02-23T20:43:30.444Z"
   },
   {
    "duration": 24,
    "start_time": "2022-02-23T20:43:57.120Z"
   },
   {
    "duration": 16,
    "start_time": "2022-02-23T20:44:29.644Z"
   },
   {
    "duration": 818,
    "start_time": "2022-02-23T20:45:08.271Z"
   },
   {
    "duration": 111,
    "start_time": "2022-02-23T20:45:09.092Z"
   },
   {
    "duration": 16,
    "start_time": "2022-02-23T20:45:09.207Z"
   },
   {
    "duration": 11,
    "start_time": "2022-02-23T20:45:09.225Z"
   },
   {
    "duration": 40,
    "start_time": "2022-02-23T20:45:09.239Z"
   },
   {
    "duration": 27,
    "start_time": "2022-02-23T20:45:09.281Z"
   },
   {
    "duration": 6,
    "start_time": "2022-02-23T20:45:09.311Z"
   },
   {
    "duration": 188,
    "start_time": "2022-02-23T20:45:09.320Z"
   },
   {
    "duration": 6,
    "start_time": "2022-02-23T20:45:09.511Z"
   },
   {
    "duration": 15,
    "start_time": "2022-02-23T20:45:09.520Z"
   },
   {
    "duration": 443,
    "start_time": "2022-02-23T20:45:09.537Z"
   },
   {
    "duration": -1,
    "start_time": "2022-02-23T20:45:09.984Z"
   },
   {
    "duration": -4,
    "start_time": "2022-02-23T20:45:09.988Z"
   },
   {
    "duration": -6,
    "start_time": "2022-02-23T20:45:09.991Z"
   },
   {
    "duration": -8,
    "start_time": "2022-02-23T20:45:09.995Z"
   },
   {
    "duration": -10,
    "start_time": "2022-02-23T20:45:09.998Z"
   },
   {
    "duration": -11,
    "start_time": "2022-02-23T20:45:10.001Z"
   },
   {
    "duration": -14,
    "start_time": "2022-02-23T20:45:10.005Z"
   },
   {
    "duration": -19,
    "start_time": "2022-02-23T20:45:10.011Z"
   },
   {
    "duration": -20,
    "start_time": "2022-02-23T20:45:10.014Z"
   },
   {
    "duration": -22,
    "start_time": "2022-02-23T20:45:10.017Z"
   },
   {
    "duration": -24,
    "start_time": "2022-02-23T20:45:10.020Z"
   },
   {
    "duration": -26,
    "start_time": "2022-02-23T20:45:10.023Z"
   },
   {
    "duration": -27,
    "start_time": "2022-02-23T20:45:10.026Z"
   },
   {
    "duration": -30,
    "start_time": "2022-02-23T20:45:10.030Z"
   },
   {
    "duration": -31,
    "start_time": "2022-02-23T20:45:10.032Z"
   },
   {
    "duration": -34,
    "start_time": "2022-02-23T20:45:10.036Z"
   },
   {
    "duration": -36,
    "start_time": "2022-02-23T20:45:10.039Z"
   },
   {
    "duration": -37,
    "start_time": "2022-02-23T20:45:10.042Z"
   },
   {
    "duration": -39,
    "start_time": "2022-02-23T20:45:10.045Z"
   },
   {
    "duration": -41,
    "start_time": "2022-02-23T20:45:10.048Z"
   },
   {
    "duration": -42,
    "start_time": "2022-02-23T20:45:10.051Z"
   },
   {
    "duration": -45,
    "start_time": "2022-02-23T20:45:10.055Z"
   },
   {
    "duration": -47,
    "start_time": "2022-02-23T20:45:10.058Z"
   },
   {
    "duration": -49,
    "start_time": "2022-02-23T20:45:10.062Z"
   },
   {
    "duration": -51,
    "start_time": "2022-02-23T20:45:10.065Z"
   },
   {
    "duration": -62,
    "start_time": "2022-02-23T20:45:10.077Z"
   },
   {
    "duration": -65,
    "start_time": "2022-02-23T20:45:10.081Z"
   },
   {
    "duration": -70,
    "start_time": "2022-02-23T20:45:10.087Z"
   },
   {
    "duration": -73,
    "start_time": "2022-02-23T20:45:10.091Z"
   },
   {
    "duration": -75,
    "start_time": "2022-02-23T20:45:10.094Z"
   },
   {
    "duration": -77,
    "start_time": "2022-02-23T20:45:10.097Z"
   },
   {
    "duration": -80,
    "start_time": "2022-02-23T20:45:10.101Z"
   },
   {
    "duration": -82,
    "start_time": "2022-02-23T20:45:10.104Z"
   },
   {
    "duration": -85,
    "start_time": "2022-02-23T20:45:10.108Z"
   },
   {
    "duration": -87,
    "start_time": "2022-02-23T20:45:10.111Z"
   },
   {
    "duration": -89,
    "start_time": "2022-02-23T20:45:10.114Z"
   },
   {
    "duration": -90,
    "start_time": "2022-02-23T20:45:10.117Z"
   },
   {
    "duration": -92,
    "start_time": "2022-02-23T20:45:10.120Z"
   },
   {
    "duration": -94,
    "start_time": "2022-02-23T20:45:10.123Z"
   },
   {
    "duration": -96,
    "start_time": "2022-02-23T20:45:10.126Z"
   },
   {
    "duration": -98,
    "start_time": "2022-02-23T20:45:10.129Z"
   },
   {
    "duration": -101,
    "start_time": "2022-02-23T20:45:10.133Z"
   },
   {
    "duration": -101,
    "start_time": "2022-02-23T20:45:10.135Z"
   },
   {
    "duration": -104,
    "start_time": "2022-02-23T20:45:10.139Z"
   },
   {
    "duration": -106,
    "start_time": "2022-02-23T20:45:10.142Z"
   },
   {
    "duration": -108,
    "start_time": "2022-02-23T20:45:10.145Z"
   },
   {
    "duration": -109,
    "start_time": "2022-02-23T20:45:10.148Z"
   },
   {
    "duration": -111,
    "start_time": "2022-02-23T20:45:10.151Z"
   },
   {
    "duration": -113,
    "start_time": "2022-02-23T20:45:10.154Z"
   },
   {
    "duration": 269,
    "start_time": "2022-02-23T20:45:19.659Z"
   },
   {
    "duration": 741,
    "start_time": "2022-02-23T20:45:36.469Z"
   },
   {
    "duration": 106,
    "start_time": "2022-02-23T20:45:37.212Z"
   },
   {
    "duration": 12,
    "start_time": "2022-02-23T20:45:37.321Z"
   },
   {
    "duration": 10,
    "start_time": "2022-02-23T20:45:37.336Z"
   },
   {
    "duration": 34,
    "start_time": "2022-02-23T20:45:37.348Z"
   },
   {
    "duration": 29,
    "start_time": "2022-02-23T20:45:37.383Z"
   },
   {
    "duration": 14,
    "start_time": "2022-02-23T20:45:37.415Z"
   },
   {
    "duration": 184,
    "start_time": "2022-02-23T20:45:37.431Z"
   },
   {
    "duration": 6,
    "start_time": "2022-02-23T20:45:37.618Z"
   },
   {
    "duration": 18,
    "start_time": "2022-02-23T20:45:37.627Z"
   },
   {
    "duration": 5,
    "start_time": "2022-02-23T20:45:37.647Z"
   },
   {
    "duration": 7,
    "start_time": "2022-02-23T20:45:37.653Z"
   },
   {
    "duration": 9,
    "start_time": "2022-02-23T20:45:37.662Z"
   },
   {
    "duration": 37,
    "start_time": "2022-02-23T20:45:37.672Z"
   },
   {
    "duration": 4,
    "start_time": "2022-02-23T20:45:37.711Z"
   },
   {
    "duration": 15,
    "start_time": "2022-02-23T20:45:37.718Z"
   },
   {
    "duration": 2,
    "start_time": "2022-02-23T20:45:37.735Z"
   },
   {
    "duration": 35,
    "start_time": "2022-02-23T20:45:37.739Z"
   },
   {
    "duration": 34,
    "start_time": "2022-02-23T20:45:37.776Z"
   },
   {
    "duration": 9,
    "start_time": "2022-02-23T20:45:37.813Z"
   },
   {
    "duration": 11,
    "start_time": "2022-02-23T20:45:37.824Z"
   },
   {
    "duration": 11,
    "start_time": "2022-02-23T20:45:37.837Z"
   },
   {
    "duration": 10,
    "start_time": "2022-02-23T20:45:37.850Z"
   },
   {
    "duration": 18,
    "start_time": "2022-02-23T20:45:37.863Z"
   },
   {
    "duration": 41,
    "start_time": "2022-02-23T20:45:37.884Z"
   },
   {
    "duration": 13,
    "start_time": "2022-02-23T20:45:37.927Z"
   },
   {
    "duration": 6,
    "start_time": "2022-02-23T20:45:37.945Z"
   },
   {
    "duration": 31,
    "start_time": "2022-02-23T20:45:37.954Z"
   },
   {
    "duration": 13,
    "start_time": "2022-02-23T20:45:38.007Z"
   },
   {
    "duration": 10,
    "start_time": "2022-02-23T20:45:38.022Z"
   },
   {
    "duration": 3,
    "start_time": "2022-02-23T20:45:38.035Z"
   },
   {
    "duration": 13,
    "start_time": "2022-02-23T20:45:38.040Z"
   },
   {
    "duration": 18,
    "start_time": "2022-02-23T20:45:38.055Z"
   },
   {
    "duration": 16,
    "start_time": "2022-02-23T20:45:38.075Z"
   },
   {
    "duration": 15,
    "start_time": "2022-02-23T20:45:38.093Z"
   },
   {
    "duration": 22,
    "start_time": "2022-02-23T20:45:38.110Z"
   },
   {
    "duration": 724,
    "start_time": "2022-02-23T20:45:38.134Z"
   },
   {
    "duration": 90,
    "start_time": "2022-02-23T20:45:38.860Z"
   },
   {
    "duration": 1542,
    "start_time": "2022-02-23T20:45:38.952Z"
   },
   {
    "duration": 1327,
    "start_time": "2022-02-23T20:45:40.496Z"
   },
   {
    "duration": 349,
    "start_time": "2022-02-23T20:45:41.826Z"
   },
   {
    "duration": 717,
    "start_time": "2022-02-23T20:45:42.177Z"
   },
   {
    "duration": 22,
    "start_time": "2022-02-23T20:45:42.897Z"
   },
   {
    "duration": 70,
    "start_time": "2022-02-23T20:45:42.929Z"
   },
   {
    "duration": 538,
    "start_time": "2022-02-23T20:45:43.005Z"
   },
   {
    "duration": 434,
    "start_time": "2022-02-23T20:45:43.545Z"
   },
   {
    "duration": 1474,
    "start_time": "2022-02-23T20:45:43.981Z"
   },
   {
    "duration": 13,
    "start_time": "2022-02-23T20:45:45.457Z"
   },
   {
    "duration": 1965,
    "start_time": "2022-02-23T20:45:45.472Z"
   },
   {
    "duration": 1862,
    "start_time": "2022-02-23T20:45:47.440Z"
   },
   {
    "duration": 1746,
    "start_time": "2022-02-23T20:45:49.308Z"
   },
   {
    "duration": 9,
    "start_time": "2022-02-23T20:45:51.056Z"
   },
   {
    "duration": 19,
    "start_time": "2022-02-23T20:45:51.067Z"
   },
   {
    "duration": 19,
    "start_time": "2022-02-23T20:45:51.088Z"
   },
   {
    "duration": 7,
    "start_time": "2022-02-23T20:45:51.110Z"
   },
   {
    "duration": 11,
    "start_time": "2022-02-23T20:45:51.119Z"
   },
   {
    "duration": 8,
    "start_time": "2022-02-23T20:45:51.132Z"
   },
   {
    "duration": 14,
    "start_time": "2022-02-23T20:45:51.141Z"
   },
   {
    "duration": 12,
    "start_time": "2022-02-23T20:45:51.157Z"
   },
   {
    "duration": 3,
    "start_time": "2022-02-23T20:45:51.171Z"
   },
   {
    "duration": 26,
    "start_time": "2022-02-23T20:46:17.625Z"
   },
   {
    "duration": 8,
    "start_time": "2022-02-23T20:51:49.467Z"
   },
   {
    "duration": 8,
    "start_time": "2022-02-23T20:54:47.570Z"
   },
   {
    "duration": 1706,
    "start_time": "2022-02-23T20:55:00.538Z"
   },
   {
    "duration": 737,
    "start_time": "2022-02-23T20:58:42.824Z"
   },
   {
    "duration": 105,
    "start_time": "2022-02-23T20:58:43.563Z"
   },
   {
    "duration": 13,
    "start_time": "2022-02-23T20:58:43.673Z"
   },
   {
    "duration": 26,
    "start_time": "2022-02-23T20:58:43.688Z"
   },
   {
    "duration": 33,
    "start_time": "2022-02-23T20:58:43.716Z"
   },
   {
    "duration": 8,
    "start_time": "2022-02-23T20:58:43.751Z"
   },
   {
    "duration": 10,
    "start_time": "2022-02-23T20:58:43.761Z"
   },
   {
    "duration": 187,
    "start_time": "2022-02-23T20:58:43.774Z"
   },
   {
    "duration": 7,
    "start_time": "2022-02-23T20:58:43.962Z"
   },
   {
    "duration": 13,
    "start_time": "2022-02-23T20:58:43.971Z"
   },
   {
    "duration": 22,
    "start_time": "2022-02-23T20:58:43.986Z"
   },
   {
    "duration": 20,
    "start_time": "2022-02-23T20:58:44.010Z"
   },
   {
    "duration": 20,
    "start_time": "2022-02-23T20:58:44.032Z"
   },
   {
    "duration": 4,
    "start_time": "2022-02-23T20:58:44.054Z"
   },
   {
    "duration": 17,
    "start_time": "2022-02-23T20:58:44.060Z"
   },
   {
    "duration": 5,
    "start_time": "2022-02-23T20:58:44.080Z"
   },
   {
    "duration": 7,
    "start_time": "2022-02-23T20:58:44.087Z"
   },
   {
    "duration": 25,
    "start_time": "2022-02-23T20:58:44.096Z"
   },
   {
    "duration": 16,
    "start_time": "2022-02-23T20:58:44.124Z"
   },
   {
    "duration": 9,
    "start_time": "2022-02-23T20:58:44.142Z"
   },
   {
    "duration": 15,
    "start_time": "2022-02-23T20:58:44.153Z"
   },
   {
    "duration": 38,
    "start_time": "2022-02-23T20:58:44.174Z"
   },
   {
    "duration": 6,
    "start_time": "2022-02-23T20:58:44.215Z"
   },
   {
    "duration": 11,
    "start_time": "2022-02-23T20:58:44.223Z"
   },
   {
    "duration": 24,
    "start_time": "2022-02-23T20:58:44.236Z"
   },
   {
    "duration": 12,
    "start_time": "2022-02-23T20:58:44.263Z"
   },
   {
    "duration": 7,
    "start_time": "2022-02-23T20:58:44.307Z"
   },
   {
    "duration": 27,
    "start_time": "2022-02-23T20:58:44.317Z"
   },
   {
    "duration": 13,
    "start_time": "2022-02-23T20:58:44.346Z"
   },
   {
    "duration": 12,
    "start_time": "2022-02-23T20:58:44.361Z"
   },
   {
    "duration": 9,
    "start_time": "2022-02-23T20:58:44.376Z"
   },
   {
    "duration": 20,
    "start_time": "2022-02-23T20:58:44.388Z"
   },
   {
    "duration": 12,
    "start_time": "2022-02-23T20:58:44.410Z"
   },
   {
    "duration": 22,
    "start_time": "2022-02-23T20:58:44.424Z"
   },
   {
    "duration": 12,
    "start_time": "2022-02-23T20:58:44.448Z"
   },
   {
    "duration": 21,
    "start_time": "2022-02-23T20:58:44.462Z"
   },
   {
    "duration": 709,
    "start_time": "2022-02-23T20:58:44.486Z"
   },
   {
    "duration": 81,
    "start_time": "2022-02-23T20:58:45.197Z"
   },
   {
    "duration": 1268,
    "start_time": "2022-02-23T20:58:45.280Z"
   },
   {
    "duration": 1108,
    "start_time": "2022-02-23T20:58:46.550Z"
   },
   {
    "duration": 338,
    "start_time": "2022-02-23T20:58:47.660Z"
   },
   {
    "duration": 573,
    "start_time": "2022-02-23T20:58:48.008Z"
   },
   {
    "duration": 10,
    "start_time": "2022-02-23T20:58:48.583Z"
   },
   {
    "duration": 37,
    "start_time": "2022-02-23T20:58:48.608Z"
   },
   {
    "duration": 465,
    "start_time": "2022-02-23T20:58:48.647Z"
   },
   {
    "duration": 371,
    "start_time": "2022-02-23T20:58:49.115Z"
   },
   {
    "duration": 1601,
    "start_time": "2022-02-23T20:58:49.488Z"
   },
   {
    "duration": 21,
    "start_time": "2022-02-23T20:58:51.091Z"
   },
   {
    "duration": 1693,
    "start_time": "2022-02-23T20:58:51.114Z"
   },
   {
    "duration": 1721,
    "start_time": "2022-02-23T20:58:52.809Z"
   },
   {
    "duration": 1770,
    "start_time": "2022-02-23T20:58:54.532Z"
   },
   {
    "duration": 8,
    "start_time": "2022-02-23T20:58:56.308Z"
   },
   {
    "duration": 14,
    "start_time": "2022-02-23T20:58:56.318Z"
   },
   {
    "duration": 5,
    "start_time": "2022-02-23T20:58:56.334Z"
   },
   {
    "duration": 9,
    "start_time": "2022-02-23T20:58:56.341Z"
   },
   {
    "duration": 9,
    "start_time": "2022-02-23T20:58:56.352Z"
   },
   {
    "duration": 46,
    "start_time": "2022-02-23T20:58:56.363Z"
   },
   {
    "duration": 9,
    "start_time": "2022-02-23T20:58:56.411Z"
   },
   {
    "duration": 13,
    "start_time": "2022-02-23T20:58:56.422Z"
   },
   {
    "duration": 2,
    "start_time": "2022-02-23T20:58:56.437Z"
   },
   {
    "duration": 514,
    "start_time": "2022-02-23T20:59:48.047Z"
   },
   {
    "duration": 5,
    "start_time": "2022-02-23T21:05:53.842Z"
   },
   {
    "duration": 1867,
    "start_time": "2022-02-23T21:06:02.804Z"
   },
   {
    "duration": 762,
    "start_time": "2022-02-23T21:07:43.976Z"
   },
   {
    "duration": 104,
    "start_time": "2022-02-23T21:07:44.740Z"
   },
   {
    "duration": 12,
    "start_time": "2022-02-23T21:07:44.846Z"
   },
   {
    "duration": 18,
    "start_time": "2022-02-23T21:07:44.861Z"
   },
   {
    "duration": 43,
    "start_time": "2022-02-23T21:07:44.881Z"
   },
   {
    "duration": 7,
    "start_time": "2022-02-23T21:07:44.926Z"
   },
   {
    "duration": 21,
    "start_time": "2022-02-23T21:07:44.935Z"
   },
   {
    "duration": 166,
    "start_time": "2022-02-23T21:07:44.959Z"
   },
   {
    "duration": 6,
    "start_time": "2022-02-23T21:07:45.128Z"
   },
   {
    "duration": 20,
    "start_time": "2022-02-23T21:07:45.136Z"
   },
   {
    "duration": 12,
    "start_time": "2022-02-23T21:07:45.158Z"
   },
   {
    "duration": 13,
    "start_time": "2022-02-23T21:07:45.172Z"
   },
   {
    "duration": 22,
    "start_time": "2022-02-23T21:07:45.187Z"
   },
   {
    "duration": 4,
    "start_time": "2022-02-23T21:07:45.212Z"
   },
   {
    "duration": 18,
    "start_time": "2022-02-23T21:07:45.218Z"
   },
   {
    "duration": 5,
    "start_time": "2022-02-23T21:07:45.239Z"
   },
   {
    "duration": 21,
    "start_time": "2022-02-23T21:07:45.246Z"
   },
   {
    "duration": 41,
    "start_time": "2022-02-23T21:07:45.268Z"
   },
   {
    "duration": 8,
    "start_time": "2022-02-23T21:07:45.310Z"
   },
   {
    "duration": 10,
    "start_time": "2022-02-23T21:07:45.320Z"
   },
   {
    "duration": 14,
    "start_time": "2022-02-23T21:07:45.332Z"
   },
   {
    "duration": 10,
    "start_time": "2022-02-23T21:07:45.348Z"
   },
   {
    "duration": 9,
    "start_time": "2022-02-23T21:07:45.362Z"
   },
   {
    "duration": 41,
    "start_time": "2022-02-23T21:07:45.374Z"
   },
   {
    "duration": 10,
    "start_time": "2022-02-23T21:07:45.417Z"
   },
   {
    "duration": 10,
    "start_time": "2022-02-23T21:07:45.429Z"
   },
   {
    "duration": 26,
    "start_time": "2022-02-23T21:07:45.441Z"
   },
   {
    "duration": 22,
    "start_time": "2022-02-23T21:07:45.469Z"
   },
   {
    "duration": 21,
    "start_time": "2022-02-23T21:07:45.493Z"
   },
   {
    "duration": 4,
    "start_time": "2022-02-23T21:07:45.516Z"
   },
   {
    "duration": 14,
    "start_time": "2022-02-23T21:07:45.522Z"
   },
   {
    "duration": 13,
    "start_time": "2022-02-23T21:07:45.538Z"
   },
   {
    "duration": 13,
    "start_time": "2022-02-23T21:07:45.553Z"
   },
   {
    "duration": 7,
    "start_time": "2022-02-23T21:07:45.568Z"
   },
   {
    "duration": 34,
    "start_time": "2022-02-23T21:07:45.577Z"
   },
   {
    "duration": 698,
    "start_time": "2022-02-23T21:07:45.613Z"
   },
   {
    "duration": 78,
    "start_time": "2022-02-23T21:07:46.313Z"
   },
   {
    "duration": 1270,
    "start_time": "2022-02-23T21:07:46.407Z"
   },
   {
    "duration": 1139,
    "start_time": "2022-02-23T21:07:47.679Z"
   },
   {
    "duration": 333,
    "start_time": "2022-02-23T21:07:48.819Z"
   },
   {
    "duration": 622,
    "start_time": "2022-02-23T21:07:49.154Z"
   },
   {
    "duration": 10,
    "start_time": "2022-02-23T21:07:49.778Z"
   },
   {
    "duration": 42,
    "start_time": "2022-02-23T21:07:49.789Z"
   },
   {
    "duration": 440,
    "start_time": "2022-02-23T21:07:49.833Z"
   },
   {
    "duration": 356,
    "start_time": "2022-02-23T21:07:50.275Z"
   },
   {
    "duration": 2146,
    "start_time": "2022-02-23T21:07:50.633Z"
   },
   {
    "duration": 28,
    "start_time": "2022-02-23T21:07:52.781Z"
   },
   {
    "duration": 1735,
    "start_time": "2022-02-23T21:07:52.811Z"
   },
   {
    "duration": 1716,
    "start_time": "2022-02-23T21:07:54.548Z"
   },
   {
    "duration": 1859,
    "start_time": "2022-02-23T21:07:56.267Z"
   },
   {
    "duration": 8,
    "start_time": "2022-02-23T21:07:58.128Z"
   },
   {
    "duration": 15,
    "start_time": "2022-02-23T21:07:58.138Z"
   },
   {
    "duration": 4,
    "start_time": "2022-02-23T21:07:58.155Z"
   },
   {
    "duration": 11,
    "start_time": "2022-02-23T21:07:58.161Z"
   },
   {
    "duration": 35,
    "start_time": "2022-02-23T21:07:58.174Z"
   },
   {
    "duration": 9,
    "start_time": "2022-02-23T21:07:58.211Z"
   },
   {
    "duration": 10,
    "start_time": "2022-02-23T21:07:58.222Z"
   },
   {
    "duration": 8,
    "start_time": "2022-02-23T21:07:58.234Z"
   },
   {
    "duration": 4,
    "start_time": "2022-02-23T21:07:58.243Z"
   },
   {
    "duration": 35,
    "start_time": "2022-02-23T21:10:15.444Z"
   },
   {
    "duration": 53,
    "start_time": "2022-02-23T21:10:36.878Z"
   },
   {
    "duration": 229,
    "start_time": "2022-02-23T21:11:27.815Z"
   },
   {
    "duration": 317,
    "start_time": "2022-02-23T21:11:39.525Z"
   },
   {
    "duration": 531,
    "start_time": "2022-02-23T21:15:58.800Z"
   },
   {
    "duration": 556,
    "start_time": "2022-02-23T21:16:15.082Z"
   },
   {
    "duration": 691,
    "start_time": "2022-02-23T21:19:13.665Z"
   },
   {
    "duration": 478,
    "start_time": "2022-02-23T21:21:42.083Z"
   },
   {
    "duration": 514,
    "start_time": "2022-02-23T21:21:54.772Z"
   },
   {
    "duration": 457,
    "start_time": "2022-02-23T21:22:01.274Z"
   },
   {
    "duration": 463,
    "start_time": "2022-02-23T21:22:24.071Z"
   },
   {
    "duration": 482,
    "start_time": "2022-02-23T21:22:31.581Z"
   },
   {
    "duration": 455,
    "start_time": "2022-02-23T21:22:38.281Z"
   },
   {
    "duration": 441,
    "start_time": "2022-02-23T21:22:47.199Z"
   },
   {
    "duration": 673,
    "start_time": "2022-02-23T21:22:55.705Z"
   },
   {
    "duration": 486,
    "start_time": "2022-02-23T21:27:03.653Z"
   },
   {
    "duration": 440,
    "start_time": "2022-02-23T21:27:26.123Z"
   },
   {
    "duration": 450,
    "start_time": "2022-02-23T21:27:36.569Z"
   },
   {
    "duration": 445,
    "start_time": "2022-02-23T21:27:43.222Z"
   },
   {
    "duration": 221,
    "start_time": "2022-02-23T21:31:14.006Z"
   },
   {
    "duration": 318,
    "start_time": "2022-02-23T21:31:20.747Z"
   },
   {
    "duration": 387,
    "start_time": "2022-02-23T21:31:28.997Z"
   },
   {
    "duration": 280,
    "start_time": "2022-02-23T21:31:33.540Z"
   },
   {
    "duration": 33,
    "start_time": "2022-02-23T21:32:05.327Z"
   },
   {
    "duration": 45732,
    "start_time": "2022-02-23T21:41:30.509Z"
   },
   {
    "duration": 296,
    "start_time": "2022-02-23T21:44:08.469Z"
   },
   {
    "duration": 13,
    "start_time": "2022-02-23T21:45:30.562Z"
   },
   {
    "duration": 15,
    "start_time": "2022-02-23T21:46:26.252Z"
   },
   {
    "duration": 80,
    "start_time": "2022-02-23T21:47:12.416Z"
   },
   {
    "duration": 7,
    "start_time": "2022-02-23T21:49:18.644Z"
   },
   {
    "duration": 32,
    "start_time": "2022-02-23T21:49:24.293Z"
   },
   {
    "duration": 789,
    "start_time": "2022-02-23T22:02:01.531Z"
   },
   {
    "duration": 107,
    "start_time": "2022-02-23T22:02:02.322Z"
   },
   {
    "duration": 13,
    "start_time": "2022-02-23T22:02:02.431Z"
   },
   {
    "duration": 19,
    "start_time": "2022-02-23T22:02:02.447Z"
   },
   {
    "duration": 52,
    "start_time": "2022-02-23T22:02:02.468Z"
   },
   {
    "duration": 7,
    "start_time": "2022-02-23T22:02:02.523Z"
   },
   {
    "duration": 26,
    "start_time": "2022-02-23T22:02:02.532Z"
   },
   {
    "duration": 157,
    "start_time": "2022-02-23T22:02:02.562Z"
   },
   {
    "duration": 6,
    "start_time": "2022-02-23T22:02:02.722Z"
   },
   {
    "duration": 15,
    "start_time": "2022-02-23T22:02:02.730Z"
   },
   {
    "duration": 4,
    "start_time": "2022-02-23T22:02:02.748Z"
   },
   {
    "duration": 12,
    "start_time": "2022-02-23T22:02:02.754Z"
   },
   {
    "duration": 22,
    "start_time": "2022-02-23T22:02:02.768Z"
   },
   {
    "duration": 4,
    "start_time": "2022-02-23T22:02:02.808Z"
   },
   {
    "duration": 13,
    "start_time": "2022-02-23T22:02:02.814Z"
   },
   {
    "duration": 11,
    "start_time": "2022-02-23T22:02:02.829Z"
   },
   {
    "duration": 19,
    "start_time": "2022-02-23T22:02:02.842Z"
   },
   {
    "duration": 25,
    "start_time": "2022-02-23T22:02:02.863Z"
   },
   {
    "duration": 22,
    "start_time": "2022-02-23T22:02:02.890Z"
   },
   {
    "duration": 10,
    "start_time": "2022-02-23T22:02:02.914Z"
   },
   {
    "duration": 20,
    "start_time": "2022-02-23T22:02:02.926Z"
   },
   {
    "duration": 14,
    "start_time": "2022-02-23T22:02:02.948Z"
   },
   {
    "duration": 36,
    "start_time": "2022-02-23T22:02:02.967Z"
   },
   {
    "duration": 29,
    "start_time": "2022-02-23T22:02:03.007Z"
   },
   {
    "duration": 12,
    "start_time": "2022-02-23T22:02:03.038Z"
   },
   {
    "duration": 10,
    "start_time": "2022-02-23T22:02:03.052Z"
   },
   {
    "duration": 30,
    "start_time": "2022-02-23T22:02:03.064Z"
   },
   {
    "duration": 13,
    "start_time": "2022-02-23T22:02:03.095Z"
   },
   {
    "duration": 16,
    "start_time": "2022-02-23T22:02:03.111Z"
   },
   {
    "duration": 10,
    "start_time": "2022-02-23T22:02:03.130Z"
   },
   {
    "duration": 17,
    "start_time": "2022-02-23T22:02:03.142Z"
   },
   {
    "duration": 12,
    "start_time": "2022-02-23T22:02:03.161Z"
   },
   {
    "duration": 15,
    "start_time": "2022-02-23T22:02:03.175Z"
   },
   {
    "duration": 11,
    "start_time": "2022-02-23T22:02:03.192Z"
   },
   {
    "duration": 22,
    "start_time": "2022-02-23T22:02:03.205Z"
   },
   {
    "duration": 682,
    "start_time": "2022-02-23T22:02:03.229Z"
   },
   {
    "duration": 103,
    "start_time": "2022-02-23T22:02:03.913Z"
   },
   {
    "duration": 1403,
    "start_time": "2022-02-23T22:02:04.018Z"
   },
   {
    "duration": 1112,
    "start_time": "2022-02-23T22:02:05.423Z"
   },
   {
    "duration": 332,
    "start_time": "2022-02-23T22:02:06.537Z"
   },
   {
    "duration": 525,
    "start_time": "2022-02-23T22:02:06.871Z"
   },
   {
    "duration": 14,
    "start_time": "2022-02-23T22:02:07.398Z"
   },
   {
    "duration": 40,
    "start_time": "2022-02-23T22:02:07.414Z"
   },
   {
    "duration": 58,
    "start_time": "2022-02-23T22:02:07.456Z"
   },
   {
    "duration": 436,
    "start_time": "2022-02-23T22:02:07.516Z"
   },
   {
    "duration": 368,
    "start_time": "2022-02-23T22:02:07.955Z"
   },
   {
    "duration": 1949,
    "start_time": "2022-02-23T22:02:08.325Z"
   },
   {
    "duration": 12,
    "start_time": "2022-02-23T22:02:10.277Z"
   },
   {
    "duration": 330,
    "start_time": "2022-02-23T22:02:10.291Z"
   },
   {
    "duration": 1829,
    "start_time": "2022-02-23T22:02:10.623Z"
   },
   {
    "duration": 1628,
    "start_time": "2022-02-23T22:02:12.455Z"
   },
   {
    "duration": 1822,
    "start_time": "2022-02-23T22:02:14.085Z"
   },
   {
    "duration": 8,
    "start_time": "2022-02-23T22:02:15.909Z"
   },
   {
    "duration": 15,
    "start_time": "2022-02-23T22:02:15.919Z"
   },
   {
    "duration": 5,
    "start_time": "2022-02-23T22:02:15.936Z"
   },
   {
    "duration": 17,
    "start_time": "2022-02-23T22:02:15.943Z"
   },
   {
    "duration": 13,
    "start_time": "2022-02-23T22:02:15.962Z"
   },
   {
    "duration": 40,
    "start_time": "2022-02-23T22:02:15.977Z"
   },
   {
    "duration": 11,
    "start_time": "2022-02-23T22:02:16.020Z"
   },
   {
    "duration": 11,
    "start_time": "2022-02-23T22:02:16.033Z"
   },
   {
    "duration": 22,
    "start_time": "2022-02-23T22:02:16.047Z"
   },
   {
    "duration": 803,
    "start_time": "2022-02-23T22:02:31.525Z"
   },
   {
    "duration": 448,
    "start_time": "2022-02-23T22:02:44.939Z"
   },
   {
    "duration": 32,
    "start_time": "2022-02-23T22:25:57.138Z"
   },
   {
    "duration": 789,
    "start_time": "2022-02-23T22:26:32.182Z"
   },
   {
    "duration": 105,
    "start_time": "2022-02-23T22:26:32.973Z"
   },
   {
    "duration": 28,
    "start_time": "2022-02-23T22:26:33.081Z"
   },
   {
    "duration": 10,
    "start_time": "2022-02-23T22:26:33.112Z"
   },
   {
    "duration": 33,
    "start_time": "2022-02-23T22:26:33.124Z"
   },
   {
    "duration": 6,
    "start_time": "2022-02-23T22:26:33.159Z"
   },
   {
    "duration": 7,
    "start_time": "2022-02-23T22:26:33.167Z"
   },
   {
    "duration": 186,
    "start_time": "2022-02-23T22:26:33.177Z"
   },
   {
    "duration": 6,
    "start_time": "2022-02-23T22:26:33.365Z"
   },
   {
    "duration": 16,
    "start_time": "2022-02-23T22:26:33.373Z"
   },
   {
    "duration": 18,
    "start_time": "2022-02-23T22:26:33.390Z"
   },
   {
    "duration": 6,
    "start_time": "2022-02-23T22:26:33.410Z"
   },
   {
    "duration": 13,
    "start_time": "2022-02-23T22:26:33.418Z"
   },
   {
    "duration": 16,
    "start_time": "2022-02-23T22:26:33.433Z"
   },
   {
    "duration": 16,
    "start_time": "2022-02-23T22:26:33.451Z"
   },
   {
    "duration": 9,
    "start_time": "2022-02-23T22:26:33.469Z"
   },
   {
    "duration": 11,
    "start_time": "2022-02-23T22:26:33.508Z"
   },
   {
    "duration": 16,
    "start_time": "2022-02-23T22:26:33.521Z"
   },
   {
    "duration": 12,
    "start_time": "2022-02-23T22:26:33.539Z"
   },
   {
    "duration": 15,
    "start_time": "2022-02-23T22:26:33.552Z"
   },
   {
    "duration": 32,
    "start_time": "2022-02-23T22:26:33.569Z"
   },
   {
    "duration": 13,
    "start_time": "2022-02-23T22:26:33.602Z"
   },
   {
    "duration": 5,
    "start_time": "2022-02-23T22:26:33.620Z"
   },
   {
    "duration": 13,
    "start_time": "2022-02-23T22:26:33.627Z"
   },
   {
    "duration": 30,
    "start_time": "2022-02-23T22:26:33.642Z"
   },
   {
    "duration": 6,
    "start_time": "2022-02-23T22:26:33.674Z"
   },
   {
    "duration": 34,
    "start_time": "2022-02-23T22:26:33.681Z"
   },
   {
    "duration": 13,
    "start_time": "2022-02-23T22:26:33.717Z"
   },
   {
    "duration": 18,
    "start_time": "2022-02-23T22:26:33.732Z"
   },
   {
    "duration": 8,
    "start_time": "2022-02-23T22:26:33.752Z"
   },
   {
    "duration": 16,
    "start_time": "2022-02-23T22:26:33.762Z"
   },
   {
    "duration": 21,
    "start_time": "2022-02-23T22:26:33.780Z"
   },
   {
    "duration": 12,
    "start_time": "2022-02-23T22:26:33.803Z"
   },
   {
    "duration": 21,
    "start_time": "2022-02-23T22:26:33.818Z"
   },
   {
    "duration": 823,
    "start_time": "2022-02-23T22:26:33.841Z"
   },
   {
    "duration": 86,
    "start_time": "2022-02-23T22:26:34.666Z"
   },
   {
    "duration": 1256,
    "start_time": "2022-02-23T22:26:34.754Z"
   },
   {
    "duration": 1124,
    "start_time": "2022-02-23T22:26:36.012Z"
   },
   {
    "duration": 323,
    "start_time": "2022-02-23T22:26:37.138Z"
   },
   {
    "duration": 527,
    "start_time": "2022-02-23T22:26:37.463Z"
   },
   {
    "duration": 17,
    "start_time": "2022-02-23T22:26:37.992Z"
   },
   {
    "duration": 33,
    "start_time": "2022-02-23T22:26:38.011Z"
   },
   {
    "duration": 411,
    "start_time": "2022-02-23T22:26:38.046Z"
   },
   {
    "duration": 358,
    "start_time": "2022-02-23T22:26:38.458Z"
   },
   {
    "duration": 1922,
    "start_time": "2022-02-23T22:26:38.818Z"
   },
   {
    "duration": 13,
    "start_time": "2022-02-23T22:26:40.742Z"
   },
   {
    "duration": 394,
    "start_time": "2022-02-23T22:26:40.757Z"
   },
   {
    "duration": 1881,
    "start_time": "2022-02-23T22:26:41.154Z"
   },
   {
    "duration": 1731,
    "start_time": "2022-02-23T22:26:43.038Z"
   },
   {
    "duration": 1589,
    "start_time": "2022-02-23T22:26:44.772Z"
   },
   {
    "duration": 9,
    "start_time": "2022-02-23T22:26:46.364Z"
   },
   {
    "duration": 33,
    "start_time": "2022-02-23T22:26:46.375Z"
   },
   {
    "duration": 5,
    "start_time": "2022-02-23T22:26:46.410Z"
   },
   {
    "duration": 11,
    "start_time": "2022-02-23T22:26:46.416Z"
   },
   {
    "duration": 12,
    "start_time": "2022-02-23T22:26:46.429Z"
   },
   {
    "duration": 8,
    "start_time": "2022-02-23T22:26:46.443Z"
   },
   {
    "duration": 9,
    "start_time": "2022-02-23T22:26:46.453Z"
   },
   {
    "duration": 46,
    "start_time": "2022-02-23T22:26:46.464Z"
   },
   {
    "duration": 3,
    "start_time": "2022-02-23T22:26:46.512Z"
   },
   {
    "duration": 1675,
    "start_time": "2022-02-23T22:28:07.091Z"
   },
   {
    "duration": 1506,
    "start_time": "2022-02-23T22:28:35.751Z"
   },
   {
    "duration": 1297,
    "start_time": "2022-02-23T22:35:08.166Z"
   },
   {
    "duration": 1853,
    "start_time": "2022-02-23T22:35:31.431Z"
   },
   {
    "duration": 1449,
    "start_time": "2022-02-23T22:36:08.709Z"
   },
   {
    "duration": 1545,
    "start_time": "2022-02-23T22:37:28.796Z"
   },
   {
    "duration": 1610,
    "start_time": "2022-02-23T22:37:50.498Z"
   },
   {
    "duration": 32,
    "start_time": "2022-02-23T22:39:03.504Z"
   },
   {
    "duration": 1722,
    "start_time": "2022-02-23T22:40:51.407Z"
   },
   {
    "duration": 10,
    "start_time": "2022-02-23T22:42:31.254Z"
   },
   {
    "duration": 10,
    "start_time": "2022-02-23T22:43:13.103Z"
   },
   {
    "duration": 11,
    "start_time": "2022-02-23T22:43:36.803Z"
   },
   {
    "duration": 1895,
    "start_time": "2022-02-23T22:44:17.659Z"
   },
   {
    "duration": 1222,
    "start_time": "2022-02-23T22:44:39.149Z"
   },
   {
    "duration": 1218,
    "start_time": "2022-02-23T22:45:07.270Z"
   },
   {
    "duration": 1167,
    "start_time": "2022-02-23T22:45:15.047Z"
   },
   {
    "duration": 1329,
    "start_time": "2022-02-23T22:45:48.395Z"
   },
   {
    "duration": 1164,
    "start_time": "2022-02-23T22:45:58.734Z"
   },
   {
    "duration": 1180,
    "start_time": "2022-02-23T22:46:53.373Z"
   },
   {
    "duration": 1197,
    "start_time": "2022-02-23T22:47:01.275Z"
   },
   {
    "duration": 1197,
    "start_time": "2022-02-23T22:47:09.237Z"
   },
   {
    "duration": 1539,
    "start_time": "2022-02-23T22:47:39.601Z"
   },
   {
    "duration": 1229,
    "start_time": "2022-02-23T22:47:48.768Z"
   },
   {
    "duration": 1173,
    "start_time": "2022-02-23T22:47:54.624Z"
   },
   {
    "duration": 1206,
    "start_time": "2022-02-23T22:48:02.984Z"
   },
   {
    "duration": 1181,
    "start_time": "2022-02-23T22:48:10.439Z"
   },
   {
    "duration": 1145,
    "start_time": "2022-02-23T22:48:17.509Z"
   },
   {
    "duration": 1596,
    "start_time": "2022-02-23T22:48:41.766Z"
   },
   {
    "duration": 37,
    "start_time": "2022-02-23T22:49:39.628Z"
   },
   {
    "duration": 1205,
    "start_time": "2022-02-23T22:50:20.608Z"
   },
   {
    "duration": 1157,
    "start_time": "2022-02-23T22:50:27.480Z"
   },
   {
    "duration": 1158,
    "start_time": "2022-02-23T22:50:44.634Z"
   },
   {
    "duration": 1141,
    "start_time": "2022-02-23T22:51:44.540Z"
   },
   {
    "duration": 1169,
    "start_time": "2022-02-23T22:52:09.099Z"
   },
   {
    "duration": 1091,
    "start_time": "2022-02-23T22:52:16.219Z"
   },
   {
    "duration": 1631,
    "start_time": "2022-02-23T22:52:19.518Z"
   },
   {
    "duration": 1276,
    "start_time": "2022-02-23T22:52:24.968Z"
   },
   {
    "duration": 1306,
    "start_time": "2022-02-23T22:52:29.191Z"
   },
   {
    "duration": 1187,
    "start_time": "2022-02-23T22:52:32.880Z"
   },
   {
    "duration": 1147,
    "start_time": "2022-02-23T22:52:36.831Z"
   },
   {
    "duration": 1165,
    "start_time": "2022-02-23T22:52:57.503Z"
   },
   {
    "duration": 1294,
    "start_time": "2022-02-23T22:55:06.950Z"
   },
   {
    "duration": 1191,
    "start_time": "2022-02-23T22:55:19.274Z"
   },
   {
    "duration": 1164,
    "start_time": "2022-02-23T22:55:38.504Z"
   },
   {
    "duration": 1690,
    "start_time": "2022-02-23T22:56:09.552Z"
   },
   {
    "duration": 1143,
    "start_time": "2022-02-23T22:56:19.368Z"
   },
   {
    "duration": 697,
    "start_time": "2022-02-23T22:56:29.325Z"
   },
   {
    "duration": 101,
    "start_time": "2022-02-23T22:56:30.024Z"
   },
   {
    "duration": 14,
    "start_time": "2022-02-23T22:56:30.127Z"
   },
   {
    "duration": 13,
    "start_time": "2022-02-23T22:56:30.143Z"
   },
   {
    "duration": 50,
    "start_time": "2022-02-23T22:56:30.159Z"
   },
   {
    "duration": 7,
    "start_time": "2022-02-23T22:56:30.211Z"
   },
   {
    "duration": 16,
    "start_time": "2022-02-23T22:56:30.220Z"
   },
   {
    "duration": 169,
    "start_time": "2022-02-23T22:56:30.239Z"
   },
   {
    "duration": 6,
    "start_time": "2022-02-23T22:56:30.411Z"
   },
   {
    "duration": 30,
    "start_time": "2022-02-23T22:56:30.419Z"
   },
   {
    "duration": 18,
    "start_time": "2022-02-23T22:56:30.451Z"
   },
   {
    "duration": 33,
    "start_time": "2022-02-23T22:56:30.471Z"
   },
   {
    "duration": 52,
    "start_time": "2022-02-23T22:56:30.507Z"
   },
   {
    "duration": 36,
    "start_time": "2022-02-23T22:56:30.560Z"
   },
   {
    "duration": 38,
    "start_time": "2022-02-23T22:56:30.598Z"
   },
   {
    "duration": 21,
    "start_time": "2022-02-23T22:56:30.637Z"
   },
   {
    "duration": 25,
    "start_time": "2022-02-23T22:56:30.659Z"
   },
   {
    "duration": 42,
    "start_time": "2022-02-23T22:56:30.686Z"
   },
   {
    "duration": 32,
    "start_time": "2022-02-23T22:56:30.730Z"
   },
   {
    "duration": 33,
    "start_time": "2022-02-23T22:56:30.764Z"
   },
   {
    "duration": 57,
    "start_time": "2022-02-23T22:56:30.799Z"
   },
   {
    "duration": 25,
    "start_time": "2022-02-23T22:56:30.858Z"
   },
   {
    "duration": 35,
    "start_time": "2022-02-23T22:56:30.887Z"
   },
   {
    "duration": 33,
    "start_time": "2022-02-23T22:56:30.924Z"
   },
   {
    "duration": 45,
    "start_time": "2022-02-23T22:56:30.959Z"
   },
   {
    "duration": 15,
    "start_time": "2022-02-23T22:56:31.007Z"
   },
   {
    "duration": 45,
    "start_time": "2022-02-23T22:56:31.024Z"
   },
   {
    "duration": 44,
    "start_time": "2022-02-23T22:56:31.071Z"
   },
   {
    "duration": 20,
    "start_time": "2022-02-23T22:56:31.117Z"
   },
   {
    "duration": 36,
    "start_time": "2022-02-23T22:56:31.139Z"
   },
   {
    "duration": 36,
    "start_time": "2022-02-23T22:56:31.177Z"
   },
   {
    "duration": 21,
    "start_time": "2022-02-23T22:56:31.215Z"
   },
   {
    "duration": 8,
    "start_time": "2022-02-23T22:56:31.238Z"
   },
   {
    "duration": 27,
    "start_time": "2022-02-23T22:56:31.248Z"
   },
   {
    "duration": 776,
    "start_time": "2022-02-23T22:56:31.277Z"
   },
   {
    "duration": 93,
    "start_time": "2022-02-23T22:56:32.055Z"
   },
   {
    "duration": 1304,
    "start_time": "2022-02-23T22:56:32.149Z"
   },
   {
    "duration": 1181,
    "start_time": "2022-02-23T22:56:33.456Z"
   },
   {
    "duration": 331,
    "start_time": "2022-02-23T22:56:34.639Z"
   },
   {
    "duration": 793,
    "start_time": "2022-02-23T22:56:34.972Z"
   },
   {
    "duration": 10,
    "start_time": "2022-02-23T22:56:35.766Z"
   },
   {
    "duration": 52,
    "start_time": "2022-02-23T22:56:35.778Z"
   },
   {
    "duration": 434,
    "start_time": "2022-02-23T22:56:35.832Z"
   },
   {
    "duration": 361,
    "start_time": "2022-02-23T22:56:36.268Z"
   },
   {
    "duration": 29,
    "start_time": "2022-02-23T22:56:36.631Z"
   },
   {
    "duration": 1711,
    "start_time": "2022-02-23T22:56:36.662Z"
   },
   {
    "duration": 12,
    "start_time": "2022-02-23T22:56:38.376Z"
   },
   {
    "duration": 1256,
    "start_time": "2022-02-23T22:56:38.390Z"
   },
   {
    "duration": 12,
    "start_time": "2022-02-23T22:56:39.648Z"
   },
   {
    "duration": 345,
    "start_time": "2022-02-23T22:56:39.662Z"
   },
   {
    "duration": 1676,
    "start_time": "2022-02-23T22:56:40.009Z"
   },
   {
    "duration": 1741,
    "start_time": "2022-02-23T22:56:41.687Z"
   },
   {
    "duration": 1621,
    "start_time": "2022-02-23T22:56:43.430Z"
   },
   {
    "duration": 10,
    "start_time": "2022-02-23T22:56:45.054Z"
   },
   {
    "duration": 16,
    "start_time": "2022-02-23T22:56:45.066Z"
   },
   {
    "duration": 24,
    "start_time": "2022-02-23T22:56:45.085Z"
   },
   {
    "duration": 1759,
    "start_time": "2022-02-23T22:57:27.054Z"
   },
   {
    "duration": 825,
    "start_time": "2022-02-23T22:57:52.950Z"
   },
   {
    "duration": 885,
    "start_time": "2022-02-23T22:58:03.331Z"
   },
   {
    "duration": 1349,
    "start_time": "2022-02-23T22:58:10.928Z"
   },
   {
    "duration": 49,
    "start_time": "2022-02-23T22:58:47.968Z"
   },
   {
    "duration": 1363,
    "start_time": "2022-02-23T22:58:53.055Z"
   },
   {
    "duration": 1115,
    "start_time": "2022-02-23T22:59:02.948Z"
   },
   {
    "duration": 337,
    "start_time": "2022-02-23T23:01:06.777Z"
   },
   {
    "duration": 1481,
    "start_time": "2022-02-23T23:01:08.791Z"
   },
   {
    "duration": 13,
    "start_time": "2022-02-23T23:02:10.928Z"
   },
   {
    "duration": 1154,
    "start_time": "2022-02-23T23:02:32.611Z"
   },
   {
    "duration": 1182,
    "start_time": "2022-02-23T23:02:47.766Z"
   },
   {
    "duration": 75,
    "start_time": "2022-02-23T23:03:03.158Z"
   },
   {
    "duration": 1219,
    "start_time": "2022-02-23T23:03:09.766Z"
   },
   {
    "duration": 10,
    "start_time": "2022-02-23T23:03:50.357Z"
   },
   {
    "duration": 926,
    "start_time": "2022-02-25T12:51:40.843Z"
   },
   {
    "duration": 125,
    "start_time": "2022-02-25T12:51:41.772Z"
   },
   {
    "duration": 16,
    "start_time": "2022-02-25T12:51:41.901Z"
   },
   {
    "duration": 12,
    "start_time": "2022-02-25T12:51:41.921Z"
   },
   {
    "duration": 68,
    "start_time": "2022-02-25T12:51:41.935Z"
   },
   {
    "duration": 10,
    "start_time": "2022-02-25T12:51:42.005Z"
   },
   {
    "duration": 12,
    "start_time": "2022-02-25T12:51:42.017Z"
   },
   {
    "duration": 234,
    "start_time": "2022-02-25T12:51:42.032Z"
   },
   {
    "duration": 7,
    "start_time": "2022-02-25T12:51:42.270Z"
   },
   {
    "duration": 44,
    "start_time": "2022-02-25T12:51:42.280Z"
   },
   {
    "duration": 41,
    "start_time": "2022-02-25T12:51:42.326Z"
   },
   {
    "duration": 40,
    "start_time": "2022-02-25T12:51:42.369Z"
   },
   {
    "duration": 35,
    "start_time": "2022-02-25T12:51:42.411Z"
   },
   {
    "duration": 62,
    "start_time": "2022-02-25T12:51:42.449Z"
   },
   {
    "duration": 25,
    "start_time": "2022-02-25T12:51:42.513Z"
   },
   {
    "duration": 10,
    "start_time": "2022-02-25T12:51:42.541Z"
   },
   {
    "duration": 20,
    "start_time": "2022-02-25T12:51:42.553Z"
   },
   {
    "duration": 11,
    "start_time": "2022-02-25T12:51:42.576Z"
   },
   {
    "duration": 7,
    "start_time": "2022-02-25T12:51:42.590Z"
   },
   {
    "duration": 20,
    "start_time": "2022-02-25T12:51:42.599Z"
   },
   {
    "duration": 49,
    "start_time": "2022-02-25T12:51:42.621Z"
   },
   {
    "duration": 12,
    "start_time": "2022-02-25T12:51:42.673Z"
   },
   {
    "duration": 9,
    "start_time": "2022-02-25T12:51:42.687Z"
   },
   {
    "duration": 10,
    "start_time": "2022-02-25T12:51:42.699Z"
   },
   {
    "duration": 16,
    "start_time": "2022-02-25T12:51:42.711Z"
   },
   {
    "duration": 35,
    "start_time": "2022-02-25T12:51:42.730Z"
   },
   {
    "duration": 28,
    "start_time": "2022-02-25T12:51:42.775Z"
   },
   {
    "duration": 17,
    "start_time": "2022-02-25T12:51:42.806Z"
   },
   {
    "duration": 37,
    "start_time": "2022-02-25T12:51:42.826Z"
   },
   {
    "duration": 9,
    "start_time": "2022-02-25T12:51:42.866Z"
   },
   {
    "duration": 14,
    "start_time": "2022-02-25T12:51:42.878Z"
   },
   {
    "duration": 13,
    "start_time": "2022-02-25T12:51:42.895Z"
   },
   {
    "duration": 5,
    "start_time": "2022-02-25T12:51:42.911Z"
   },
   {
    "duration": 56,
    "start_time": "2022-02-25T12:51:42.919Z"
   },
   {
    "duration": 1117,
    "start_time": "2022-02-25T12:51:42.978Z"
   },
   {
    "duration": 160,
    "start_time": "2022-02-25T12:51:44.097Z"
   },
   {
    "duration": 1965,
    "start_time": "2022-02-25T12:51:44.263Z"
   },
   {
    "duration": 1772,
    "start_time": "2022-02-25T12:51:46.231Z"
   },
   {
    "duration": 487,
    "start_time": "2022-02-25T12:51:48.005Z"
   },
   {
    "duration": 784,
    "start_time": "2022-02-25T12:51:48.495Z"
   },
   {
    "duration": 11,
    "start_time": "2022-02-25T12:51:49.282Z"
   },
   {
    "duration": 69,
    "start_time": "2022-02-25T12:51:49.295Z"
   },
   {
    "duration": 598,
    "start_time": "2022-02-25T12:51:49.367Z"
   },
   {
    "duration": 569,
    "start_time": "2022-02-25T12:51:49.967Z"
   },
   {
    "duration": 53,
    "start_time": "2022-02-25T12:51:50.539Z"
   },
   {
    "duration": 3113,
    "start_time": "2022-02-25T12:51:50.595Z"
   },
   {
    "duration": 17,
    "start_time": "2022-02-25T12:51:53.711Z"
   },
   {
    "duration": 2092,
    "start_time": "2022-02-25T12:51:53.730Z"
   },
   {
    "duration": 17,
    "start_time": "2022-02-25T12:51:55.825Z"
   },
   {
    "duration": 631,
    "start_time": "2022-02-25T12:51:55.845Z"
   },
   {
    "duration": 2851,
    "start_time": "2022-02-25T12:51:56.479Z"
   },
   {
    "duration": 2891,
    "start_time": "2022-02-25T12:51:59.334Z"
   },
   {
    "duration": 2938,
    "start_time": "2022-02-25T12:52:02.228Z"
   },
   {
    "duration": 13,
    "start_time": "2022-02-25T12:52:05.169Z"
   },
   {
    "duration": 31,
    "start_time": "2022-02-25T12:52:05.184Z"
   },
   {
    "duration": 5,
    "start_time": "2022-02-25T12:52:05.217Z"
   },
   {
    "duration": 368,
    "start_time": "2022-02-25T13:00:03.679Z"
   },
   {
    "duration": 2789,
    "start_time": "2022-02-25T13:00:23.078Z"
   },
   {
    "duration": 903,
    "start_time": "2022-02-25T13:00:31.182Z"
   },
   {
    "duration": 129,
    "start_time": "2022-02-25T13:00:32.088Z"
   },
   {
    "duration": 16,
    "start_time": "2022-02-25T13:00:32.221Z"
   },
   {
    "duration": 32,
    "start_time": "2022-02-25T13:00:32.240Z"
   },
   {
    "duration": 42,
    "start_time": "2022-02-25T13:00:32.275Z"
   },
   {
    "duration": 9,
    "start_time": "2022-02-25T13:00:32.320Z"
   },
   {
    "duration": 35,
    "start_time": "2022-02-25T13:00:32.332Z"
   },
   {
    "duration": 221,
    "start_time": "2022-02-25T13:00:32.369Z"
   },
   {
    "duration": 7,
    "start_time": "2022-02-25T13:00:32.594Z"
   },
   {
    "duration": 16,
    "start_time": "2022-02-25T13:00:32.605Z"
   },
   {
    "duration": 6,
    "start_time": "2022-02-25T13:00:32.624Z"
   },
   {
    "duration": 29,
    "start_time": "2022-02-25T13:00:32.633Z"
   },
   {
    "duration": 9,
    "start_time": "2022-02-25T13:00:32.665Z"
   },
   {
    "duration": 22,
    "start_time": "2022-02-25T13:00:32.676Z"
   },
   {
    "duration": 20,
    "start_time": "2022-02-25T13:00:32.701Z"
   },
   {
    "duration": 44,
    "start_time": "2022-02-25T13:00:32.723Z"
   },
   {
    "duration": 12,
    "start_time": "2022-02-25T13:00:32.770Z"
   },
   {
    "duration": 10,
    "start_time": "2022-02-25T13:00:32.784Z"
   },
   {
    "duration": 5,
    "start_time": "2022-02-25T13:00:32.797Z"
   },
   {
    "duration": 13,
    "start_time": "2022-02-25T13:00:32.805Z"
   },
   {
    "duration": 62,
    "start_time": "2022-02-25T13:00:32.820Z"
   },
   {
    "duration": 12,
    "start_time": "2022-02-25T13:00:32.885Z"
   },
   {
    "duration": 15,
    "start_time": "2022-02-25T13:00:32.899Z"
   },
   {
    "duration": 11,
    "start_time": "2022-02-25T13:00:32.916Z"
   },
   {
    "duration": 39,
    "start_time": "2022-02-25T13:00:32.930Z"
   },
   {
    "duration": 10,
    "start_time": "2022-02-25T13:00:32.971Z"
   },
   {
    "duration": 31,
    "start_time": "2022-02-25T13:00:32.987Z"
   },
   {
    "duration": 41,
    "start_time": "2022-02-25T13:00:33.021Z"
   },
   {
    "duration": 31,
    "start_time": "2022-02-25T13:00:33.065Z"
   },
   {
    "duration": 16,
    "start_time": "2022-02-25T13:00:33.098Z"
   },
   {
    "duration": 13,
    "start_time": "2022-02-25T13:00:33.117Z"
   },
   {
    "duration": 15,
    "start_time": "2022-02-25T13:00:33.133Z"
   },
   {
    "duration": 11,
    "start_time": "2022-02-25T13:00:33.151Z"
   },
   {
    "duration": 35,
    "start_time": "2022-02-25T13:00:33.165Z"
   },
   {
    "duration": 1140,
    "start_time": "2022-02-25T13:00:33.203Z"
   },
   {
    "duration": 117,
    "start_time": "2022-02-25T13:00:34.345Z"
   },
   {
    "duration": 1949,
    "start_time": "2022-02-25T13:00:34.465Z"
   },
   {
    "duration": 2458,
    "start_time": "2022-02-25T13:00:36.418Z"
   },
   {
    "duration": 483,
    "start_time": "2022-02-25T13:00:38.879Z"
   },
   {
    "duration": 763,
    "start_time": "2022-02-25T13:00:39.365Z"
   },
   {
    "duration": 13,
    "start_time": "2022-02-25T13:00:40.130Z"
   },
   {
    "duration": 68,
    "start_time": "2022-02-25T13:00:40.145Z"
   },
   {
    "duration": 652,
    "start_time": "2022-02-25T13:00:40.216Z"
   },
   {
    "duration": 604,
    "start_time": "2022-02-25T13:00:40.871Z"
   },
   {
    "duration": 42,
    "start_time": "2022-02-25T13:00:41.478Z"
   },
   {
    "duration": 2487,
    "start_time": "2022-02-25T13:00:41.523Z"
   },
   {
    "duration": 874,
    "start_time": "2022-02-25T13:00:44.013Z"
   },
   {
    "duration": -385,
    "start_time": "2022-02-25T13:00:45.275Z"
   },
   {
    "duration": -387,
    "start_time": "2022-02-25T13:00:45.279Z"
   },
   {
    "duration": -388,
    "start_time": "2022-02-25T13:00:45.282Z"
   },
   {
    "duration": -391,
    "start_time": "2022-02-25T13:00:45.286Z"
   },
   {
    "duration": -394,
    "start_time": "2022-02-25T13:00:45.290Z"
   },
   {
    "duration": -395,
    "start_time": "2022-02-25T13:00:45.293Z"
   },
   {
    "duration": -397,
    "start_time": "2022-02-25T13:00:45.296Z"
   },
   {
    "duration": -398,
    "start_time": "2022-02-25T13:00:45.299Z"
   },
   {
    "duration": -399,
    "start_time": "2022-02-25T13:00:45.302Z"
   },
   {
    "duration": -401,
    "start_time": "2022-02-25T13:00:45.305Z"
   },
   {
    "duration": 319,
    "start_time": "2022-02-25T13:01:00.892Z"
   },
   {
    "duration": 2743,
    "start_time": "2022-02-25T13:02:23.748Z"
   },
   {
    "duration": 3899,
    "start_time": "2022-02-25T13:05:28.438Z"
   },
   {
    "duration": 10,
    "start_time": "2022-02-25T13:14:47.596Z"
   },
   {
    "duration": 287,
    "start_time": "2022-02-25T13:14:52.747Z"
   },
   {
    "duration": 297,
    "start_time": "2022-02-25T13:14:55.776Z"
   },
   {
    "duration": 11,
    "start_time": "2022-02-25T13:15:25.444Z"
   },
   {
    "duration": 20,
    "start_time": "2022-02-25T13:15:30.219Z"
   },
   {
    "duration": 979,
    "start_time": "2022-02-25T13:15:59.351Z"
   },
   {
    "duration": 237,
    "start_time": "2022-02-25T13:16:00.333Z"
   },
   {
    "duration": 17,
    "start_time": "2022-02-25T13:16:00.573Z"
   },
   {
    "duration": 16,
    "start_time": "2022-02-25T13:16:00.592Z"
   },
   {
    "duration": 76,
    "start_time": "2022-02-25T13:16:00.610Z"
   },
   {
    "duration": 8,
    "start_time": "2022-02-25T13:16:00.689Z"
   },
   {
    "duration": 14,
    "start_time": "2022-02-25T13:16:00.699Z"
   },
   {
    "duration": 242,
    "start_time": "2022-02-25T13:16:00.716Z"
   },
   {
    "duration": 8,
    "start_time": "2022-02-25T13:16:00.964Z"
   },
   {
    "duration": 16,
    "start_time": "2022-02-25T13:16:00.975Z"
   },
   {
    "duration": 4,
    "start_time": "2022-02-25T13:16:00.994Z"
   },
   {
    "duration": 22,
    "start_time": "2022-02-25T13:16:01.001Z"
   },
   {
    "duration": 40,
    "start_time": "2022-02-25T13:16:01.025Z"
   },
   {
    "duration": 22,
    "start_time": "2022-02-25T13:16:01.067Z"
   },
   {
    "duration": 34,
    "start_time": "2022-02-25T13:16:01.091Z"
   },
   {
    "duration": 36,
    "start_time": "2022-02-25T13:16:01.128Z"
   },
   {
    "duration": 28,
    "start_time": "2022-02-25T13:16:01.167Z"
   },
   {
    "duration": 18,
    "start_time": "2022-02-25T13:16:01.197Z"
   },
   {
    "duration": 14,
    "start_time": "2022-02-25T13:16:01.217Z"
   },
   {
    "duration": 33,
    "start_time": "2022-02-25T13:16:01.233Z"
   },
   {
    "duration": 34,
    "start_time": "2022-02-25T13:16:01.268Z"
   },
   {
    "duration": 25,
    "start_time": "2022-02-25T13:16:01.305Z"
   },
   {
    "duration": 18,
    "start_time": "2022-02-25T13:16:01.333Z"
   },
   {
    "duration": 35,
    "start_time": "2022-02-25T13:16:01.354Z"
   },
   {
    "duration": 40,
    "start_time": "2022-02-25T13:16:01.391Z"
   },
   {
    "duration": 11,
    "start_time": "2022-02-25T13:16:01.434Z"
   },
   {
    "duration": 58,
    "start_time": "2022-02-25T13:16:01.455Z"
   },
   {
    "duration": 30,
    "start_time": "2022-02-25T13:16:01.517Z"
   },
   {
    "duration": 30,
    "start_time": "2022-02-25T13:16:01.549Z"
   },
   {
    "duration": 23,
    "start_time": "2022-02-25T13:16:01.582Z"
   },
   {
    "duration": 43,
    "start_time": "2022-02-25T13:16:01.607Z"
   },
   {
    "duration": 39,
    "start_time": "2022-02-25T13:16:01.652Z"
   },
   {
    "duration": 12,
    "start_time": "2022-02-25T13:16:01.693Z"
   },
   {
    "duration": 49,
    "start_time": "2022-02-25T13:16:01.707Z"
   },
   {
    "duration": 1009,
    "start_time": "2022-02-25T13:16:01.759Z"
   },
   {
    "duration": 125,
    "start_time": "2022-02-25T13:16:02.771Z"
   },
   {
    "duration": 1984,
    "start_time": "2022-02-25T13:16:02.900Z"
   },
   {
    "duration": 2150,
    "start_time": "2022-02-25T13:16:04.887Z"
   },
   {
    "duration": 515,
    "start_time": "2022-02-25T13:16:07.040Z"
   },
   {
    "duration": 804,
    "start_time": "2022-02-25T13:16:07.558Z"
   },
   {
    "duration": 14,
    "start_time": "2022-02-25T13:16:08.365Z"
   },
   {
    "duration": 79,
    "start_time": "2022-02-25T13:16:08.382Z"
   },
   {
    "duration": 44,
    "start_time": "2022-02-25T13:16:08.465Z"
   },
   {
    "duration": 607,
    "start_time": "2022-02-25T13:16:08.512Z"
   },
   {
    "duration": 2857,
    "start_time": "2022-02-25T13:16:09.122Z"
   },
   {
    "duration": 16,
    "start_time": "2022-02-25T13:16:11.982Z"
   },
   {
    "duration": 3,
    "start_time": "2022-02-25T13:16:12.002Z"
   },
   {
    "duration": 1986,
    "start_time": "2022-02-25T13:16:12.008Z"
   },
   {
    "duration": 16,
    "start_time": "2022-02-25T13:16:13.997Z"
   },
   {
    "duration": 532,
    "start_time": "2022-02-25T13:16:14.015Z"
   },
   {
    "duration": 2547,
    "start_time": "2022-02-25T13:16:14.549Z"
   },
   {
    "duration": 2814,
    "start_time": "2022-02-25T13:16:17.099Z"
   },
   {
    "duration": 2615,
    "start_time": "2022-02-25T13:16:19.916Z"
   },
   {
    "duration": 11,
    "start_time": "2022-02-25T13:16:22.533Z"
   },
   {
    "duration": 19,
    "start_time": "2022-02-25T13:16:22.562Z"
   },
   {
    "duration": 7,
    "start_time": "2022-02-25T13:16:22.584Z"
   },
   {
    "duration": 9,
    "start_time": "2022-02-25T13:16:50.869Z"
   },
   {
    "duration": 31,
    "start_time": "2022-02-25T13:16:56.471Z"
   },
   {
    "duration": 13,
    "start_time": "2022-02-25T13:17:30.341Z"
   },
   {
    "duration": 9,
    "start_time": "2022-02-25T13:19:13.216Z"
   },
   {
    "duration": 551,
    "start_time": "2022-02-25T13:19:23.380Z"
   },
   {
    "duration": 9,
    "start_time": "2022-02-25T13:19:31.448Z"
   },
   {
    "duration": 273,
    "start_time": "2022-02-25T13:52:18.116Z"
   },
   {
    "duration": 40,
    "start_time": "2022-02-25T13:52:41.766Z"
   },
   {
    "duration": 33,
    "start_time": "2022-02-25T13:53:09.247Z"
   },
   {
    "duration": 11,
    "start_time": "2022-02-25T13:53:18.054Z"
   },
   {
    "duration": 40,
    "start_time": "2022-02-25T13:53:28.754Z"
   },
   {
    "duration": 41,
    "start_time": "2022-02-25T13:53:37.276Z"
   },
   {
    "duration": 9,
    "start_time": "2022-02-25T13:53:45.440Z"
   },
   {
    "duration": 29,
    "start_time": "2022-02-25T13:53:59.083Z"
   },
   {
    "duration": 38,
    "start_time": "2022-02-25T13:57:38.244Z"
   },
   {
    "duration": 94,
    "start_time": "2022-02-25T13:57:49.371Z"
   },
   {
    "duration": 65,
    "start_time": "2022-02-25T13:58:02.626Z"
   },
   {
    "duration": 38,
    "start_time": "2022-02-25T13:58:09.891Z"
   },
   {
    "duration": 43,
    "start_time": "2022-02-25T13:58:58.734Z"
   },
   {
    "duration": 44,
    "start_time": "2022-02-25T13:59:08.840Z"
   },
   {
    "duration": 902,
    "start_time": "2022-02-25T14:03:22.122Z"
   },
   {
    "duration": 123,
    "start_time": "2022-02-25T14:03:23.026Z"
   },
   {
    "duration": 16,
    "start_time": "2022-02-25T14:03:23.152Z"
   },
   {
    "duration": 11,
    "start_time": "2022-02-25T14:03:23.171Z"
   },
   {
    "duration": 40,
    "start_time": "2022-02-25T14:03:23.184Z"
   },
   {
    "duration": 41,
    "start_time": "2022-02-25T14:03:23.227Z"
   },
   {
    "duration": 9,
    "start_time": "2022-02-25T14:03:23.270Z"
   },
   {
    "duration": 222,
    "start_time": "2022-02-25T14:03:23.282Z"
   },
   {
    "duration": 8,
    "start_time": "2022-02-25T14:03:23.509Z"
   },
   {
    "duration": 14,
    "start_time": "2022-02-25T14:03:23.521Z"
   },
   {
    "duration": 467,
    "start_time": "2022-02-25T14:03:23.564Z"
   },
   {
    "duration": -331,
    "start_time": "2022-02-25T14:03:24.370Z"
   },
   {
    "duration": -333,
    "start_time": "2022-02-25T14:03:24.374Z"
   },
   {
    "duration": -335,
    "start_time": "2022-02-25T14:03:24.378Z"
   },
   {
    "duration": -335,
    "start_time": "2022-02-25T14:03:24.381Z"
   },
   {
    "duration": -336,
    "start_time": "2022-02-25T14:03:24.384Z"
   },
   {
    "duration": -337,
    "start_time": "2022-02-25T14:03:24.387Z"
   },
   {
    "duration": -337,
    "start_time": "2022-02-25T14:03:24.390Z"
   },
   {
    "duration": -338,
    "start_time": "2022-02-25T14:03:24.393Z"
   },
   {
    "duration": -347,
    "start_time": "2022-02-25T14:03:24.404Z"
   },
   {
    "duration": -350,
    "start_time": "2022-02-25T14:03:24.409Z"
   },
   {
    "duration": -352,
    "start_time": "2022-02-25T14:03:24.413Z"
   },
   {
    "duration": -353,
    "start_time": "2022-02-25T14:03:24.416Z"
   },
   {
    "duration": -355,
    "start_time": "2022-02-25T14:03:24.420Z"
   },
   {
    "duration": -359,
    "start_time": "2022-02-25T14:03:24.426Z"
   },
   {
    "duration": -362,
    "start_time": "2022-02-25T14:03:24.431Z"
   },
   {
    "duration": -364,
    "start_time": "2022-02-25T14:03:24.435Z"
   },
   {
    "duration": -366,
    "start_time": "2022-02-25T14:03:24.439Z"
   },
   {
    "duration": -368,
    "start_time": "2022-02-25T14:03:24.443Z"
   },
   {
    "duration": -370,
    "start_time": "2022-02-25T14:03:24.446Z"
   },
   {
    "duration": -371,
    "start_time": "2022-02-25T14:03:24.449Z"
   },
   {
    "duration": -373,
    "start_time": "2022-02-25T14:03:24.453Z"
   },
   {
    "duration": -374,
    "start_time": "2022-02-25T14:03:24.456Z"
   },
   {
    "duration": -375,
    "start_time": "2022-02-25T14:03:24.459Z"
   },
   {
    "duration": -377,
    "start_time": "2022-02-25T14:03:24.463Z"
   },
   {
    "duration": -379,
    "start_time": "2022-02-25T14:03:24.467Z"
   },
   {
    "duration": -393,
    "start_time": "2022-02-25T14:03:24.483Z"
   },
   {
    "duration": -406,
    "start_time": "2022-02-25T14:03:24.497Z"
   },
   {
    "duration": -409,
    "start_time": "2022-02-25T14:03:24.503Z"
   },
   {
    "duration": -410,
    "start_time": "2022-02-25T14:03:24.506Z"
   },
   {
    "duration": -413,
    "start_time": "2022-02-25T14:03:24.510Z"
   },
   {
    "duration": -414,
    "start_time": "2022-02-25T14:03:24.513Z"
   },
   {
    "duration": -438,
    "start_time": "2022-02-25T14:03:24.539Z"
   },
   {
    "duration": -437,
    "start_time": "2022-02-25T14:03:24.541Z"
   },
   {
    "duration": -439,
    "start_time": "2022-02-25T14:03:24.545Z"
   },
   {
    "duration": -451,
    "start_time": "2022-02-25T14:03:24.558Z"
   },
   {
    "duration": -471,
    "start_time": "2022-02-25T14:03:24.580Z"
   },
   {
    "duration": -431,
    "start_time": "2022-02-25T14:03:24.594Z"
   },
   {
    "duration": -432,
    "start_time": "2022-02-25T14:03:24.597Z"
   },
   {
    "duration": -433,
    "start_time": "2022-02-25T14:03:24.600Z"
   },
   {
    "duration": -436,
    "start_time": "2022-02-25T14:03:24.605Z"
   },
   {
    "duration": -437,
    "start_time": "2022-02-25T14:03:24.608Z"
   },
   {
    "duration": -439,
    "start_time": "2022-02-25T14:03:24.612Z"
   },
   {
    "duration": -441,
    "start_time": "2022-02-25T14:03:24.616Z"
   },
   {
    "duration": -443,
    "start_time": "2022-02-25T14:03:24.620Z"
   },
   {
    "duration": -445,
    "start_time": "2022-02-25T14:03:24.624Z"
   },
   {
    "duration": -449,
    "start_time": "2022-02-25T14:03:24.629Z"
   },
   {
    "duration": 878,
    "start_time": "2022-02-25T14:03:52.395Z"
   },
   {
    "duration": 117,
    "start_time": "2022-02-25T14:03:53.276Z"
   },
   {
    "duration": 16,
    "start_time": "2022-02-25T14:03:53.396Z"
   },
   {
    "duration": 11,
    "start_time": "2022-02-25T14:03:53.415Z"
   },
   {
    "duration": 70,
    "start_time": "2022-02-25T14:03:53.428Z"
   },
   {
    "duration": 9,
    "start_time": "2022-02-25T14:03:53.500Z"
   },
   {
    "duration": 15,
    "start_time": "2022-02-25T14:03:53.511Z"
   },
   {
    "duration": 226,
    "start_time": "2022-02-25T14:03:53.530Z"
   },
   {
    "duration": 8,
    "start_time": "2022-02-25T14:03:53.759Z"
   },
   {
    "duration": 18,
    "start_time": "2022-02-25T14:03:53.770Z"
   },
   {
    "duration": 4,
    "start_time": "2022-02-25T14:03:53.791Z"
   },
   {
    "duration": 10,
    "start_time": "2022-02-25T14:03:53.797Z"
   },
   {
    "duration": 23,
    "start_time": "2022-02-25T14:03:53.809Z"
   },
   {
    "duration": 43,
    "start_time": "2022-02-25T14:03:53.834Z"
   },
   {
    "duration": 18,
    "start_time": "2022-02-25T14:03:53.880Z"
   },
   {
    "duration": 12,
    "start_time": "2022-02-25T14:03:53.900Z"
   },
   {
    "duration": 29,
    "start_time": "2022-02-25T14:03:53.914Z"
   },
   {
    "duration": 12,
    "start_time": "2022-02-25T14:03:53.962Z"
   },
   {
    "duration": 8,
    "start_time": "2022-02-25T14:03:53.976Z"
   },
   {
    "duration": 12,
    "start_time": "2022-02-25T14:03:53.987Z"
   },
   {
    "duration": 26,
    "start_time": "2022-02-25T14:03:54.002Z"
   },
   {
    "duration": 42,
    "start_time": "2022-02-25T14:03:54.030Z"
   },
   {
    "duration": 7,
    "start_time": "2022-02-25T14:03:54.079Z"
   },
   {
    "duration": 30,
    "start_time": "2022-02-25T14:03:54.090Z"
   },
   {
    "duration": 27,
    "start_time": "2022-02-25T14:03:54.123Z"
   },
   {
    "duration": 23,
    "start_time": "2022-02-25T14:03:54.152Z"
   },
   {
    "duration": 36,
    "start_time": "2022-02-25T14:03:54.177Z"
   },
   {
    "duration": 20,
    "start_time": "2022-02-25T14:03:54.215Z"
   },
   {
    "duration": 12,
    "start_time": "2022-02-25T14:03:54.238Z"
   },
   {
    "duration": 13,
    "start_time": "2022-02-25T14:03:54.253Z"
   },
   {
    "duration": 17,
    "start_time": "2022-02-25T14:03:54.268Z"
   },
   {
    "duration": 19,
    "start_time": "2022-02-25T14:03:54.288Z"
   },
   {
    "duration": 5,
    "start_time": "2022-02-25T14:03:54.310Z"
   },
   {
    "duration": 22,
    "start_time": "2022-02-25T14:03:54.317Z"
   },
   {
    "duration": 1022,
    "start_time": "2022-02-25T14:03:54.341Z"
   },
   {
    "duration": 118,
    "start_time": "2022-02-25T14:03:55.366Z"
   },
   {
    "duration": 1934,
    "start_time": "2022-02-25T14:03:55.487Z"
   },
   {
    "duration": 1685,
    "start_time": "2022-02-25T14:03:57.423Z"
   },
   {
    "duration": 499,
    "start_time": "2022-02-25T14:03:59.110Z"
   },
   {
    "duration": 854,
    "start_time": "2022-02-25T14:03:59.611Z"
   },
   {
    "duration": 12,
    "start_time": "2022-02-25T14:04:00.468Z"
   },
   {
    "duration": 108,
    "start_time": "2022-02-25T14:04:00.482Z"
   },
   {
    "duration": 89,
    "start_time": "2022-02-25T14:04:00.593Z"
   },
   {
    "duration": 767,
    "start_time": "2022-02-25T14:04:00.684Z"
   },
   {
    "duration": 2518,
    "start_time": "2022-02-25T14:04:01.454Z"
   },
   {
    "duration": 12,
    "start_time": "2022-02-25T14:04:03.974Z"
   },
   {
    "duration": 40,
    "start_time": "2022-02-25T14:04:03.989Z"
   },
   {
    "duration": 2015,
    "start_time": "2022-02-25T14:04:04.032Z"
   },
   {
    "duration": 23,
    "start_time": "2022-02-25T14:04:06.050Z"
   },
   {
    "duration": 482,
    "start_time": "2022-02-25T14:04:06.076Z"
   },
   {
    "duration": 3114,
    "start_time": "2022-02-25T14:04:06.563Z"
   },
   {
    "duration": 2787,
    "start_time": "2022-02-25T14:04:09.680Z"
   },
   {
    "duration": 2661,
    "start_time": "2022-02-25T14:04:12.469Z"
   },
   {
    "duration": 11,
    "start_time": "2022-02-25T14:04:15.133Z"
   },
   {
    "duration": 19,
    "start_time": "2022-02-25T14:04:15.162Z"
   },
   {
    "duration": 10,
    "start_time": "2022-02-25T14:04:15.184Z"
   },
   {
    "duration": 894,
    "start_time": "2022-02-25T14:06:07.043Z"
   },
   {
    "duration": 119,
    "start_time": "2022-02-25T14:06:07.940Z"
   },
   {
    "duration": 16,
    "start_time": "2022-02-25T14:06:08.062Z"
   },
   {
    "duration": 19,
    "start_time": "2022-02-25T14:06:08.081Z"
   },
   {
    "duration": 65,
    "start_time": "2022-02-25T14:06:08.103Z"
   },
   {
    "duration": 9,
    "start_time": "2022-02-25T14:06:08.171Z"
   },
   {
    "duration": 15,
    "start_time": "2022-02-25T14:06:08.182Z"
   },
   {
    "duration": 218,
    "start_time": "2022-02-25T14:06:08.202Z"
   },
   {
    "duration": 8,
    "start_time": "2022-02-25T14:06:08.423Z"
   },
   {
    "duration": 35,
    "start_time": "2022-02-25T14:06:08.434Z"
   },
   {
    "duration": 5,
    "start_time": "2022-02-25T14:06:08.473Z"
   },
   {
    "duration": 8,
    "start_time": "2022-02-25T14:06:08.481Z"
   },
   {
    "duration": 7,
    "start_time": "2022-02-25T14:06:08.492Z"
   },
   {
    "duration": 7,
    "start_time": "2022-02-25T14:06:08.502Z"
   },
   {
    "duration": 23,
    "start_time": "2022-02-25T14:06:08.511Z"
   },
   {
    "duration": 11,
    "start_time": "2022-02-25T14:06:08.563Z"
   },
   {
    "duration": 14,
    "start_time": "2022-02-25T14:06:08.576Z"
   },
   {
    "duration": 9,
    "start_time": "2022-02-25T14:06:08.592Z"
   },
   {
    "duration": 4,
    "start_time": "2022-02-25T14:06:08.604Z"
   },
   {
    "duration": 7,
    "start_time": "2022-02-25T14:06:08.610Z"
   },
   {
    "duration": 62,
    "start_time": "2022-02-25T14:06:08.619Z"
   },
   {
    "duration": 12,
    "start_time": "2022-02-25T14:06:08.683Z"
   },
   {
    "duration": 5,
    "start_time": "2022-02-25T14:06:08.700Z"
   },
   {
    "duration": 23,
    "start_time": "2022-02-25T14:06:08.708Z"
   },
   {
    "duration": 17,
    "start_time": "2022-02-25T14:06:08.733Z"
   },
   {
    "duration": 8,
    "start_time": "2022-02-25T14:06:08.762Z"
   },
   {
    "duration": 49,
    "start_time": "2022-02-25T14:06:08.772Z"
   },
   {
    "duration": 18,
    "start_time": "2022-02-25T14:06:08.823Z"
   },
   {
    "duration": 490,
    "start_time": "2022-02-25T14:06:08.843Z"
   },
   {
    "duration": -337,
    "start_time": "2022-02-25T14:06:09.672Z"
   },
   {
    "duration": -343,
    "start_time": "2022-02-25T14:06:09.680Z"
   },
   {
    "duration": -345,
    "start_time": "2022-02-25T14:06:09.683Z"
   },
   {
    "duration": -346,
    "start_time": "2022-02-25T14:06:09.686Z"
   },
   {
    "duration": -348,
    "start_time": "2022-02-25T14:06:09.689Z"
   },
   {
    "duration": -350,
    "start_time": "2022-02-25T14:06:09.692Z"
   },
   {
    "duration": -351,
    "start_time": "2022-02-25T14:06:09.695Z"
   },
   {
    "duration": -355,
    "start_time": "2022-02-25T14:06:09.700Z"
   },
   {
    "duration": -358,
    "start_time": "2022-02-25T14:06:09.705Z"
   },
   {
    "duration": -361,
    "start_time": "2022-02-25T14:06:09.709Z"
   },
   {
    "duration": -363,
    "start_time": "2022-02-25T14:06:09.713Z"
   },
   {
    "duration": -364,
    "start_time": "2022-02-25T14:06:09.715Z"
   },
   {
    "duration": -365,
    "start_time": "2022-02-25T14:06:09.718Z"
   },
   {
    "duration": -367,
    "start_time": "2022-02-25T14:06:09.721Z"
   },
   {
    "duration": -367,
    "start_time": "2022-02-25T14:06:09.723Z"
   },
   {
    "duration": -377,
    "start_time": "2022-02-25T14:06:09.734Z"
   },
   {
    "duration": -379,
    "start_time": "2022-02-25T14:06:09.738Z"
   },
   {
    "duration": -381,
    "start_time": "2022-02-25T14:06:09.741Z"
   },
   {
    "duration": -382,
    "start_time": "2022-02-25T14:06:09.744Z"
   },
   {
    "duration": -385,
    "start_time": "2022-02-25T14:06:09.748Z"
   },
   {
    "duration": 931,
    "start_time": "2022-02-25T14:07:40.633Z"
   },
   {
    "duration": 121,
    "start_time": "2022-02-25T14:07:41.567Z"
   },
   {
    "duration": 15,
    "start_time": "2022-02-25T14:07:41.695Z"
   },
   {
    "duration": 11,
    "start_time": "2022-02-25T14:07:41.713Z"
   },
   {
    "duration": 71,
    "start_time": "2022-02-25T14:07:41.726Z"
   },
   {
    "duration": 8,
    "start_time": "2022-02-25T14:07:41.799Z"
   },
   {
    "duration": 7,
    "start_time": "2022-02-25T14:07:41.811Z"
   },
   {
    "duration": 235,
    "start_time": "2022-02-25T14:07:41.821Z"
   },
   {
    "duration": 8,
    "start_time": "2022-02-25T14:07:42.058Z"
   },
   {
    "duration": 14,
    "start_time": "2022-02-25T14:07:42.069Z"
   },
   {
    "duration": 21,
    "start_time": "2022-02-25T14:07:42.086Z"
   },
   {
    "duration": 15,
    "start_time": "2022-02-25T14:07:42.110Z"
   },
   {
    "duration": 36,
    "start_time": "2022-02-25T14:07:42.127Z"
   },
   {
    "duration": 9,
    "start_time": "2022-02-25T14:07:42.165Z"
   },
   {
    "duration": 11,
    "start_time": "2022-02-25T14:07:42.176Z"
   },
   {
    "duration": 21,
    "start_time": "2022-02-25T14:07:42.189Z"
   },
   {
    "duration": 51,
    "start_time": "2022-02-25T14:07:42.212Z"
   },
   {
    "duration": 11,
    "start_time": "2022-02-25T14:07:42.267Z"
   },
   {
    "duration": 18,
    "start_time": "2022-02-25T14:07:42.280Z"
   },
   {
    "duration": 11,
    "start_time": "2022-02-25T14:07:42.302Z"
   },
   {
    "duration": 5,
    "start_time": "2022-02-25T14:07:42.316Z"
   },
   {
    "duration": 12,
    "start_time": "2022-02-25T14:07:42.364Z"
   },
   {
    "duration": 45,
    "start_time": "2022-02-25T14:07:42.379Z"
   },
   {
    "duration": 19,
    "start_time": "2022-02-25T14:07:42.426Z"
   },
   {
    "duration": 14,
    "start_time": "2022-02-25T14:07:42.447Z"
   },
   {
    "duration": 29,
    "start_time": "2022-02-25T14:07:42.463Z"
   },
   {
    "duration": 22,
    "start_time": "2022-02-25T14:07:42.495Z"
   },
   {
    "duration": 14,
    "start_time": "2022-02-25T14:07:42.519Z"
   },
   {
    "duration": 60,
    "start_time": "2022-02-25T14:07:42.536Z"
   },
   {
    "duration": 16,
    "start_time": "2022-02-25T14:07:42.598Z"
   },
   {
    "duration": 15,
    "start_time": "2022-02-25T14:07:42.617Z"
   },
   {
    "duration": 20,
    "start_time": "2022-02-25T14:07:42.634Z"
   },
   {
    "duration": 26,
    "start_time": "2022-02-25T14:07:42.657Z"
   },
   {
    "duration": 34,
    "start_time": "2022-02-25T14:07:42.686Z"
   },
   {
    "duration": 16,
    "start_time": "2022-02-25T14:07:42.723Z"
   },
   {
    "duration": 42,
    "start_time": "2022-02-25T14:07:42.742Z"
   },
   {
    "duration": 1030,
    "start_time": "2022-02-25T14:07:42.787Z"
   },
   {
    "duration": 116,
    "start_time": "2022-02-25T14:07:43.820Z"
   },
   {
    "duration": 2001,
    "start_time": "2022-02-25T14:07:43.938Z"
   },
   {
    "duration": 2107,
    "start_time": "2022-02-25T14:07:45.942Z"
   },
   {
    "duration": 484,
    "start_time": "2022-02-25T14:07:48.052Z"
   },
   {
    "duration": 788,
    "start_time": "2022-02-25T14:07:48.539Z"
   },
   {
    "duration": 14,
    "start_time": "2022-02-25T14:07:49.330Z"
   },
   {
    "duration": 63,
    "start_time": "2022-02-25T14:07:49.347Z"
   },
   {
    "duration": 63,
    "start_time": "2022-02-25T14:07:49.412Z"
   },
   {
    "duration": 553,
    "start_time": "2022-02-25T14:07:49.478Z"
   },
   {
    "duration": 2682,
    "start_time": "2022-02-25T14:07:50.034Z"
   },
   {
    "duration": 13,
    "start_time": "2022-02-25T14:07:52.720Z"
   },
   {
    "duration": 4,
    "start_time": "2022-02-25T14:07:52.763Z"
   },
   {
    "duration": 35,
    "start_time": "2022-02-25T14:07:52.769Z"
   },
   {
    "duration": 13,
    "start_time": "2022-02-25T14:07:52.807Z"
   },
   {
    "duration": 8170,
    "start_time": "2022-02-25T14:08:41.843Z"
   },
   {
    "duration": 857,
    "start_time": "2022-02-25T14:09:59.390Z"
   },
   {
    "duration": 127,
    "start_time": "2022-02-25T14:10:00.250Z"
   },
   {
    "duration": 17,
    "start_time": "2022-02-25T14:10:00.380Z"
   },
   {
    "duration": 22,
    "start_time": "2022-02-25T14:10:00.400Z"
   },
   {
    "duration": 64,
    "start_time": "2022-02-25T14:10:00.425Z"
   },
   {
    "duration": 9,
    "start_time": "2022-02-25T14:10:00.492Z"
   },
   {
    "duration": 25,
    "start_time": "2022-02-25T14:10:00.504Z"
   },
   {
    "duration": 213,
    "start_time": "2022-02-25T14:10:00.533Z"
   },
   {
    "duration": 13,
    "start_time": "2022-02-25T14:10:00.751Z"
   },
   {
    "duration": 25,
    "start_time": "2022-02-25T14:10:00.767Z"
   },
   {
    "duration": 26,
    "start_time": "2022-02-25T14:10:00.795Z"
   },
   {
    "duration": 17,
    "start_time": "2022-02-25T14:10:00.824Z"
   },
   {
    "duration": 42,
    "start_time": "2022-02-25T14:10:00.844Z"
   },
   {
    "duration": 17,
    "start_time": "2022-02-25T14:10:00.889Z"
   },
   {
    "duration": 16,
    "start_time": "2022-02-25T14:10:00.909Z"
   },
   {
    "duration": 21,
    "start_time": "2022-02-25T14:10:00.928Z"
   },
   {
    "duration": 12,
    "start_time": "2022-02-25T14:10:00.952Z"
   },
   {
    "duration": 49,
    "start_time": "2022-02-25T14:10:00.967Z"
   },
   {
    "duration": 17,
    "start_time": "2022-02-25T14:10:01.018Z"
   },
   {
    "duration": 28,
    "start_time": "2022-02-25T14:10:01.037Z"
   },
   {
    "duration": 66,
    "start_time": "2022-02-25T14:10:01.067Z"
   },
   {
    "duration": 21,
    "start_time": "2022-02-25T14:10:01.136Z"
   },
   {
    "duration": 26,
    "start_time": "2022-02-25T14:10:01.163Z"
   },
   {
    "duration": 36,
    "start_time": "2022-02-25T14:10:01.193Z"
   },
   {
    "duration": 55,
    "start_time": "2022-02-25T14:10:01.232Z"
   },
   {
    "duration": 68,
    "start_time": "2022-02-25T14:10:01.290Z"
   },
   {
    "duration": 40,
    "start_time": "2022-02-25T14:10:01.362Z"
   },
   {
    "duration": 50,
    "start_time": "2022-02-25T14:10:01.405Z"
   },
   {
    "duration": 15,
    "start_time": "2022-02-25T14:10:01.458Z"
   },
   {
    "duration": 41,
    "start_time": "2022-02-25T14:10:01.475Z"
   },
   {
    "duration": 34,
    "start_time": "2022-02-25T14:10:01.518Z"
   },
   {
    "duration": 27,
    "start_time": "2022-02-25T14:10:01.555Z"
   },
   {
    "duration": 58,
    "start_time": "2022-02-25T14:10:01.585Z"
   },
   {
    "duration": 4,
    "start_time": "2022-02-25T14:10:01.647Z"
   },
   {
    "duration": 29,
    "start_time": "2022-02-25T14:10:01.654Z"
   },
   {
    "duration": 36,
    "start_time": "2022-02-25T14:10:01.685Z"
   },
   {
    "duration": 30,
    "start_time": "2022-02-25T14:10:01.724Z"
   },
   {
    "duration": 74,
    "start_time": "2022-02-25T14:10:01.757Z"
   },
   {
    "duration": 34,
    "start_time": "2022-02-25T14:10:01.833Z"
   },
   {
    "duration": 46,
    "start_time": "2022-02-25T14:10:01.870Z"
   },
   {
    "duration": 1026,
    "start_time": "2022-02-25T14:10:01.918Z"
   },
   {
    "duration": 118,
    "start_time": "2022-02-25T14:10:02.946Z"
   },
   {
    "duration": 1875,
    "start_time": "2022-02-25T14:10:03.067Z"
   },
   {
    "duration": 2075,
    "start_time": "2022-02-25T14:10:04.945Z"
   },
   {
    "duration": 487,
    "start_time": "2022-02-25T14:10:07.022Z"
   },
   {
    "duration": 753,
    "start_time": "2022-02-25T14:10:07.512Z"
   },
   {
    "duration": 12,
    "start_time": "2022-02-25T14:10:08.268Z"
   },
   {
    "duration": 49,
    "start_time": "2022-02-25T14:10:08.283Z"
   },
   {
    "duration": 42,
    "start_time": "2022-02-25T14:10:08.362Z"
   },
   {
    "duration": 556,
    "start_time": "2022-02-25T14:10:08.406Z"
   },
   {
    "duration": 2614,
    "start_time": "2022-02-25T14:10:08.965Z"
   },
   {
    "duration": 11,
    "start_time": "2022-02-25T14:10:11.582Z"
   },
   {
    "duration": 27,
    "start_time": "2022-02-25T14:10:11.596Z"
   },
   {
    "duration": 25,
    "start_time": "2022-02-25T14:10:11.626Z"
   },
   {
    "duration": 10,
    "start_time": "2022-02-25T14:10:11.654Z"
   },
   {
    "duration": 26,
    "start_time": "2022-02-25T14:18:54.051Z"
   },
   {
    "duration": 38,
    "start_time": "2022-02-25T14:19:33.366Z"
   },
   {
    "duration": 10,
    "start_time": "2022-02-25T14:24:00.992Z"
   },
   {
    "duration": 581,
    "start_time": "2022-02-25T14:25:34.819Z"
   },
   {
    "duration": 621,
    "start_time": "2022-02-25T14:27:26.558Z"
   },
   {
    "duration": 751,
    "start_time": "2022-02-25T14:27:37.404Z"
   },
   {
    "duration": 490,
    "start_time": "2022-02-25T14:27:48.221Z"
   },
   {
    "duration": 627,
    "start_time": "2022-02-25T14:28:00.506Z"
   },
   {
    "duration": 877,
    "start_time": "2022-02-25T14:29:26.547Z"
   },
   {
    "duration": 694,
    "start_time": "2022-02-25T14:29:32.982Z"
   },
   {
    "duration": 1134,
    "start_time": "2022-02-25T14:29:48.980Z"
   },
   {
    "duration": 857,
    "start_time": "2022-02-25T14:31:26.785Z"
   },
   {
    "duration": 687,
    "start_time": "2022-02-25T14:32:17.106Z"
   },
   {
    "duration": 508,
    "start_time": "2022-02-25T14:32:25.095Z"
   },
   {
    "duration": 648,
    "start_time": "2022-02-25T14:32:40.618Z"
   },
   {
    "duration": 509,
    "start_time": "2022-02-25T14:32:51.715Z"
   },
   {
    "duration": 2851,
    "start_time": "2022-02-25T14:42:54.053Z"
   },
   {
    "duration": 2640,
    "start_time": "2022-02-25T14:43:30.303Z"
   },
   {
    "duration": 2685,
    "start_time": "2022-02-25T14:43:38.267Z"
   },
   {
    "duration": 6,
    "start_time": "2022-02-25T15:00:39.028Z"
   },
   {
    "duration": 6,
    "start_time": "2022-02-25T15:01:06.281Z"
   },
   {
    "duration": 6,
    "start_time": "2022-02-25T15:02:11.504Z"
   },
   {
    "duration": 7,
    "start_time": "2022-02-25T15:04:06.716Z"
   },
   {
    "duration": 892,
    "start_time": "2022-02-25T15:04:44.089Z"
   },
   {
    "duration": 122,
    "start_time": "2022-02-25T15:04:44.983Z"
   },
   {
    "duration": 19,
    "start_time": "2022-02-25T15:04:45.108Z"
   },
   {
    "duration": 33,
    "start_time": "2022-02-25T15:04:45.130Z"
   },
   {
    "duration": 41,
    "start_time": "2022-02-25T15:04:45.166Z"
   },
   {
    "duration": 10,
    "start_time": "2022-02-25T15:04:45.212Z"
   },
   {
    "duration": 38,
    "start_time": "2022-02-25T15:04:45.225Z"
   },
   {
    "duration": 223,
    "start_time": "2022-02-25T15:04:45.267Z"
   },
   {
    "duration": 7,
    "start_time": "2022-02-25T15:04:45.493Z"
   },
   {
    "duration": 34,
    "start_time": "2022-02-25T15:04:45.503Z"
   },
   {
    "duration": 4,
    "start_time": "2022-02-25T15:04:45.540Z"
   },
   {
    "duration": 20,
    "start_time": "2022-02-25T15:04:45.546Z"
   },
   {
    "duration": 9,
    "start_time": "2022-02-25T15:04:45.568Z"
   },
   {
    "duration": 20,
    "start_time": "2022-02-25T15:04:45.580Z"
   },
   {
    "duration": 18,
    "start_time": "2022-02-25T15:04:45.603Z"
   },
   {
    "duration": 49,
    "start_time": "2022-02-25T15:04:45.624Z"
   },
   {
    "duration": 18,
    "start_time": "2022-02-25T15:04:45.676Z"
   },
   {
    "duration": 9,
    "start_time": "2022-02-25T15:04:45.697Z"
   },
   {
    "duration": 10,
    "start_time": "2022-02-25T15:04:45.709Z"
   },
   {
    "duration": 43,
    "start_time": "2022-02-25T15:04:45.721Z"
   },
   {
    "duration": 23,
    "start_time": "2022-02-25T15:04:45.766Z"
   },
   {
    "duration": 13,
    "start_time": "2022-02-25T15:04:45.791Z"
   },
   {
    "duration": 5,
    "start_time": "2022-02-25T15:04:45.809Z"
   },
   {
    "duration": 17,
    "start_time": "2022-02-25T15:04:45.817Z"
   },
   {
    "duration": 20,
    "start_time": "2022-02-25T15:04:45.864Z"
   },
   {
    "duration": 11,
    "start_time": "2022-02-25T15:04:45.886Z"
   },
   {
    "duration": 41,
    "start_time": "2022-02-25T15:04:45.900Z"
   },
   {
    "duration": 18,
    "start_time": "2022-02-25T15:04:45.944Z"
   },
   {
    "duration": 16,
    "start_time": "2022-02-25T15:04:45.965Z"
   },
   {
    "duration": 9,
    "start_time": "2022-02-25T15:04:45.984Z"
   },
   {
    "duration": 8,
    "start_time": "2022-02-25T15:04:45.996Z"
   },
   {
    "duration": 13,
    "start_time": "2022-02-25T15:04:46.007Z"
   },
   {
    "duration": 41,
    "start_time": "2022-02-25T15:04:46.023Z"
   },
   {
    "duration": 395,
    "start_time": "2022-02-25T15:04:46.066Z"
   },
   {
    "duration": -305,
    "start_time": "2022-02-25T15:04:46.770Z"
   },
   {
    "duration": -308,
    "start_time": "2022-02-25T15:04:46.775Z"
   },
   {
    "duration": -309,
    "start_time": "2022-02-25T15:04:46.778Z"
   },
   {
    "duration": -310,
    "start_time": "2022-02-25T15:04:46.781Z"
   },
   {
    "duration": -310,
    "start_time": "2022-02-25T15:04:46.784Z"
   },
   {
    "duration": -311,
    "start_time": "2022-02-25T15:04:46.787Z"
   },
   {
    "duration": -313,
    "start_time": "2022-02-25T15:04:46.791Z"
   },
   {
    "duration": -320,
    "start_time": "2022-02-25T15:04:46.800Z"
   },
   {
    "duration": -322,
    "start_time": "2022-02-25T15:04:46.804Z"
   },
   {
    "duration": -323,
    "start_time": "2022-02-25T15:04:46.806Z"
   },
   {
    "duration": -324,
    "start_time": "2022-02-25T15:04:46.809Z"
   },
   {
    "duration": -326,
    "start_time": "2022-02-25T15:04:46.812Z"
   },
   {
    "duration": -326,
    "start_time": "2022-02-25T15:04:46.814Z"
   },
   {
    "duration": -329,
    "start_time": "2022-02-25T15:04:46.818Z"
   },
   {
    "duration": -329,
    "start_time": "2022-02-25T15:04:46.820Z"
   },
   {
    "duration": -331,
    "start_time": "2022-02-25T15:04:46.823Z"
   },
   {
    "duration": 958,
    "start_time": "2022-02-25T15:07:18.486Z"
   },
   {
    "duration": 121,
    "start_time": "2022-02-25T15:07:19.447Z"
   },
   {
    "duration": 19,
    "start_time": "2022-02-25T15:07:19.575Z"
   },
   {
    "duration": 13,
    "start_time": "2022-02-25T15:07:19.597Z"
   },
   {
    "duration": 80,
    "start_time": "2022-02-25T15:07:19.612Z"
   },
   {
    "duration": 9,
    "start_time": "2022-02-25T15:07:19.695Z"
   },
   {
    "duration": 14,
    "start_time": "2022-02-25T15:07:19.708Z"
   },
   {
    "duration": 239,
    "start_time": "2022-02-25T15:07:19.725Z"
   },
   {
    "duration": 9,
    "start_time": "2022-02-25T15:07:19.966Z"
   },
   {
    "duration": 15,
    "start_time": "2022-02-25T15:07:19.977Z"
   },
   {
    "duration": 4,
    "start_time": "2022-02-25T15:07:19.994Z"
   },
   {
    "duration": 12,
    "start_time": "2022-02-25T15:07:20.001Z"
   },
   {
    "duration": 49,
    "start_time": "2022-02-25T15:07:20.016Z"
   },
   {
    "duration": 33,
    "start_time": "2022-02-25T15:07:20.068Z"
   },
   {
    "duration": 19,
    "start_time": "2022-02-25T15:07:20.103Z"
   },
   {
    "duration": 10,
    "start_time": "2022-02-25T15:07:20.125Z"
   },
   {
    "duration": 32,
    "start_time": "2022-02-25T15:07:20.138Z"
   },
   {
    "duration": 22,
    "start_time": "2022-02-25T15:07:20.172Z"
   },
   {
    "duration": 6,
    "start_time": "2022-02-25T15:07:20.197Z"
   },
   {
    "duration": 15,
    "start_time": "2022-02-25T15:07:20.206Z"
   },
   {
    "duration": 56,
    "start_time": "2022-02-25T15:07:20.225Z"
   },
   {
    "duration": 14,
    "start_time": "2022-02-25T15:07:20.286Z"
   },
   {
    "duration": 6,
    "start_time": "2022-02-25T15:07:20.303Z"
   },
   {
    "duration": 11,
    "start_time": "2022-02-25T15:07:20.312Z"
   },
   {
    "duration": 42,
    "start_time": "2022-02-25T15:07:20.326Z"
   },
   {
    "duration": 24,
    "start_time": "2022-02-25T15:07:20.371Z"
   },
   {
    "duration": 52,
    "start_time": "2022-02-25T15:07:20.398Z"
   },
   {
    "duration": 29,
    "start_time": "2022-02-25T15:07:20.453Z"
   },
   {
    "duration": 28,
    "start_time": "2022-02-25T15:07:20.485Z"
   },
   {
    "duration": 11,
    "start_time": "2022-02-25T15:07:20.516Z"
   },
   {
    "duration": 19,
    "start_time": "2022-02-25T15:07:20.529Z"
   },
   {
    "duration": 19,
    "start_time": "2022-02-25T15:07:20.551Z"
   },
   {
    "duration": 8,
    "start_time": "2022-02-25T15:07:20.572Z"
   },
   {
    "duration": 28,
    "start_time": "2022-02-25T15:07:20.583Z"
   },
   {
    "duration": 1548,
    "start_time": "2022-02-25T15:07:20.614Z"
   },
   {
    "duration": 133,
    "start_time": "2022-02-25T15:07:22.165Z"
   },
   {
    "duration": 2152,
    "start_time": "2022-02-25T15:07:22.300Z"
   },
   {
    "duration": 2270,
    "start_time": "2022-02-25T15:07:24.455Z"
   },
   {
    "duration": 492,
    "start_time": "2022-02-25T15:07:26.727Z"
   },
   {
    "duration": 21,
    "start_time": "2022-02-25T15:07:27.222Z"
   },
   {
    "duration": 9,
    "start_time": "2022-02-25T15:07:27.263Z"
   },
   {
    "duration": 784,
    "start_time": "2022-02-25T15:07:27.274Z"
   },
   {
    "duration": 14,
    "start_time": "2022-02-25T15:07:28.062Z"
   },
   {
    "duration": 47,
    "start_time": "2022-02-25T15:07:28.079Z"
   },
   {
    "duration": 73,
    "start_time": "2022-02-25T15:07:28.128Z"
   },
   {
    "duration": 847,
    "start_time": "2022-02-25T15:07:28.204Z"
   },
   {
    "duration": 2516,
    "start_time": "2022-02-25T15:07:29.054Z"
   },
   {
    "duration": 38,
    "start_time": "2022-02-25T15:07:31.574Z"
   },
   {
    "duration": 3,
    "start_time": "2022-02-25T15:07:31.615Z"
   },
   {
    "duration": 44,
    "start_time": "2022-02-25T15:07:31.620Z"
   },
   {
    "duration": 13,
    "start_time": "2022-02-25T15:38:06.895Z"
   },
   {
    "duration": 40,
    "start_time": "2022-02-25T15:45:42.417Z"
   },
   {
    "duration": 358,
    "start_time": "2022-02-25T20:07:18.752Z"
   },
   {
    "duration": 920,
    "start_time": "2022-02-25T20:30:30.627Z"
   },
   {
    "duration": 127,
    "start_time": "2022-02-25T20:30:31.549Z"
   },
   {
    "duration": 16,
    "start_time": "2022-02-25T20:30:31.679Z"
   },
   {
    "duration": 11,
    "start_time": "2022-02-25T20:30:31.698Z"
   },
   {
    "duration": 75,
    "start_time": "2022-02-25T20:30:31.711Z"
   },
   {
    "duration": 9,
    "start_time": "2022-02-25T20:30:31.788Z"
   },
   {
    "duration": 11,
    "start_time": "2022-02-25T20:30:31.799Z"
   },
   {
    "duration": 233,
    "start_time": "2022-02-25T20:30:31.812Z"
   },
   {
    "duration": 7,
    "start_time": "2022-02-25T20:30:32.061Z"
   },
   {
    "duration": 15,
    "start_time": "2022-02-25T20:30:32.071Z"
   },
   {
    "duration": 4,
    "start_time": "2022-02-25T20:30:32.089Z"
   },
   {
    "duration": 8,
    "start_time": "2022-02-25T20:30:32.095Z"
   },
   {
    "duration": 10,
    "start_time": "2022-02-25T20:30:32.106Z"
   },
   {
    "duration": 56,
    "start_time": "2022-02-25T20:30:32.119Z"
   },
   {
    "duration": 19,
    "start_time": "2022-02-25T20:30:32.178Z"
   },
   {
    "duration": 11,
    "start_time": "2022-02-25T20:30:32.199Z"
   },
   {
    "duration": 13,
    "start_time": "2022-02-25T20:30:32.213Z"
   },
   {
    "duration": 40,
    "start_time": "2022-02-25T20:30:32.229Z"
   },
   {
    "duration": 17,
    "start_time": "2022-02-25T20:30:32.271Z"
   },
   {
    "duration": 12,
    "start_time": "2022-02-25T20:30:32.290Z"
   },
   {
    "duration": 21,
    "start_time": "2022-02-25T20:30:32.305Z"
   },
   {
    "duration": 41,
    "start_time": "2022-02-25T20:30:32.328Z"
   },
   {
    "duration": 5,
    "start_time": "2022-02-25T20:30:32.372Z"
   },
   {
    "duration": 7,
    "start_time": "2022-02-25T20:30:32.380Z"
   },
   {
    "duration": 25,
    "start_time": "2022-02-25T20:30:32.390Z"
   },
   {
    "duration": 6,
    "start_time": "2022-02-25T20:30:32.418Z"
   },
   {
    "duration": 59,
    "start_time": "2022-02-25T20:30:32.430Z"
   },
   {
    "duration": 13,
    "start_time": "2022-02-25T20:30:32.492Z"
   },
   {
    "duration": 9,
    "start_time": "2022-02-25T20:30:32.508Z"
   },
   {
    "duration": 8,
    "start_time": "2022-02-25T20:30:32.520Z"
   },
   {
    "duration": 36,
    "start_time": "2022-02-25T20:30:32.531Z"
   },
   {
    "duration": 12,
    "start_time": "2022-02-25T20:30:32.570Z"
   },
   {
    "duration": 5,
    "start_time": "2022-02-25T20:30:32.584Z"
   },
   {
    "duration": 18,
    "start_time": "2022-02-25T20:30:32.592Z"
   },
   {
    "duration": 1030,
    "start_time": "2022-02-25T20:30:32.612Z"
   },
   {
    "duration": 116,
    "start_time": "2022-02-25T20:30:33.645Z"
   },
   {
    "duration": 1873,
    "start_time": "2022-02-25T20:30:33.763Z"
   },
   {
    "duration": 1659,
    "start_time": "2022-02-25T20:30:35.638Z"
   },
   {
    "duration": 487,
    "start_time": "2022-02-25T20:30:37.299Z"
   },
   {
    "duration": 17,
    "start_time": "2022-02-25T20:30:37.789Z"
   },
   {
    "duration": 13,
    "start_time": "2022-02-25T20:30:37.809Z"
   },
   {
    "duration": 788,
    "start_time": "2022-02-25T20:30:37.825Z"
   },
   {
    "duration": 11,
    "start_time": "2022-02-25T20:30:38.615Z"
   },
   {
    "duration": 64,
    "start_time": "2022-02-25T20:30:38.629Z"
   },
   {
    "duration": 41,
    "start_time": "2022-02-25T20:30:38.696Z"
   },
   {
    "duration": 549,
    "start_time": "2022-02-25T20:30:38.739Z"
   },
   {
    "duration": 2436,
    "start_time": "2022-02-25T20:30:39.291Z"
   },
   {
    "duration": 51,
    "start_time": "2022-02-25T20:30:41.729Z"
   },
   {
    "duration": 3,
    "start_time": "2022-02-25T20:30:41.782Z"
   },
   {
    "duration": 26,
    "start_time": "2022-02-25T20:30:41.787Z"
   },
   {
    "duration": -1167,
    "start_time": "2022-02-25T20:44:56.846Z"
   },
   {
    "duration": 14,
    "start_time": "2022-02-25T20:44:58.444Z"
   },
   {
    "duration": 22,
    "start_time": "2022-02-25T20:47:12.154Z"
   },
   {
    "duration": 18307,
    "start_time": "2022-02-25T20:47:31.371Z"
   },
   {
    "duration": 16782,
    "start_time": "2022-02-25T20:48:19.393Z"
   },
   {
    "duration": 23508,
    "start_time": "2022-02-25T21:08:17.759Z"
   },
   {
    "duration": 7052,
    "start_time": "2022-02-25T21:30:06.749Z"
   },
   {
    "duration": 858,
    "start_time": "2022-02-25T21:32:40.681Z"
   },
   {
    "duration": 129,
    "start_time": "2022-02-25T21:32:41.542Z"
   },
   {
    "duration": 16,
    "start_time": "2022-02-25T21:32:41.673Z"
   },
   {
    "duration": 11,
    "start_time": "2022-02-25T21:32:41.692Z"
   },
   {
    "duration": 68,
    "start_time": "2022-02-25T21:32:41.706Z"
   },
   {
    "duration": 7,
    "start_time": "2022-02-25T21:32:41.777Z"
   },
   {
    "duration": 9,
    "start_time": "2022-02-25T21:32:41.787Z"
   },
   {
    "duration": 231,
    "start_time": "2022-02-25T21:32:41.801Z"
   },
   {
    "duration": 8,
    "start_time": "2022-02-25T21:32:42.035Z"
   },
   {
    "duration": 29,
    "start_time": "2022-02-25T21:32:42.045Z"
   },
   {
    "duration": 5,
    "start_time": "2022-02-25T21:32:42.077Z"
   },
   {
    "duration": 14,
    "start_time": "2022-02-25T21:32:42.084Z"
   },
   {
    "duration": 10,
    "start_time": "2022-02-25T21:32:42.101Z"
   },
   {
    "duration": 52,
    "start_time": "2022-02-25T21:32:42.113Z"
   },
   {
    "duration": 20,
    "start_time": "2022-02-25T21:32:42.167Z"
   },
   {
    "duration": 10,
    "start_time": "2022-02-25T21:32:42.189Z"
   },
   {
    "duration": 13,
    "start_time": "2022-02-25T21:32:42.201Z"
   },
   {
    "duration": 49,
    "start_time": "2022-02-25T21:32:42.216Z"
   },
   {
    "duration": 6,
    "start_time": "2022-02-25T21:32:42.267Z"
   },
   {
    "duration": 11,
    "start_time": "2022-02-25T21:32:42.276Z"
   },
   {
    "duration": 30,
    "start_time": "2022-02-25T21:32:42.289Z"
   },
   {
    "duration": 42,
    "start_time": "2022-02-25T21:32:42.321Z"
   },
   {
    "duration": 5,
    "start_time": "2022-02-25T21:32:42.368Z"
   },
   {
    "duration": 15,
    "start_time": "2022-02-25T21:32:42.376Z"
   },
   {
    "duration": 16,
    "start_time": "2022-02-25T21:32:42.393Z"
   },
   {
    "duration": 6,
    "start_time": "2022-02-25T21:32:42.412Z"
   },
   {
    "duration": 63,
    "start_time": "2022-02-25T21:32:42.420Z"
   },
   {
    "duration": 14,
    "start_time": "2022-02-25T21:32:42.486Z"
   },
   {
    "duration": 8,
    "start_time": "2022-02-25T21:32:42.502Z"
   },
   {
    "duration": 8,
    "start_time": "2022-02-25T21:32:42.513Z"
   },
   {
    "duration": 7,
    "start_time": "2022-02-25T21:32:42.523Z"
   },
   {
    "duration": 40,
    "start_time": "2022-02-25T21:32:42.532Z"
   },
   {
    "duration": 4,
    "start_time": "2022-02-25T21:32:42.575Z"
   },
   {
    "duration": 17,
    "start_time": "2022-02-25T21:32:42.582Z"
   },
   {
    "duration": 1016,
    "start_time": "2022-02-25T21:32:42.601Z"
   },
   {
    "duration": 118,
    "start_time": "2022-02-25T21:32:43.619Z"
   },
   {
    "duration": 1904,
    "start_time": "2022-02-25T21:32:43.740Z"
   },
   {
    "duration": 1601,
    "start_time": "2022-02-25T21:32:45.647Z"
   },
   {
    "duration": 474,
    "start_time": "2022-02-25T21:32:47.261Z"
   },
   {
    "duration": 33,
    "start_time": "2022-02-25T21:32:47.738Z"
   },
   {
    "duration": 6,
    "start_time": "2022-02-25T21:32:47.773Z"
   },
   {
    "duration": 758,
    "start_time": "2022-02-25T21:32:47.782Z"
   },
   {
    "duration": 25,
    "start_time": "2022-02-25T21:32:48.542Z"
   },
   {
    "duration": 52,
    "start_time": "2022-02-25T21:32:48.570Z"
   },
   {
    "duration": 85,
    "start_time": "2022-02-25T21:32:48.625Z"
   },
   {
    "duration": 550,
    "start_time": "2022-02-25T21:32:48.714Z"
   },
   {
    "duration": 2777,
    "start_time": "2022-02-25T21:32:49.266Z"
   },
   {
    "duration": 47,
    "start_time": "2022-02-25T21:32:52.046Z"
   },
   {
    "duration": 23818,
    "start_time": "2022-02-25T21:32:52.096Z"
   },
   {
    "duration": 3,
    "start_time": "2022-02-25T21:33:15.916Z"
   },
   {
    "duration": 443,
    "start_time": "2022-02-25T21:33:15.922Z"
   },
   {
    "duration": 20,
    "start_time": "2022-02-25T21:33:57.745Z"
   },
   {
    "duration": 61,
    "start_time": "2022-02-25T21:34:13.054Z"
   },
   {
    "duration": 57,
    "start_time": "2022-02-25T21:35:34.925Z"
   },
   {
    "duration": 22,
    "start_time": "2022-02-25T21:41:40.170Z"
   },
   {
    "duration": 5,
    "start_time": "2022-02-25T21:50:52.492Z"
   },
   {
    "duration": 574,
    "start_time": "2022-02-25T21:50:58.141Z"
   },
   {
    "duration": 281,
    "start_time": "2022-02-25T21:51:05.937Z"
   },
   {
    "duration": 5,
    "start_time": "2022-02-25T21:51:15.535Z"
   },
   {
    "duration": 1047,
    "start_time": "2022-02-25T21:53:15.595Z"
   },
   {
    "duration": 383,
    "start_time": "2022-02-25T21:54:50.318Z"
   },
   {
    "duration": 318,
    "start_time": "2022-02-25T21:55:43.443Z"
   },
   {
    "duration": 284,
    "start_time": "2022-02-25T21:56:01.293Z"
   },
   {
    "duration": 254,
    "start_time": "2022-02-25T21:56:12.595Z"
   },
   {
    "duration": 288,
    "start_time": "2022-02-25T21:56:29.944Z"
   },
   {
    "duration": 1053,
    "start_time": "2022-02-25T21:57:07.973Z"
   },
   {
    "duration": 1085,
    "start_time": "2022-02-25T21:57:18.765Z"
   },
   {
    "duration": 309,
    "start_time": "2022-02-25T21:57:29.198Z"
   },
   {
    "duration": 287,
    "start_time": "2022-02-25T21:57:34.339Z"
   },
   {
    "duration": 1037,
    "start_time": "2022-02-25T21:57:47.559Z"
   },
   {
    "duration": 929,
    "start_time": "2022-02-25T21:57:56.055Z"
   },
   {
    "duration": 283,
    "start_time": "2022-02-25T21:58:16.079Z"
   },
   {
    "duration": 11,
    "start_time": "2022-02-25T22:05:25.934Z"
   },
   {
    "duration": 295,
    "start_time": "2022-02-25T22:06:21.866Z"
   },
   {
    "duration": 1099,
    "start_time": "2022-02-25T22:18:56.898Z"
   },
   {
    "duration": 1330,
    "start_time": "2022-02-25T22:35:55.101Z"
   },
   {
    "duration": 1040,
    "start_time": "2022-02-25T22:36:18.659Z"
   },
   {
    "duration": 373,
    "start_time": "2022-02-25T22:36:42.682Z"
   },
   {
    "duration": 323,
    "start_time": "2022-02-25T22:38:08.199Z"
   },
   {
    "duration": 853,
    "start_time": "2022-02-25T22:38:32.195Z"
   },
   {
    "duration": 118,
    "start_time": "2022-02-25T22:38:33.051Z"
   },
   {
    "duration": 15,
    "start_time": "2022-02-25T22:38:33.172Z"
   },
   {
    "duration": 9,
    "start_time": "2022-02-25T22:38:33.190Z"
   },
   {
    "duration": 67,
    "start_time": "2022-02-25T22:38:33.201Z"
   },
   {
    "duration": 8,
    "start_time": "2022-02-25T22:38:33.271Z"
   },
   {
    "duration": 8,
    "start_time": "2022-02-25T22:38:33.282Z"
   },
   {
    "duration": 233,
    "start_time": "2022-02-25T22:38:33.296Z"
   },
   {
    "duration": 7,
    "start_time": "2022-02-25T22:38:33.532Z"
   },
   {
    "duration": 31,
    "start_time": "2022-02-25T22:38:33.541Z"
   },
   {
    "duration": 5,
    "start_time": "2022-02-25T22:38:33.574Z"
   },
   {
    "duration": 8,
    "start_time": "2022-02-25T22:38:33.581Z"
   },
   {
    "duration": 10,
    "start_time": "2022-02-25T22:38:33.591Z"
   },
   {
    "duration": 24,
    "start_time": "2022-02-25T22:38:33.603Z"
   },
   {
    "duration": 46,
    "start_time": "2022-02-25T22:38:33.629Z"
   },
   {
    "duration": 10,
    "start_time": "2022-02-25T22:38:33.677Z"
   },
   {
    "duration": 11,
    "start_time": "2022-02-25T22:38:33.689Z"
   },
   {
    "duration": 9,
    "start_time": "2022-02-25T22:38:33.702Z"
   },
   {
    "duration": 48,
    "start_time": "2022-02-25T22:38:33.713Z"
   },
   {
    "duration": 12,
    "start_time": "2022-02-25T22:38:33.763Z"
   },
   {
    "duration": 24,
    "start_time": "2022-02-25T22:38:33.777Z"
   },
   {
    "duration": 12,
    "start_time": "2022-02-25T22:38:33.804Z"
   },
   {
    "duration": 6,
    "start_time": "2022-02-25T22:38:33.821Z"
   },
   {
    "duration": 11,
    "start_time": "2022-02-25T22:38:33.862Z"
   },
   {
    "duration": 19,
    "start_time": "2022-02-25T22:38:33.875Z"
   },
   {
    "duration": 7,
    "start_time": "2022-02-25T22:38:33.897Z"
   },
   {
    "duration": 64,
    "start_time": "2022-02-25T22:38:33.907Z"
   },
   {
    "duration": 12,
    "start_time": "2022-02-25T22:38:33.975Z"
   },
   {
    "duration": 10,
    "start_time": "2022-02-25T22:38:33.990Z"
   },
   {
    "duration": 9,
    "start_time": "2022-02-25T22:38:34.003Z"
   },
   {
    "duration": 8,
    "start_time": "2022-02-25T22:38:34.014Z"
   },
   {
    "duration": 46,
    "start_time": "2022-02-25T22:38:34.024Z"
   },
   {
    "duration": 4,
    "start_time": "2022-02-25T22:38:34.073Z"
   },
   {
    "duration": 18,
    "start_time": "2022-02-25T22:38:34.079Z"
   },
   {
    "duration": 1061,
    "start_time": "2022-02-25T22:38:34.100Z"
   },
   {
    "duration": 126,
    "start_time": "2022-02-25T22:38:35.164Z"
   },
   {
    "duration": 1937,
    "start_time": "2022-02-25T22:38:35.293Z"
   },
   {
    "duration": 1749,
    "start_time": "2022-02-25T22:38:37.233Z"
   },
   {
    "duration": 464,
    "start_time": "2022-02-25T22:38:38.985Z"
   },
   {
    "duration": 23,
    "start_time": "2022-02-25T22:38:39.452Z"
   },
   {
    "duration": 5,
    "start_time": "2022-02-25T22:38:39.477Z"
   },
   {
    "duration": 770,
    "start_time": "2022-02-25T22:38:39.484Z"
   },
   {
    "duration": 12,
    "start_time": "2022-02-25T22:38:40.261Z"
   },
   {
    "duration": 47,
    "start_time": "2022-02-25T22:38:40.276Z"
   },
   {
    "duration": 71,
    "start_time": "2022-02-25T22:38:40.326Z"
   },
   {
    "duration": 524,
    "start_time": "2022-02-25T22:38:40.399Z"
   },
   {
    "duration": 2499,
    "start_time": "2022-02-25T22:38:40.926Z"
   },
   {
    "duration": 59,
    "start_time": "2022-02-25T22:38:43.428Z"
   },
   {
    "duration": 3,
    "start_time": "2022-02-25T22:38:43.489Z"
   },
   {
    "duration": 98,
    "start_time": "2022-02-25T22:38:43.495Z"
   },
   {
    "duration": -1019,
    "start_time": "2022-02-25T22:38:44.614Z"
   },
   {
    "duration": -1022,
    "start_time": "2022-02-25T22:38:44.619Z"
   },
   {
    "duration": 1013,
    "start_time": "2022-02-25T22:41:55.314Z"
   },
   {
    "duration": 852,
    "start_time": "2022-02-25T22:42:01.915Z"
   },
   {
    "duration": 120,
    "start_time": "2022-02-25T22:42:02.770Z"
   },
   {
    "duration": 15,
    "start_time": "2022-02-25T22:42:02.894Z"
   },
   {
    "duration": 11,
    "start_time": "2022-02-25T22:42:02.911Z"
   },
   {
    "duration": 69,
    "start_time": "2022-02-25T22:42:02.925Z"
   },
   {
    "duration": 7,
    "start_time": "2022-02-25T22:42:02.997Z"
   },
   {
    "duration": 9,
    "start_time": "2022-02-25T22:42:03.007Z"
   },
   {
    "duration": 227,
    "start_time": "2022-02-25T22:42:03.019Z"
   },
   {
    "duration": 15,
    "start_time": "2022-02-25T22:42:03.249Z"
   },
   {
    "duration": 16,
    "start_time": "2022-02-25T22:42:03.267Z"
   },
   {
    "duration": 5,
    "start_time": "2022-02-25T22:42:03.285Z"
   },
   {
    "duration": 20,
    "start_time": "2022-02-25T22:42:03.293Z"
   },
   {
    "duration": 8,
    "start_time": "2022-02-25T22:42:03.315Z"
   },
   {
    "duration": 57,
    "start_time": "2022-02-25T22:42:03.326Z"
   },
   {
    "duration": 19,
    "start_time": "2022-02-25T22:42:03.386Z"
   },
   {
    "duration": 10,
    "start_time": "2022-02-25T22:42:03.408Z"
   },
   {
    "duration": 42,
    "start_time": "2022-02-25T22:42:03.421Z"
   },
   {
    "duration": 11,
    "start_time": "2022-02-25T22:42:03.465Z"
   },
   {
    "duration": 17,
    "start_time": "2022-02-25T22:42:03.479Z"
   },
   {
    "duration": 15,
    "start_time": "2022-02-25T22:42:03.498Z"
   },
   {
    "duration": 50,
    "start_time": "2022-02-25T22:42:03.516Z"
   },
   {
    "duration": 12,
    "start_time": "2022-02-25T22:42:03.569Z"
   },
   {
    "duration": 5,
    "start_time": "2022-02-25T22:42:03.587Z"
   },
   {
    "duration": 11,
    "start_time": "2022-02-25T22:42:03.595Z"
   },
   {
    "duration": 20,
    "start_time": "2022-02-25T22:42:03.608Z"
   },
   {
    "duration": 8,
    "start_time": "2022-02-25T22:42:03.662Z"
   },
   {
    "duration": 32,
    "start_time": "2022-02-25T22:42:03.673Z"
   },
   {
    "duration": 15,
    "start_time": "2022-02-25T22:42:03.707Z"
   },
   {
    "duration": 43,
    "start_time": "2022-02-25T22:42:03.725Z"
   },
   {
    "duration": 10,
    "start_time": "2022-02-25T22:42:03.771Z"
   },
   {
    "duration": 8,
    "start_time": "2022-02-25T22:42:03.783Z"
   },
   {
    "duration": 11,
    "start_time": "2022-02-25T22:42:03.794Z"
   },
   {
    "duration": 5,
    "start_time": "2022-02-25T22:42:03.808Z"
   },
   {
    "duration": 59,
    "start_time": "2022-02-25T22:42:03.816Z"
   },
   {
    "duration": 1041,
    "start_time": "2022-02-25T22:42:03.878Z"
   },
   {
    "duration": 1049,
    "start_time": "2022-02-25T22:42:04.921Z"
   },
   {
    "duration": 117,
    "start_time": "2022-02-25T22:42:05.972Z"
   },
   {
    "duration": 1877,
    "start_time": "2022-02-25T22:42:06.091Z"
   },
   {
    "duration": -1032,
    "start_time": "2022-02-25T22:42:09.003Z"
   },
   {
    "duration": -1037,
    "start_time": "2022-02-25T22:42:09.009Z"
   },
   {
    "duration": -1041,
    "start_time": "2022-02-25T22:42:09.015Z"
   },
   {
    "duration": -1042,
    "start_time": "2022-02-25T22:42:09.018Z"
   },
   {
    "duration": -1044,
    "start_time": "2022-02-25T22:42:09.021Z"
   },
   {
    "duration": -1049,
    "start_time": "2022-02-25T22:42:09.027Z"
   },
   {
    "duration": -1051,
    "start_time": "2022-02-25T22:42:09.031Z"
   },
   {
    "duration": -1053,
    "start_time": "2022-02-25T22:42:09.034Z"
   },
   {
    "duration": -1055,
    "start_time": "2022-02-25T22:42:09.037Z"
   },
   {
    "duration": -1057,
    "start_time": "2022-02-25T22:42:09.041Z"
   },
   {
    "duration": -1064,
    "start_time": "2022-02-25T22:42:09.050Z"
   },
   {
    "duration": -1067,
    "start_time": "2022-02-25T22:42:09.054Z"
   },
   {
    "duration": -1070,
    "start_time": "2022-02-25T22:42:09.058Z"
   },
   {
    "duration": -1072,
    "start_time": "2022-02-25T22:42:09.061Z"
   },
   {
    "duration": -1074,
    "start_time": "2022-02-25T22:42:09.065Z"
   },
   {
    "duration": 900,
    "start_time": "2022-02-25T22:42:51.655Z"
   },
   {
    "duration": 134,
    "start_time": "2022-02-25T22:42:52.558Z"
   },
   {
    "duration": 17,
    "start_time": "2022-02-25T22:42:52.696Z"
   },
   {
    "duration": 13,
    "start_time": "2022-02-25T22:42:52.716Z"
   },
   {
    "duration": 69,
    "start_time": "2022-02-25T22:42:52.732Z"
   },
   {
    "duration": 8,
    "start_time": "2022-02-25T22:42:52.804Z"
   },
   {
    "duration": 15,
    "start_time": "2022-02-25T22:42:52.815Z"
   },
   {
    "duration": 230,
    "start_time": "2022-02-25T22:42:52.832Z"
   },
   {
    "duration": 7,
    "start_time": "2022-02-25T22:42:53.066Z"
   },
   {
    "duration": 14,
    "start_time": "2022-02-25T22:42:53.076Z"
   },
   {
    "duration": 5,
    "start_time": "2022-02-25T22:42:53.092Z"
   },
   {
    "duration": 9,
    "start_time": "2022-02-25T22:42:53.099Z"
   },
   {
    "duration": 8,
    "start_time": "2022-02-25T22:42:53.110Z"
   },
   {
    "duration": 59,
    "start_time": "2022-02-25T22:42:53.120Z"
   },
   {
    "duration": 18,
    "start_time": "2022-02-25T22:42:53.181Z"
   },
   {
    "duration": 11,
    "start_time": "2022-02-25T22:42:53.201Z"
   },
   {
    "duration": 50,
    "start_time": "2022-02-25T22:42:53.214Z"
   },
   {
    "duration": 10,
    "start_time": "2022-02-25T22:42:53.267Z"
   },
   {
    "duration": 7,
    "start_time": "2022-02-25T22:42:53.279Z"
   },
   {
    "duration": 10,
    "start_time": "2022-02-25T22:42:53.288Z"
   },
   {
    "duration": 19,
    "start_time": "2022-02-25T22:42:53.300Z"
   },
   {
    "duration": 49,
    "start_time": "2022-02-25T22:42:53.321Z"
   },
   {
    "duration": 4,
    "start_time": "2022-02-25T22:42:53.373Z"
   },
   {
    "duration": 11,
    "start_time": "2022-02-25T22:42:53.380Z"
   },
   {
    "duration": 20,
    "start_time": "2022-02-25T22:42:53.393Z"
   },
   {
    "duration": 7,
    "start_time": "2022-02-25T22:42:53.415Z"
   },
   {
    "duration": 61,
    "start_time": "2022-02-25T22:42:53.427Z"
   },
   {
    "duration": 14,
    "start_time": "2022-02-25T22:42:53.491Z"
   },
   {
    "duration": 9,
    "start_time": "2022-02-25T22:42:53.507Z"
   },
   {
    "duration": 8,
    "start_time": "2022-02-25T22:42:53.518Z"
   },
   {
    "duration": 8,
    "start_time": "2022-02-25T22:42:53.561Z"
   },
   {
    "duration": 12,
    "start_time": "2022-02-25T22:42:53.571Z"
   },
   {
    "duration": 5,
    "start_time": "2022-02-25T22:42:53.586Z"
   },
   {
    "duration": 18,
    "start_time": "2022-02-25T22:42:53.594Z"
   },
   {
    "duration": 1047,
    "start_time": "2022-02-25T22:42:53.614Z"
   },
   {
    "duration": 120,
    "start_time": "2022-02-25T22:42:54.663Z"
   },
   {
    "duration": 1962,
    "start_time": "2022-02-25T22:42:54.785Z"
   },
   {
    "duration": 1807,
    "start_time": "2022-02-25T22:42:56.750Z"
   },
   {
    "duration": 484,
    "start_time": "2022-02-25T22:42:58.561Z"
   },
   {
    "duration": 31,
    "start_time": "2022-02-25T22:42:59.047Z"
   },
   {
    "duration": 5,
    "start_time": "2022-02-25T22:42:59.081Z"
   },
   {
    "duration": 766,
    "start_time": "2022-02-25T22:42:59.089Z"
   },
   {
    "duration": 11,
    "start_time": "2022-02-25T22:42:59.861Z"
   },
   {
    "duration": 44,
    "start_time": "2022-02-25T22:42:59.874Z"
   },
   {
    "duration": 74,
    "start_time": "2022-02-25T22:42:59.921Z"
   },
   {
    "duration": 608,
    "start_time": "2022-02-25T22:42:59.998Z"
   },
   {
    "duration": 2489,
    "start_time": "2022-02-25T22:43:00.608Z"
   },
   {
    "duration": 37,
    "start_time": "2022-02-25T22:43:03.099Z"
   },
   {
    "duration": 3,
    "start_time": "2022-02-25T22:43:03.161Z"
   },
   {
    "duration": 111,
    "start_time": "2022-02-25T22:43:03.166Z"
   },
   {
    "duration": -1042,
    "start_time": "2022-02-25T22:43:04.322Z"
   },
   {
    "duration": -1054,
    "start_time": "2022-02-25T22:43:04.335Z"
   },
   {
    "duration": 892,
    "start_time": "2022-02-25T22:43:27.723Z"
   },
   {
    "duration": 122,
    "start_time": "2022-02-25T22:43:28.618Z"
   },
   {
    "duration": 20,
    "start_time": "2022-02-25T22:43:28.743Z"
   },
   {
    "duration": 11,
    "start_time": "2022-02-25T22:43:28.766Z"
   },
   {
    "duration": 41,
    "start_time": "2022-02-25T22:43:28.780Z"
   },
   {
    "duration": 39,
    "start_time": "2022-02-25T22:43:28.823Z"
   },
   {
    "duration": 6,
    "start_time": "2022-02-25T22:43:28.864Z"
   },
   {
    "duration": 225,
    "start_time": "2022-02-25T22:43:28.872Z"
   },
   {
    "duration": 8,
    "start_time": "2022-02-25T22:43:29.101Z"
   },
   {
    "duration": 13,
    "start_time": "2022-02-25T22:43:29.113Z"
   },
   {
    "duration": 32,
    "start_time": "2022-02-25T22:43:29.128Z"
   },
   {
    "duration": 6,
    "start_time": "2022-02-25T22:43:29.163Z"
   },
   {
    "duration": 7,
    "start_time": "2022-02-25T22:43:29.171Z"
   },
   {
    "duration": 23,
    "start_time": "2022-02-25T22:43:29.181Z"
   },
   {
    "duration": 20,
    "start_time": "2022-02-25T22:43:29.207Z"
   },
   {
    "duration": 10,
    "start_time": "2022-02-25T22:43:29.262Z"
   },
   {
    "duration": 11,
    "start_time": "2022-02-25T22:43:29.275Z"
   },
   {
    "duration": 10,
    "start_time": "2022-02-25T22:43:29.288Z"
   },
   {
    "duration": 6,
    "start_time": "2022-02-25T22:43:29.300Z"
   },
   {
    "duration": 55,
    "start_time": "2022-02-25T22:43:29.308Z"
   },
   {
    "duration": 18,
    "start_time": "2022-02-25T22:43:29.365Z"
   },
   {
    "duration": 14,
    "start_time": "2022-02-25T22:43:29.385Z"
   },
   {
    "duration": 8,
    "start_time": "2022-02-25T22:43:29.402Z"
   },
   {
    "duration": 48,
    "start_time": "2022-02-25T22:43:29.412Z"
   },
   {
    "duration": 15,
    "start_time": "2022-02-25T22:43:29.463Z"
   },
   {
    "duration": 7,
    "start_time": "2022-02-25T22:43:29.480Z"
   },
   {
    "duration": 27,
    "start_time": "2022-02-25T22:43:29.493Z"
   },
   {
    "duration": 45,
    "start_time": "2022-02-25T22:43:29.523Z"
   },
   {
    "duration": 9,
    "start_time": "2022-02-25T22:43:29.570Z"
   },
   {
    "duration": 18,
    "start_time": "2022-02-25T22:43:29.581Z"
   },
   {
    "duration": 31,
    "start_time": "2022-02-25T22:43:29.602Z"
   },
   {
    "duration": 14,
    "start_time": "2022-02-25T22:43:29.636Z"
   },
   {
    "duration": 12,
    "start_time": "2022-02-25T22:43:29.652Z"
   },
   {
    "duration": 25,
    "start_time": "2022-02-25T22:43:29.666Z"
   },
   {
    "duration": 1036,
    "start_time": "2022-02-25T22:43:29.694Z"
   },
   {
    "duration": 118,
    "start_time": "2022-02-25T22:43:30.732Z"
   },
   {
    "duration": 1918,
    "start_time": "2022-02-25T22:43:30.852Z"
   },
   {
    "duration": 1645,
    "start_time": "2022-02-25T22:43:32.772Z"
   },
   {
    "duration": 501,
    "start_time": "2022-02-25T22:43:34.419Z"
   },
   {
    "duration": 17,
    "start_time": "2022-02-25T22:43:34.923Z"
   },
   {
    "duration": 22,
    "start_time": "2022-02-25T22:43:34.943Z"
   },
   {
    "duration": 760,
    "start_time": "2022-02-25T22:43:34.967Z"
   },
   {
    "duration": 12,
    "start_time": "2022-02-25T22:43:35.730Z"
   },
   {
    "duration": 58,
    "start_time": "2022-02-25T22:43:35.744Z"
   },
   {
    "duration": 38,
    "start_time": "2022-02-25T22:43:35.804Z"
   },
   {
    "duration": 515,
    "start_time": "2022-02-25T22:43:35.861Z"
   },
   {
    "duration": 2449,
    "start_time": "2022-02-25T22:43:36.378Z"
   },
   {
    "duration": 50,
    "start_time": "2022-02-25T22:43:38.830Z"
   },
   {
    "duration": 3,
    "start_time": "2022-02-25T22:43:38.883Z"
   },
   {
    "duration": 90,
    "start_time": "2022-02-25T22:43:38.888Z"
   },
   {
    "duration": -1030,
    "start_time": "2022-02-25T22:43:40.011Z"
   },
   {
    "duration": -1035,
    "start_time": "2022-02-25T22:43:40.017Z"
   },
   {
    "duration": 622,
    "start_time": "2022-02-25T22:59:56.371Z"
   },
   {
    "duration": 662,
    "start_time": "2022-02-25T23:03:36.303Z"
   },
   {
    "duration": 669,
    "start_time": "2022-02-25T23:03:46.398Z"
   },
   {
    "duration": 1271,
    "start_time": "2022-02-25T23:15:23.838Z"
   },
   {
    "duration": 170,
    "start_time": "2022-02-25T23:15:25.113Z"
   },
   {
    "duration": 16,
    "start_time": "2022-02-25T23:15:25.286Z"
   },
   {
    "duration": 12,
    "start_time": "2022-02-25T23:15:25.305Z"
   },
   {
    "duration": 70,
    "start_time": "2022-02-25T23:15:25.319Z"
   },
   {
    "duration": 8,
    "start_time": "2022-02-25T23:15:25.391Z"
   },
   {
    "duration": 14,
    "start_time": "2022-02-25T23:15:25.402Z"
   },
   {
    "duration": 212,
    "start_time": "2022-02-25T23:15:25.418Z"
   },
   {
    "duration": 7,
    "start_time": "2022-02-25T23:15:25.633Z"
   },
   {
    "duration": 28,
    "start_time": "2022-02-25T23:15:25.643Z"
   },
   {
    "duration": 4,
    "start_time": "2022-02-25T23:15:25.673Z"
   },
   {
    "duration": 9,
    "start_time": "2022-02-25T23:15:25.680Z"
   },
   {
    "duration": 7,
    "start_time": "2022-02-25T23:15:25.692Z"
   },
   {
    "duration": 61,
    "start_time": "2022-02-25T23:15:25.701Z"
   },
   {
    "duration": 17,
    "start_time": "2022-02-25T23:15:25.765Z"
   },
   {
    "duration": 10,
    "start_time": "2022-02-25T23:15:25.784Z"
   },
   {
    "duration": 10,
    "start_time": "2022-02-25T23:15:25.796Z"
   },
   {
    "duration": 54,
    "start_time": "2022-02-25T23:15:25.808Z"
   },
   {
    "duration": 6,
    "start_time": "2022-02-25T23:15:25.864Z"
   },
   {
    "duration": 10,
    "start_time": "2022-02-25T23:15:25.872Z"
   },
   {
    "duration": 19,
    "start_time": "2022-02-25T23:15:25.885Z"
   },
   {
    "duration": 54,
    "start_time": "2022-02-25T23:15:25.906Z"
   },
   {
    "duration": 5,
    "start_time": "2022-02-25T23:15:25.962Z"
   },
   {
    "duration": 7,
    "start_time": "2022-02-25T23:15:25.969Z"
   },
   {
    "duration": 13,
    "start_time": "2022-02-25T23:15:25.978Z"
   },
   {
    "duration": 6,
    "start_time": "2022-02-25T23:15:25.993Z"
   },
   {
    "duration": 69,
    "start_time": "2022-02-25T23:15:26.005Z"
   },
   {
    "duration": 11,
    "start_time": "2022-02-25T23:15:26.077Z"
   },
   {
    "duration": 10,
    "start_time": "2022-02-25T23:15:26.091Z"
   },
   {
    "duration": 8,
    "start_time": "2022-02-25T23:15:26.104Z"
   },
   {
    "duration": 10,
    "start_time": "2022-02-25T23:15:26.115Z"
   },
   {
    "duration": 12,
    "start_time": "2022-02-25T23:15:26.162Z"
   },
   {
    "duration": 5,
    "start_time": "2022-02-25T23:15:26.176Z"
   },
   {
    "duration": 17,
    "start_time": "2022-02-25T23:15:26.184Z"
   },
   {
    "duration": 1099,
    "start_time": "2022-02-25T23:15:26.204Z"
   },
   {
    "duration": 114,
    "start_time": "2022-02-25T23:15:27.306Z"
   },
   {
    "duration": 1917,
    "start_time": "2022-02-25T23:15:27.423Z"
   },
   {
    "duration": 1766,
    "start_time": "2022-02-25T23:15:29.342Z"
   },
   {
    "duration": 477,
    "start_time": "2022-02-25T23:15:31.111Z"
   },
   {
    "duration": 17,
    "start_time": "2022-02-25T23:15:31.590Z"
   },
   {
    "duration": 9,
    "start_time": "2022-02-25T23:15:31.609Z"
   },
   {
    "duration": 743,
    "start_time": "2022-02-25T23:15:31.620Z"
   },
   {
    "duration": 12,
    "start_time": "2022-02-25T23:15:32.365Z"
   },
   {
    "duration": 41,
    "start_time": "2022-02-25T23:15:32.379Z"
   },
   {
    "duration": 69,
    "start_time": "2022-02-25T23:15:32.422Z"
   },
   {
    "duration": 607,
    "start_time": "2022-02-25T23:15:32.493Z"
   },
   {
    "duration": 2575,
    "start_time": "2022-02-25T23:15:33.102Z"
   },
   {
    "duration": 33,
    "start_time": "2022-02-25T23:15:35.679Z"
   },
   {
    "duration": 4,
    "start_time": "2022-02-25T23:15:35.714Z"
   },
   {
    "duration": 709,
    "start_time": "2022-02-25T23:15:35.720Z"
   },
   {
    "duration": 576,
    "start_time": "2022-02-25T23:15:36.432Z"
   },
   {
    "duration": 960,
    "start_time": "2022-02-25T23:15:37.011Z"
   },
   {
    "duration": 694,
    "start_time": "2022-02-25T23:17:39.725Z"
   },
   {
    "duration": 757,
    "start_time": "2022-02-26T08:41:58.663Z"
   },
   {
    "duration": 100,
    "start_time": "2022-02-26T08:41:59.422Z"
   },
   {
    "duration": 14,
    "start_time": "2022-02-26T08:41:59.524Z"
   },
   {
    "duration": 9,
    "start_time": "2022-02-26T08:41:59.540Z"
   },
   {
    "duration": 43,
    "start_time": "2022-02-26T08:41:59.551Z"
   },
   {
    "duration": 7,
    "start_time": "2022-02-26T08:41:59.596Z"
   },
   {
    "duration": 7,
    "start_time": "2022-02-26T08:41:59.604Z"
   },
   {
    "duration": 172,
    "start_time": "2022-02-26T08:41:59.614Z"
   },
   {
    "duration": 5,
    "start_time": "2022-02-26T08:41:59.789Z"
   },
   {
    "duration": 14,
    "start_time": "2022-02-26T08:41:59.796Z"
   },
   {
    "duration": 3,
    "start_time": "2022-02-26T08:41:59.812Z"
   },
   {
    "duration": 7,
    "start_time": "2022-02-26T08:41:59.817Z"
   },
   {
    "duration": 7,
    "start_time": "2022-02-26T08:41:59.825Z"
   },
   {
    "duration": 38,
    "start_time": "2022-02-26T08:41:59.834Z"
   },
   {
    "duration": 18,
    "start_time": "2022-02-26T08:41:59.874Z"
   },
   {
    "duration": 8,
    "start_time": "2022-02-26T08:41:59.894Z"
   },
   {
    "duration": 9,
    "start_time": "2022-02-26T08:41:59.903Z"
   },
   {
    "duration": 11,
    "start_time": "2022-02-26T08:41:59.914Z"
   },
   {
    "duration": 6,
    "start_time": "2022-02-26T08:41:59.926Z"
   },
   {
    "duration": 46,
    "start_time": "2022-02-26T08:41:59.933Z"
   },
   {
    "duration": 18,
    "start_time": "2022-02-26T08:41:59.980Z"
   },
   {
    "duration": 9,
    "start_time": "2022-02-26T08:42:00.000Z"
   },
   {
    "duration": 16,
    "start_time": "2022-02-26T08:42:00.013Z"
   },
   {
    "duration": 11,
    "start_time": "2022-02-26T08:42:00.032Z"
   },
   {
    "duration": 17,
    "start_time": "2022-02-26T08:42:00.045Z"
   },
   {
    "duration": 5,
    "start_time": "2022-02-26T08:42:00.069Z"
   },
   {
    "duration": 25,
    "start_time": "2022-02-26T08:42:00.076Z"
   },
   {
    "duration": 17,
    "start_time": "2022-02-26T08:42:00.103Z"
   },
   {
    "duration": 13,
    "start_time": "2022-02-26T08:42:00.122Z"
   },
   {
    "duration": 15,
    "start_time": "2022-02-26T08:42:00.137Z"
   },
   {
    "duration": 19,
    "start_time": "2022-02-26T08:42:00.154Z"
   },
   {
    "duration": 19,
    "start_time": "2022-02-26T08:42:00.174Z"
   },
   {
    "duration": 4,
    "start_time": "2022-02-26T08:42:00.195Z"
   },
   {
    "duration": 17,
    "start_time": "2022-02-26T08:42:00.201Z"
   },
   {
    "duration": 680,
    "start_time": "2022-02-26T08:42:00.220Z"
   },
   {
    "duration": 84,
    "start_time": "2022-02-26T08:42:00.902Z"
   },
   {
    "duration": 1423,
    "start_time": "2022-02-26T08:42:00.988Z"
   },
   {
    "duration": 1298,
    "start_time": "2022-02-26T08:42:02.413Z"
   },
   {
    "duration": 364,
    "start_time": "2022-02-26T08:42:03.713Z"
   },
   {
    "duration": 14,
    "start_time": "2022-02-26T08:42:04.079Z"
   },
   {
    "duration": 5,
    "start_time": "2022-02-26T08:42:04.094Z"
   },
   {
    "duration": 677,
    "start_time": "2022-02-26T08:42:04.101Z"
   },
   {
    "duration": 9,
    "start_time": "2022-02-26T08:42:04.780Z"
   },
   {
    "duration": 35,
    "start_time": "2022-02-26T08:42:04.792Z"
   },
   {
    "duration": 57,
    "start_time": "2022-02-26T08:42:04.829Z"
   },
   {
    "duration": 393,
    "start_time": "2022-02-26T08:42:04.888Z"
   },
   {
    "duration": 1835,
    "start_time": "2022-02-26T08:42:05.283Z"
   },
   {
    "duration": 26,
    "start_time": "2022-02-26T08:42:07.120Z"
   },
   {
    "duration": 2,
    "start_time": "2022-02-26T08:42:07.148Z"
   },
   {
    "duration": 502,
    "start_time": "2022-02-26T08:42:07.169Z"
   },
   {
    "duration": 442,
    "start_time": "2022-02-26T08:42:07.673Z"
   },
   {
    "duration": 694,
    "start_time": "2022-02-26T08:42:08.117Z"
   },
   {
    "duration": 739,
    "start_time": "2022-02-26T08:48:39.018Z"
   },
   {
    "duration": 718,
    "start_time": "2022-02-26T08:49:40.867Z"
   },
   {
    "duration": 6786,
    "start_time": "2022-02-26T08:53:51.130Z"
   },
   {
    "duration": 12,
    "start_time": "2022-02-26T08:54:15.635Z"
   },
   {
    "duration": 8,
    "start_time": "2022-02-26T08:58:54.964Z"
   },
   {
    "duration": 749,
    "start_time": "2022-02-26T08:58:59.855Z"
   },
   {
    "duration": 110,
    "start_time": "2022-02-26T08:59:00.606Z"
   },
   {
    "duration": 12,
    "start_time": "2022-02-26T08:59:00.718Z"
   },
   {
    "duration": 15,
    "start_time": "2022-02-26T08:59:00.732Z"
   },
   {
    "duration": 20,
    "start_time": "2022-02-26T08:59:00.749Z"
   },
   {
    "duration": 33,
    "start_time": "2022-02-26T08:59:00.771Z"
   },
   {
    "duration": 7,
    "start_time": "2022-02-26T08:59:00.806Z"
   },
   {
    "duration": 12,
    "start_time": "2022-02-26T08:59:00.816Z"
   },
   {
    "duration": 173,
    "start_time": "2022-02-26T08:59:00.831Z"
   },
   {
    "duration": 6,
    "start_time": "2022-02-26T08:59:01.006Z"
   },
   {
    "duration": 18,
    "start_time": "2022-02-26T08:59:01.014Z"
   },
   {
    "duration": 11,
    "start_time": "2022-02-26T08:59:01.034Z"
   },
   {
    "duration": 9,
    "start_time": "2022-02-26T08:59:01.047Z"
   },
   {
    "duration": 17,
    "start_time": "2022-02-26T08:59:01.058Z"
   },
   {
    "duration": 34,
    "start_time": "2022-02-26T08:59:01.077Z"
   },
   {
    "duration": 22,
    "start_time": "2022-02-26T08:59:01.113Z"
   },
   {
    "duration": 19,
    "start_time": "2022-02-26T08:59:01.137Z"
   },
   {
    "duration": 11,
    "start_time": "2022-02-26T08:59:01.157Z"
   },
   {
    "duration": 16,
    "start_time": "2022-02-26T08:59:01.169Z"
   },
   {
    "duration": 10,
    "start_time": "2022-02-26T08:59:01.186Z"
   },
   {
    "duration": 14,
    "start_time": "2022-02-26T08:59:01.200Z"
   },
   {
    "duration": 30,
    "start_time": "2022-02-26T08:59:01.216Z"
   },
   {
    "duration": 16,
    "start_time": "2022-02-26T08:59:01.250Z"
   },
   {
    "duration": 44,
    "start_time": "2022-02-26T08:59:01.269Z"
   },
   {
    "duration": 33,
    "start_time": "2022-02-26T08:59:01.315Z"
   },
   {
    "duration": 43,
    "start_time": "2022-02-26T08:59:01.350Z"
   },
   {
    "duration": 29,
    "start_time": "2022-02-26T08:59:01.395Z"
   },
   {
    "duration": 46,
    "start_time": "2022-02-26T08:59:01.425Z"
   },
   {
    "duration": 36,
    "start_time": "2022-02-26T08:59:01.473Z"
   },
   {
    "duration": 26,
    "start_time": "2022-02-26T08:59:01.510Z"
   },
   {
    "duration": 26,
    "start_time": "2022-02-26T08:59:01.538Z"
   },
   {
    "duration": 23,
    "start_time": "2022-02-26T08:59:01.566Z"
   },
   {
    "duration": 45,
    "start_time": "2022-02-26T08:59:01.591Z"
   },
   {
    "duration": 42,
    "start_time": "2022-02-26T08:59:01.638Z"
   },
   {
    "duration": 39,
    "start_time": "2022-02-26T08:59:01.682Z"
   },
   {
    "duration": 701,
    "start_time": "2022-02-26T08:59:01.723Z"
   },
   {
    "duration": 82,
    "start_time": "2022-02-26T08:59:02.426Z"
   },
   {
    "duration": 1411,
    "start_time": "2022-02-26T08:59:02.510Z"
   },
   {
    "duration": 1299,
    "start_time": "2022-02-26T08:59:03.923Z"
   },
   {
    "duration": 344,
    "start_time": "2022-02-26T08:59:05.224Z"
   },
   {
    "duration": 14,
    "start_time": "2022-02-26T08:59:05.569Z"
   },
   {
    "duration": 4,
    "start_time": "2022-02-26T08:59:05.585Z"
   },
   {
    "duration": 589,
    "start_time": "2022-02-26T08:59:05.590Z"
   },
   {
    "duration": 10,
    "start_time": "2022-02-26T08:59:06.181Z"
   },
   {
    "duration": 34,
    "start_time": "2022-02-26T08:59:06.193Z"
   },
   {
    "duration": 56,
    "start_time": "2022-02-26T08:59:06.229Z"
   },
   {
    "duration": 399,
    "start_time": "2022-02-26T08:59:06.287Z"
   },
   {
    "duration": 1815,
    "start_time": "2022-02-26T08:59:06.688Z"
   },
   {
    "duration": 29,
    "start_time": "2022-02-26T08:59:08.506Z"
   },
   {
    "duration": 3,
    "start_time": "2022-02-26T08:59:08.536Z"
   },
   {
    "duration": 35,
    "start_time": "2022-02-26T08:59:08.540Z"
   },
   {
    "duration": 494,
    "start_time": "2022-02-26T08:59:08.577Z"
   },
   {
    "duration": 761,
    "start_time": "2022-02-26T08:59:09.073Z"
   },
   {
    "duration": 684,
    "start_time": "2022-02-26T08:59:09.836Z"
   },
   {
    "duration": 9,
    "start_time": "2022-02-26T09:04:59.355Z"
   },
   {
    "duration": 244,
    "start_time": "2022-03-08T09:04:07.081Z"
   },
   {
    "duration": 689,
    "start_time": "2022-03-08T09:04:11.164Z"
   },
   {
    "duration": 88,
    "start_time": "2022-03-08T09:04:12.364Z"
   },
   {
    "duration": 61,
    "start_time": "2022-03-08T09:05:01.581Z"
   },
   {
    "duration": 701,
    "start_time": "2022-03-08T09:08:58.061Z"
   },
   {
    "duration": 90,
    "start_time": "2022-03-08T09:08:58.764Z"
   },
   {
    "duration": 12,
    "start_time": "2022-03-08T09:08:58.860Z"
   },
   {
    "duration": 8,
    "start_time": "2022-03-08T09:08:58.875Z"
   },
   {
    "duration": 7,
    "start_time": "2022-03-08T09:08:58.885Z"
   },
   {
    "duration": 27,
    "start_time": "2022-03-08T09:08:58.894Z"
   },
   {
    "duration": 40,
    "start_time": "2022-03-08T09:08:58.924Z"
   },
   {
    "duration": 5,
    "start_time": "2022-03-08T09:08:58.967Z"
   },
   {
    "duration": 145,
    "start_time": "2022-03-08T09:08:58.974Z"
   },
   {
    "duration": 5,
    "start_time": "2022-03-08T09:08:59.121Z"
   },
   {
    "duration": 11,
    "start_time": "2022-03-08T09:08:59.127Z"
   },
   {
    "duration": 19,
    "start_time": "2022-03-08T09:08:59.140Z"
   },
   {
    "duration": 4,
    "start_time": "2022-03-08T09:08:59.161Z"
   },
   {
    "duration": 9,
    "start_time": "2022-03-08T09:08:59.166Z"
   },
   {
    "duration": 14,
    "start_time": "2022-03-08T09:08:59.177Z"
   },
   {
    "duration": 13,
    "start_time": "2022-03-08T09:08:59.192Z"
   },
   {
    "duration": 6,
    "start_time": "2022-03-08T09:08:59.207Z"
   },
   {
    "duration": 7,
    "start_time": "2022-03-08T09:08:59.215Z"
   },
   {
    "duration": 40,
    "start_time": "2022-03-08T09:08:59.223Z"
   },
   {
    "duration": 3,
    "start_time": "2022-03-08T09:08:59.265Z"
   },
   {
    "duration": 11,
    "start_time": "2022-03-08T09:08:59.270Z"
   },
   {
    "duration": 6,
    "start_time": "2022-03-08T09:08:59.283Z"
   },
   {
    "duration": 8,
    "start_time": "2022-03-08T09:08:59.293Z"
   },
   {
    "duration": 4,
    "start_time": "2022-03-08T09:08:59.303Z"
   },
   {
    "duration": 6,
    "start_time": "2022-03-08T09:08:59.309Z"
   },
   {
    "duration": 44,
    "start_time": "2022-03-08T09:08:59.317Z"
   },
   {
    "duration": 5,
    "start_time": "2022-03-08T09:08:59.362Z"
   },
   {
    "duration": 21,
    "start_time": "2022-03-08T09:08:59.368Z"
   },
   {
    "duration": 11,
    "start_time": "2022-03-08T09:08:59.391Z"
   },
   {
    "duration": 9,
    "start_time": "2022-03-08T09:08:59.403Z"
   },
   {
    "duration": 6,
    "start_time": "2022-03-08T09:08:59.413Z"
   },
   {
    "duration": 6,
    "start_time": "2022-03-08T09:08:59.421Z"
   },
   {
    "duration": 37,
    "start_time": "2022-03-08T09:08:59.428Z"
   },
   {
    "duration": 4,
    "start_time": "2022-03-08T09:08:59.466Z"
   },
   {
    "duration": 14,
    "start_time": "2022-03-08T09:08:59.472Z"
   },
   {
    "duration": 648,
    "start_time": "2022-03-08T09:08:59.487Z"
   },
   {
    "duration": 75,
    "start_time": "2022-03-08T09:09:00.137Z"
   },
   {
    "duration": 1227,
    "start_time": "2022-03-08T09:09:00.214Z"
   },
   {
    "duration": 1076,
    "start_time": "2022-03-08T09:09:01.443Z"
   },
   {
    "duration": 501,
    "start_time": "2022-03-08T09:09:02.520Z"
   },
   {
    "duration": 13,
    "start_time": "2022-03-08T09:09:03.022Z"
   },
   {
    "duration": 501,
    "start_time": "2022-03-08T09:09:03.036Z"
   },
   {
    "duration": 8,
    "start_time": "2022-03-08T09:09:03.538Z"
   },
   {
    "duration": 39,
    "start_time": "2022-03-08T09:09:03.548Z"
   },
   {
    "duration": 25,
    "start_time": "2022-03-08T09:09:03.589Z"
   },
   {
    "duration": 348,
    "start_time": "2022-03-08T09:09:03.616Z"
   },
   {
    "duration": 1613,
    "start_time": "2022-03-08T09:09:03.965Z"
   },
   {
    "duration": 26,
    "start_time": "2022-03-08T09:09:05.579Z"
   },
   {
    "duration": 13,
    "start_time": "2022-03-08T09:09:05.607Z"
   },
   {
    "duration": 4,
    "start_time": "2022-03-08T09:09:05.621Z"
   },
   {
    "duration": 33,
    "start_time": "2022-03-08T09:09:05.627Z"
   },
   {
    "duration": 3478,
    "start_time": "2022-03-08T09:09:05.662Z"
   },
   {
    "duration": 19,
    "start_time": "2022-03-08T09:09:09.142Z"
   },
   {
    "duration": 490,
    "start_time": "2022-03-08T09:09:09.162Z"
   },
   {
    "duration": 997,
    "start_time": "2022-03-08T09:09:09.654Z"
   },
   {
    "duration": 194,
    "start_time": "2022-03-08T09:09:10.653Z"
   },
   {
    "duration": 717,
    "start_time": "2022-03-08T09:09:10.849Z"
   },
   {
    "duration": 26,
    "start_time": "2022-03-08T09:09:11.568Z"
   },
   {
    "duration": 318,
    "start_time": "2022-03-08T09:09:11.596Z"
   },
   {
    "duration": 6,
    "start_time": "2022-03-08T09:09:11.915Z"
   },
   {
    "duration": 26,
    "start_time": "2022-03-08T09:09:11.922Z"
   },
   {
    "duration": 33,
    "start_time": "2022-03-08T09:09:11.949Z"
   },
   {
    "duration": 2639,
    "start_time": "2022-03-08T09:09:11.983Z"
   },
   {
    "duration": 11,
    "start_time": "2022-03-08T09:09:14.623Z"
   },
   {
    "duration": 507,
    "start_time": "2022-03-08T09:09:14.636Z"
   },
   {
    "duration": 1031,
    "start_time": "2022-03-08T09:09:15.145Z"
   },
   {
    "duration": 197,
    "start_time": "2022-03-08T09:09:16.177Z"
   },
   {
    "duration": 739,
    "start_time": "2022-03-08T09:09:16.379Z"
   },
   {
    "duration": 642,
    "start_time": "2022-03-08T09:16:32.571Z"
   },
   {
    "duration": 91,
    "start_time": "2022-03-08T09:16:33.215Z"
   },
   {
    "duration": 10,
    "start_time": "2022-03-08T09:16:33.308Z"
   },
   {
    "duration": 9,
    "start_time": "2022-03-08T09:16:33.320Z"
   },
   {
    "duration": 7,
    "start_time": "2022-03-08T09:16:33.330Z"
   },
   {
    "duration": 43,
    "start_time": "2022-03-08T09:16:33.338Z"
   },
   {
    "duration": 5,
    "start_time": "2022-03-08T09:16:33.383Z"
   },
   {
    "duration": 5,
    "start_time": "2022-03-08T09:16:33.392Z"
   },
   {
    "duration": 155,
    "start_time": "2022-03-08T09:16:33.399Z"
   },
   {
    "duration": 5,
    "start_time": "2022-03-08T09:16:33.555Z"
   },
   {
    "duration": 12,
    "start_time": "2022-03-08T09:16:33.562Z"
   },
   {
    "duration": 3,
    "start_time": "2022-03-08T09:16:33.576Z"
   },
   {
    "duration": 12,
    "start_time": "2022-03-08T09:16:33.580Z"
   },
   {
    "duration": 7,
    "start_time": "2022-03-08T09:16:33.594Z"
   },
   {
    "duration": 16,
    "start_time": "2022-03-08T09:16:33.603Z"
   },
   {
    "duration": 43,
    "start_time": "2022-03-08T09:16:33.620Z"
   },
   {
    "duration": 7,
    "start_time": "2022-03-08T09:16:33.665Z"
   },
   {
    "duration": 8,
    "start_time": "2022-03-08T09:16:33.674Z"
   },
   {
    "duration": 7,
    "start_time": "2022-03-08T09:16:33.684Z"
   },
   {
    "duration": 5,
    "start_time": "2022-03-08T09:16:33.692Z"
   },
   {
    "duration": 13,
    "start_time": "2022-03-08T09:16:33.698Z"
   },
   {
    "duration": 7,
    "start_time": "2022-03-08T09:16:33.713Z"
   },
   {
    "duration": 9,
    "start_time": "2022-03-08T09:16:33.762Z"
   },
   {
    "duration": 3,
    "start_time": "2022-03-08T09:16:33.775Z"
   },
   {
    "duration": 7,
    "start_time": "2022-03-08T09:16:33.780Z"
   },
   {
    "duration": 10,
    "start_time": "2022-03-08T09:16:33.788Z"
   },
   {
    "duration": 4,
    "start_time": "2022-03-08T09:16:33.799Z"
   },
   {
    "duration": 55,
    "start_time": "2022-03-08T09:16:33.805Z"
   },
   {
    "duration": 9,
    "start_time": "2022-03-08T09:16:33.862Z"
   },
   {
    "duration": 9,
    "start_time": "2022-03-08T09:16:33.872Z"
   },
   {
    "duration": 6,
    "start_time": "2022-03-08T09:16:33.882Z"
   },
   {
    "duration": 7,
    "start_time": "2022-03-08T09:16:33.889Z"
   },
   {
    "duration": 10,
    "start_time": "2022-03-08T09:16:33.897Z"
   },
   {
    "duration": 3,
    "start_time": "2022-03-08T09:16:33.908Z"
   },
   {
    "duration": 50,
    "start_time": "2022-03-08T09:16:33.913Z"
   },
   {
    "duration": 627,
    "start_time": "2022-03-08T09:16:33.964Z"
   },
   {
    "duration": 77,
    "start_time": "2022-03-08T09:16:34.592Z"
   },
   {
    "duration": 1224,
    "start_time": "2022-03-08T09:16:34.671Z"
   },
   {
    "duration": 1100,
    "start_time": "2022-03-08T09:16:35.897Z"
   },
   {
    "duration": 506,
    "start_time": "2022-03-08T09:16:36.998Z"
   },
   {
    "duration": 15,
    "start_time": "2022-03-08T09:16:37.506Z"
   },
   {
    "duration": 511,
    "start_time": "2022-03-08T09:16:37.523Z"
   },
   {
    "duration": 24,
    "start_time": "2022-03-08T09:16:38.036Z"
   },
   {
    "duration": 30,
    "start_time": "2022-03-08T09:16:38.062Z"
   },
   {
    "duration": 28,
    "start_time": "2022-03-08T09:16:38.094Z"
   },
   {
    "duration": 360,
    "start_time": "2022-03-08T09:16:38.124Z"
   },
   {
    "duration": 1558,
    "start_time": "2022-03-08T09:16:38.486Z"
   },
   {
    "duration": 31,
    "start_time": "2022-03-08T09:16:40.046Z"
   },
   {
    "duration": 14,
    "start_time": "2022-03-08T09:16:40.079Z"
   },
   {
    "duration": 3,
    "start_time": "2022-03-08T09:16:40.095Z"
   },
   {
    "duration": 6,
    "start_time": "2022-03-08T09:16:40.100Z"
   },
   {
    "duration": 3385,
    "start_time": "2022-03-08T09:16:40.108Z"
   },
   {
    "duration": 9,
    "start_time": "2022-03-08T09:16:43.495Z"
   },
   {
    "duration": 509,
    "start_time": "2022-03-08T09:16:43.506Z"
   },
   {
    "duration": 991,
    "start_time": "2022-03-08T09:16:44.017Z"
   },
   {
    "duration": 193,
    "start_time": "2022-03-08T09:16:45.010Z"
   },
   {
    "duration": 720,
    "start_time": "2022-03-08T09:16:45.205Z"
   },
   {
    "duration": 35,
    "start_time": "2022-03-08T09:16:45.927Z"
   },
   {
    "duration": 305,
    "start_time": "2022-03-08T09:16:45.964Z"
   },
   {
    "duration": 7,
    "start_time": "2022-03-08T09:16:46.270Z"
   },
   {
    "duration": 26,
    "start_time": "2022-03-08T09:16:46.278Z"
   },
   {
    "duration": 26,
    "start_time": "2022-03-08T09:16:46.306Z"
   },
   {
    "duration": 2862,
    "start_time": "2022-03-08T09:16:46.333Z"
   },
   {
    "duration": 9,
    "start_time": "2022-03-08T09:16:49.197Z"
   },
   {
    "duration": 491,
    "start_time": "2022-03-08T09:16:49.207Z"
   },
   {
    "duration": 982,
    "start_time": "2022-03-08T09:16:49.700Z"
   },
   {
    "duration": 206,
    "start_time": "2022-03-08T09:16:50.684Z"
   },
   {
    "duration": 731,
    "start_time": "2022-03-08T09:16:50.895Z"
   },
   {
    "duration": 691,
    "start_time": "2022-03-08T09:21:17.257Z"
   },
   {
    "duration": 91,
    "start_time": "2022-03-08T09:21:17.951Z"
   },
   {
    "duration": 21,
    "start_time": "2022-03-08T09:21:18.045Z"
   },
   {
    "duration": 8,
    "start_time": "2022-03-08T09:21:18.068Z"
   },
   {
    "duration": 6,
    "start_time": "2022-03-08T09:21:18.078Z"
   },
   {
    "duration": 30,
    "start_time": "2022-03-08T09:21:18.086Z"
   },
   {
    "duration": 6,
    "start_time": "2022-03-08T09:21:18.118Z"
   },
   {
    "duration": 36,
    "start_time": "2022-03-08T09:21:18.126Z"
   },
   {
    "duration": 141,
    "start_time": "2022-03-08T09:21:18.164Z"
   },
   {
    "duration": 5,
    "start_time": "2022-03-08T09:21:18.307Z"
   },
   {
    "duration": 12,
    "start_time": "2022-03-08T09:21:18.314Z"
   },
   {
    "duration": 4,
    "start_time": "2022-03-08T09:21:18.327Z"
   },
   {
    "duration": 28,
    "start_time": "2022-03-08T09:21:18.332Z"
   },
   {
    "duration": 7,
    "start_time": "2022-03-08T09:21:18.362Z"
   },
   {
    "duration": 17,
    "start_time": "2022-03-08T09:21:18.370Z"
   },
   {
    "duration": 15,
    "start_time": "2022-03-08T09:21:18.388Z"
   },
   {
    "duration": 8,
    "start_time": "2022-03-08T09:21:18.406Z"
   },
   {
    "duration": 43,
    "start_time": "2022-03-08T09:21:18.416Z"
   },
   {
    "duration": 8,
    "start_time": "2022-03-08T09:21:18.462Z"
   },
   {
    "duration": 5,
    "start_time": "2022-03-08T09:21:18.472Z"
   },
   {
    "duration": 16,
    "start_time": "2022-03-08T09:21:18.479Z"
   },
   {
    "duration": 11,
    "start_time": "2022-03-08T09:21:18.497Z"
   },
   {
    "duration": 45,
    "start_time": "2022-03-08T09:21:18.514Z"
   },
   {
    "duration": 4,
    "start_time": "2022-03-08T09:21:18.562Z"
   },
   {
    "duration": 7,
    "start_time": "2022-03-08T09:21:18.568Z"
   },
   {
    "duration": 11,
    "start_time": "2022-03-08T09:21:18.576Z"
   },
   {
    "duration": 4,
    "start_time": "2022-03-08T09:21:18.589Z"
   },
   {
    "duration": 20,
    "start_time": "2022-03-08T09:21:18.595Z"
   },
   {
    "duration": 44,
    "start_time": "2022-03-08T09:21:18.617Z"
   },
   {
    "duration": 8,
    "start_time": "2022-03-08T09:21:18.663Z"
   },
   {
    "duration": 7,
    "start_time": "2022-03-08T09:21:18.673Z"
   },
   {
    "duration": 11,
    "start_time": "2022-03-08T09:21:18.682Z"
   },
   {
    "duration": 9,
    "start_time": "2022-03-08T09:21:18.695Z"
   },
   {
    "duration": 5,
    "start_time": "2022-03-08T09:21:18.706Z"
   },
   {
    "duration": 52,
    "start_time": "2022-03-08T09:21:18.712Z"
   },
   {
    "duration": 642,
    "start_time": "2022-03-08T09:21:18.766Z"
   },
   {
    "duration": 81,
    "start_time": "2022-03-08T09:21:19.410Z"
   },
   {
    "duration": 1287,
    "start_time": "2022-03-08T09:21:19.493Z"
   },
   {
    "duration": 1150,
    "start_time": "2022-03-08T09:21:20.782Z"
   },
   {
    "duration": 539,
    "start_time": "2022-03-08T09:21:21.934Z"
   },
   {
    "duration": 13,
    "start_time": "2022-03-08T09:21:22.475Z"
   },
   {
    "duration": 530,
    "start_time": "2022-03-08T09:21:22.490Z"
   },
   {
    "duration": 9,
    "start_time": "2022-03-08T09:21:23.022Z"
   },
   {
    "duration": 43,
    "start_time": "2022-03-08T09:21:23.032Z"
   },
   {
    "duration": 29,
    "start_time": "2022-03-08T09:21:23.077Z"
   },
   {
    "duration": 358,
    "start_time": "2022-03-08T09:21:23.107Z"
   },
   {
    "duration": 1820,
    "start_time": "2022-03-08T09:21:23.467Z"
   },
   {
    "duration": 83,
    "start_time": "2022-03-08T09:21:25.289Z"
   },
   {
    "duration": 16,
    "start_time": "2022-03-08T09:21:25.374Z"
   },
   {
    "duration": 4,
    "start_time": "2022-03-08T09:21:25.392Z"
   },
   {
    "duration": 6,
    "start_time": "2022-03-08T09:21:25.398Z"
   },
   {
    "duration": 3661,
    "start_time": "2022-03-08T09:21:25.405Z"
   },
   {
    "duration": 12,
    "start_time": "2022-03-08T09:21:29.068Z"
   },
   {
    "duration": 567,
    "start_time": "2022-03-08T09:21:29.083Z"
   },
   {
    "duration": 1053,
    "start_time": "2022-03-08T09:21:29.652Z"
   },
   {
    "duration": 213,
    "start_time": "2022-03-08T09:21:30.706Z"
   },
   {
    "duration": 762,
    "start_time": "2022-03-08T09:21:30.921Z"
   },
   {
    "duration": 28,
    "start_time": "2022-03-08T09:21:31.685Z"
   },
   {
    "duration": 322,
    "start_time": "2022-03-08T09:21:31.715Z"
   },
   {
    "duration": 6,
    "start_time": "2022-03-08T09:21:32.039Z"
   },
   {
    "duration": 38,
    "start_time": "2022-03-08T09:21:32.047Z"
   },
   {
    "duration": 24,
    "start_time": "2022-03-08T09:21:32.087Z"
   },
   {
    "duration": 2707,
    "start_time": "2022-03-08T09:21:32.113Z"
   },
   {
    "duration": 10,
    "start_time": "2022-03-08T09:21:34.821Z"
   },
   {
    "duration": 548,
    "start_time": "2022-03-08T09:21:34.832Z"
   },
   {
    "duration": 1031,
    "start_time": "2022-03-08T09:21:35.382Z"
   },
   {
    "duration": 195,
    "start_time": "2022-03-08T09:21:36.415Z"
   },
   {
    "duration": 766,
    "start_time": "2022-03-08T09:21:36.615Z"
   },
   {
    "duration": 8,
    "start_time": "2022-03-08T09:24:16.916Z"
   },
   {
    "duration": 688,
    "start_time": "2022-03-08T09:24:48.934Z"
   },
   {
    "duration": 87,
    "start_time": "2022-03-08T09:24:49.623Z"
   },
   {
    "duration": 11,
    "start_time": "2022-03-08T09:24:49.712Z"
   },
   {
    "duration": 9,
    "start_time": "2022-03-08T09:24:49.726Z"
   },
   {
    "duration": 28,
    "start_time": "2022-03-08T09:24:49.736Z"
   },
   {
    "duration": 30,
    "start_time": "2022-03-08T09:24:49.766Z"
   },
   {
    "duration": 6,
    "start_time": "2022-03-08T09:24:49.797Z"
   },
   {
    "duration": 5,
    "start_time": "2022-03-08T09:24:49.806Z"
   },
   {
    "duration": 152,
    "start_time": "2022-03-08T09:24:49.813Z"
   },
   {
    "duration": 5,
    "start_time": "2022-03-08T09:24:49.967Z"
   },
   {
    "duration": 10,
    "start_time": "2022-03-08T09:24:49.974Z"
   },
   {
    "duration": 3,
    "start_time": "2022-03-08T09:24:49.986Z"
   },
   {
    "duration": 7,
    "start_time": "2022-03-08T09:24:49.990Z"
   },
   {
    "duration": 6,
    "start_time": "2022-03-08T09:24:49.999Z"
   },
   {
    "duration": 15,
    "start_time": "2022-03-08T09:24:50.007Z"
   },
   {
    "duration": 47,
    "start_time": "2022-03-08T09:24:50.024Z"
   },
   {
    "duration": 8,
    "start_time": "2022-03-08T09:24:50.073Z"
   },
   {
    "duration": 8,
    "start_time": "2022-03-08T09:24:50.083Z"
   },
   {
    "duration": 6,
    "start_time": "2022-03-08T09:24:50.092Z"
   },
   {
    "duration": 3,
    "start_time": "2022-03-08T09:24:50.100Z"
   },
   {
    "duration": 12,
    "start_time": "2022-03-08T09:24:50.105Z"
   },
   {
    "duration": 45,
    "start_time": "2022-03-08T09:24:50.118Z"
   },
   {
    "duration": 8,
    "start_time": "2022-03-08T09:24:50.167Z"
   },
   {
    "duration": 4,
    "start_time": "2022-03-08T09:24:50.177Z"
   },
   {
    "duration": 11,
    "start_time": "2022-03-08T09:24:50.182Z"
   },
   {
    "duration": 13,
    "start_time": "2022-03-08T09:24:50.194Z"
   },
   {
    "duration": 4,
    "start_time": "2022-03-08T09:24:50.209Z"
   },
   {
    "duration": 51,
    "start_time": "2022-03-08T09:24:50.215Z"
   },
   {
    "duration": 10,
    "start_time": "2022-03-08T09:24:50.268Z"
   },
   {
    "duration": 8,
    "start_time": "2022-03-08T09:24:50.280Z"
   },
   {
    "duration": 6,
    "start_time": "2022-03-08T09:24:50.290Z"
   },
   {
    "duration": 7,
    "start_time": "2022-03-08T09:24:50.298Z"
   },
   {
    "duration": 9,
    "start_time": "2022-03-08T09:24:50.307Z"
   },
   {
    "duration": 3,
    "start_time": "2022-03-08T09:24:50.317Z"
   },
   {
    "duration": 13,
    "start_time": "2022-03-08T09:24:50.359Z"
   },
   {
    "duration": 615,
    "start_time": "2022-03-08T09:24:50.374Z"
   },
   {
    "duration": 74,
    "start_time": "2022-03-08T09:24:50.991Z"
   },
   {
    "duration": 1245,
    "start_time": "2022-03-08T09:24:51.067Z"
   },
   {
    "duration": 1091,
    "start_time": "2022-03-08T09:24:52.314Z"
   },
   {
    "duration": 515,
    "start_time": "2022-03-08T09:24:53.407Z"
   },
   {
    "duration": 14,
    "start_time": "2022-03-08T09:24:53.924Z"
   },
   {
    "duration": 510,
    "start_time": "2022-03-08T09:24:53.940Z"
   },
   {
    "duration": 13,
    "start_time": "2022-03-08T09:24:54.452Z"
   },
   {
    "duration": 29,
    "start_time": "2022-03-08T09:24:54.466Z"
   },
   {
    "duration": 27,
    "start_time": "2022-03-08T09:24:54.496Z"
   },
   {
    "duration": 360,
    "start_time": "2022-03-08T09:24:54.524Z"
   },
   {
    "duration": 1563,
    "start_time": "2022-03-08T09:24:54.886Z"
   },
   {
    "duration": 29,
    "start_time": "2022-03-08T09:24:56.451Z"
   },
   {
    "duration": 254,
    "start_time": "2022-03-08T09:24:56.482Z"
   },
   {
    "duration": 2037,
    "start_time": "2022-03-08T09:24:54.701Z"
   },
   {
    "duration": 2033,
    "start_time": "2022-03-08T09:24:54.707Z"
   },
   {
    "duration": 2029,
    "start_time": "2022-03-08T09:24:54.712Z"
   },
   {
    "duration": 2024,
    "start_time": "2022-03-08T09:24:54.718Z"
   },
   {
    "duration": 2019,
    "start_time": "2022-03-08T09:24:54.724Z"
   },
   {
    "duration": 2015,
    "start_time": "2022-03-08T09:24:54.729Z"
   },
   {
    "duration": 2011,
    "start_time": "2022-03-08T09:24:54.734Z"
   },
   {
    "duration": 2007,
    "start_time": "2022-03-08T09:24:54.739Z"
   },
   {
    "duration": 1994,
    "start_time": "2022-03-08T09:24:54.753Z"
   },
   {
    "duration": 1989,
    "start_time": "2022-03-08T09:24:54.759Z"
   },
   {
    "duration": 1985,
    "start_time": "2022-03-08T09:24:54.764Z"
   },
   {
    "duration": 1980,
    "start_time": "2022-03-08T09:24:54.770Z"
   },
   {
    "duration": 1976,
    "start_time": "2022-03-08T09:24:54.775Z"
   },
   {
    "duration": 1971,
    "start_time": "2022-03-08T09:24:54.781Z"
   },
   {
    "duration": 1967,
    "start_time": "2022-03-08T09:24:54.786Z"
   },
   {
    "duration": 1962,
    "start_time": "2022-03-08T09:24:54.792Z"
   },
   {
    "duration": 1958,
    "start_time": "2022-03-08T09:24:54.797Z"
   },
   {
    "duration": 1953,
    "start_time": "2022-03-08T09:24:54.803Z"
   },
   {
    "duration": 1949,
    "start_time": "2022-03-08T09:24:54.808Z"
   },
   {
    "duration": 673,
    "start_time": "2022-03-08T09:31:42.847Z"
   },
   {
    "duration": 93,
    "start_time": "2022-03-08T09:31:43.522Z"
   },
   {
    "duration": 11,
    "start_time": "2022-03-08T09:31:43.617Z"
   },
   {
    "duration": 8,
    "start_time": "2022-03-08T09:31:43.630Z"
   },
   {
    "duration": 24,
    "start_time": "2022-03-08T09:31:43.640Z"
   },
   {
    "duration": 30,
    "start_time": "2022-03-08T09:31:43.665Z"
   },
   {
    "duration": 6,
    "start_time": "2022-03-08T09:31:43.697Z"
   },
   {
    "duration": 6,
    "start_time": "2022-03-08T09:31:43.705Z"
   },
   {
    "duration": 151,
    "start_time": "2022-03-08T09:31:43.715Z"
   },
   {
    "duration": 5,
    "start_time": "2022-03-08T09:31:43.868Z"
   },
   {
    "duration": 11,
    "start_time": "2022-03-08T09:31:43.874Z"
   },
   {
    "duration": 3,
    "start_time": "2022-03-08T09:31:43.886Z"
   },
   {
    "duration": 5,
    "start_time": "2022-03-08T09:31:43.891Z"
   },
   {
    "duration": 6,
    "start_time": "2022-03-08T09:31:43.897Z"
   },
   {
    "duration": 14,
    "start_time": "2022-03-08T09:31:43.904Z"
   },
   {
    "duration": 47,
    "start_time": "2022-03-08T09:31:43.919Z"
   },
   {
    "duration": 7,
    "start_time": "2022-03-08T09:31:43.967Z"
   },
   {
    "duration": 8,
    "start_time": "2022-03-08T09:31:43.975Z"
   },
   {
    "duration": 6,
    "start_time": "2022-03-08T09:31:43.985Z"
   },
   {
    "duration": 4,
    "start_time": "2022-03-08T09:31:43.993Z"
   },
   {
    "duration": 12,
    "start_time": "2022-03-08T09:31:43.999Z"
   },
   {
    "duration": 7,
    "start_time": "2022-03-08T09:31:44.012Z"
   },
   {
    "duration": 44,
    "start_time": "2022-03-08T09:31:44.021Z"
   },
   {
    "duration": 3,
    "start_time": "2022-03-08T09:31:44.067Z"
   },
   {
    "duration": 7,
    "start_time": "2022-03-08T09:31:44.071Z"
   },
   {
    "duration": 15,
    "start_time": "2022-03-08T09:31:44.079Z"
   },
   {
    "duration": 4,
    "start_time": "2022-03-08T09:31:44.098Z"
   },
   {
    "duration": 18,
    "start_time": "2022-03-08T09:31:44.104Z"
   },
   {
    "duration": 38,
    "start_time": "2022-03-08T09:31:44.124Z"
   },
   {
    "duration": 9,
    "start_time": "2022-03-08T09:31:44.164Z"
   },
   {
    "duration": 6,
    "start_time": "2022-03-08T09:31:44.174Z"
   },
   {
    "duration": 7,
    "start_time": "2022-03-08T09:31:44.181Z"
   },
   {
    "duration": 7,
    "start_time": "2022-03-08T09:31:44.190Z"
   },
   {
    "duration": 3,
    "start_time": "2022-03-08T09:31:44.199Z"
   },
   {
    "duration": 17,
    "start_time": "2022-03-08T09:31:44.203Z"
   },
   {
    "duration": 645,
    "start_time": "2022-03-08T09:31:44.222Z"
   },
   {
    "duration": 67,
    "start_time": "2022-03-08T09:31:44.869Z"
   },
   {
    "duration": 1229,
    "start_time": "2022-03-08T09:31:44.938Z"
   },
   {
    "duration": 1072,
    "start_time": "2022-03-08T09:31:46.169Z"
   },
   {
    "duration": 511,
    "start_time": "2022-03-08T09:31:47.243Z"
   },
   {
    "duration": 14,
    "start_time": "2022-03-08T09:31:47.756Z"
   },
   {
    "duration": 491,
    "start_time": "2022-03-08T09:31:47.771Z"
   },
   {
    "duration": 8,
    "start_time": "2022-03-08T09:31:48.264Z"
   },
   {
    "duration": 30,
    "start_time": "2022-03-08T09:31:48.274Z"
   },
   {
    "duration": 27,
    "start_time": "2022-03-08T09:31:48.306Z"
   },
   {
    "duration": 359,
    "start_time": "2022-03-08T09:31:48.335Z"
   },
   {
    "duration": 1525,
    "start_time": "2022-03-08T09:31:48.695Z"
   },
   {
    "duration": 24,
    "start_time": "2022-03-08T09:31:50.221Z"
   },
   {
    "duration": 23,
    "start_time": "2022-03-08T09:31:50.247Z"
   },
   {
    "duration": 3,
    "start_time": "2022-03-08T09:31:50.272Z"
   },
   {
    "duration": 9,
    "start_time": "2022-03-08T09:31:50.277Z"
   },
   {
    "duration": 3425,
    "start_time": "2022-03-08T09:31:50.288Z"
   },
   {
    "duration": 9,
    "start_time": "2022-03-08T09:31:53.715Z"
   },
   {
    "duration": 494,
    "start_time": "2022-03-08T09:31:53.726Z"
   },
   {
    "duration": 983,
    "start_time": "2022-03-08T09:31:54.221Z"
   },
   {
    "duration": 194,
    "start_time": "2022-03-08T09:31:55.206Z"
   },
   {
    "duration": 717,
    "start_time": "2022-03-08T09:31:55.402Z"
   },
   {
    "duration": 27,
    "start_time": "2022-03-08T09:31:56.120Z"
   },
   {
    "duration": 311,
    "start_time": "2022-03-08T09:31:56.159Z"
   },
   {
    "duration": 6,
    "start_time": "2022-03-08T09:31:56.471Z"
   },
   {
    "duration": 24,
    "start_time": "2022-03-08T09:31:56.478Z"
   },
   {
    "duration": 22,
    "start_time": "2022-03-08T09:31:56.503Z"
   },
   {
    "duration": 2656,
    "start_time": "2022-03-08T09:31:56.527Z"
   },
   {
    "duration": 11,
    "start_time": "2022-03-08T09:31:59.184Z"
   },
   {
    "duration": 469,
    "start_time": "2022-03-08T09:31:59.196Z"
   },
   {
    "duration": 998,
    "start_time": "2022-03-08T09:31:59.667Z"
   },
   {
    "duration": 200,
    "start_time": "2022-03-08T09:32:00.666Z"
   },
   {
    "duration": 718,
    "start_time": "2022-03-08T09:32:00.867Z"
   },
   {
    "duration": 675,
    "start_time": "2022-03-08T09:33:40.832Z"
   },
   {
    "duration": 86,
    "start_time": "2022-03-08T09:33:41.509Z"
   },
   {
    "duration": 10,
    "start_time": "2022-03-08T09:33:41.597Z"
   },
   {
    "duration": 7,
    "start_time": "2022-03-08T09:33:41.609Z"
   },
   {
    "duration": 6,
    "start_time": "2022-03-08T09:33:41.618Z"
   },
   {
    "duration": 49,
    "start_time": "2022-03-08T09:33:41.625Z"
   },
   {
    "duration": 6,
    "start_time": "2022-03-08T09:33:41.676Z"
   },
   {
    "duration": 5,
    "start_time": "2022-03-08T09:33:41.685Z"
   },
   {
    "duration": 154,
    "start_time": "2022-03-08T09:33:41.692Z"
   },
   {
    "duration": 12,
    "start_time": "2022-03-08T09:33:41.848Z"
   },
   {
    "duration": 9,
    "start_time": "2022-03-08T09:33:41.862Z"
   },
   {
    "duration": 3,
    "start_time": "2022-03-08T09:33:41.873Z"
   },
   {
    "duration": 5,
    "start_time": "2022-03-08T09:33:41.878Z"
   },
   {
    "duration": 10,
    "start_time": "2022-03-08T09:33:41.885Z"
   },
   {
    "duration": 17,
    "start_time": "2022-03-08T09:33:41.896Z"
   },
   {
    "duration": 15,
    "start_time": "2022-03-08T09:33:41.915Z"
   },
   {
    "duration": 7,
    "start_time": "2022-03-08T09:33:41.960Z"
   },
   {
    "duration": 7,
    "start_time": "2022-03-08T09:33:41.969Z"
   },
   {
    "duration": 6,
    "start_time": "2022-03-08T09:33:41.978Z"
   },
   {
    "duration": 3,
    "start_time": "2022-03-08T09:33:41.986Z"
   },
   {
    "duration": 14,
    "start_time": "2022-03-08T09:33:41.991Z"
   },
   {
    "duration": 7,
    "start_time": "2022-03-08T09:33:42.007Z"
   },
   {
    "duration": 9,
    "start_time": "2022-03-08T09:33:42.061Z"
   },
   {
    "duration": 3,
    "start_time": "2022-03-08T09:33:42.073Z"
   },
   {
    "duration": 8,
    "start_time": "2022-03-08T09:33:42.077Z"
   },
   {
    "duration": 13,
    "start_time": "2022-03-08T09:33:42.087Z"
   },
   {
    "duration": 5,
    "start_time": "2022-03-08T09:33:42.101Z"
   },
   {
    "duration": 23,
    "start_time": "2022-03-08T09:33:42.107Z"
   },
   {
    "duration": 35,
    "start_time": "2022-03-08T09:33:42.131Z"
   },
   {
    "duration": 7,
    "start_time": "2022-03-08T09:33:42.168Z"
   },
   {
    "duration": 6,
    "start_time": "2022-03-08T09:33:42.177Z"
   },
   {
    "duration": 6,
    "start_time": "2022-03-08T09:33:42.184Z"
   },
   {
    "duration": 8,
    "start_time": "2022-03-08T09:33:42.192Z"
   },
   {
    "duration": 3,
    "start_time": "2022-03-08T09:33:42.202Z"
   },
   {
    "duration": 16,
    "start_time": "2022-03-08T09:33:42.207Z"
   },
   {
    "duration": 630,
    "start_time": "2022-03-08T09:33:42.259Z"
   },
   {
    "duration": 80,
    "start_time": "2022-03-08T09:33:42.891Z"
   },
   {
    "duration": 1237,
    "start_time": "2022-03-08T09:33:42.972Z"
   },
   {
    "duration": 1092,
    "start_time": "2022-03-08T09:33:44.210Z"
   },
   {
    "duration": 511,
    "start_time": "2022-03-08T09:33:45.303Z"
   },
   {
    "duration": 14,
    "start_time": "2022-03-08T09:33:45.815Z"
   },
   {
    "duration": 511,
    "start_time": "2022-03-08T09:33:45.830Z"
   },
   {
    "duration": 16,
    "start_time": "2022-03-08T09:33:46.343Z"
   },
   {
    "duration": 31,
    "start_time": "2022-03-08T09:33:46.360Z"
   },
   {
    "duration": 28,
    "start_time": "2022-03-08T09:33:46.393Z"
   },
   {
    "duration": 360,
    "start_time": "2022-03-08T09:33:46.423Z"
   },
   {
    "duration": 1588,
    "start_time": "2022-03-08T09:33:46.785Z"
   },
   {
    "duration": 23,
    "start_time": "2022-03-08T09:33:48.375Z"
   },
   {
    "duration": 15,
    "start_time": "2022-03-08T09:33:48.400Z"
   },
   {
    "duration": 4,
    "start_time": "2022-03-08T09:33:48.416Z"
   },
   {
    "duration": 6,
    "start_time": "2022-03-08T09:33:48.421Z"
   },
   {
    "duration": 3377,
    "start_time": "2022-03-08T09:33:48.428Z"
   },
   {
    "duration": 11,
    "start_time": "2022-03-08T09:33:51.807Z"
   },
   {
    "duration": 537,
    "start_time": "2022-03-08T09:33:51.819Z"
   },
   {
    "duration": 1061,
    "start_time": "2022-03-08T09:33:52.359Z"
   },
   {
    "duration": 203,
    "start_time": "2022-03-08T09:33:53.421Z"
   },
   {
    "duration": 745,
    "start_time": "2022-03-08T09:33:53.626Z"
   },
   {
    "duration": 28,
    "start_time": "2022-03-08T09:33:54.372Z"
   },
   {
    "duration": 319,
    "start_time": "2022-03-08T09:33:54.402Z"
   },
   {
    "duration": 6,
    "start_time": "2022-03-08T09:33:54.723Z"
   },
   {
    "duration": 37,
    "start_time": "2022-03-08T09:33:54.730Z"
   },
   {
    "duration": 22,
    "start_time": "2022-03-08T09:33:54.769Z"
   },
   {
    "duration": 2926,
    "start_time": "2022-03-08T09:33:54.793Z"
   },
   {
    "duration": 11,
    "start_time": "2022-03-08T09:33:57.722Z"
   },
   {
    "duration": 519,
    "start_time": "2022-03-08T09:33:57.735Z"
   },
   {
    "duration": 999,
    "start_time": "2022-03-08T09:33:58.256Z"
   },
   {
    "duration": 210,
    "start_time": "2022-03-08T09:33:59.257Z"
   },
   {
    "duration": 716,
    "start_time": "2022-03-08T09:33:59.472Z"
   },
   {
    "duration": 10,
    "start_time": "2022-03-08T09:35:15.856Z"
   },
   {
    "duration": 663,
    "start_time": "2022-03-08T09:35:28.661Z"
   },
   {
    "duration": 84,
    "start_time": "2022-03-08T09:35:29.326Z"
   },
   {
    "duration": 10,
    "start_time": "2022-03-08T09:35:29.412Z"
   },
   {
    "duration": 8,
    "start_time": "2022-03-08T09:35:29.423Z"
   },
   {
    "duration": 7,
    "start_time": "2022-03-08T09:35:29.432Z"
   },
   {
    "duration": 45,
    "start_time": "2022-03-08T09:35:29.440Z"
   },
   {
    "duration": 7,
    "start_time": "2022-03-08T09:35:29.486Z"
   },
   {
    "duration": 5,
    "start_time": "2022-03-08T09:35:29.495Z"
   },
   {
    "duration": 161,
    "start_time": "2022-03-08T09:35:29.502Z"
   },
   {
    "duration": 5,
    "start_time": "2022-03-08T09:35:29.665Z"
   },
   {
    "duration": 11,
    "start_time": "2022-03-08T09:35:29.672Z"
   },
   {
    "duration": 3,
    "start_time": "2022-03-08T09:35:29.685Z"
   },
   {
    "duration": 7,
    "start_time": "2022-03-08T09:35:29.689Z"
   },
   {
    "duration": 5,
    "start_time": "2022-03-08T09:35:29.698Z"
   },
   {
    "duration": 13,
    "start_time": "2022-03-08T09:35:29.705Z"
   },
   {
    "duration": 42,
    "start_time": "2022-03-08T09:35:29.720Z"
   },
   {
    "duration": 6,
    "start_time": "2022-03-08T09:35:29.764Z"
   },
   {
    "duration": 7,
    "start_time": "2022-03-08T09:35:29.772Z"
   },
   {
    "duration": 5,
    "start_time": "2022-03-08T09:35:29.781Z"
   },
   {
    "duration": 4,
    "start_time": "2022-03-08T09:35:29.788Z"
   },
   {
    "duration": 12,
    "start_time": "2022-03-08T09:35:29.794Z"
   },
   {
    "duration": 6,
    "start_time": "2022-03-08T09:35:29.808Z"
   },
   {
    "duration": 46,
    "start_time": "2022-03-08T09:35:29.818Z"
   },
   {
    "duration": 5,
    "start_time": "2022-03-08T09:35:29.866Z"
   },
   {
    "duration": 6,
    "start_time": "2022-03-08T09:35:29.873Z"
   },
   {
    "duration": 11,
    "start_time": "2022-03-08T09:35:29.880Z"
   },
   {
    "duration": 5,
    "start_time": "2022-03-08T09:35:29.892Z"
   },
   {
    "duration": 21,
    "start_time": "2022-03-08T09:35:29.898Z"
   },
   {
    "duration": 38,
    "start_time": "2022-03-08T09:35:29.921Z"
   },
   {
    "duration": 7,
    "start_time": "2022-03-08T09:35:29.961Z"
   },
   {
    "duration": 6,
    "start_time": "2022-03-08T09:35:29.970Z"
   },
   {
    "duration": 6,
    "start_time": "2022-03-08T09:35:29.978Z"
   },
   {
    "duration": 7,
    "start_time": "2022-03-08T09:35:29.985Z"
   },
   {
    "duration": 3,
    "start_time": "2022-03-08T09:35:29.994Z"
   },
   {
    "duration": 14,
    "start_time": "2022-03-08T09:35:29.999Z"
   },
   {
    "duration": 669,
    "start_time": "2022-03-08T09:35:30.015Z"
   },
   {
    "duration": 80,
    "start_time": "2022-03-08T09:35:30.686Z"
   },
   {
    "duration": 1270,
    "start_time": "2022-03-08T09:35:30.768Z"
   },
   {
    "duration": 1107,
    "start_time": "2022-03-08T09:35:32.040Z"
   },
   {
    "duration": 518,
    "start_time": "2022-03-08T09:35:33.149Z"
   },
   {
    "duration": 14,
    "start_time": "2022-03-08T09:35:33.669Z"
   },
   {
    "duration": 528,
    "start_time": "2022-03-08T09:35:33.685Z"
   },
   {
    "duration": 10,
    "start_time": "2022-03-08T09:35:34.214Z"
   },
   {
    "duration": 47,
    "start_time": "2022-03-08T09:35:34.225Z"
   },
   {
    "duration": 29,
    "start_time": "2022-03-08T09:35:34.273Z"
   },
   {
    "duration": 362,
    "start_time": "2022-03-08T09:35:34.303Z"
   },
   {
    "duration": 1623,
    "start_time": "2022-03-08T09:35:34.667Z"
   },
   {
    "duration": 27,
    "start_time": "2022-03-08T09:35:36.292Z"
   },
   {
    "duration": 16,
    "start_time": "2022-03-08T09:35:36.320Z"
   },
   {
    "duration": 24,
    "start_time": "2022-03-08T09:35:36.337Z"
   },
   {
    "duration": 30,
    "start_time": "2022-03-08T09:35:36.363Z"
   },
   {
    "duration": 3434,
    "start_time": "2022-03-08T09:35:36.395Z"
   },
   {
    "duration": 28,
    "start_time": "2022-03-08T09:35:39.831Z"
   },
   {
    "duration": 493,
    "start_time": "2022-03-08T09:35:39.861Z"
   },
   {
    "duration": 986,
    "start_time": "2022-03-08T09:35:40.356Z"
   },
   {
    "duration": 198,
    "start_time": "2022-03-08T09:35:41.344Z"
   },
   {
    "duration": 716,
    "start_time": "2022-03-08T09:35:41.544Z"
   },
   {
    "duration": 28,
    "start_time": "2022-03-08T09:35:42.262Z"
   },
   {
    "duration": 319,
    "start_time": "2022-03-08T09:35:42.292Z"
   },
   {
    "duration": 5,
    "start_time": "2022-03-08T09:35:42.613Z"
   },
   {
    "duration": 61,
    "start_time": "2022-03-08T09:35:42.620Z"
   },
   {
    "duration": 32,
    "start_time": "2022-03-08T09:35:42.683Z"
   },
   {
    "duration": 2592,
    "start_time": "2022-03-08T09:35:42.717Z"
   },
   {
    "duration": 12,
    "start_time": "2022-03-08T09:35:45.311Z"
   },
   {
    "duration": 491,
    "start_time": "2022-03-08T09:35:45.324Z"
   },
   {
    "duration": 1018,
    "start_time": "2022-03-08T09:35:45.816Z"
   },
   {
    "duration": 198,
    "start_time": "2022-03-08T09:35:46.836Z"
   },
   {
    "duration": 703,
    "start_time": "2022-03-08T09:35:47.039Z"
   },
   {
    "duration": 866,
    "start_time": "2022-03-09T08:44:37.327Z"
   },
   {
    "duration": 118,
    "start_time": "2022-03-09T08:44:38.196Z"
   },
   {
    "duration": 17,
    "start_time": "2022-03-09T08:44:38.319Z"
   },
   {
    "duration": 10,
    "start_time": "2022-03-09T08:44:38.353Z"
   },
   {
    "duration": 9,
    "start_time": "2022-03-09T08:44:38.365Z"
   },
   {
    "duration": 45,
    "start_time": "2022-03-09T08:44:38.376Z"
   },
   {
    "duration": 30,
    "start_time": "2022-03-09T08:44:38.423Z"
   },
   {
    "duration": 6,
    "start_time": "2022-03-09T08:44:38.457Z"
   },
   {
    "duration": 206,
    "start_time": "2022-03-09T08:44:38.466Z"
   },
   {
    "duration": 8,
    "start_time": "2022-03-09T08:44:38.675Z"
   },
   {
    "duration": 14,
    "start_time": "2022-03-09T08:44:38.686Z"
   },
   {
    "duration": 5,
    "start_time": "2022-03-09T08:44:38.703Z"
   },
   {
    "duration": 45,
    "start_time": "2022-03-09T08:44:38.711Z"
   },
   {
    "duration": 9,
    "start_time": "2022-03-09T08:44:38.759Z"
   },
   {
    "duration": 22,
    "start_time": "2022-03-09T08:44:38.771Z"
   },
   {
    "duration": 56,
    "start_time": "2022-03-09T08:44:38.796Z"
   },
   {
    "duration": 9,
    "start_time": "2022-03-09T08:44:38.855Z"
   },
   {
    "duration": 15,
    "start_time": "2022-03-09T08:44:38.866Z"
   },
   {
    "duration": 13,
    "start_time": "2022-03-09T08:44:38.884Z"
   },
   {
    "duration": 6,
    "start_time": "2022-03-09T08:44:38.899Z"
   },
   {
    "duration": 60,
    "start_time": "2022-03-09T08:44:38.908Z"
   },
   {
    "duration": 9,
    "start_time": "2022-03-09T08:44:38.971Z"
   },
   {
    "duration": 12,
    "start_time": "2022-03-09T08:44:38.986Z"
   },
   {
    "duration": 5,
    "start_time": "2022-03-09T08:44:39.002Z"
   },
   {
    "duration": 45,
    "start_time": "2022-03-09T08:44:39.009Z"
   },
   {
    "duration": 15,
    "start_time": "2022-03-09T08:44:39.057Z"
   },
   {
    "duration": 6,
    "start_time": "2022-03-09T08:44:39.075Z"
   },
   {
    "duration": 28,
    "start_time": "2022-03-09T08:44:39.084Z"
   },
   {
    "duration": 40,
    "start_time": "2022-03-09T08:44:39.114Z"
   },
   {
    "duration": 9,
    "start_time": "2022-03-09T08:44:39.157Z"
   },
   {
    "duration": 9,
    "start_time": "2022-03-09T08:44:39.169Z"
   },
   {
    "duration": 9,
    "start_time": "2022-03-09T08:44:39.181Z"
   },
   {
    "duration": 13,
    "start_time": "2022-03-09T08:44:39.192Z"
   },
   {
    "duration": 47,
    "start_time": "2022-03-09T08:44:39.207Z"
   },
   {
    "duration": 22,
    "start_time": "2022-03-09T08:44:39.256Z"
   },
   {
    "duration": 977,
    "start_time": "2022-03-09T08:44:39.280Z"
   },
   {
    "duration": 113,
    "start_time": "2022-03-09T08:44:40.259Z"
   },
   {
    "duration": 1846,
    "start_time": "2022-03-09T08:44:40.374Z"
   },
   {
    "duration": 1616,
    "start_time": "2022-03-09T08:44:42.223Z"
   },
   {
    "duration": 761,
    "start_time": "2022-03-09T08:44:43.841Z"
   },
   {
    "duration": 20,
    "start_time": "2022-03-09T08:44:44.605Z"
   },
   {
    "duration": 727,
    "start_time": "2022-03-09T08:44:44.627Z"
   },
   {
    "duration": 12,
    "start_time": "2022-03-09T08:44:45.356Z"
   },
   {
    "duration": 43,
    "start_time": "2022-03-09T08:44:45.370Z"
   },
   {
    "duration": 67,
    "start_time": "2022-03-09T08:44:45.416Z"
   },
   {
    "duration": 525,
    "start_time": "2022-03-09T08:44:45.486Z"
   },
   {
    "duration": 2338,
    "start_time": "2022-03-09T08:44:46.013Z"
   },
   {
    "duration": 35,
    "start_time": "2022-03-09T08:44:48.353Z"
   },
   {
    "duration": 16,
    "start_time": "2022-03-09T08:44:48.391Z"
   },
   {
    "duration": 6,
    "start_time": "2022-03-09T08:44:48.409Z"
   },
   {
    "duration": 9,
    "start_time": "2022-03-09T08:44:48.452Z"
   },
   {
    "duration": 4557,
    "start_time": "2022-03-09T08:44:48.463Z"
   },
   {
    "duration": 34,
    "start_time": "2022-03-09T08:44:53.022Z"
   },
   {
    "duration": 719,
    "start_time": "2022-03-09T08:44:53.058Z"
   },
   {
    "duration": 1434,
    "start_time": "2022-03-09T08:44:53.779Z"
   },
   {
    "duration": 282,
    "start_time": "2022-03-09T08:44:55.216Z"
   },
   {
    "duration": 1032,
    "start_time": "2022-03-09T08:44:55.501Z"
   },
   {
    "duration": 41,
    "start_time": "2022-03-09T08:44:56.535Z"
   },
   {
    "duration": 443,
    "start_time": "2022-03-09T08:44:56.578Z"
   },
   {
    "duration": 7,
    "start_time": "2022-03-09T08:44:57.024Z"
   },
   {
    "duration": 47,
    "start_time": "2022-03-09T08:44:57.033Z"
   },
   {
    "duration": 31,
    "start_time": "2022-03-09T08:44:57.083Z"
   },
   {
    "duration": 3589,
    "start_time": "2022-03-09T08:44:57.116Z"
   },
   {
    "duration": 12,
    "start_time": "2022-03-09T08:45:00.708Z"
   },
   {
    "duration": 704,
    "start_time": "2022-03-09T08:45:00.723Z"
   },
   {
    "duration": 1474,
    "start_time": "2022-03-09T08:45:01.430Z"
   },
   {
    "duration": 294,
    "start_time": "2022-03-09T08:45:02.906Z"
   },
   {
    "duration": 1011,
    "start_time": "2022-03-09T08:45:03.207Z"
   },
   {
    "duration": 48,
    "start_time": "2022-03-09T08:48:34.769Z"
   },
   {
    "duration": 34,
    "start_time": "2022-03-09T08:48:44.945Z"
   },
   {
    "duration": 291,
    "start_time": "2022-03-09T11:31:50.650Z"
   },
   {
    "duration": 1368,
    "start_time": "2022-03-09T11:32:02.991Z"
   },
   {
    "duration": 174,
    "start_time": "2022-03-09T11:32:04.363Z"
   },
   {
    "duration": 24,
    "start_time": "2022-03-09T11:32:04.541Z"
   },
   {
    "duration": 10,
    "start_time": "2022-03-09T11:32:04.588Z"
   },
   {
    "duration": 9,
    "start_time": "2022-03-09T11:32:04.602Z"
   },
   {
    "duration": 41,
    "start_time": "2022-03-09T11:32:04.613Z"
   },
   {
    "duration": 31,
    "start_time": "2022-03-09T11:32:04.656Z"
   },
   {
    "duration": 7,
    "start_time": "2022-03-09T11:32:04.691Z"
   },
   {
    "duration": 227,
    "start_time": "2022-03-09T11:32:04.701Z"
   },
   {
    "duration": 7,
    "start_time": "2022-03-09T11:32:04.931Z"
   },
   {
    "duration": 24,
    "start_time": "2022-03-09T11:32:04.940Z"
   },
   {
    "duration": 21,
    "start_time": "2022-03-09T11:32:04.967Z"
   },
   {
    "duration": 7,
    "start_time": "2022-03-09T11:32:04.991Z"
   },
   {
    "duration": 10,
    "start_time": "2022-03-09T11:32:05.001Z"
   },
   {
    "duration": 21,
    "start_time": "2022-03-09T11:32:05.014Z"
   },
   {
    "duration": 51,
    "start_time": "2022-03-09T11:32:05.037Z"
   },
   {
    "duration": 10,
    "start_time": "2022-03-09T11:32:05.090Z"
   },
   {
    "duration": 12,
    "start_time": "2022-03-09T11:32:05.103Z"
   },
   {
    "duration": 10,
    "start_time": "2022-03-09T11:32:05.117Z"
   },
   {
    "duration": 6,
    "start_time": "2022-03-09T11:32:05.129Z"
   },
   {
    "duration": 17,
    "start_time": "2022-03-09T11:32:05.188Z"
   },
   {
    "duration": 9,
    "start_time": "2022-03-09T11:32:05.207Z"
   },
   {
    "duration": 14,
    "start_time": "2022-03-09T11:32:05.222Z"
   },
   {
    "duration": 5,
    "start_time": "2022-03-09T11:32:05.242Z"
   },
   {
    "duration": 380,
    "start_time": "2022-03-09T11:32:05.288Z"
   },
   {
    "duration": 1565,
    "start_time": "2022-03-09T11:32:04.106Z"
   },
   {
    "duration": 1563,
    "start_time": "2022-03-09T11:32:04.110Z"
   },
   {
    "duration": 1559,
    "start_time": "2022-03-09T11:32:04.115Z"
   },
   {
    "duration": 1556,
    "start_time": "2022-03-09T11:32:04.120Z"
   },
   {
    "duration": 1552,
    "start_time": "2022-03-09T11:32:04.125Z"
   },
   {
    "duration": 1548,
    "start_time": "2022-03-09T11:32:04.130Z"
   },
   {
    "duration": 1544,
    "start_time": "2022-03-09T11:32:04.135Z"
   },
   {
    "duration": 1541,
    "start_time": "2022-03-09T11:32:04.140Z"
   },
   {
    "duration": 1536,
    "start_time": "2022-03-09T11:32:04.146Z"
   },
   {
    "duration": 1533,
    "start_time": "2022-03-09T11:32:04.151Z"
   },
   {
    "duration": 1529,
    "start_time": "2022-03-09T11:32:04.156Z"
   },
   {
    "duration": 1526,
    "start_time": "2022-03-09T11:32:04.161Z"
   },
   {
    "duration": 1522,
    "start_time": "2022-03-09T11:32:04.166Z"
   },
   {
    "duration": 1518,
    "start_time": "2022-03-09T11:32:04.171Z"
   },
   {
    "duration": 1515,
    "start_time": "2022-03-09T11:32:04.175Z"
   },
   {
    "duration": 1513,
    "start_time": "2022-03-09T11:32:04.179Z"
   },
   {
    "duration": 1508,
    "start_time": "2022-03-09T11:32:04.185Z"
   },
   {
    "duration": 1505,
    "start_time": "2022-03-09T11:32:04.189Z"
   },
   {
    "duration": 1502,
    "start_time": "2022-03-09T11:32:04.194Z"
   },
   {
    "duration": 1499,
    "start_time": "2022-03-09T11:32:04.198Z"
   },
   {
    "duration": 1458,
    "start_time": "2022-03-09T11:32:04.240Z"
   },
   {
    "duration": 1455,
    "start_time": "2022-03-09T11:32:04.244Z"
   },
   {
    "duration": 1451,
    "start_time": "2022-03-09T11:32:04.250Z"
   },
   {
    "duration": 1448,
    "start_time": "2022-03-09T11:32:04.254Z"
   },
   {
    "duration": 1444,
    "start_time": "2022-03-09T11:32:04.259Z"
   },
   {
    "duration": 1441,
    "start_time": "2022-03-09T11:32:04.263Z"
   },
   {
    "duration": 1438,
    "start_time": "2022-03-09T11:32:04.268Z"
   },
   {
    "duration": 1421,
    "start_time": "2022-03-09T11:32:04.286Z"
   },
   {
    "duration": 1418,
    "start_time": "2022-03-09T11:32:04.290Z"
   },
   {
    "duration": 1414,
    "start_time": "2022-03-09T11:32:04.295Z"
   },
   {
    "duration": 1412,
    "start_time": "2022-03-09T11:32:04.299Z"
   },
   {
    "duration": 1408,
    "start_time": "2022-03-09T11:32:04.304Z"
   },
   {
    "duration": 1405,
    "start_time": "2022-03-09T11:32:04.308Z"
   },
   {
    "duration": 1403,
    "start_time": "2022-03-09T11:32:04.312Z"
   },
   {
    "duration": 1399,
    "start_time": "2022-03-09T11:32:04.317Z"
   },
   {
    "duration": 1396,
    "start_time": "2022-03-09T11:32:04.321Z"
   },
   {
    "duration": 1393,
    "start_time": "2022-03-09T11:32:04.326Z"
   },
   {
    "duration": 1390,
    "start_time": "2022-03-09T11:32:04.330Z"
   },
   {
    "duration": 1387,
    "start_time": "2022-03-09T11:32:04.334Z"
   },
   {
    "duration": 1373,
    "start_time": "2022-03-09T11:32:04.349Z"
   },
   {
    "duration": 1370,
    "start_time": "2022-03-09T11:32:04.354Z"
   },
   {
    "duration": 1367,
    "start_time": "2022-03-09T11:32:04.358Z"
   },
   {
    "duration": 1363,
    "start_time": "2022-03-09T11:32:04.363Z"
   },
   {
    "duration": 219,
    "start_time": "2022-03-09T11:32:22.931Z"
   },
   {
    "duration": 315,
    "start_time": "2022-03-09T11:32:38.542Z"
   },
   {
    "duration": 13,
    "start_time": "2022-03-09T11:32:50.645Z"
   },
   {
    "duration": 907,
    "start_time": "2022-03-09T11:33:01.297Z"
   },
   {
    "duration": 118,
    "start_time": "2022-03-09T11:33:02.207Z"
   },
   {
    "duration": 15,
    "start_time": "2022-03-09T11:33:02.328Z"
   },
   {
    "duration": 30,
    "start_time": "2022-03-09T11:33:02.346Z"
   },
   {
    "duration": 24,
    "start_time": "2022-03-09T11:33:02.379Z"
   },
   {
    "duration": 60,
    "start_time": "2022-03-09T11:33:02.405Z"
   },
   {
    "duration": 9,
    "start_time": "2022-03-09T11:33:02.467Z"
   },
   {
    "duration": 32,
    "start_time": "2022-03-09T11:33:02.478Z"
   },
   {
    "duration": 225,
    "start_time": "2022-03-09T11:33:02.514Z"
   },
   {
    "duration": 7,
    "start_time": "2022-03-09T11:33:02.742Z"
   },
   {
    "duration": 35,
    "start_time": "2022-03-09T11:33:02.751Z"
   },
   {
    "duration": 4,
    "start_time": "2022-03-09T11:33:02.789Z"
   },
   {
    "duration": 11,
    "start_time": "2022-03-09T11:33:02.796Z"
   },
   {
    "duration": 11,
    "start_time": "2022-03-09T11:33:02.809Z"
   },
   {
    "duration": 27,
    "start_time": "2022-03-09T11:33:02.822Z"
   },
   {
    "duration": 37,
    "start_time": "2022-03-09T11:33:02.851Z"
   },
   {
    "duration": 9,
    "start_time": "2022-03-09T11:33:02.890Z"
   },
   {
    "duration": 16,
    "start_time": "2022-03-09T11:33:02.902Z"
   },
   {
    "duration": 16,
    "start_time": "2022-03-09T11:33:02.920Z"
   },
   {
    "duration": 4,
    "start_time": "2022-03-09T11:33:02.939Z"
   },
   {
    "duration": 43,
    "start_time": "2022-03-09T11:33:02.946Z"
   },
   {
    "duration": 9,
    "start_time": "2022-03-09T11:33:02.991Z"
   },
   {
    "duration": 16,
    "start_time": "2022-03-09T11:33:03.002Z"
   },
   {
    "duration": 5,
    "start_time": "2022-03-09T11:33:03.020Z"
   },
   {
    "duration": 16,
    "start_time": "2022-03-09T11:33:03.028Z"
   },
   {
    "duration": 46,
    "start_time": "2022-03-09T11:33:03.046Z"
   },
   {
    "duration": 7,
    "start_time": "2022-03-09T11:33:03.098Z"
   },
   {
    "duration": 28,
    "start_time": "2022-03-09T11:33:03.108Z"
   },
   {
    "duration": 13,
    "start_time": "2022-03-09T11:33:03.139Z"
   },
   {
    "duration": 8,
    "start_time": "2022-03-09T11:33:03.187Z"
   },
   {
    "duration": 8,
    "start_time": "2022-03-09T11:33:03.198Z"
   },
   {
    "duration": 10,
    "start_time": "2022-03-09T11:33:03.208Z"
   },
   {
    "duration": 21,
    "start_time": "2022-03-09T11:33:03.220Z"
   },
   {
    "duration": 8,
    "start_time": "2022-03-09T11:33:03.243Z"
   },
   {
    "duration": 43,
    "start_time": "2022-03-09T11:33:03.253Z"
   },
   {
    "duration": 1055,
    "start_time": "2022-03-09T11:33:03.298Z"
   },
   {
    "duration": 107,
    "start_time": "2022-03-09T11:33:04.356Z"
   },
   {
    "duration": 1887,
    "start_time": "2022-03-09T11:33:04.465Z"
   },
   {
    "duration": 1744,
    "start_time": "2022-03-09T11:33:06.355Z"
   },
   {
    "duration": 800,
    "start_time": "2022-03-09T11:33:08.101Z"
   },
   {
    "duration": 21,
    "start_time": "2022-03-09T11:33:08.904Z"
   },
   {
    "duration": 746,
    "start_time": "2022-03-09T11:33:08.927Z"
   },
   {
    "duration": 20,
    "start_time": "2022-03-09T11:33:09.676Z"
   },
   {
    "duration": 44,
    "start_time": "2022-03-09T11:33:09.698Z"
   },
   {
    "duration": 65,
    "start_time": "2022-03-09T11:33:09.744Z"
   },
   {
    "duration": 535,
    "start_time": "2022-03-09T11:33:09.811Z"
   },
   {
    "duration": 3551,
    "start_time": "2022-03-09T11:33:10.348Z"
   },
   {
    "duration": 36,
    "start_time": "2022-03-09T11:33:13.902Z"
   },
   {
    "duration": 17,
    "start_time": "2022-03-09T11:33:13.941Z"
   },
   {
    "duration": 6,
    "start_time": "2022-03-09T11:33:13.988Z"
   },
   {
    "duration": 7,
    "start_time": "2022-03-09T11:33:13.996Z"
   },
   {
    "duration": 4707,
    "start_time": "2022-03-09T11:33:14.006Z"
   },
   {
    "duration": 14,
    "start_time": "2022-03-09T11:33:18.716Z"
   },
   {
    "duration": 763,
    "start_time": "2022-03-09T11:33:18.733Z"
   },
   {
    "duration": 1471,
    "start_time": "2022-03-09T11:33:19.499Z"
   },
   {
    "duration": 291,
    "start_time": "2022-03-09T11:33:20.973Z"
   },
   {
    "duration": 1077,
    "start_time": "2022-03-09T11:33:21.267Z"
   },
   {
    "duration": 55,
    "start_time": "2022-03-09T11:33:22.347Z"
   },
   {
    "duration": 469,
    "start_time": "2022-03-09T11:33:22.405Z"
   },
   {
    "duration": 18,
    "start_time": "2022-03-09T11:33:22.877Z"
   },
   {
    "duration": 34,
    "start_time": "2022-03-09T11:33:22.898Z"
   },
   {
    "duration": 61,
    "start_time": "2022-03-09T11:33:22.935Z"
   },
   {
    "duration": 3712,
    "start_time": "2022-03-09T11:33:22.998Z"
   },
   {
    "duration": 12,
    "start_time": "2022-03-09T11:33:26.712Z"
   },
   {
    "duration": 702,
    "start_time": "2022-03-09T11:33:26.726Z"
   },
   {
    "duration": 1745,
    "start_time": "2022-03-09T11:33:27.431Z"
   },
   {
    "duration": 311,
    "start_time": "2022-03-09T11:33:29.179Z"
   },
   {
    "duration": 1066,
    "start_time": "2022-03-09T11:33:29.493Z"
   },
   {
    "duration": 6,
    "start_time": "2022-03-09T11:43:28.900Z"
   },
   {
    "duration": 77,
    "start_time": "2022-03-09T11:44:25.547Z"
   },
   {
    "duration": 826,
    "start_time": "2022-03-09T11:46:06.608Z"
   },
   {
    "duration": 120,
    "start_time": "2022-03-09T11:46:07.436Z"
   },
   {
    "duration": 27,
    "start_time": "2022-03-09T11:46:07.560Z"
   },
   {
    "duration": 9,
    "start_time": "2022-03-09T11:46:07.590Z"
   },
   {
    "duration": 7,
    "start_time": "2022-03-09T11:46:07.602Z"
   },
   {
    "duration": 40,
    "start_time": "2022-03-09T11:46:07.611Z"
   },
   {
    "duration": 37,
    "start_time": "2022-03-09T11:46:07.653Z"
   },
   {
    "duration": 7,
    "start_time": "2022-03-09T11:46:07.694Z"
   },
   {
    "duration": 228,
    "start_time": "2022-03-09T11:46:07.704Z"
   },
   {
    "duration": 6,
    "start_time": "2022-03-09T11:46:07.934Z"
   },
   {
    "duration": 15,
    "start_time": "2022-03-09T11:46:07.943Z"
   },
   {
    "duration": 28,
    "start_time": "2022-03-09T11:46:07.960Z"
   },
   {
    "duration": 8,
    "start_time": "2022-03-09T11:46:07.991Z"
   },
   {
    "duration": 10,
    "start_time": "2022-03-09T11:46:08.002Z"
   },
   {
    "duration": 23,
    "start_time": "2022-03-09T11:46:08.014Z"
   },
   {
    "duration": 18,
    "start_time": "2022-03-09T11:46:08.039Z"
   },
   {
    "duration": 10,
    "start_time": "2022-03-09T11:46:08.088Z"
   },
   {
    "duration": 11,
    "start_time": "2022-03-09T11:46:08.100Z"
   },
   {
    "duration": 9,
    "start_time": "2022-03-09T11:46:08.114Z"
   },
   {
    "duration": 6,
    "start_time": "2022-03-09T11:46:08.125Z"
   },
   {
    "duration": 60,
    "start_time": "2022-03-09T11:46:08.133Z"
   },
   {
    "duration": 9,
    "start_time": "2022-03-09T11:46:08.196Z"
   },
   {
    "duration": 12,
    "start_time": "2022-03-09T11:46:08.211Z"
   },
   {
    "duration": 5,
    "start_time": "2022-03-09T11:46:08.227Z"
   },
   {
    "duration": 15,
    "start_time": "2022-03-09T11:46:08.234Z"
   },
   {
    "duration": 46,
    "start_time": "2022-03-09T11:46:08.251Z"
   },
   {
    "duration": 9,
    "start_time": "2022-03-09T11:46:08.299Z"
   },
   {
    "duration": 30,
    "start_time": "2022-03-09T11:46:08.311Z"
   },
   {
    "duration": 16,
    "start_time": "2022-03-09T11:46:08.344Z"
   },
   {
    "duration": 8,
    "start_time": "2022-03-09T11:46:08.388Z"
   },
   {
    "duration": 16,
    "start_time": "2022-03-09T11:46:08.399Z"
   },
   {
    "duration": 17,
    "start_time": "2022-03-09T11:46:08.417Z"
   },
   {
    "duration": 15,
    "start_time": "2022-03-09T11:46:08.436Z"
   },
   {
    "duration": 10,
    "start_time": "2022-03-09T11:46:08.453Z"
   },
   {
    "duration": 40,
    "start_time": "2022-03-09T11:46:08.465Z"
   },
   {
    "duration": 984,
    "start_time": "2022-03-09T11:46:08.507Z"
   },
   {
    "duration": 111,
    "start_time": "2022-03-09T11:46:09.494Z"
   },
   {
    "duration": 1940,
    "start_time": "2022-03-09T11:46:09.607Z"
   },
   {
    "duration": 1680,
    "start_time": "2022-03-09T11:46:11.549Z"
   },
   {
    "duration": 890,
    "start_time": "2022-03-09T11:46:13.231Z"
   },
   {
    "duration": 19,
    "start_time": "2022-03-09T11:46:14.124Z"
   },
   {
    "duration": 748,
    "start_time": "2022-03-09T11:46:14.145Z"
   },
   {
    "duration": 13,
    "start_time": "2022-03-09T11:46:14.895Z"
   },
   {
    "duration": 46,
    "start_time": "2022-03-09T11:46:14.911Z"
   },
   {
    "duration": 41,
    "start_time": "2022-03-09T11:46:14.988Z"
   },
   {
    "duration": 554,
    "start_time": "2022-03-09T11:46:15.033Z"
   },
   {
    "duration": 2516,
    "start_time": "2022-03-09T11:46:15.589Z"
   },
   {
    "duration": 38,
    "start_time": "2022-03-09T11:46:18.107Z"
   },
   {
    "duration": 51,
    "start_time": "2022-03-09T11:46:18.148Z"
   },
   {
    "duration": 7,
    "start_time": "2022-03-09T11:46:18.202Z"
   },
   {
    "duration": 8,
    "start_time": "2022-03-09T11:46:18.212Z"
   },
   {
    "duration": 4731,
    "start_time": "2022-03-09T11:46:18.223Z"
   },
   {
    "duration": 36,
    "start_time": "2022-03-09T11:46:22.956Z"
   },
   {
    "duration": 746,
    "start_time": "2022-03-09T11:46:22.994Z"
   },
   {
    "duration": 1512,
    "start_time": "2022-03-09T11:46:23.743Z"
   },
   {
    "duration": 322,
    "start_time": "2022-03-09T11:46:25.258Z"
   },
   {
    "duration": 1106,
    "start_time": "2022-03-09T11:46:25.586Z"
   },
   {
    "duration": 39,
    "start_time": "2022-03-09T11:46:26.694Z"
   },
   {
    "duration": 472,
    "start_time": "2022-03-09T11:46:26.735Z"
   },
   {
    "duration": 8,
    "start_time": "2022-03-09T11:46:27.210Z"
   },
   {
    "duration": 33,
    "start_time": "2022-03-09T11:46:27.221Z"
   },
   {
    "duration": 59,
    "start_time": "2022-03-09T11:46:27.257Z"
   },
   {
    "duration": 2851,
    "start_time": "2022-03-09T11:46:27.319Z"
   },
   {
    "duration": 20,
    "start_time": "2022-03-09T11:46:30.173Z"
   },
   {
    "duration": 774,
    "start_time": "2022-03-09T11:46:30.195Z"
   },
   {
    "duration": 1502,
    "start_time": "2022-03-09T11:46:30.971Z"
   },
   {
    "duration": 304,
    "start_time": "2022-03-09T11:46:32.477Z"
   },
   {
    "duration": 1244,
    "start_time": "2022-03-09T11:46:32.791Z"
   },
   {
    "duration": 213,
    "start_time": "2022-03-09T12:32:59.770Z"
   },
   {
    "duration": 220,
    "start_time": "2022-03-09T12:33:55.869Z"
   },
   {
    "duration": 296,
    "start_time": "2022-03-09T12:34:13.053Z"
   },
   {
    "duration": 268,
    "start_time": "2022-03-09T12:34:35.998Z"
   },
   {
    "duration": 249,
    "start_time": "2022-03-09T12:36:03.006Z"
   },
   {
    "duration": 372,
    "start_time": "2022-03-09T12:36:58.294Z"
   },
   {
    "duration": 403,
    "start_time": "2022-03-09T12:38:15.317Z"
   },
   {
    "duration": 258,
    "start_time": "2022-03-09T12:38:22.807Z"
   },
   {
    "duration": 251,
    "start_time": "2022-03-09T12:38:35.905Z"
   },
   {
    "duration": 263,
    "start_time": "2022-03-09T12:42:07.810Z"
   },
   {
    "duration": 255,
    "start_time": "2022-03-09T12:42:10.699Z"
   },
   {
    "duration": 1089,
    "start_time": "2022-03-09T12:42:22.381Z"
   },
   {
    "duration": 69,
    "start_time": "2022-03-09T12:45:42.285Z"
   },
   {
    "duration": 73,
    "start_time": "2022-03-09T12:46:00.230Z"
   },
   {
    "duration": 1065,
    "start_time": "2022-03-09T12:46:07.588Z"
   },
   {
    "duration": 1003,
    "start_time": "2022-03-09T12:47:22.158Z"
   },
   {
    "duration": 589,
    "start_time": "2022-03-09T12:47:33.561Z"
   },
   {
    "duration": 967,
    "start_time": "2022-03-09T12:47:46.460Z"
   },
   {
    "duration": 1072,
    "start_time": "2022-03-09T12:47:51.320Z"
   },
   {
    "duration": 923,
    "start_time": "2022-03-09T12:47:59.233Z"
   },
   {
    "duration": 608,
    "start_time": "2022-03-09T12:51:13.534Z"
   },
   {
    "duration": 1247,
    "start_time": "2022-03-09T14:16:45.982Z"
   },
   {
    "duration": 93,
    "start_time": "2022-03-09T14:25:08.944Z"
   },
   {
    "duration": 86,
    "start_time": "2022-03-09T14:29:26.304Z"
   },
   {
    "duration": 864,
    "start_time": "2022-03-09T15:28:16.264Z"
   },
   {
    "duration": 132,
    "start_time": "2022-03-09T15:28:17.130Z"
   },
   {
    "duration": 32,
    "start_time": "2022-03-09T15:28:17.266Z"
   },
   {
    "duration": 11,
    "start_time": "2022-03-09T15:28:17.302Z"
   },
   {
    "duration": 8,
    "start_time": "2022-03-09T15:28:17.315Z"
   },
   {
    "duration": 71,
    "start_time": "2022-03-09T15:28:17.326Z"
   },
   {
    "duration": 8,
    "start_time": "2022-03-09T15:28:17.399Z"
   },
   {
    "duration": 7,
    "start_time": "2022-03-09T15:28:17.411Z"
   },
   {
    "duration": 239,
    "start_time": "2022-03-09T15:28:17.420Z"
   },
   {
    "duration": 7,
    "start_time": "2022-03-09T15:28:17.661Z"
   },
   {
    "duration": 29,
    "start_time": "2022-03-09T15:28:17.671Z"
   },
   {
    "duration": 5,
    "start_time": "2022-03-09T15:28:17.702Z"
   },
   {
    "duration": 8,
    "start_time": "2022-03-09T15:28:17.709Z"
   },
   {
    "duration": 10,
    "start_time": "2022-03-09T15:28:17.719Z"
   },
   {
    "duration": 22,
    "start_time": "2022-03-09T15:28:17.731Z"
   },
   {
    "duration": 45,
    "start_time": "2022-03-09T15:28:17.756Z"
   },
   {
    "duration": 10,
    "start_time": "2022-03-09T15:28:17.804Z"
   },
   {
    "duration": 10,
    "start_time": "2022-03-09T15:28:17.816Z"
   },
   {
    "duration": 9,
    "start_time": "2022-03-09T15:28:17.829Z"
   },
   {
    "duration": 47,
    "start_time": "2022-03-09T15:28:17.840Z"
   },
   {
    "duration": 20,
    "start_time": "2022-03-09T15:28:17.890Z"
   },
   {
    "duration": 10,
    "start_time": "2022-03-09T15:28:17.913Z"
   },
   {
    "duration": 63,
    "start_time": "2022-03-09T15:28:17.933Z"
   },
   {
    "duration": 5,
    "start_time": "2022-03-09T15:28:17.999Z"
   },
   {
    "duration": 12,
    "start_time": "2022-03-09T15:28:18.006Z"
   },
   {
    "duration": 11,
    "start_time": "2022-03-09T15:28:18.021Z"
   },
   {
    "duration": 6,
    "start_time": "2022-03-09T15:28:18.035Z"
   },
   {
    "duration": 67,
    "start_time": "2022-03-09T15:28:18.043Z"
   },
   {
    "duration": 11,
    "start_time": "2022-03-09T15:28:18.112Z"
   },
   {
    "duration": 10,
    "start_time": "2022-03-09T15:28:18.126Z"
   },
   {
    "duration": 14,
    "start_time": "2022-03-09T15:28:18.138Z"
   },
   {
    "duration": 34,
    "start_time": "2022-03-09T15:28:18.154Z"
   },
   {
    "duration": 11,
    "start_time": "2022-03-09T15:28:18.191Z"
   },
   {
    "duration": 4,
    "start_time": "2022-03-09T15:28:18.204Z"
   },
   {
    "duration": 23,
    "start_time": "2022-03-09T15:28:18.211Z"
   },
   {
    "duration": 1100,
    "start_time": "2022-03-09T15:28:18.236Z"
   },
   {
    "duration": 115,
    "start_time": "2022-03-09T15:28:19.338Z"
   },
   {
    "duration": 1888,
    "start_time": "2022-03-09T15:28:19.455Z"
   },
   {
    "duration": 1688,
    "start_time": "2022-03-09T15:28:21.345Z"
   },
   {
    "duration": 868,
    "start_time": "2022-03-09T15:28:23.035Z"
   },
   {
    "duration": 21,
    "start_time": "2022-03-09T15:28:23.906Z"
   },
   {
    "duration": 792,
    "start_time": "2022-03-09T15:28:23.929Z"
   },
   {
    "duration": 12,
    "start_time": "2022-03-09T15:28:24.724Z"
   },
   {
    "duration": 67,
    "start_time": "2022-03-09T15:28:24.738Z"
   },
   {
    "duration": 44,
    "start_time": "2022-03-09T15:28:24.808Z"
   },
   {
    "duration": 551,
    "start_time": "2022-03-09T15:28:24.855Z"
   },
   {
    "duration": 2519,
    "start_time": "2022-03-09T15:28:25.409Z"
   },
   {
    "duration": 61,
    "start_time": "2022-03-09T15:28:27.931Z"
   },
   {
    "duration": 19,
    "start_time": "2022-03-09T15:28:27.996Z"
   },
   {
    "duration": 7,
    "start_time": "2022-03-09T15:28:28.018Z"
   },
   {
    "duration": 8,
    "start_time": "2022-03-09T15:28:28.027Z"
   },
   {
    "duration": 4985,
    "start_time": "2022-03-09T15:28:28.038Z"
   },
   {
    "duration": 13,
    "start_time": "2022-03-09T15:28:33.026Z"
   },
   {
    "duration": 780,
    "start_time": "2022-03-09T15:28:33.042Z"
   },
   {
    "duration": 1528,
    "start_time": "2022-03-09T15:28:33.825Z"
   },
   {
    "duration": 303,
    "start_time": "2022-03-09T15:28:35.355Z"
   },
   {
    "duration": 1100,
    "start_time": "2022-03-09T15:28:35.660Z"
   },
   {
    "duration": 50,
    "start_time": "2022-03-09T15:28:36.762Z"
   },
   {
    "duration": 465,
    "start_time": "2022-03-09T15:28:36.815Z"
   },
   {
    "duration": 9,
    "start_time": "2022-03-09T15:28:37.287Z"
   },
   {
    "duration": 34,
    "start_time": "2022-03-09T15:28:37.298Z"
   },
   {
    "duration": 59,
    "start_time": "2022-03-09T15:28:37.334Z"
   },
   {
    "duration": 2937,
    "start_time": "2022-03-09T15:28:37.396Z"
   },
   {
    "duration": 12,
    "start_time": "2022-03-09T15:28:40.335Z"
   },
   {
    "duration": 772,
    "start_time": "2022-03-09T15:28:40.349Z"
   },
   {
    "duration": 1499,
    "start_time": "2022-03-09T15:28:41.124Z"
   },
   {
    "duration": 319,
    "start_time": "2022-03-09T15:28:42.630Z"
   },
   {
    "duration": 1093,
    "start_time": "2022-03-09T15:28:42.952Z"
   },
   {
    "duration": 102,
    "start_time": "2022-03-09T15:33:26.821Z"
   },
   {
    "duration": 874,
    "start_time": "2022-03-09T15:34:14.295Z"
   },
   {
    "duration": 121,
    "start_time": "2022-03-09T15:34:15.172Z"
   },
   {
    "duration": 14,
    "start_time": "2022-03-09T15:34:15.296Z"
   },
   {
    "duration": 10,
    "start_time": "2022-03-09T15:34:15.313Z"
   },
   {
    "duration": 9,
    "start_time": "2022-03-09T15:34:15.325Z"
   },
   {
    "duration": 77,
    "start_time": "2022-03-09T15:34:15.336Z"
   },
   {
    "duration": 8,
    "start_time": "2022-03-09T15:34:15.416Z"
   },
   {
    "duration": 16,
    "start_time": "2022-03-09T15:34:15.428Z"
   },
   {
    "duration": 227,
    "start_time": "2022-03-09T15:34:15.447Z"
   },
   {
    "duration": 11,
    "start_time": "2022-03-09T15:34:15.677Z"
   },
   {
    "duration": 16,
    "start_time": "2022-03-09T15:34:15.690Z"
   },
   {
    "duration": 4,
    "start_time": "2022-03-09T15:34:15.709Z"
   },
   {
    "duration": 6,
    "start_time": "2022-03-09T15:34:15.716Z"
   },
   {
    "duration": 10,
    "start_time": "2022-03-09T15:34:15.724Z"
   },
   {
    "duration": 64,
    "start_time": "2022-03-09T15:34:15.736Z"
   },
   {
    "duration": 18,
    "start_time": "2022-03-09T15:34:15.802Z"
   },
   {
    "duration": 10,
    "start_time": "2022-03-09T15:34:15.823Z"
   },
   {
    "duration": 14,
    "start_time": "2022-03-09T15:34:15.836Z"
   },
   {
    "duration": 39,
    "start_time": "2022-03-09T15:34:15.853Z"
   },
   {
    "duration": 6,
    "start_time": "2022-03-09T15:34:15.894Z"
   },
   {
    "duration": 16,
    "start_time": "2022-03-09T15:34:15.902Z"
   },
   {
    "duration": 9,
    "start_time": "2022-03-09T15:34:15.920Z"
   },
   {
    "duration": 53,
    "start_time": "2022-03-09T15:34:15.935Z"
   },
   {
    "duration": 5,
    "start_time": "2022-03-09T15:34:15.992Z"
   },
   {
    "duration": 21,
    "start_time": "2022-03-09T15:34:15.999Z"
   },
   {
    "duration": 15,
    "start_time": "2022-03-09T15:34:16.022Z"
   },
   {
    "duration": 8,
    "start_time": "2022-03-09T15:34:16.040Z"
   },
   {
    "duration": 64,
    "start_time": "2022-03-09T15:34:16.050Z"
   },
   {
    "duration": 14,
    "start_time": "2022-03-09T15:34:16.117Z"
   },
   {
    "duration": 11,
    "start_time": "2022-03-09T15:34:16.133Z"
   },
   {
    "duration": 42,
    "start_time": "2022-03-09T15:34:16.146Z"
   },
   {
    "duration": 10,
    "start_time": "2022-03-09T15:34:16.191Z"
   },
   {
    "duration": 11,
    "start_time": "2022-03-09T15:34:16.204Z"
   },
   {
    "duration": 5,
    "start_time": "2022-03-09T15:34:16.217Z"
   },
   {
    "duration": 19,
    "start_time": "2022-03-09T15:34:16.225Z"
   },
   {
    "duration": 1024,
    "start_time": "2022-03-09T15:34:16.247Z"
   },
   {
    "duration": 114,
    "start_time": "2022-03-09T15:34:17.273Z"
   },
   {
    "duration": 1973,
    "start_time": "2022-03-09T15:34:17.389Z"
   },
   {
    "duration": 1997,
    "start_time": "2022-03-09T15:34:19.364Z"
   },
   {
    "duration": 806,
    "start_time": "2022-03-09T15:34:21.363Z"
   },
   {
    "duration": 34,
    "start_time": "2022-03-09T15:34:22.172Z"
   },
   {
    "duration": 780,
    "start_time": "2022-03-09T15:34:22.209Z"
   },
   {
    "duration": 12,
    "start_time": "2022-03-09T15:34:22.991Z"
   },
   {
    "duration": 46,
    "start_time": "2022-03-09T15:34:23.006Z"
   },
   {
    "duration": 67,
    "start_time": "2022-03-09T15:34:23.054Z"
   },
   {
    "duration": 541,
    "start_time": "2022-03-09T15:34:23.124Z"
   },
   {
    "duration": 2452,
    "start_time": "2022-03-09T15:34:23.668Z"
   },
   {
    "duration": 36,
    "start_time": "2022-03-09T15:34:26.123Z"
   },
   {
    "duration": 40,
    "start_time": "2022-03-09T15:34:26.161Z"
   },
   {
    "duration": 6,
    "start_time": "2022-03-09T15:34:26.203Z"
   },
   {
    "duration": 8,
    "start_time": "2022-03-09T15:34:26.211Z"
   },
   {
    "duration": 4897,
    "start_time": "2022-03-09T15:34:26.222Z"
   },
   {
    "duration": 15,
    "start_time": "2022-03-09T15:34:31.121Z"
   },
   {
    "duration": 775,
    "start_time": "2022-03-09T15:34:31.139Z"
   },
   {
    "duration": 1516,
    "start_time": "2022-03-09T15:34:31.917Z"
   },
   {
    "duration": 332,
    "start_time": "2022-03-09T15:34:33.435Z"
   },
   {
    "duration": 1205,
    "start_time": "2022-03-09T15:34:33.770Z"
   },
   {
    "duration": 44,
    "start_time": "2022-03-09T15:34:34.977Z"
   },
   {
    "duration": 493,
    "start_time": "2022-03-09T15:34:35.024Z"
   },
   {
    "duration": 7,
    "start_time": "2022-03-09T15:34:35.520Z"
   },
   {
    "duration": 35,
    "start_time": "2022-03-09T15:34:35.530Z"
   },
   {
    "duration": 33,
    "start_time": "2022-03-09T15:34:35.587Z"
   },
   {
    "duration": 2901,
    "start_time": "2022-03-09T15:34:35.623Z"
   },
   {
    "duration": 12,
    "start_time": "2022-03-09T15:34:38.527Z"
   },
   {
    "duration": 780,
    "start_time": "2022-03-09T15:34:38.543Z"
   },
   {
    "duration": 1483,
    "start_time": "2022-03-09T15:34:39.325Z"
   },
   {
    "duration": 317,
    "start_time": "2022-03-09T15:34:40.810Z"
   },
   {
    "duration": 1061,
    "start_time": "2022-03-09T15:34:41.134Z"
   },
   {
    "duration": 101,
    "start_time": "2022-03-09T15:41:32.610Z"
   },
   {
    "duration": 642,
    "start_time": "2022-03-10T09:01:20.787Z"
   },
   {
    "duration": 87,
    "start_time": "2022-03-10T09:01:21.431Z"
   },
   {
    "duration": 9,
    "start_time": "2022-03-10T09:01:21.519Z"
   },
   {
    "duration": 7,
    "start_time": "2022-03-10T09:01:21.530Z"
   },
   {
    "duration": 6,
    "start_time": "2022-03-10T09:01:21.538Z"
   },
   {
    "duration": 26,
    "start_time": "2022-03-10T09:01:21.545Z"
   },
   {
    "duration": 6,
    "start_time": "2022-03-10T09:01:21.573Z"
   },
   {
    "duration": 25,
    "start_time": "2022-03-10T09:01:21.581Z"
   },
   {
    "duration": 126,
    "start_time": "2022-03-10T09:01:21.608Z"
   },
   {
    "duration": 4,
    "start_time": "2022-03-10T09:01:21.735Z"
   },
   {
    "duration": 11,
    "start_time": "2022-03-10T09:01:21.740Z"
   },
   {
    "duration": 3,
    "start_time": "2022-03-10T09:01:21.752Z"
   },
   {
    "duration": 7,
    "start_time": "2022-03-10T09:01:21.756Z"
   },
   {
    "duration": 8,
    "start_time": "2022-03-10T09:01:21.764Z"
   },
   {
    "duration": 13,
    "start_time": "2022-03-10T09:01:21.774Z"
   },
   {
    "duration": 24,
    "start_time": "2022-03-10T09:01:21.789Z"
   },
   {
    "duration": 6,
    "start_time": "2022-03-10T09:01:21.814Z"
   },
   {
    "duration": 7,
    "start_time": "2022-03-10T09:01:21.822Z"
   },
   {
    "duration": 5,
    "start_time": "2022-03-10T09:01:21.831Z"
   },
   {
    "duration": 11,
    "start_time": "2022-03-10T09:01:21.837Z"
   },
   {
    "duration": 12,
    "start_time": "2022-03-10T09:01:21.850Z"
   },
   {
    "duration": 6,
    "start_time": "2022-03-10T09:01:21.863Z"
   },
   {
    "duration": 35,
    "start_time": "2022-03-10T09:01:21.874Z"
   },
   {
    "duration": 2,
    "start_time": "2022-03-10T09:01:21.911Z"
   },
   {
    "duration": 10,
    "start_time": "2022-03-10T09:01:21.915Z"
   },
   {
    "duration": 7,
    "start_time": "2022-03-10T09:01:21.927Z"
   },
   {
    "duration": 4,
    "start_time": "2022-03-10T09:01:21.935Z"
   },
   {
    "duration": 23,
    "start_time": "2022-03-10T09:01:21.941Z"
   },
   {
    "duration": 14,
    "start_time": "2022-03-10T09:01:21.965Z"
   },
   {
    "duration": 8,
    "start_time": "2022-03-10T09:01:21.980Z"
   },
   {
    "duration": 20,
    "start_time": "2022-03-10T09:01:21.989Z"
   },
   {
    "duration": 8,
    "start_time": "2022-03-10T09:01:22.010Z"
   },
   {
    "duration": 13,
    "start_time": "2022-03-10T09:01:22.019Z"
   },
   {
    "duration": 4,
    "start_time": "2022-03-10T09:01:22.033Z"
   },
   {
    "duration": 14,
    "start_time": "2022-03-10T09:01:22.038Z"
   },
   {
    "duration": 542,
    "start_time": "2022-03-10T09:01:22.054Z"
   },
   {
    "duration": 58,
    "start_time": "2022-03-10T09:01:22.598Z"
   },
   {
    "duration": 963,
    "start_time": "2022-03-10T09:01:22.658Z"
   },
   {
    "duration": 868,
    "start_time": "2022-03-10T09:01:23.623Z"
   },
   {
    "duration": 406,
    "start_time": "2022-03-10T09:01:24.493Z"
   },
   {
    "duration": 13,
    "start_time": "2022-03-10T09:01:24.901Z"
   },
   {
    "duration": 400,
    "start_time": "2022-03-10T09:01:24.916Z"
   },
   {
    "duration": 7,
    "start_time": "2022-03-10T09:01:25.318Z"
   },
   {
    "duration": 27,
    "start_time": "2022-03-10T09:01:25.326Z"
   },
   {
    "duration": 21,
    "start_time": "2022-03-10T09:01:25.355Z"
   },
   {
    "duration": 298,
    "start_time": "2022-03-10T09:01:25.378Z"
   },
   {
    "duration": 1247,
    "start_time": "2022-03-10T09:01:25.677Z"
   },
   {
    "duration": 23,
    "start_time": "2022-03-10T09:01:26.925Z"
   },
   {
    "duration": 11,
    "start_time": "2022-03-10T09:01:26.950Z"
   },
   {
    "duration": 3,
    "start_time": "2022-03-10T09:01:26.963Z"
   },
   {
    "duration": 7,
    "start_time": "2022-03-10T09:01:26.968Z"
   },
   {
    "duration": 3186,
    "start_time": "2022-03-10T09:01:26.976Z"
   },
   {
    "duration": 9,
    "start_time": "2022-03-10T09:01:30.164Z"
   },
   {
    "duration": 407,
    "start_time": "2022-03-10T09:01:30.174Z"
   },
   {
    "duration": 789,
    "start_time": "2022-03-10T09:01:30.583Z"
   },
   {
    "duration": 162,
    "start_time": "2022-03-10T09:01:31.373Z"
   },
   {
    "duration": 573,
    "start_time": "2022-03-10T09:01:31.537Z"
   },
   {
    "duration": 23,
    "start_time": "2022-03-10T09:01:32.112Z"
   },
   {
    "duration": 261,
    "start_time": "2022-03-10T09:01:32.136Z"
   },
   {
    "duration": 10,
    "start_time": "2022-03-10T09:01:32.398Z"
   },
   {
    "duration": 22,
    "start_time": "2022-03-10T09:01:32.409Z"
   },
   {
    "duration": 19,
    "start_time": "2022-03-10T09:01:32.432Z"
   },
   {
    "duration": 134,
    "start_time": "2022-03-10T09:02:53.935Z"
   },
   {
    "duration": 490,
    "start_time": "2022-03-10T09:03:20.351Z"
   },
   {
    "duration": 439,
    "start_time": "2022-03-10T09:03:33.377Z"
   },
   {
    "duration": 513,
    "start_time": "2022-03-10T09:03:52.986Z"
   },
   {
    "duration": 432,
    "start_time": "2022-03-10T09:03:59.537Z"
   },
   {
    "duration": 136,
    "start_time": "2022-03-10T09:04:34.728Z"
   },
   {
    "duration": 469,
    "start_time": "2022-03-10T09:04:46.780Z"
   },
   {
    "duration": 145,
    "start_time": "2022-03-10T09:05:02.880Z"
   },
   {
    "duration": 131,
    "start_time": "2022-03-10T09:05:06.574Z"
   },
   {
    "duration": 437,
    "start_time": "2022-03-10T09:07:30.523Z"
   },
   {
    "duration": 430,
    "start_time": "2022-03-10T09:07:39.294Z"
   },
   {
    "duration": 136,
    "start_time": "2022-03-10T09:07:51.235Z"
   },
   {
    "duration": 130,
    "start_time": "2022-03-10T09:07:55.725Z"
   },
   {
    "duration": 128,
    "start_time": "2022-03-10T09:09:38.792Z"
   },
   {
    "duration": 298,
    "start_time": "2022-03-10T09:09:56.226Z"
   },
   {
    "duration": 131,
    "start_time": "2022-03-10T09:10:14.618Z"
   },
   {
    "duration": 134,
    "start_time": "2022-03-10T09:10:23.957Z"
   },
   {
    "duration": 177,
    "start_time": "2022-03-10T09:10:29.206Z"
   },
   {
    "duration": 187,
    "start_time": "2022-03-10T09:10:41.846Z"
   },
   {
    "duration": 186,
    "start_time": "2022-03-10T09:10:45.768Z"
   },
   {
    "duration": 191,
    "start_time": "2022-03-10T09:11:09.269Z"
   },
   {
    "duration": 133,
    "start_time": "2022-03-10T09:11:23.739Z"
   },
   {
    "duration": 300,
    "start_time": "2022-03-10T09:11:57.179Z"
   },
   {
    "duration": 194,
    "start_time": "2022-03-10T09:12:14.071Z"
   },
   {
    "duration": 188,
    "start_time": "2022-03-10T09:12:42.340Z"
   },
   {
    "duration": 192,
    "start_time": "2022-03-10T09:12:50.966Z"
   },
   {
    "duration": 198,
    "start_time": "2022-03-10T09:12:59.401Z"
   },
   {
    "duration": 222,
    "start_time": "2022-03-10T09:13:06.173Z"
   },
   {
    "duration": 197,
    "start_time": "2022-03-10T09:13:19.613Z"
   },
   {
    "duration": 45,
    "start_time": "2022-03-27T22:13:04.214Z"
   },
   {
    "duration": 1318,
    "start_time": "2022-03-27T22:13:06.655Z"
   },
   {
    "duration": 54,
    "start_time": "2022-03-27T22:13:10.222Z"
   },
   {
    "duration": 1189,
    "start_time": "2022-03-27T22:14:14.719Z"
   },
   {
    "duration": 39,
    "start_time": "2022-03-27T22:14:15.910Z"
   },
   {
    "duration": 16,
    "start_time": "2022-03-27T22:14:15.951Z"
   },
   {
    "duration": 173,
    "start_time": "2022-03-27T22:14:15.969Z"
   },
   {
    "duration": 142,
    "start_time": "2022-03-27T22:14:16.143Z"
   },
   {
    "duration": 100,
    "start_time": "2022-03-27T22:14:16.287Z"
   },
   {
    "duration": 6,
    "start_time": "2022-03-27T22:14:16.389Z"
   },
   {
    "duration": 19,
    "start_time": "2022-03-27T22:14:16.397Z"
   },
   {
    "duration": 85,
    "start_time": "2022-03-27T22:14:16.418Z"
   },
   {
    "duration": 43,
    "start_time": "2022-03-27T22:14:16.506Z"
   },
   {
    "duration": 64,
    "start_time": "2022-03-27T22:14:16.551Z"
   },
   {
    "duration": 124,
    "start_time": "2022-03-27T22:14:16.617Z"
   },
   {
    "duration": 15,
    "start_time": "2022-03-27T22:14:16.743Z"
   },
   {
    "duration": 6,
    "start_time": "2022-03-27T22:14:16.759Z"
   },
   {
    "duration": 2196,
    "start_time": "2022-03-27T22:14:16.766Z"
   },
   {
    "duration": 11,
    "start_time": "2022-03-27T22:14:18.964Z"
   },
   {
    "duration": 10,
    "start_time": "2022-03-27T22:14:18.977Z"
   },
   {
    "duration": 368,
    "start_time": "2022-03-27T22:14:18.989Z"
   },
   {
    "duration": 472,
    "start_time": "2022-03-27T22:14:19.359Z"
   },
   {
    "duration": 33,
    "start_time": "2022-03-27T22:14:19.833Z"
   },
   {
    "duration": 456,
    "start_time": "2022-03-27T22:14:19.868Z"
   },
   {
    "duration": 20,
    "start_time": "2022-03-27T22:14:20.326Z"
   },
   {
    "duration": 17,
    "start_time": "2022-03-27T22:14:20.347Z"
   },
   {
    "duration": 390,
    "start_time": "2022-03-27T22:14:20.366Z"
   },
   {
    "duration": 462,
    "start_time": "2022-03-27T22:14:20.757Z"
   },
   {
    "duration": 41,
    "start_time": "2022-03-27T22:14:21.220Z"
   },
   {
    "duration": 430,
    "start_time": "2022-03-27T22:14:21.263Z"
   },
   {
    "duration": 11,
    "start_time": "2022-03-27T22:14:21.697Z"
   },
   {
    "duration": 12,
    "start_time": "2022-03-27T22:14:21.710Z"
   },
   {
    "duration": 331,
    "start_time": "2022-03-27T22:14:21.738Z"
   },
   {
    "duration": 446,
    "start_time": "2022-03-27T22:14:22.071Z"
   },
   {
    "duration": 41,
    "start_time": "2022-03-27T22:14:22.518Z"
   },
   {
    "duration": 526,
    "start_time": "2022-03-27T22:14:22.561Z"
   },
   {
    "duration": 10,
    "start_time": "2022-03-27T22:14:23.089Z"
   },
   {
    "duration": 9,
    "start_time": "2022-03-27T22:14:23.101Z"
   },
   {
    "duration": 305,
    "start_time": "2022-03-27T22:14:23.112Z"
   },
   {
    "duration": 3,
    "start_time": "2022-03-27T22:14:23.418Z"
   },
   {
    "duration": 22,
    "start_time": "2022-03-27T22:14:23.423Z"
   },
   {
    "duration": 9,
    "start_time": "2022-03-27T22:14:23.447Z"
   },
   {
    "duration": 9,
    "start_time": "2022-03-27T22:14:23.458Z"
   },
   {
    "duration": 9,
    "start_time": "2022-03-27T22:14:23.468Z"
   },
   {
    "duration": 1206,
    "start_time": "2022-03-27T22:46:25.925Z"
   },
   {
    "duration": 54,
    "start_time": "2022-03-27T22:46:27.133Z"
   },
   {
    "duration": 18,
    "start_time": "2022-03-27T22:46:27.189Z"
   },
   {
    "duration": 185,
    "start_time": "2022-03-27T22:46:27.209Z"
   },
   {
    "duration": 148,
    "start_time": "2022-03-27T22:46:27.395Z"
   },
   {
    "duration": 100,
    "start_time": "2022-03-27T22:46:27.544Z"
   },
   {
    "duration": 6,
    "start_time": "2022-03-27T22:46:27.646Z"
   },
   {
    "duration": 18,
    "start_time": "2022-03-27T22:46:27.653Z"
   },
   {
    "duration": 94,
    "start_time": "2022-03-27T22:46:27.673Z"
   },
   {
    "duration": 31,
    "start_time": "2022-03-27T22:46:27.769Z"
   },
   {
    "duration": 84,
    "start_time": "2022-03-27T22:46:27.801Z"
   },
   {
    "duration": 108,
    "start_time": "2022-03-27T22:46:27.887Z"
   },
   {
    "duration": 13,
    "start_time": "2022-03-27T22:46:27.996Z"
   },
   {
    "duration": 11,
    "start_time": "2022-03-27T22:46:28.011Z"
   },
   {
    "duration": 2183,
    "start_time": "2022-03-27T22:46:28.024Z"
   },
   {
    "duration": 11,
    "start_time": "2022-03-27T22:46:30.209Z"
   },
   {
    "duration": 19,
    "start_time": "2022-03-27T22:46:30.222Z"
   },
   {
    "duration": 372,
    "start_time": "2022-03-27T22:46:30.243Z"
   },
   {
    "duration": 493,
    "start_time": "2022-03-27T22:46:30.617Z"
   },
   {
    "duration": 39,
    "start_time": "2022-03-27T22:46:31.111Z"
   },
   {
    "duration": 454,
    "start_time": "2022-03-27T22:46:31.151Z"
   },
   {
    "duration": 12,
    "start_time": "2022-03-27T22:46:31.607Z"
   },
   {
    "duration": 25,
    "start_time": "2022-03-27T22:46:31.620Z"
   },
   {
    "duration": 391,
    "start_time": "2022-03-27T22:46:31.647Z"
   },
   {
    "duration": 459,
    "start_time": "2022-03-27T22:46:32.039Z"
   },
   {
    "duration": 42,
    "start_time": "2022-03-27T22:46:32.500Z"
   },
   {
    "duration": 431,
    "start_time": "2022-03-27T22:46:32.543Z"
   },
   {
    "duration": 12,
    "start_time": "2022-03-27T22:46:32.978Z"
   },
   {
    "duration": 15,
    "start_time": "2022-03-27T22:46:32.991Z"
   },
   {
    "duration": 337,
    "start_time": "2022-03-27T22:46:33.007Z"
   },
   {
    "duration": 449,
    "start_time": "2022-03-27T22:46:33.346Z"
   },
   {
    "duration": 47,
    "start_time": "2022-03-27T22:46:33.797Z"
   },
   {
    "duration": 547,
    "start_time": "2022-03-27T22:46:33.846Z"
   },
   {
    "duration": 12,
    "start_time": "2022-03-27T22:46:34.395Z"
   },
   {
    "duration": 22,
    "start_time": "2022-03-27T22:46:34.408Z"
   },
   {
    "duration": 298,
    "start_time": "2022-03-27T22:46:34.431Z"
   },
   {
    "duration": 7,
    "start_time": "2022-03-27T22:46:34.731Z"
   },
   {
    "duration": 14,
    "start_time": "2022-03-27T22:46:34.740Z"
   },
   {
    "duration": 11,
    "start_time": "2022-03-27T22:46:34.755Z"
   },
   {
    "duration": 12,
    "start_time": "2022-03-27T22:46:34.767Z"
   },
   {
    "duration": 10,
    "start_time": "2022-03-27T22:46:34.781Z"
   },
   {
    "duration": 1347,
    "start_time": "2022-03-27T22:47:34.057Z"
   },
   {
    "duration": 40,
    "start_time": "2022-03-27T22:47:35.406Z"
   },
   {
    "duration": 16,
    "start_time": "2022-03-27T22:47:35.448Z"
   },
   {
    "duration": 177,
    "start_time": "2022-03-27T22:47:35.466Z"
   },
   {
    "duration": 149,
    "start_time": "2022-03-27T22:47:35.644Z"
   },
   {
    "duration": 105,
    "start_time": "2022-03-27T22:47:35.795Z"
   },
   {
    "duration": 6,
    "start_time": "2022-03-27T22:47:35.902Z"
   },
   {
    "duration": 16,
    "start_time": "2022-03-27T22:47:35.909Z"
   },
   {
    "duration": 82,
    "start_time": "2022-03-27T22:47:35.926Z"
   },
   {
    "duration": 60,
    "start_time": "2022-03-27T22:47:36.011Z"
   },
   {
    "duration": 76,
    "start_time": "2022-03-27T22:47:36.073Z"
   },
   {
    "duration": 114,
    "start_time": "2022-03-27T22:47:36.151Z"
   },
   {
    "duration": 12,
    "start_time": "2022-03-27T22:47:36.267Z"
   },
   {
    "duration": 5,
    "start_time": "2022-03-27T22:47:36.281Z"
   },
   {
    "duration": 2169,
    "start_time": "2022-03-27T22:47:36.287Z"
   },
   {
    "duration": 12,
    "start_time": "2022-03-27T22:47:38.457Z"
   },
   {
    "duration": 10,
    "start_time": "2022-03-27T22:47:38.471Z"
   },
   {
    "duration": 348,
    "start_time": "2022-03-27T22:47:38.482Z"
   },
   {
    "duration": 446,
    "start_time": "2022-03-27T22:47:38.832Z"
   },
   {
    "duration": 31,
    "start_time": "2022-03-27T22:47:39.280Z"
   },
   {
    "duration": 454,
    "start_time": "2022-03-27T22:47:39.312Z"
   },
   {
    "duration": 13,
    "start_time": "2022-03-27T22:47:39.769Z"
   },
   {
    "duration": 11,
    "start_time": "2022-03-27T22:47:39.784Z"
   },
   {
    "duration": 386,
    "start_time": "2022-03-27T22:47:39.796Z"
   },
   {
    "duration": 440,
    "start_time": "2022-03-27T22:47:40.183Z"
   },
   {
    "duration": 39,
    "start_time": "2022-03-27T22:47:40.625Z"
   },
   {
    "duration": 409,
    "start_time": "2022-03-27T22:47:40.666Z"
   },
   {
    "duration": 10,
    "start_time": "2022-03-27T22:47:41.078Z"
   },
   {
    "duration": 16,
    "start_time": "2022-03-27T22:47:41.089Z"
   },
   {
    "duration": 323,
    "start_time": "2022-03-27T22:47:41.106Z"
   },
   {
    "duration": 452,
    "start_time": "2022-03-27T22:47:41.431Z"
   },
   {
    "duration": 30,
    "start_time": "2022-03-27T22:47:41.885Z"
   },
   {
    "duration": 543,
    "start_time": "2022-03-27T22:47:41.916Z"
   },
   {
    "duration": 11,
    "start_time": "2022-03-27T22:47:42.461Z"
   },
   {
    "duration": 9,
    "start_time": "2022-03-27T22:47:42.474Z"
   },
   {
    "duration": 305,
    "start_time": "2022-03-27T22:47:42.484Z"
   },
   {
    "duration": 3,
    "start_time": "2022-03-27T22:47:42.790Z"
   },
   {
    "duration": 15,
    "start_time": "2022-03-27T22:47:42.794Z"
   },
   {
    "duration": 27,
    "start_time": "2022-03-27T22:47:42.810Z"
   },
   {
    "duration": 11,
    "start_time": "2022-03-27T22:47:42.839Z"
   },
   {
    "duration": 13,
    "start_time": "2022-03-27T22:47:42.852Z"
   },
   {
    "duration": 1488,
    "start_time": "2022-04-07T16:45:12.455Z"
   },
   {
    "duration": 41,
    "start_time": "2022-04-07T16:45:13.945Z"
   },
   {
    "duration": 27,
    "start_time": "2022-04-07T16:45:13.989Z"
   },
   {
    "duration": 224,
    "start_time": "2022-04-07T16:45:14.019Z"
   },
   {
    "duration": 289,
    "start_time": "2022-04-07T16:45:14.246Z"
   },
   {
    "duration": 135,
    "start_time": "2022-04-07T16:45:14.537Z"
   },
   {
    "duration": 8,
    "start_time": "2022-04-07T16:45:14.674Z"
   },
   {
    "duration": 27,
    "start_time": "2022-04-07T16:45:14.684Z"
   },
   {
    "duration": 116,
    "start_time": "2022-04-07T16:45:14.713Z"
   },
   {
    "duration": 61,
    "start_time": "2022-04-07T16:45:14.843Z"
   },
   {
    "duration": 110,
    "start_time": "2022-04-07T16:45:14.906Z"
   },
   {
    "duration": 148,
    "start_time": "2022-04-07T16:45:15.018Z"
   },
   {
    "duration": 21,
    "start_time": "2022-04-07T16:45:15.168Z"
   },
   {
    "duration": 10,
    "start_time": "2022-04-07T16:45:15.194Z"
   },
   {
    "duration": 3756,
    "start_time": "2022-04-07T16:45:15.205Z"
   },
   {
    "duration": 15,
    "start_time": "2022-04-07T16:45:18.963Z"
   },
   {
    "duration": 13,
    "start_time": "2022-04-07T16:45:18.980Z"
   },
   {
    "duration": 566,
    "start_time": "2022-04-07T16:45:18.995Z"
   },
   {
    "duration": 728,
    "start_time": "2022-04-07T16:45:19.563Z"
   },
   {
    "duration": 70,
    "start_time": "2022-04-07T16:45:20.293Z"
   },
   {
    "duration": 814,
    "start_time": "2022-04-07T16:45:20.365Z"
   },
   {
    "duration": 16,
    "start_time": "2022-04-07T16:45:21.182Z"
   },
   {
    "duration": 51,
    "start_time": "2022-04-07T16:45:21.200Z"
   },
   {
    "duration": 604,
    "start_time": "2022-04-07T16:45:21.254Z"
   },
   {
    "duration": 742,
    "start_time": "2022-04-07T16:45:21.861Z"
   },
   {
    "duration": 75,
    "start_time": "2022-04-07T16:45:22.606Z"
   },
   {
    "duration": 663,
    "start_time": "2022-04-07T16:45:22.683Z"
   },
   {
    "duration": 14,
    "start_time": "2022-04-07T16:45:23.348Z"
   },
   {
    "duration": 19,
    "start_time": "2022-04-07T16:45:23.365Z"
   },
   {
    "duration": 534,
    "start_time": "2022-04-07T16:45:23.386Z"
   },
   {
    "duration": 716,
    "start_time": "2022-04-07T16:45:23.922Z"
   },
   {
    "duration": 47,
    "start_time": "2022-04-07T16:45:24.642Z"
   },
   {
    "duration": 789,
    "start_time": "2022-04-07T16:45:24.691Z"
   },
   {
    "duration": 14,
    "start_time": "2022-04-07T16:45:25.482Z"
   },
   {
    "duration": 16,
    "start_time": "2022-04-07T16:45:25.498Z"
   },
   {
    "duration": 504,
    "start_time": "2022-04-07T16:45:25.516Z"
   },
   {
    "duration": 4,
    "start_time": "2022-04-07T16:45:26.023Z"
   },
   {
    "duration": 17,
    "start_time": "2022-04-07T16:45:26.042Z"
   },
   {
    "duration": 13,
    "start_time": "2022-04-07T16:45:26.062Z"
   },
   {
    "duration": 15,
    "start_time": "2022-04-07T16:45:26.077Z"
   },
   {
    "duration": 54,
    "start_time": "2022-04-07T16:45:26.097Z"
   },
   {
    "duration": 149,
    "start_time": "2022-04-07T16:51:46.031Z"
   },
   {
    "duration": 5,
    "start_time": "2022-04-07T16:52:23.538Z"
   },
   {
    "duration": 6,
    "start_time": "2022-04-07T16:53:04.839Z"
   },
   {
    "duration": 9,
    "start_time": "2022-04-07T16:53:18.545Z"
   },
   {
    "duration": 8,
    "start_time": "2022-04-07T16:53:36.146Z"
   },
   {
    "duration": 11,
    "start_time": "2022-04-07T17:39:10.733Z"
   },
   {
    "duration": 9,
    "start_time": "2022-04-07T17:52:02.803Z"
   },
   {
    "duration": 13,
    "start_time": "2022-04-07T17:52:14.264Z"
   },
   {
    "duration": 5,
    "start_time": "2022-04-07T17:52:24.385Z"
   },
   {
    "duration": 6,
    "start_time": "2022-04-07T17:52:54.745Z"
   },
   {
    "duration": 6,
    "start_time": "2022-04-07T17:53:08.826Z"
   },
   {
    "duration": 8,
    "start_time": "2022-04-07T17:53:18.799Z"
   },
   {
    "duration": 7,
    "start_time": "2022-04-07T17:53:53.338Z"
   },
   {
    "duration": 12,
    "start_time": "2022-04-07T17:54:24.396Z"
   },
   {
    "duration": 8,
    "start_time": "2022-04-07T17:54:54.774Z"
   },
   {
    "duration": 11,
    "start_time": "2022-04-07T17:56:36.062Z"
   },
   {
    "duration": 12,
    "start_time": "2022-04-07T17:56:54.281Z"
   },
   {
    "duration": 11,
    "start_time": "2022-04-07T17:57:04.500Z"
   },
   {
    "duration": 11,
    "start_time": "2022-04-07T17:57:50.824Z"
   },
   {
    "duration": 3102,
    "start_time": "2022-04-07T17:58:55.226Z"
   },
   {
    "duration": 13,
    "start_time": "2022-04-07T17:59:22.226Z"
   },
   {
    "duration": 62,
    "start_time": "2022-04-07T18:00:19.661Z"
   },
   {
    "duration": 16,
    "start_time": "2022-04-07T18:00:48.898Z"
   },
   {
    "duration": 59,
    "start_time": "2022-04-07T18:08:06.762Z"
   },
   {
    "duration": 19,
    "start_time": "2022-04-07T18:08:53.499Z"
   },
   {
    "duration": 205,
    "start_time": "2022-04-07T18:09:25.392Z"
   },
   {
    "duration": 26,
    "start_time": "2022-04-07T18:09:30.147Z"
   },
   {
    "duration": 8,
    "start_time": "2022-04-07T18:09:42.108Z"
   },
   {
    "duration": 1395,
    "start_time": "2022-04-11T14:54:55.812Z"
   },
   {
    "duration": 24,
    "start_time": "2022-04-11T14:54:57.209Z"
   },
   {
    "duration": 18,
    "start_time": "2022-04-11T14:54:57.235Z"
   },
   {
    "duration": 214,
    "start_time": "2022-04-11T14:54:57.255Z"
   },
   {
    "duration": 132,
    "start_time": "2022-04-11T14:54:57.471Z"
   },
   {
    "duration": 96,
    "start_time": "2022-04-11T14:54:57.605Z"
   },
   {
    "duration": 5,
    "start_time": "2022-04-11T14:54:57.703Z"
   },
   {
    "duration": 17,
    "start_time": "2022-04-11T14:54:57.710Z"
   },
   {
    "duration": 76,
    "start_time": "2022-04-11T14:54:57.728Z"
   },
   {
    "duration": 39,
    "start_time": "2022-04-11T14:54:57.807Z"
   },
   {
    "duration": 75,
    "start_time": "2022-04-11T14:54:57.848Z"
   },
   {
    "duration": 112,
    "start_time": "2022-04-11T14:54:57.924Z"
   },
   {
    "duration": 13,
    "start_time": "2022-04-11T14:54:58.038Z"
   },
   {
    "duration": 26,
    "start_time": "2022-04-11T14:54:58.052Z"
   },
   {
    "duration": 2239,
    "start_time": "2022-04-11T14:54:58.080Z"
   },
   {
    "duration": 12,
    "start_time": "2022-04-11T14:55:00.321Z"
   },
   {
    "duration": 11,
    "start_time": "2022-04-11T14:55:00.335Z"
   },
   {
    "duration": 36,
    "start_time": "2022-04-11T14:55:00.348Z"
   },
   {
    "duration": 476,
    "start_time": "2022-04-11T14:55:00.386Z"
   },
   {
    "duration": 453,
    "start_time": "2022-04-11T14:55:00.864Z"
   },
   {
    "duration": 33,
    "start_time": "2022-04-11T14:55:01.320Z"
   },
   {
    "duration": 463,
    "start_time": "2022-04-11T14:55:01.371Z"
   },
   {
    "duration": 11,
    "start_time": "2022-04-11T14:55:01.836Z"
   },
   {
    "duration": 32,
    "start_time": "2022-04-11T14:55:01.849Z"
   },
   {
    "duration": 505,
    "start_time": "2022-04-11T14:55:01.883Z"
   },
   {
    "duration": 715,
    "start_time": "2022-04-11T14:55:02.390Z"
   },
   {
    "duration": 34,
    "start_time": "2022-04-11T14:55:03.107Z"
   },
   {
    "duration": 518,
    "start_time": "2022-04-11T14:55:03.144Z"
   },
   {
    "duration": 17,
    "start_time": "2022-04-11T14:55:03.663Z"
   },
   {
    "duration": 14,
    "start_time": "2022-04-11T14:55:03.683Z"
   },
   {
    "duration": 325,
    "start_time": "2022-04-11T14:55:03.698Z"
   },
   {
    "duration": 452,
    "start_time": "2022-04-11T14:55:04.025Z"
   },
   {
    "duration": 31,
    "start_time": "2022-04-11T14:55:04.479Z"
   },
   {
    "duration": 527,
    "start_time": "2022-04-11T14:55:04.511Z"
   },
   {
    "duration": 10,
    "start_time": "2022-04-11T14:55:05.040Z"
   },
   {
    "duration": 29,
    "start_time": "2022-04-11T14:55:05.051Z"
   },
   {
    "duration": 331,
    "start_time": "2022-04-11T14:55:05.083Z"
   },
   {
    "duration": 3,
    "start_time": "2022-04-11T14:55:05.416Z"
   },
   {
    "duration": 13,
    "start_time": "2022-04-11T14:55:05.420Z"
   },
   {
    "duration": 9,
    "start_time": "2022-04-11T14:55:05.434Z"
   },
   {
    "duration": 30,
    "start_time": "2022-04-11T14:55:05.445Z"
   },
   {
    "duration": 11,
    "start_time": "2022-04-11T14:55:05.476Z"
   },
   {
    "duration": 53,
    "start_time": "2022-04-11T16:08:45.018Z"
   },
   {
    "duration": 20,
    "start_time": "2022-04-11T16:08:52.092Z"
   },
   {
    "duration": 4,
    "start_time": "2022-04-11T16:09:00.657Z"
   },
   {
    "duration": 4,
    "start_time": "2022-04-11T16:09:13.048Z"
   },
   {
    "duration": 6,
    "start_time": "2022-04-11T16:09:35.935Z"
   },
   {
    "duration": 2294,
    "start_time": "2022-04-11T16:09:52.787Z"
   },
   {
    "duration": 6,
    "start_time": "2022-04-11T16:10:08.822Z"
   },
   {
    "duration": 37,
    "start_time": "2022-04-11T16:10:23.241Z"
   },
   {
    "duration": 8,
    "start_time": "2022-04-11T16:13:42.190Z"
   },
   {
    "duration": 3,
    "start_time": "2022-04-11T16:13:52.916Z"
   },
   {
    "duration": 8,
    "start_time": "2022-04-11T16:13:54.944Z"
   },
   {
    "duration": 8,
    "start_time": "2022-04-11T16:14:41.298Z"
   },
   {
    "duration": 4,
    "start_time": "2022-04-11T16:14:41.531Z"
   },
   {
    "duration": 39,
    "start_time": "2022-04-11T16:21:30.994Z"
   },
   {
    "duration": 2612,
    "start_time": "2022-04-11T16:21:46.721Z"
   },
   {
    "duration": 9,
    "start_time": "2022-04-11T16:22:34.147Z"
   },
   {
    "duration": 10,
    "start_time": "2022-04-11T16:22:46.877Z"
   },
   {
    "duration": 10,
    "start_time": "2022-04-11T16:28:52.174Z"
   },
   {
    "duration": 23,
    "start_time": "2022-04-11T16:44:42.386Z"
   },
   {
    "duration": 18,
    "start_time": "2022-04-11T16:45:09.157Z"
   },
   {
    "duration": 11,
    "start_time": "2022-04-11T17:22:35.504Z"
   },
   {
    "duration": 146,
    "start_time": "2022-04-11T17:24:44.455Z"
   },
   {
    "duration": 8,
    "start_time": "2022-04-11T17:26:50.506Z"
   },
   {
    "duration": 9,
    "start_time": "2022-04-11T17:26:55.627Z"
   },
   {
    "duration": 13,
    "start_time": "2022-04-11T17:27:12.386Z"
   },
   {
    "duration": 13,
    "start_time": "2022-04-11T17:29:45.799Z"
   },
   {
    "duration": 23,
    "start_time": "2022-04-11T17:36:46.471Z"
   },
   {
    "duration": 41,
    "start_time": "2022-04-11T17:36:59.137Z"
   },
   {
    "duration": 16,
    "start_time": "2022-04-11T17:38:16.317Z"
   },
   {
    "duration": 181,
    "start_time": "2022-04-11T17:39:06.684Z"
   },
   {
    "duration": 116,
    "start_time": "2022-04-11T17:39:20.450Z"
   },
   {
    "duration": 16,
    "start_time": "2022-04-11T17:39:40.699Z"
   },
   {
    "duration": 115,
    "start_time": "2022-04-11T17:39:58.440Z"
   },
   {
    "duration": 18,
    "start_time": "2022-04-11T17:40:06.093Z"
   },
   {
    "duration": 333,
    "start_time": "2022-04-11T18:39:06.563Z"
   },
   {
    "duration": 120,
    "start_time": "2022-04-11T18:39:57.029Z"
   },
   {
    "duration": 112,
    "start_time": "2022-04-11T18:42:19.344Z"
   },
   {
    "duration": 226,
    "start_time": "2022-04-11T18:42:41.243Z"
   },
   {
    "duration": 232,
    "start_time": "2022-04-11T18:43:18.386Z"
   },
   {
    "duration": 384,
    "start_time": "2022-04-11T18:43:23.630Z"
   },
   {
    "duration": 257,
    "start_time": "2022-04-11T18:50:41.322Z"
   },
   {
    "duration": 227,
    "start_time": "2022-04-11T18:59:21.644Z"
   },
   {
    "duration": 239,
    "start_time": "2022-04-11T18:59:47.490Z"
   },
   {
    "duration": 235,
    "start_time": "2022-04-11T18:59:54.065Z"
   },
   {
    "duration": 262,
    "start_time": "2022-04-11T19:00:36.374Z"
   },
   {
    "duration": 250,
    "start_time": "2022-04-11T19:00:49.411Z"
   },
   {
    "duration": 245,
    "start_time": "2022-04-11T19:01:06.240Z"
   },
   {
    "duration": 382,
    "start_time": "2022-04-11T19:01:14.694Z"
   },
   {
    "duration": 134,
    "start_time": "2022-04-11T19:16:08.838Z"
   },
   {
    "duration": 1126,
    "start_time": "2022-04-11T19:18:57.808Z"
   },
   {
    "duration": 24,
    "start_time": "2022-04-11T19:18:58.936Z"
   },
   {
    "duration": 15,
    "start_time": "2022-04-11T19:18:58.962Z"
   },
   {
    "duration": 164,
    "start_time": "2022-04-11T19:18:58.979Z"
   },
   {
    "duration": 129,
    "start_time": "2022-04-11T19:18:59.145Z"
   },
   {
    "duration": 88,
    "start_time": "2022-04-11T19:18:59.276Z"
   },
   {
    "duration": 6,
    "start_time": "2022-04-11T19:18:59.366Z"
   },
   {
    "duration": 16,
    "start_time": "2022-04-11T19:18:59.374Z"
   },
   {
    "duration": 77,
    "start_time": "2022-04-11T19:18:59.391Z"
   },
   {
    "duration": 38,
    "start_time": "2022-04-11T19:18:59.470Z"
   },
   {
    "duration": 56,
    "start_time": "2022-04-11T19:18:59.523Z"
   },
   {
    "duration": 108,
    "start_time": "2022-04-11T19:18:59.581Z"
   },
   {
    "duration": 12,
    "start_time": "2022-04-11T19:18:59.691Z"
   },
   {
    "duration": 17,
    "start_time": "2022-04-11T19:18:59.706Z"
   },
   {
    "duration": 2072,
    "start_time": "2022-04-11T19:18:59.725Z"
   },
   {
    "duration": 12,
    "start_time": "2022-04-11T19:19:01.799Z"
   },
   {
    "duration": 12,
    "start_time": "2022-04-11T19:19:01.824Z"
   },
   {
    "duration": 4,
    "start_time": "2022-04-11T19:19:01.838Z"
   },
   {
    "duration": 22,
    "start_time": "2022-04-11T19:19:01.844Z"
   },
   {
    "duration": 14,
    "start_time": "2022-04-11T19:19:01.867Z"
   },
   {
    "duration": 13,
    "start_time": "2022-04-11T19:19:01.883Z"
   },
   {
    "duration": 11,
    "start_time": "2022-04-11T19:19:01.897Z"
   },
   {
    "duration": 318,
    "start_time": "2022-04-11T19:19:01.924Z"
   },
   {
    "duration": 412,
    "start_time": "2022-04-11T19:19:02.243Z"
   },
   {
    "duration": 28,
    "start_time": "2022-04-11T19:19:02.656Z"
   },
   {
    "duration": 430,
    "start_time": "2022-04-11T19:19:02.685Z"
   },
   {
    "duration": 12,
    "start_time": "2022-04-11T19:19:03.117Z"
   },
   {
    "duration": 9,
    "start_time": "2022-04-11T19:19:03.131Z"
   },
   {
    "duration": 328,
    "start_time": "2022-04-11T19:19:03.142Z"
   },
   {
    "duration": 397,
    "start_time": "2022-04-11T19:19:03.472Z"
   },
   {
    "duration": 30,
    "start_time": "2022-04-11T19:19:03.871Z"
   },
   {
    "duration": 371,
    "start_time": "2022-04-11T19:19:03.903Z"
   },
   {
    "duration": 9,
    "start_time": "2022-04-11T19:19:04.276Z"
   },
   {
    "duration": 9,
    "start_time": "2022-04-11T19:19:04.287Z"
   },
   {
    "duration": 300,
    "start_time": "2022-04-11T19:19:04.297Z"
   },
   {
    "duration": 392,
    "start_time": "2022-04-11T19:19:04.599Z"
   },
   {
    "duration": 40,
    "start_time": "2022-04-11T19:19:04.993Z"
   },
   {
    "duration": 462,
    "start_time": "2022-04-11T19:19:05.035Z"
   },
   {
    "duration": 10,
    "start_time": "2022-04-11T19:19:05.499Z"
   },
   {
    "duration": 21,
    "start_time": "2022-04-11T19:19:05.511Z"
   },
   {
    "duration": 271,
    "start_time": "2022-04-11T19:19:05.536Z"
   },
   {
    "duration": 254,
    "start_time": "2022-04-11T19:19:05.809Z"
   },
   {
    "duration": 3,
    "start_time": "2022-04-11T19:19:06.065Z"
   },
   {
    "duration": 11,
    "start_time": "2022-04-11T19:19:06.070Z"
   },
   {
    "duration": 9,
    "start_time": "2022-04-11T19:19:06.083Z"
   },
   {
    "duration": 33,
    "start_time": "2022-04-11T19:19:06.094Z"
   },
   {
    "duration": 9,
    "start_time": "2022-04-11T19:19:06.129Z"
   },
   {
    "duration": 9,
    "start_time": "2022-04-11T19:19:06.139Z"
   },
   {
    "duration": 8,
    "start_time": "2022-04-11T19:19:06.149Z"
   }
  ],
  "celltoolbar": "Raw Cell Format",
  "kernelspec": {
   "display_name": "Python 3",
   "language": "python",
   "name": "python3"
  },
  "language_info": {
   "codemirror_mode": {
    "name": "ipython",
    "version": 3
   },
   "file_extension": ".py",
   "mimetype": "text/x-python",
   "name": "python",
   "nbconvert_exporter": "python",
   "pygments_lexer": "ipython3",
   "version": "3.8.8"
  },
  "toc": {
   "base_numbering": 1,
   "nav_menu": {},
   "number_sections": true,
   "sideBar": true,
   "skip_h1_title": true,
   "title_cell": "Содержание",
   "title_sidebar": "Contents",
   "toc_cell": true,
   "toc_position": {
    "height": "calc(100% - 180px)",
    "left": "10px",
    "top": "150px",
    "width": "164.988px"
   },
   "toc_section_display": true,
   "toc_window_display": true
  }
 },
 "nbformat": 4,
 "nbformat_minor": 4
}
