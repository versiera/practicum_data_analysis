{
 "cells": [
  {
   "cell_type": "markdown",
   "id": "335793f4",
   "metadata": {},
   "source": [
    "# Исследование надежности заемщиков\n",
    "\n",
    "Заказчик — кредитный отдел банка. Нужно разобраться, влияет ли семейное положение и количество детей клиента на факт погашения кредита в срок. Входные данные от банка — статистика о платёжеспособности клиентов.\n",
    "\n",
    "Результаты исследования будут учтены при построении модели кредитного скоринга — специальной системы, которая оценивает способность потенциального заёмщика вернуть кредит банку."
   ]
  },
  {
   "cell_type": "markdown",
   "id": "6645061e",
   "metadata": {},
   "source": [
    "## Шаг 1. Обзор данных"
   ]
  },
  {
   "cell_type": "markdown",
   "id": "83f3fb26",
   "metadata": {},
   "source": [
    "Составим первое представление о данных. Для этого импортируем библиотеку `pandas`, прочитаем файл data.csv и выведем первые 10 строк:"
   ]
  },
  {
   "cell_type": "code",
   "execution_count": 1,
   "id": "551dfe41",
   "metadata": {
    "scrolled": true
   },
   "outputs": [
    {
     "data": {
      "text/html": [
       "<div>\n",
       "<style scoped>\n",
       "    .dataframe tbody tr th:only-of-type {\n",
       "        vertical-align: middle;\n",
       "    }\n",
       "\n",
       "    .dataframe tbody tr th {\n",
       "        vertical-align: top;\n",
       "    }\n",
       "\n",
       "    .dataframe thead th {\n",
       "        text-align: right;\n",
       "    }\n",
       "</style>\n",
       "<table border=\"1\" class=\"dataframe\">\n",
       "  <thead>\n",
       "    <tr style=\"text-align: right;\">\n",
       "      <th></th>\n",
       "      <th>children</th>\n",
       "      <th>days_employed</th>\n",
       "      <th>dob_years</th>\n",
       "      <th>education</th>\n",
       "      <th>education_id</th>\n",
       "      <th>family_status</th>\n",
       "      <th>family_status_id</th>\n",
       "      <th>gender</th>\n",
       "      <th>income_type</th>\n",
       "      <th>debt</th>\n",
       "      <th>total_income</th>\n",
       "      <th>purpose</th>\n",
       "    </tr>\n",
       "  </thead>\n",
       "  <tbody>\n",
       "    <tr>\n",
       "      <td>0</td>\n",
       "      <td>1</td>\n",
       "      <td>-8437.673028</td>\n",
       "      <td>42</td>\n",
       "      <td>высшее</td>\n",
       "      <td>0</td>\n",
       "      <td>женат / замужем</td>\n",
       "      <td>0</td>\n",
       "      <td>F</td>\n",
       "      <td>сотрудник</td>\n",
       "      <td>0</td>\n",
       "      <td>253875.639453</td>\n",
       "      <td>покупка жилья</td>\n",
       "    </tr>\n",
       "    <tr>\n",
       "      <td>1</td>\n",
       "      <td>1</td>\n",
       "      <td>-4024.803754</td>\n",
       "      <td>36</td>\n",
       "      <td>среднее</td>\n",
       "      <td>1</td>\n",
       "      <td>женат / замужем</td>\n",
       "      <td>0</td>\n",
       "      <td>F</td>\n",
       "      <td>сотрудник</td>\n",
       "      <td>0</td>\n",
       "      <td>112080.014102</td>\n",
       "      <td>приобретение автомобиля</td>\n",
       "    </tr>\n",
       "    <tr>\n",
       "      <td>2</td>\n",
       "      <td>0</td>\n",
       "      <td>-5623.422610</td>\n",
       "      <td>33</td>\n",
       "      <td>Среднее</td>\n",
       "      <td>1</td>\n",
       "      <td>женат / замужем</td>\n",
       "      <td>0</td>\n",
       "      <td>M</td>\n",
       "      <td>сотрудник</td>\n",
       "      <td>0</td>\n",
       "      <td>145885.952297</td>\n",
       "      <td>покупка жилья</td>\n",
       "    </tr>\n",
       "    <tr>\n",
       "      <td>3</td>\n",
       "      <td>3</td>\n",
       "      <td>-4124.747207</td>\n",
       "      <td>32</td>\n",
       "      <td>среднее</td>\n",
       "      <td>1</td>\n",
       "      <td>женат / замужем</td>\n",
       "      <td>0</td>\n",
       "      <td>M</td>\n",
       "      <td>сотрудник</td>\n",
       "      <td>0</td>\n",
       "      <td>267628.550329</td>\n",
       "      <td>дополнительное образование</td>\n",
       "    </tr>\n",
       "    <tr>\n",
       "      <td>4</td>\n",
       "      <td>0</td>\n",
       "      <td>340266.072047</td>\n",
       "      <td>53</td>\n",
       "      <td>среднее</td>\n",
       "      <td>1</td>\n",
       "      <td>гражданский брак</td>\n",
       "      <td>1</td>\n",
       "      <td>F</td>\n",
       "      <td>пенсионер</td>\n",
       "      <td>0</td>\n",
       "      <td>158616.077870</td>\n",
       "      <td>сыграть свадьбу</td>\n",
       "    </tr>\n",
       "    <tr>\n",
       "      <td>5</td>\n",
       "      <td>0</td>\n",
       "      <td>-926.185831</td>\n",
       "      <td>27</td>\n",
       "      <td>высшее</td>\n",
       "      <td>0</td>\n",
       "      <td>гражданский брак</td>\n",
       "      <td>1</td>\n",
       "      <td>M</td>\n",
       "      <td>компаньон</td>\n",
       "      <td>0</td>\n",
       "      <td>255763.565419</td>\n",
       "      <td>покупка жилья</td>\n",
       "    </tr>\n",
       "    <tr>\n",
       "      <td>6</td>\n",
       "      <td>0</td>\n",
       "      <td>-2879.202052</td>\n",
       "      <td>43</td>\n",
       "      <td>высшее</td>\n",
       "      <td>0</td>\n",
       "      <td>женат / замужем</td>\n",
       "      <td>0</td>\n",
       "      <td>F</td>\n",
       "      <td>компаньон</td>\n",
       "      <td>0</td>\n",
       "      <td>240525.971920</td>\n",
       "      <td>операции с жильем</td>\n",
       "    </tr>\n",
       "    <tr>\n",
       "      <td>7</td>\n",
       "      <td>0</td>\n",
       "      <td>-152.779569</td>\n",
       "      <td>50</td>\n",
       "      <td>СРЕДНЕЕ</td>\n",
       "      <td>1</td>\n",
       "      <td>женат / замужем</td>\n",
       "      <td>0</td>\n",
       "      <td>M</td>\n",
       "      <td>сотрудник</td>\n",
       "      <td>0</td>\n",
       "      <td>135823.934197</td>\n",
       "      <td>образование</td>\n",
       "    </tr>\n",
       "    <tr>\n",
       "      <td>8</td>\n",
       "      <td>2</td>\n",
       "      <td>-6929.865299</td>\n",
       "      <td>35</td>\n",
       "      <td>ВЫСШЕЕ</td>\n",
       "      <td>0</td>\n",
       "      <td>гражданский брак</td>\n",
       "      <td>1</td>\n",
       "      <td>F</td>\n",
       "      <td>сотрудник</td>\n",
       "      <td>0</td>\n",
       "      <td>95856.832424</td>\n",
       "      <td>на проведение свадьбы</td>\n",
       "    </tr>\n",
       "    <tr>\n",
       "      <td>9</td>\n",
       "      <td>0</td>\n",
       "      <td>-2188.756445</td>\n",
       "      <td>41</td>\n",
       "      <td>среднее</td>\n",
       "      <td>1</td>\n",
       "      <td>женат / замужем</td>\n",
       "      <td>0</td>\n",
       "      <td>M</td>\n",
       "      <td>сотрудник</td>\n",
       "      <td>0</td>\n",
       "      <td>144425.938277</td>\n",
       "      <td>покупка жилья для семьи</td>\n",
       "    </tr>\n",
       "  </tbody>\n",
       "</table>\n",
       "</div>"
      ],
      "text/plain": [
       "   children  days_employed  dob_years education  education_id  \\\n",
       "0         1   -8437.673028         42    высшее             0   \n",
       "1         1   -4024.803754         36   среднее             1   \n",
       "2         0   -5623.422610         33   Среднее             1   \n",
       "3         3   -4124.747207         32   среднее             1   \n",
       "4         0  340266.072047         53   среднее             1   \n",
       "5         0    -926.185831         27    высшее             0   \n",
       "6         0   -2879.202052         43    высшее             0   \n",
       "7         0    -152.779569         50   СРЕДНЕЕ             1   \n",
       "8         2   -6929.865299         35    ВЫСШЕЕ             0   \n",
       "9         0   -2188.756445         41   среднее             1   \n",
       "\n",
       "      family_status  family_status_id gender income_type  debt   total_income  \\\n",
       "0   женат / замужем                 0      F   сотрудник     0  253875.639453   \n",
       "1   женат / замужем                 0      F   сотрудник     0  112080.014102   \n",
       "2   женат / замужем                 0      M   сотрудник     0  145885.952297   \n",
       "3   женат / замужем                 0      M   сотрудник     0  267628.550329   \n",
       "4  гражданский брак                 1      F   пенсионер     0  158616.077870   \n",
       "5  гражданский брак                 1      M   компаньон     0  255763.565419   \n",
       "6   женат / замужем                 0      F   компаньон     0  240525.971920   \n",
       "7   женат / замужем                 0      M   сотрудник     0  135823.934197   \n",
       "8  гражданский брак                 1      F   сотрудник     0   95856.832424   \n",
       "9   женат / замужем                 0      M   сотрудник     0  144425.938277   \n",
       "\n",
       "                      purpose  \n",
       "0               покупка жилья  \n",
       "1     приобретение автомобиля  \n",
       "2               покупка жилья  \n",
       "3  дополнительное образование  \n",
       "4             сыграть свадьбу  \n",
       "5               покупка жилья  \n",
       "6           операции с жильем  \n",
       "7                 образование  \n",
       "8       на проведение свадьбы  \n",
       "9     покупка жилья для семьи  "
      ]
     },
     "execution_count": 1,
     "metadata": {},
     "output_type": "execute_result"
    }
   ],
   "source": [
    "import pandas as pd                      # импорт библиотеки pandas\n",
    "\n",
    "df = pd.read_csv('data.csv')   # чтение файла с данными и сохранение в df\n",
    "df.head(10)                              # вывод первых 10 строк датасета"
   ]
  },
  {
   "cell_type": "markdown",
   "id": "a87fe624",
   "metadata": {},
   "source": [
    "Получим общую информацию о таблице:"
   ]
  },
  {
   "cell_type": "code",
   "execution_count": 2,
   "id": "5d2c5451",
   "metadata": {
    "scrolled": false
   },
   "outputs": [
    {
     "name": "stdout",
     "output_type": "stream",
     "text": [
      "<class 'pandas.core.frame.DataFrame'>\n",
      "RangeIndex: 21525 entries, 0 to 21524\n",
      "Data columns (total 12 columns):\n",
      "children            21525 non-null int64\n",
      "days_employed       19351 non-null float64\n",
      "dob_years           21525 non-null int64\n",
      "education           21525 non-null object\n",
      "education_id        21525 non-null int64\n",
      "family_status       21525 non-null object\n",
      "family_status_id    21525 non-null int64\n",
      "gender              21525 non-null object\n",
      "income_type         21525 non-null object\n",
      "debt                21525 non-null int64\n",
      "total_income        19351 non-null float64\n",
      "purpose             21525 non-null object\n",
      "dtypes: float64(2), int64(5), object(5)\n",
      "memory usage: 2.0+ MB\n"
     ]
    }
   ],
   "source": [
    "df.info()"
   ]
  },
  {
   "cell_type": "code",
   "execution_count": 3,
   "id": "cd90dc80",
   "metadata": {
    "scrolled": true
   },
   "outputs": [
    {
     "data": {
      "text/html": [
       "<div>\n",
       "<style scoped>\n",
       "    .dataframe tbody tr th:only-of-type {\n",
       "        vertical-align: middle;\n",
       "    }\n",
       "\n",
       "    .dataframe tbody tr th {\n",
       "        vertical-align: top;\n",
       "    }\n",
       "\n",
       "    .dataframe thead th {\n",
       "        text-align: right;\n",
       "    }\n",
       "</style>\n",
       "<table border=\"1\" class=\"dataframe\">\n",
       "  <thead>\n",
       "    <tr style=\"text-align: right;\">\n",
       "      <th></th>\n",
       "      <th>children</th>\n",
       "      <th>days_employed</th>\n",
       "      <th>dob_years</th>\n",
       "      <th>education_id</th>\n",
       "      <th>family_status_id</th>\n",
       "      <th>debt</th>\n",
       "      <th>total_income</th>\n",
       "    </tr>\n",
       "  </thead>\n",
       "  <tbody>\n",
       "    <tr>\n",
       "      <td>count</td>\n",
       "      <td>21525.000000</td>\n",
       "      <td>19351.000000</td>\n",
       "      <td>21525.000000</td>\n",
       "      <td>21525.000000</td>\n",
       "      <td>21525.000000</td>\n",
       "      <td>21525.000000</td>\n",
       "      <td>1.935100e+04</td>\n",
       "    </tr>\n",
       "    <tr>\n",
       "      <td>mean</td>\n",
       "      <td>0.538908</td>\n",
       "      <td>63046.497661</td>\n",
       "      <td>43.293380</td>\n",
       "      <td>0.817236</td>\n",
       "      <td>0.972544</td>\n",
       "      <td>0.080883</td>\n",
       "      <td>1.674223e+05</td>\n",
       "    </tr>\n",
       "    <tr>\n",
       "      <td>std</td>\n",
       "      <td>1.381587</td>\n",
       "      <td>140827.311974</td>\n",
       "      <td>12.574584</td>\n",
       "      <td>0.548138</td>\n",
       "      <td>1.420324</td>\n",
       "      <td>0.272661</td>\n",
       "      <td>1.029716e+05</td>\n",
       "    </tr>\n",
       "    <tr>\n",
       "      <td>min</td>\n",
       "      <td>-1.000000</td>\n",
       "      <td>-18388.949901</td>\n",
       "      <td>0.000000</td>\n",
       "      <td>0.000000</td>\n",
       "      <td>0.000000</td>\n",
       "      <td>0.000000</td>\n",
       "      <td>2.066726e+04</td>\n",
       "    </tr>\n",
       "    <tr>\n",
       "      <td>25%</td>\n",
       "      <td>0.000000</td>\n",
       "      <td>-2747.423625</td>\n",
       "      <td>33.000000</td>\n",
       "      <td>1.000000</td>\n",
       "      <td>0.000000</td>\n",
       "      <td>0.000000</td>\n",
       "      <td>1.030532e+05</td>\n",
       "    </tr>\n",
       "    <tr>\n",
       "      <td>50%</td>\n",
       "      <td>0.000000</td>\n",
       "      <td>-1203.369529</td>\n",
       "      <td>42.000000</td>\n",
       "      <td>1.000000</td>\n",
       "      <td>0.000000</td>\n",
       "      <td>0.000000</td>\n",
       "      <td>1.450179e+05</td>\n",
       "    </tr>\n",
       "    <tr>\n",
       "      <td>75%</td>\n",
       "      <td>1.000000</td>\n",
       "      <td>-291.095954</td>\n",
       "      <td>53.000000</td>\n",
       "      <td>1.000000</td>\n",
       "      <td>1.000000</td>\n",
       "      <td>0.000000</td>\n",
       "      <td>2.034351e+05</td>\n",
       "    </tr>\n",
       "    <tr>\n",
       "      <td>max</td>\n",
       "      <td>20.000000</td>\n",
       "      <td>401755.400475</td>\n",
       "      <td>75.000000</td>\n",
       "      <td>4.000000</td>\n",
       "      <td>4.000000</td>\n",
       "      <td>1.000000</td>\n",
       "      <td>2.265604e+06</td>\n",
       "    </tr>\n",
       "  </tbody>\n",
       "</table>\n",
       "</div>"
      ],
      "text/plain": [
       "           children  days_employed     dob_years  education_id  \\\n",
       "count  21525.000000   19351.000000  21525.000000  21525.000000   \n",
       "mean       0.538908   63046.497661     43.293380      0.817236   \n",
       "std        1.381587  140827.311974     12.574584      0.548138   \n",
       "min       -1.000000  -18388.949901      0.000000      0.000000   \n",
       "25%        0.000000   -2747.423625     33.000000      1.000000   \n",
       "50%        0.000000   -1203.369529     42.000000      1.000000   \n",
       "75%        1.000000    -291.095954     53.000000      1.000000   \n",
       "max       20.000000  401755.400475     75.000000      4.000000   \n",
       "\n",
       "       family_status_id          debt  total_income  \n",
       "count      21525.000000  21525.000000  1.935100e+04  \n",
       "mean           0.972544      0.080883  1.674223e+05  \n",
       "std            1.420324      0.272661  1.029716e+05  \n",
       "min            0.000000      0.000000  2.066726e+04  \n",
       "25%            0.000000      0.000000  1.030532e+05  \n",
       "50%            0.000000      0.000000  1.450179e+05  \n",
       "75%            1.000000      0.000000  2.034351e+05  \n",
       "max            4.000000      1.000000  2.265604e+06  "
      ]
     },
     "execution_count": 3,
     "metadata": {},
     "output_type": "execute_result"
    }
   ],
   "source": [
    "df.describe()"
   ]
  },
  {
   "cell_type": "markdown",
   "id": "ebca7faf",
   "metadata": {},
   "source": [
    "В таблице 12 столбцов. Согласно документации к данным:\n",
    "\n",
    "* children — количество детей в семье\n",
    "* days_employed — общий трудовой стаж в днях\n",
    "* dob_years — возраст клиента в годах\n",
    "* education — уровень образования клиента\n",
    "* education_id — идентификатор уровня образования\n",
    "* family_status — семейное положение\n",
    "* family_status_id — идентификатор семейного положения\n",
    "* gender — пол клиента\n",
    "* income_type — тип занятости\n",
    "* debt — имел ли задолженность по возврату кредитов\n",
    "* total_income — ежемесячный доход\n",
    "* purpose — цель получения кредита\n",
    "\n",
    "Количество значений в столбцах различается. Значит в данных есть пропущенные значения. \n",
    "\n",
    "Также видны аномалии в данных:\n",
    "* в столбцах `children` и `days_employed` нехарактерные для них отрицательные значения, присутствуют выбросы (максимум сильно отличается от 3 квартиля);\n",
    "* в столбце `dob_years`, отражающем возраст клиента, значение минимума равно 0.\n",
    "\n"
   ]
  },
  {
   "cell_type": "markdown",
   "id": "561af10a",
   "metadata": {},
   "source": [
    "## Шаг 2.1 Проверка данных на аномалии и исправления."
   ]
  },
  {
   "cell_type": "markdown",
   "id": "a60ce1b7",
   "metadata": {},
   "source": [
    "### `income_type`"
   ]
  },
  {
   "cell_type": "markdown",
   "id": "965d0845",
   "metadata": {},
   "source": [
    "Выведем уникальные значения и их количество в столбце `income_type` (тип занятости):"
   ]
  },
  {
   "cell_type": "code",
   "execution_count": 4,
   "id": "aa682261",
   "metadata": {},
   "outputs": [
    {
     "data": {
      "text/plain": [
       "сотрудник          11119\n",
       "компаньон           5085\n",
       "пенсионер           3856\n",
       "госслужащий         1459\n",
       "безработный            2\n",
       "предприниматель        2\n",
       "студент                1\n",
       "в декрете              1\n",
       "Name: income_type, dtype: int64"
      ]
     },
     "execution_count": 4,
     "metadata": {},
     "output_type": "execute_result"
    }
   ],
   "source": [
    "df['income_type'].value_counts()"
   ]
  },
  {
   "cell_type": "markdown",
   "id": "3b06db46",
   "metadata": {},
   "source": [
    "Аномалий не выявлено."
   ]
  },
  {
   "cell_type": "markdown",
   "id": "26473063",
   "metadata": {},
   "source": [
    "### `days_employed`"
   ]
  },
  {
   "cell_type": "markdown",
   "id": "0f8ca087",
   "metadata": {},
   "source": [
    "При выводе первых строк датасета становятся очевидными аномалии в столбце `days_employed`: трудовой стаж выражен отрицательным количеством дней или приближается к тысячи лет.\n",
    "\n",
    "Можно предположить, что появление аномальных значений трудового стажа связано с типом дохода (`income_type`)."
   ]
  },
  {
   "cell_type": "markdown",
   "id": "5b414db7",
   "metadata": {},
   "source": [
    "Выведем типы дохода, для которых стаж отрицателен:"
   ]
  },
  {
   "cell_type": "code",
   "execution_count": 5,
   "id": "02aabcc9",
   "metadata": {},
   "outputs": [
    {
     "data": {
      "text/plain": [
       "сотрудник          10014\n",
       "компаньон           4577\n",
       "госслужащий         1312\n",
       "студент                1\n",
       "предприниматель        1\n",
       "в декрете              1\n",
       "Name: income_type, dtype: int64"
      ]
     },
     "execution_count": 5,
     "metadata": {},
     "output_type": "execute_result"
    }
   ],
   "source": [
    "df[df['days_employed'] < 0]['income_type'].value_counts()"
   ]
  },
  {
   "cell_type": "markdown",
   "id": "a82c1724",
   "metadata": {},
   "source": [
    "Равен 0:"
   ]
  },
  {
   "cell_type": "code",
   "execution_count": 6,
   "id": "3a72f150",
   "metadata": {},
   "outputs": [
    {
     "data": {
      "text/plain": [
       "Series([], Name: income_type, dtype: int64)"
      ]
     },
     "execution_count": 6,
     "metadata": {},
     "output_type": "execute_result"
    }
   ],
   "source": [
    "df[df['days_employed'] == 0]['income_type'].value_counts()"
   ]
  },
  {
   "cell_type": "markdown",
   "id": "716f27d4",
   "metadata": {},
   "source": [
    "Положителен:"
   ]
  },
  {
   "cell_type": "code",
   "execution_count": 7,
   "id": "50b4fcf2",
   "metadata": {},
   "outputs": [
    {
     "data": {
      "text/plain": [
       "пенсионер      3443\n",
       "безработный       2\n",
       "Name: income_type, dtype: int64"
      ]
     },
     "execution_count": 7,
     "metadata": {},
     "output_type": "execute_result"
    }
   ],
   "source": [
    "df[df['days_employed'] > 0]['income_type'].value_counts()"
   ]
  },
  {
   "cell_type": "markdown",
   "id": "f51c86c6",
   "metadata": {},
   "source": [
    "Причем минимумом среди положительных значений будет 328728 дня $\\approx$ 900 лет:"
   ]
  },
  {
   "cell_type": "code",
   "execution_count": 8,
   "id": "ed791c93",
   "metadata": {},
   "outputs": [
    {
     "data": {
      "text/plain": [
       "328728.72060451825"
      ]
     },
     "execution_count": 8,
     "metadata": {},
     "output_type": "execute_result"
    }
   ],
   "source": [
    "df[df['days_employed'] > 0]['days_employed'].min()"
   ]
  },
  {
   "cell_type": "markdown",
   "id": "af4617c3",
   "metadata": {},
   "source": [
    "Действительно, для пенсионеров и безработных стаж положителен и выражается в очень больших числах, для людей с другими типами дохода — отрицателен. Можно предположить, что для разных типов дохода данные были выгружены из разных источников, а соответственно и в разном формате (знак тире превратился в минус, а в положительных значениях неправильно проставлена запятая). Это и стало причиной аномалий."
   ]
  },
  {
   "cell_type": "markdown",
   "id": "985580d5",
   "metadata": {},
   "source": [
    "Каждое положительное значение стажа разделим на 100:"
   ]
  },
  {
   "cell_type": "code",
   "execution_count": 9,
   "id": "5e49fe39",
   "metadata": {},
   "outputs": [],
   "source": [
    "df.loc[df['days_employed'] > 0, 'days_employed'] = df.loc[df['days_employed'] > 0, 'days_employed'] / 100"
   ]
  },
  {
   "cell_type": "markdown",
   "id": "7c589d1d",
   "metadata": {},
   "source": [
    "Отрицательные значения заменим положительными:"
   ]
  },
  {
   "cell_type": "code",
   "execution_count": 10,
   "id": "3ba86e1b",
   "metadata": {},
   "outputs": [],
   "source": [
    "df['days_employed'] = df['days_employed'].abs()"
   ]
  },
  {
   "cell_type": "markdown",
   "id": "423b4600",
   "metadata": {},
   "source": [
    "Проверим результат. Выведем первые 10 строк `days_employed`:"
   ]
  },
  {
   "cell_type": "code",
   "execution_count": 11,
   "id": "52f9aa50",
   "metadata": {},
   "outputs": [
    {
     "data": {
      "text/plain": [
       "0    8437.673028\n",
       "1    4024.803754\n",
       "2    5623.422610\n",
       "3    4124.747207\n",
       "4    3402.660720\n",
       "5     926.185831\n",
       "6    2879.202052\n",
       "7     152.779569\n",
       "8    6929.865299\n",
       "9    2188.756445\n",
       "Name: days_employed, dtype: float64"
      ]
     },
     "execution_count": 11,
     "metadata": {},
     "output_type": "execute_result"
    }
   ],
   "source": [
    "df['days_employed'].head(10)"
   ]
  },
  {
   "cell_type": "markdown",
   "id": "ef372401",
   "metadata": {},
   "source": [
    "Аномальные значения исправлены."
   ]
  },
  {
   "cell_type": "markdown",
   "id": "57d13d94",
   "metadata": {},
   "source": [
    "### `children`"
   ]
  },
  {
   "cell_type": "markdown",
   "id": "d45d4fd2",
   "metadata": {},
   "source": [
    "Выведем уникальные значения и их количество в столбце `children` (количество детей в семье):"
   ]
  },
  {
   "cell_type": "code",
   "execution_count": 12,
   "id": "df5412eb",
   "metadata": {
    "scrolled": true
   },
   "outputs": [
    {
     "data": {
      "text/plain": [
       " 0     14149\n",
       " 1      4818\n",
       " 2      2055\n",
       " 3       330\n",
       " 20       76\n",
       "-1        47\n",
       " 4        41\n",
       " 5         9\n",
       "Name: children, dtype: int64"
      ]
     },
     "execution_count": 12,
     "metadata": {},
     "output_type": "execute_result"
    }
   ],
   "source": [
    "df['children'].value_counts()"
   ]
  },
  {
   "cell_type": "markdown",
   "id": "1825e409",
   "metadata": {},
   "source": [
    "Значение -1, вероятно, появилось в результате опечатки при вводе данных. Заменим его на 1:"
   ]
  },
  {
   "cell_type": "code",
   "execution_count": 13,
   "id": "7d7ccd9d",
   "metadata": {},
   "outputs": [],
   "source": [
    "df['children'] = df['children'].replace(-1, 1)"
   ]
  },
  {
   "cell_type": "markdown",
   "id": "891e73c9",
   "metadata": {},
   "source": [
    "Однозначно определить, какое значение должно быть на месте 20 невозможно, но количество его упоминаний меньше 1% от выборки (0.35%), поэтому удаление строк не сильно отразится на результатах исследования."
   ]
  },
  {
   "cell_type": "code",
   "execution_count": 14,
   "id": "622efb70",
   "metadata": {},
   "outputs": [],
   "source": [
    "df = df.loc[df['children'] != 20].reset_index(drop=True)"
   ]
  },
  {
   "cell_type": "markdown",
   "id": "94109ccd",
   "metadata": {},
   "source": [
    "Проверим результат:"
   ]
  },
  {
   "cell_type": "code",
   "execution_count": 15,
   "id": "a25435ee",
   "metadata": {
    "scrolled": true
   },
   "outputs": [
    {
     "data": {
      "text/plain": [
       "0    14149\n",
       "1     4865\n",
       "2     2055\n",
       "3      330\n",
       "4       41\n",
       "5        9\n",
       "Name: children, dtype: int64"
      ]
     },
     "execution_count": 15,
     "metadata": {},
     "output_type": "execute_result"
    }
   ],
   "source": [
    "df['children'].value_counts()"
   ]
  },
  {
   "cell_type": "markdown",
   "id": "6a91601f",
   "metadata": {},
   "source": [
    "Аномальные значения исправлены."
   ]
  },
  {
   "cell_type": "markdown",
   "id": "315e953d",
   "metadata": {},
   "source": [
    "### `dob_years`"
   ]
  },
  {
   "cell_type": "markdown",
   "id": "92ca4a15",
   "metadata": {},
   "source": [
    "Проверим минимальное и максимальное значения для возраста клиента:"
   ]
  },
  {
   "cell_type": "code",
   "execution_count": 16,
   "id": "50ddd34f",
   "metadata": {},
   "outputs": [
    {
     "name": "stdout",
     "output_type": "stream",
     "text": [
      "0\n",
      "75\n"
     ]
    }
   ],
   "source": [
    "print(df['dob_years'].min())\n",
    "print(df['dob_years'].max())"
   ]
  },
  {
   "cell_type": "markdown",
   "id": "ff30b9fb",
   "metadata": {},
   "source": [
    "Возраст клиента не может быть меньше 18 и тем более равен 0. Проверим, сколько всего таких значений в таблице:"
   ]
  },
  {
   "cell_type": "code",
   "execution_count": 17,
   "id": "54f2d3d3",
   "metadata": {},
   "outputs": [
    {
     "data": {
      "text/plain": [
       "100"
      ]
     },
     "execution_count": 17,
     "metadata": {},
     "output_type": "execute_result"
    }
   ],
   "source": [
    "df[df['dob_years'] < 18]['dob_years'].count()"
   ]
  },
  {
   "cell_type": "markdown",
   "id": "c7f952dd",
   "metadata": {},
   "source": [
    "Значения, которые меньше 18, в сумме с ранее удаленными строками составляют менее 1% от выборки, поэтому удаление строк не сильно отразится на результатах ислледования."
   ]
  },
  {
   "cell_type": "code",
   "execution_count": 18,
   "id": "d4ec0c45",
   "metadata": {},
   "outputs": [],
   "source": [
    "df = df.loc[df['dob_years'] >= 18].reset_index(drop=True)"
   ]
  },
  {
   "cell_type": "markdown",
   "id": "4b80e057",
   "metadata": {},
   "source": [
    "Проверим результат:"
   ]
  },
  {
   "cell_type": "code",
   "execution_count": 19,
   "id": "99d560ea",
   "metadata": {},
   "outputs": [
    {
     "data": {
      "text/plain": [
       "19"
      ]
     },
     "execution_count": 19,
     "metadata": {},
     "output_type": "execute_result"
    }
   ],
   "source": [
    "df['dob_years'].min()"
   ]
  },
  {
   "cell_type": "markdown",
   "id": "3c602d69",
   "metadata": {},
   "source": [
    "### `gender`"
   ]
  },
  {
   "cell_type": "markdown",
   "id": "e0c50df6",
   "metadata": {},
   "source": [
    "Проверим уникальные значения и их количество в столбце `gender`:"
   ]
  },
  {
   "cell_type": "code",
   "execution_count": 20,
   "id": "16eec3e3",
   "metadata": {
    "scrolled": true
   },
   "outputs": [
    {
     "data": {
      "text/plain": [
       "F      14118\n",
       "M       7230\n",
       "XNA        1\n",
       "Name: gender, dtype: int64"
      ]
     },
     "execution_count": 20,
     "metadata": {},
     "output_type": "execute_result"
    }
   ],
   "source": [
    "df['gender'].value_counts()"
   ]
  },
  {
   "cell_type": "markdown",
   "id": "7606a67e",
   "metadata": {},
   "source": [
    "Удалим строку со значением `XNA`:"
   ]
  },
  {
   "cell_type": "code",
   "execution_count": 21,
   "id": "60c83d07",
   "metadata": {},
   "outputs": [],
   "source": [
    "df = df[df['gender'] != 'XNA']"
   ]
  },
  {
   "cell_type": "markdown",
   "id": "80a940c9",
   "metadata": {},
   "source": [
    "Проверим результат:"
   ]
  },
  {
   "cell_type": "code",
   "execution_count": 22,
   "id": "56f4ad38",
   "metadata": {},
   "outputs": [
    {
     "data": {
      "text/plain": [
       "F    14118\n",
       "M     7230\n",
       "Name: gender, dtype: int64"
      ]
     },
     "execution_count": 22,
     "metadata": {},
     "output_type": "execute_result"
    }
   ],
   "source": [
    "df['gender'].value_counts()"
   ]
  },
  {
   "cell_type": "markdown",
   "id": "5752f59f",
   "metadata": {},
   "source": [
    "### `total_income`"
   ]
  },
  {
   "cell_type": "markdown",
   "id": "230643ab",
   "metadata": {},
   "source": [
    "Проверим, что в столбце нет отрицательных значений:"
   ]
  },
  {
   "cell_type": "code",
   "execution_count": 23,
   "id": "299c62f5",
   "metadata": {},
   "outputs": [
    {
     "data": {
      "text/plain": [
       "0"
      ]
     },
     "execution_count": 23,
     "metadata": {},
     "output_type": "execute_result"
    }
   ],
   "source": [
    "df[df['total_income'] < 0]['total_income'].count()"
   ]
  },
  {
   "cell_type": "markdown",
   "id": "43a2e81d",
   "metadata": {},
   "source": [
    "Аномалий не выявлено."
   ]
  },
  {
   "cell_type": "markdown",
   "id": "ab629dab",
   "metadata": {},
   "source": [
    "## Шаг 2.2 Заполнение пропусков"
   ]
  },
  {
   "cell_type": "markdown",
   "id": "d168819f",
   "metadata": {},
   "source": [
    "Посчитаем, сколько в таблице пропущенных значений:"
   ]
  },
  {
   "cell_type": "code",
   "execution_count": 24,
   "id": "236f519d",
   "metadata": {
    "scrolled": true
   },
   "outputs": [
    {
     "data": {
      "text/plain": [
       "children               0\n",
       "days_employed       2155\n",
       "dob_years              0\n",
       "education              0\n",
       "education_id           0\n",
       "family_status          0\n",
       "family_status_id       0\n",
       "gender                 0\n",
       "income_type            0\n",
       "debt                   0\n",
       "total_income        2155\n",
       "purpose                0\n",
       "dtype: int64"
      ]
     },
     "execution_count": 24,
     "metadata": {},
     "output_type": "execute_result"
    }
   ],
   "source": [
    "df.isna().sum()"
   ]
  },
  {
   "cell_type": "markdown",
   "id": "7a09fc3e",
   "metadata": {},
   "source": [
    "Посчитаем, сколько из них пропущены одновременно в `days_employed` и `total_income`."
   ]
  },
  {
   "cell_type": "code",
   "execution_count": 25,
   "id": "e5058fec",
   "metadata": {},
   "outputs": [
    {
     "data": {
      "text/plain": [
       "2155"
      ]
     },
     "execution_count": 25,
     "metadata": {},
     "output_type": "execute_result"
    }
   ],
   "source": [
    "df[df['days_employed'].isna() & df['total_income'].isna()].shape[0]"
   ]
  },
  {
   "cell_type": "markdown",
   "id": "72850a9b",
   "metadata": {},
   "source": [
    "Число пропущенных значений в `days_employed` и `total_income` равно, причем они появляются в двух столбцах одновременно. Это значит, что пропуски нельзя отнести к абсолютно случайным и причина их появления совпадает.\n",
    "\n",
    "Проверим, какую долю составляют пропущенные значения от всех:"
   ]
  },
  {
   "cell_type": "code",
   "execution_count": 26,
   "id": "eef9bc1a",
   "metadata": {},
   "outputs": [
    {
     "data": {
      "text/plain": [
       "'11%'"
      ]
     },
     "execution_count": 26,
     "metadata": {},
     "output_type": "execute_result"
    }
   ],
   "source": [
    "f\"{(df.isna().sum()['days_employed'] / df['days_employed'].count()):.0%}\""
   ]
  },
  {
   "cell_type": "markdown",
   "id": "e039bc88",
   "metadata": {},
   "source": [
    "Такое количество пропусков может повлиять на результат исследования. Заменим пропущенные значения в зависимости от типа данных.\n",
    "\n",
    "Столбцы `days_employed` и `total_income` содержат информацию о трудовом стаже и ежемесячном доходе. Тип данных — количественный, причем в данных могут быть выдающиеся значения. Следовательно, для заполнения пропусков используем характерные значения, а именно — медиану. Для повышения точности заполнения пропущенных данных учтем тот факт, что медианный ежемесячный доход будет различаться для разных типов занятости.\n",
    "\n",
    "Таким образом, задача принимает следующий вид:\n",
    "\n",
    "1. Каждое пропущенное значение в столбце `days_employed` заменить на медианное по столбцу.\n",
    "1. Каждое пропущенное значение в столбце `total_income` заменить на медианное для типа занятости (`income_type`) в строке с этим значением."
   ]
  },
  {
   "cell_type": "code",
   "execution_count": 27,
   "id": "766d8ca6",
   "metadata": {},
   "outputs": [],
   "source": [
    "# медианный трудовой стаж по столбцу\n",
    "days_employed_median = df['days_employed'].median()\n",
    "\n",
    "# медианный доход для каждого типа занятости\n",
    "grouped_by_income_median = df.groupby('income_type')['total_income'].median()\n",
    "\n",
    "# функция, которая принимает на вход строку датасета и меняет:\n",
    "# трудовой стаж на медианный по столбцу\n",
    "# ежемесячный доход на медианный для этого типа занятости\n",
    "# и возвращает преобразованную строку\n",
    "def fillna_by_median(row):\n",
    "    row['days_employed'] = days_employed_median\n",
    "    row['total_income'] = grouped_by_income_median[row['income_type']]    \n",
    "    return row\n",
    "\n",
    "# вызов функции для строк датасета с пропусками в days_employed\n",
    "df[df['days_employed'].isna()] = df[df['days_employed'].isna()].apply(fillna_by_median, axis=1)"
   ]
  },
  {
   "cell_type": "markdown",
   "id": "b78699b8",
   "metadata": {},
   "source": [
    "Убедимся, что не осталось пропусков:"
   ]
  },
  {
   "cell_type": "code",
   "execution_count": 28,
   "id": "13daedee",
   "metadata": {},
   "outputs": [
    {
     "data": {
      "text/plain": [
       "children            0\n",
       "days_employed       0\n",
       "dob_years           0\n",
       "education           0\n",
       "education_id        0\n",
       "family_status       0\n",
       "family_status_id    0\n",
       "gender              0\n",
       "income_type         0\n",
       "debt                0\n",
       "total_income        0\n",
       "purpose             0\n",
       "dtype: int64"
      ]
     },
     "execution_count": 28,
     "metadata": {},
     "output_type": "execute_result"
    }
   ],
   "source": [
    "df.isna().sum()"
   ]
  },
  {
   "cell_type": "markdown",
   "id": "a5dc8fbf",
   "metadata": {},
   "source": [
    "## Шаг 2.3. Изменение типов данных."
   ]
  },
  {
   "cell_type": "markdown",
   "id": "8c9aa7be",
   "metadata": {},
   "source": [
    "Заменим вещественный тип данных в столбце `total_income` на целочисленный:"
   ]
  },
  {
   "cell_type": "code",
   "execution_count": 29,
   "id": "dc84e799",
   "metadata": {},
   "outputs": [],
   "source": [
    "df['total_income'] = df['total_income'].astype('int')"
   ]
  },
  {
   "cell_type": "markdown",
   "id": "ff1a6ee3",
   "metadata": {},
   "source": [
    "Проверим результат:"
   ]
  },
  {
   "cell_type": "code",
   "execution_count": 30,
   "id": "67d73982",
   "metadata": {},
   "outputs": [
    {
     "data": {
      "text/plain": [
       "dtype('int64')"
      ]
     },
     "execution_count": 30,
     "metadata": {},
     "output_type": "execute_result"
    }
   ],
   "source": [
    "df['total_income'].dtype"
   ]
  },
  {
   "cell_type": "markdown",
   "id": "7a1db9c0",
   "metadata": {},
   "source": [
    "## Шаг 2.4. Удаление дубликатов."
   ]
  },
  {
   "cell_type": "markdown",
   "id": "72bb4730",
   "metadata": {},
   "source": [
    "Посчитаем явные дубликаты в таблице:"
   ]
  },
  {
   "cell_type": "code",
   "execution_count": 31,
   "id": "392c930f",
   "metadata": {},
   "outputs": [
    {
     "data": {
      "text/plain": [
       "54"
      ]
     },
     "execution_count": 31,
     "metadata": {},
     "output_type": "execute_result"
    }
   ],
   "source": [
    "df.duplicated().sum()"
   ]
  },
  {
   "cell_type": "markdown",
   "id": "0be3bf6c",
   "metadata": {},
   "source": [
    "Удалим явные дубликаты с удалением старых индексов и формированием новых:"
   ]
  },
  {
   "cell_type": "code",
   "execution_count": 32,
   "id": "f21a4a82",
   "metadata": {},
   "outputs": [],
   "source": [
    "df = df.drop_duplicates().reset_index(drop=True)"
   ]
  },
  {
   "cell_type": "markdown",
   "id": "016c2552",
   "metadata": {},
   "source": [
    "Проверим результат:"
   ]
  },
  {
   "cell_type": "code",
   "execution_count": 33,
   "id": "ea1af18a",
   "metadata": {},
   "outputs": [
    {
     "data": {
      "text/plain": [
       "0"
      ]
     },
     "execution_count": 33,
     "metadata": {},
     "output_type": "execute_result"
    }
   ],
   "source": [
    "df.duplicated().sum()"
   ]
  },
  {
   "cell_type": "markdown",
   "id": "98337acd",
   "metadata": {},
   "source": [
    "Удалим неявные дубликаты в столбце `education`. \n",
    "\n",
    "Для начала выведем список уникальных значений:"
   ]
  },
  {
   "cell_type": "code",
   "execution_count": 34,
   "id": "46427bd9",
   "metadata": {},
   "outputs": [
    {
     "data": {
      "text/plain": [
       "array(['высшее', 'среднее', 'Среднее', 'СРЕДНЕЕ', 'ВЫСШЕЕ',\n",
       "       'неоконченное высшее', 'начальное', 'Высшее',\n",
       "       'НЕОКОНЧЕННОЕ ВЫСШЕЕ', 'Неоконченное высшее', 'НАЧАЛЬНОЕ',\n",
       "       'Начальное', 'Ученая степень', 'УЧЕНАЯ СТЕПЕНЬ', 'ученая степень'],\n",
       "      dtype=object)"
      ]
     },
     "execution_count": 34,
     "metadata": {},
     "output_type": "execute_result"
    }
   ],
   "source": [
    "df['education'].unique()"
   ]
  },
  {
   "cell_type": "markdown",
   "id": "57702c7a",
   "metadata": {},
   "source": [
    "Чтобы избавиться от дубликатов, приведем все значения в столбце к нижнему регистру:"
   ]
  },
  {
   "cell_type": "code",
   "execution_count": 35,
   "id": "a7e9f841",
   "metadata": {},
   "outputs": [],
   "source": [
    "df['education'] = df['education'].str.lower()"
   ]
  },
  {
   "cell_type": "markdown",
   "id": "207de0bb",
   "metadata": {},
   "source": [
    "Проверим результат:"
   ]
  },
  {
   "cell_type": "code",
   "execution_count": 36,
   "id": "92d614f4",
   "metadata": {},
   "outputs": [
    {
     "data": {
      "text/plain": [
       "array(['высшее', 'среднее', 'неоконченное высшее', 'начальное',\n",
       "       'ученая степень'], dtype=object)"
      ]
     },
     "execution_count": 36,
     "metadata": {},
     "output_type": "execute_result"
    }
   ],
   "source": [
    "df['education'].unique()"
   ]
  },
  {
   "cell_type": "markdown",
   "id": "b891dabd",
   "metadata": {},
   "source": [
    "Проверим, есть ли неявные дубликаты в столбце `family_status`:"
   ]
  },
  {
   "cell_type": "code",
   "execution_count": 37,
   "id": "58aecfbd",
   "metadata": {},
   "outputs": [
    {
     "data": {
      "text/plain": [
       "array(['женат / замужем', 'гражданский брак', 'вдовец / вдова',\n",
       "       'в разводе', 'Не женат / не замужем'], dtype=object)"
      ]
     },
     "execution_count": 37,
     "metadata": {},
     "output_type": "execute_result"
    }
   ],
   "source": [
    "df['family_status'].unique()"
   ]
  },
  {
   "cell_type": "markdown",
   "id": "7bee8409",
   "metadata": {},
   "source": [
    "Дубликатов нет."
   ]
  },
  {
   "cell_type": "markdown",
   "id": "16a2e885",
   "metadata": {},
   "source": [
    "## Шаг 2.5. Формирование дополнительных датафреймов-словарей, декомпозиция исходного датафрейма."
   ]
  },
  {
   "cell_type": "markdown",
   "id": "d08c28e1",
   "metadata": {},
   "source": [
    "Чтобы было удобнее обращаться к данным об образовании и семейном положении клиента (по id), создадим словари по столбцам `education` и `family_status`.\n",
    "\n",
    "Создание словаря с видами образования:"
   ]
  },
  {
   "cell_type": "code",
   "execution_count": 38,
   "id": "4158befc",
   "metadata": {},
   "outputs": [
    {
     "data": {
      "text/html": [
       "<div>\n",
       "<style scoped>\n",
       "    .dataframe tbody tr th:only-of-type {\n",
       "        vertical-align: middle;\n",
       "    }\n",
       "\n",
       "    .dataframe tbody tr th {\n",
       "        vertical-align: top;\n",
       "    }\n",
       "\n",
       "    .dataframe thead th {\n",
       "        text-align: right;\n",
       "    }\n",
       "</style>\n",
       "<table border=\"1\" class=\"dataframe\">\n",
       "  <thead>\n",
       "    <tr style=\"text-align: right;\">\n",
       "      <th></th>\n",
       "      <th>education_id</th>\n",
       "      <th>education</th>\n",
       "    </tr>\n",
       "  </thead>\n",
       "  <tbody>\n",
       "    <tr>\n",
       "      <td>0</td>\n",
       "      <td>0</td>\n",
       "      <td>высшее</td>\n",
       "    </tr>\n",
       "    <tr>\n",
       "      <td>1</td>\n",
       "      <td>1</td>\n",
       "      <td>среднее</td>\n",
       "    </tr>\n",
       "    <tr>\n",
       "      <td>2</td>\n",
       "      <td>2</td>\n",
       "      <td>неоконченное высшее</td>\n",
       "    </tr>\n",
       "    <tr>\n",
       "      <td>3</td>\n",
       "      <td>3</td>\n",
       "      <td>начальное</td>\n",
       "    </tr>\n",
       "    <tr>\n",
       "      <td>4</td>\n",
       "      <td>4</td>\n",
       "      <td>ученая степень</td>\n",
       "    </tr>\n",
       "  </tbody>\n",
       "</table>\n",
       "</div>"
      ],
      "text/plain": [
       "   education_id            education\n",
       "0             0               высшее\n",
       "1             1              среднее\n",
       "2             2  неоконченное высшее\n",
       "3             3            начальное\n",
       "4             4       ученая степень"
      ]
     },
     "execution_count": 38,
     "metadata": {},
     "output_type": "execute_result"
    }
   ],
   "source": [
    "education_dict = df[['education_id', 'education']]                       # создание словаря с соответствием 'education_id' и 'education'\n",
    "education_dict = education_dict.drop_duplicates().reset_index(drop=True) # удаление дубликатов и формирование новых индексов\n",
    "education_dict                                                           # вывод словаря"
   ]
  },
  {
   "cell_type": "markdown",
   "id": "ce2eba7b",
   "metadata": {},
   "source": [
    "Создание словаря по семейному положению:"
   ]
  },
  {
   "cell_type": "code",
   "execution_count": 39,
   "id": "990b9784",
   "metadata": {},
   "outputs": [
    {
     "data": {
      "text/html": [
       "<div>\n",
       "<style scoped>\n",
       "    .dataframe tbody tr th:only-of-type {\n",
       "        vertical-align: middle;\n",
       "    }\n",
       "\n",
       "    .dataframe tbody tr th {\n",
       "        vertical-align: top;\n",
       "    }\n",
       "\n",
       "    .dataframe thead th {\n",
       "        text-align: right;\n",
       "    }\n",
       "</style>\n",
       "<table border=\"1\" class=\"dataframe\">\n",
       "  <thead>\n",
       "    <tr style=\"text-align: right;\">\n",
       "      <th></th>\n",
       "      <th>family_status_id</th>\n",
       "      <th>family_status</th>\n",
       "    </tr>\n",
       "  </thead>\n",
       "  <tbody>\n",
       "    <tr>\n",
       "      <td>0</td>\n",
       "      <td>0</td>\n",
       "      <td>женат / замужем</td>\n",
       "    </tr>\n",
       "    <tr>\n",
       "      <td>1</td>\n",
       "      <td>1</td>\n",
       "      <td>гражданский брак</td>\n",
       "    </tr>\n",
       "    <tr>\n",
       "      <td>2</td>\n",
       "      <td>2</td>\n",
       "      <td>вдовец / вдова</td>\n",
       "    </tr>\n",
       "    <tr>\n",
       "      <td>3</td>\n",
       "      <td>3</td>\n",
       "      <td>в разводе</td>\n",
       "    </tr>\n",
       "    <tr>\n",
       "      <td>4</td>\n",
       "      <td>4</td>\n",
       "      <td>Не женат / не замужем</td>\n",
       "    </tr>\n",
       "  </tbody>\n",
       "</table>\n",
       "</div>"
      ],
      "text/plain": [
       "   family_status_id          family_status\n",
       "0                 0        женат / замужем\n",
       "1                 1       гражданский брак\n",
       "2                 2         вдовец / вдова\n",
       "3                 3              в разводе\n",
       "4                 4  Не женат / не замужем"
      ]
     },
     "execution_count": 39,
     "metadata": {},
     "output_type": "execute_result"
    }
   ],
   "source": [
    "family_status_dict = df[['family_status_id', 'family_status']]                   # создание словаря с соответствием 'family_status_id' и 'family_status'\n",
    "family_status_dict = family_status_dict.drop_duplicates().reset_index(drop=True) # удаление дубликатов и формирование новых индексов\n",
    "family_status_dict                                                               # вывод словаря"
   ]
  },
  {
   "cell_type": "markdown",
   "id": "eee4cb1c",
   "metadata": {},
   "source": [
    "Удалим столбцы `education` и `family_status` из исходного датафрейма, оставив только столбцы с id:"
   ]
  },
  {
   "cell_type": "code",
   "execution_count": 40,
   "id": "934cf108",
   "metadata": {},
   "outputs": [
    {
     "data": {
      "text/html": [
       "<div>\n",
       "<style scoped>\n",
       "    .dataframe tbody tr th:only-of-type {\n",
       "        vertical-align: middle;\n",
       "    }\n",
       "\n",
       "    .dataframe tbody tr th {\n",
       "        vertical-align: top;\n",
       "    }\n",
       "\n",
       "    .dataframe thead th {\n",
       "        text-align: right;\n",
       "    }\n",
       "</style>\n",
       "<table border=\"1\" class=\"dataframe\">\n",
       "  <thead>\n",
       "    <tr style=\"text-align: right;\">\n",
       "      <th></th>\n",
       "      <th>children</th>\n",
       "      <th>days_employed</th>\n",
       "      <th>dob_years</th>\n",
       "      <th>education_id</th>\n",
       "      <th>family_status_id</th>\n",
       "      <th>gender</th>\n",
       "      <th>income_type</th>\n",
       "      <th>debt</th>\n",
       "      <th>total_income</th>\n",
       "      <th>purpose</th>\n",
       "    </tr>\n",
       "  </thead>\n",
       "  <tbody>\n",
       "    <tr>\n",
       "      <td>0</td>\n",
       "      <td>1</td>\n",
       "      <td>8437.673028</td>\n",
       "      <td>42</td>\n",
       "      <td>0</td>\n",
       "      <td>0</td>\n",
       "      <td>F</td>\n",
       "      <td>сотрудник</td>\n",
       "      <td>0</td>\n",
       "      <td>253875</td>\n",
       "      <td>покупка жилья</td>\n",
       "    </tr>\n",
       "    <tr>\n",
       "      <td>1</td>\n",
       "      <td>1</td>\n",
       "      <td>4024.803754</td>\n",
       "      <td>36</td>\n",
       "      <td>1</td>\n",
       "      <td>0</td>\n",
       "      <td>F</td>\n",
       "      <td>сотрудник</td>\n",
       "      <td>0</td>\n",
       "      <td>112080</td>\n",
       "      <td>приобретение автомобиля</td>\n",
       "    </tr>\n",
       "    <tr>\n",
       "      <td>2</td>\n",
       "      <td>0</td>\n",
       "      <td>5623.422610</td>\n",
       "      <td>33</td>\n",
       "      <td>1</td>\n",
       "      <td>0</td>\n",
       "      <td>M</td>\n",
       "      <td>сотрудник</td>\n",
       "      <td>0</td>\n",
       "      <td>145885</td>\n",
       "      <td>покупка жилья</td>\n",
       "    </tr>\n",
       "    <tr>\n",
       "      <td>3</td>\n",
       "      <td>3</td>\n",
       "      <td>4124.747207</td>\n",
       "      <td>32</td>\n",
       "      <td>1</td>\n",
       "      <td>0</td>\n",
       "      <td>M</td>\n",
       "      <td>сотрудник</td>\n",
       "      <td>0</td>\n",
       "      <td>267628</td>\n",
       "      <td>дополнительное образование</td>\n",
       "    </tr>\n",
       "    <tr>\n",
       "      <td>4</td>\n",
       "      <td>0</td>\n",
       "      <td>3402.660720</td>\n",
       "      <td>53</td>\n",
       "      <td>1</td>\n",
       "      <td>1</td>\n",
       "      <td>F</td>\n",
       "      <td>пенсионер</td>\n",
       "      <td>0</td>\n",
       "      <td>158616</td>\n",
       "      <td>сыграть свадьбу</td>\n",
       "    </tr>\n",
       "  </tbody>\n",
       "</table>\n",
       "</div>"
      ],
      "text/plain": [
       "   children  days_employed  dob_years  education_id  family_status_id gender  \\\n",
       "0         1    8437.673028         42             0                 0      F   \n",
       "1         1    4024.803754         36             1                 0      F   \n",
       "2         0    5623.422610         33             1                 0      M   \n",
       "3         3    4124.747207         32             1                 0      M   \n",
       "4         0    3402.660720         53             1                 1      F   \n",
       "\n",
       "  income_type  debt  total_income                     purpose  \n",
       "0   сотрудник     0        253875               покупка жилья  \n",
       "1   сотрудник     0        112080     приобретение автомобиля  \n",
       "2   сотрудник     0        145885               покупка жилья  \n",
       "3   сотрудник     0        267628  дополнительное образование  \n",
       "4   пенсионер     0        158616             сыграть свадьбу  "
      ]
     },
     "execution_count": 40,
     "metadata": {},
     "output_type": "execute_result"
    }
   ],
   "source": [
    "df = df.drop(columns=['education', 'family_status']) # удаление столбцов\n",
    "df.head()                                            # вывод первых 5 строк датафрейма"
   ]
  },
  {
   "cell_type": "markdown",
   "id": "431275c7",
   "metadata": {},
   "source": [
    "## Шаг 2.6. Категоризация дохода."
   ]
  },
  {
   "cell_type": "markdown",
   "id": "f0059345",
   "metadata": {},
   "source": [
    "Объединим данные о доходе клиентов в категории со следующими диапазонами:\n",
    "\n",
    "* 0–30000 — 'E';\n",
    "* 30001–50000 — 'D';\n",
    "* 50001–200000 — 'C';\n",
    "* 200001–1000000 — 'B';\n",
    "* 1000001 и выше — 'A'.\n",
    "\n",
    "Значение категории сохраним в отдельном столбце `total_income_category`."
   ]
  },
  {
   "cell_type": "code",
   "execution_count": 41,
   "id": "7686d214",
   "metadata": {},
   "outputs": [
    {
     "data": {
      "text/html": [
       "<div>\n",
       "<style scoped>\n",
       "    .dataframe tbody tr th:only-of-type {\n",
       "        vertical-align: middle;\n",
       "    }\n",
       "\n",
       "    .dataframe tbody tr th {\n",
       "        vertical-align: top;\n",
       "    }\n",
       "\n",
       "    .dataframe thead th {\n",
       "        text-align: right;\n",
       "    }\n",
       "</style>\n",
       "<table border=\"1\" class=\"dataframe\">\n",
       "  <thead>\n",
       "    <tr style=\"text-align: right;\">\n",
       "      <th></th>\n",
       "      <th>children</th>\n",
       "      <th>days_employed</th>\n",
       "      <th>dob_years</th>\n",
       "      <th>education_id</th>\n",
       "      <th>family_status_id</th>\n",
       "      <th>gender</th>\n",
       "      <th>income_type</th>\n",
       "      <th>debt</th>\n",
       "      <th>total_income</th>\n",
       "      <th>purpose</th>\n",
       "      <th>total_income_category</th>\n",
       "    </tr>\n",
       "  </thead>\n",
       "  <tbody>\n",
       "    <tr>\n",
       "      <td>0</td>\n",
       "      <td>1</td>\n",
       "      <td>8437.673028</td>\n",
       "      <td>42</td>\n",
       "      <td>0</td>\n",
       "      <td>0</td>\n",
       "      <td>F</td>\n",
       "      <td>сотрудник</td>\n",
       "      <td>0</td>\n",
       "      <td>253875</td>\n",
       "      <td>покупка жилья</td>\n",
       "      <td>B</td>\n",
       "    </tr>\n",
       "    <tr>\n",
       "      <td>1</td>\n",
       "      <td>1</td>\n",
       "      <td>4024.803754</td>\n",
       "      <td>36</td>\n",
       "      <td>1</td>\n",
       "      <td>0</td>\n",
       "      <td>F</td>\n",
       "      <td>сотрудник</td>\n",
       "      <td>0</td>\n",
       "      <td>112080</td>\n",
       "      <td>приобретение автомобиля</td>\n",
       "      <td>C</td>\n",
       "    </tr>\n",
       "    <tr>\n",
       "      <td>2</td>\n",
       "      <td>0</td>\n",
       "      <td>5623.422610</td>\n",
       "      <td>33</td>\n",
       "      <td>1</td>\n",
       "      <td>0</td>\n",
       "      <td>M</td>\n",
       "      <td>сотрудник</td>\n",
       "      <td>0</td>\n",
       "      <td>145885</td>\n",
       "      <td>покупка жилья</td>\n",
       "      <td>C</td>\n",
       "    </tr>\n",
       "    <tr>\n",
       "      <td>3</td>\n",
       "      <td>3</td>\n",
       "      <td>4124.747207</td>\n",
       "      <td>32</td>\n",
       "      <td>1</td>\n",
       "      <td>0</td>\n",
       "      <td>M</td>\n",
       "      <td>сотрудник</td>\n",
       "      <td>0</td>\n",
       "      <td>267628</td>\n",
       "      <td>дополнительное образование</td>\n",
       "      <td>B</td>\n",
       "    </tr>\n",
       "    <tr>\n",
       "      <td>4</td>\n",
       "      <td>0</td>\n",
       "      <td>3402.660720</td>\n",
       "      <td>53</td>\n",
       "      <td>1</td>\n",
       "      <td>1</td>\n",
       "      <td>F</td>\n",
       "      <td>пенсионер</td>\n",
       "      <td>0</td>\n",
       "      <td>158616</td>\n",
       "      <td>сыграть свадьбу</td>\n",
       "      <td>C</td>\n",
       "    </tr>\n",
       "  </tbody>\n",
       "</table>\n",
       "</div>"
      ],
      "text/plain": [
       "   children  days_employed  dob_years  education_id  family_status_id gender  \\\n",
       "0         1    8437.673028         42             0                 0      F   \n",
       "1         1    4024.803754         36             1                 0      F   \n",
       "2         0    5623.422610         33             1                 0      M   \n",
       "3         3    4124.747207         32             1                 0      M   \n",
       "4         0    3402.660720         53             1                 1      F   \n",
       "\n",
       "  income_type  debt  total_income                     purpose  \\\n",
       "0   сотрудник     0        253875               покупка жилья   \n",
       "1   сотрудник     0        112080     приобретение автомобиля   \n",
       "2   сотрудник     0        145885               покупка жилья   \n",
       "3   сотрудник     0        267628  дополнительное образование   \n",
       "4   пенсионер     0        158616             сыграть свадьбу   \n",
       "\n",
       "  total_income_category  \n",
       "0                     B  \n",
       "1                     C  \n",
       "2                     C  \n",
       "3                     B  \n",
       "4                     C  "
      ]
     },
     "execution_count": 41,
     "metadata": {},
     "output_type": "execute_result"
    }
   ],
   "source": [
    "# функция, которая возвращает значение категории \n",
    "# в зависимости от диапазона, в который входит доход\n",
    "\n",
    "def categorize_income(income):\n",
    "    if income <= 30000:\n",
    "        return 'E'\n",
    "    if income <= 50000:\n",
    "        return 'D'\n",
    "    if income <= 200000:\n",
    "        return 'C'\n",
    "    if income <= 1000000:\n",
    "        return 'B'\n",
    "    return 'A'\n",
    "\n",
    "# формирование столбца total_income_category вызовом функции к столбцу total_income\n",
    "df['total_income_category'] = df['total_income'].apply(categorize_income)\n",
    "# вывод первых 5 строк датасета\n",
    "df.head()"
   ]
  },
  {
   "cell_type": "markdown",
   "id": "25f6944f",
   "metadata": {},
   "source": [
    "## Шаг 2.7. Категоризация целей кредита."
   ]
  },
  {
   "cell_type": "markdown",
   "id": "7b4acd39",
   "metadata": {},
   "source": [
    "Определим категории, в которые могут объединены цели кредита. Для этого найдем все леммы в уникальных значениях столбца `purpose` и выделим те из них, которые по смыслу выражают цель кредита."
   ]
  },
  {
   "cell_type": "code",
   "execution_count": 42,
   "id": "0a33b764",
   "metadata": {},
   "outputs": [
    {
     "data": {
      "text/plain": [
       "['покупка',\n",
       " ' ',\n",
       " 'жилье',\n",
       " '\\n',\n",
       " 'приобретение',\n",
       " 'автомобиль',\n",
       " 'дополнительный',\n",
       " 'образование',\n",
       " 'сыграть',\n",
       " 'свадьба',\n",
       " 'операция',\n",
       " 'с',\n",
       " 'на',\n",
       " 'проведение',\n",
       " 'для',\n",
       " 'семья',\n",
       " 'недвижимость',\n",
       " 'коммерческий',\n",
       " 'жилой',\n",
       " 'строительство',\n",
       " 'собственный',\n",
       " 'подержать',\n",
       " 'свой',\n",
       " 'со',\n",
       " 'заниматься',\n",
       " 'сделка',\n",
       " 'подержанный',\n",
       " 'получение',\n",
       " 'высокий',\n",
       " 'профильный',\n",
       " 'сдача',\n",
       " 'ремонт']"
      ]
     },
     "execution_count": 42,
     "metadata": {},
     "output_type": "execute_result"
    }
   ],
   "source": [
    "# импорт модуля из библиотеки для лемматизации\n",
    "from pymystem3 import Mystem                 \n",
    "m = Mystem()\n",
    "\n",
    "#обявление списка для хранения лемм\n",
    "all_lemmas = []\n",
    "\n",
    "# лемматизация уникальных значений столбца purpose\n",
    "# и добавление каждой леммы к общему списку,\n",
    "# если ее еще там нет\n",
    "for phrase in df['purpose'].unique():\n",
    "    lemmatized_phrase = m.lemmatize(phrase)\n",
    "    for lemma in lemmatized_phrase:\n",
    "        if lemma not in all_lemmas:\n",
    "            all_lemmas.append(lemma)\n",
    "\n",
    "# вывод списка лемм\n",
    "all_lemmas"
   ]
  },
  {
   "cell_type": "markdown",
   "id": "7834176c",
   "metadata": {},
   "source": [
    "Среди полученных лемм можно выделить: 'автомобиль', 'жилье', 'недвижимость', 'свадьба', 'образование'.\n",
    "\n",
    "Что образует следующие категории целей: \n",
    "\n",
    "* 'операции с автомобилем';\n",
    "* 'операции с недвижимостью';\n",
    "* 'проведение свадьбы';\n",
    "* 'получение образования'.\n",
    "\n",
    "Напишем функцию, которая для каждого значения в столбце `purpose` выделит леммы и по ним определит, к какой категории отнести столбец."
   ]
  },
  {
   "cell_type": "code",
   "execution_count": 43,
   "id": "366a257e",
   "metadata": {},
   "outputs": [],
   "source": [
    "# функция, которая принимает на вход строку,\n",
    "# лемматизирует ее, проверяет наличие ключевых слов среди лемм\n",
    "# и возвращает соответствующую категорию цели\n",
    "def replace_lemmas(phrase):\n",
    "    lemmatized_phrase = m.lemmatize(phrase)\n",
    "    if 'автомобиль' in lemmatized_phrase:\n",
    "        return 'операции с автомобилем'    \n",
    "    if 'жилье' in lemmatized_phrase or 'недвижимость' in lemmatized_phrase:\n",
    "        return 'операции с недвижимостью'\n",
    "    if 'свадьба' in lemmatized_phrase:\n",
    "        return 'проведение свадьбы'\n",
    "    if 'образование' in lemmatized_phrase:\n",
    "        return 'получение образования'\n",
    "    return phrase\n",
    "\n",
    "# формирование столбца purpose_category вызовом функции к столбцу purpose\n",
    "df['purpose_category'] = df['purpose'].apply(replace_lemmas)"
   ]
  },
  {
   "cell_type": "markdown",
   "id": "7cc96e18",
   "metadata": {},
   "source": [
    "Проверим, для всех ли значений определена категория (или какие-то значения остались неизменными, потому что в них не были найдены заданные леммы):"
   ]
  },
  {
   "cell_type": "code",
   "execution_count": 44,
   "id": "b6b6a68c",
   "metadata": {},
   "outputs": [
    {
     "data": {
      "text/plain": [
       "array(['операции с недвижимостью', 'операции с автомобилем',\n",
       "       'получение образования', 'проведение свадьбы'], dtype=object)"
      ]
     },
     "execution_count": 44,
     "metadata": {},
     "output_type": "execute_result"
    }
   ],
   "source": [
    "df['purpose_category'].unique()"
   ]
  },
  {
   "cell_type": "markdown",
   "id": "568c7c11",
   "metadata": {},
   "source": [
    "Все значения категоризованы."
   ]
  },
  {
   "cell_type": "markdown",
   "id": "c399bc91",
   "metadata": {},
   "source": [
    "## Ответы на вопросы."
   ]
  },
  {
   "cell_type": "markdown",
   "id": "8f041ecb",
   "metadata": {},
   "source": [
    "### Вопрос 1:"
   ]
  },
  {
   "cell_type": "markdown",
   "id": "d63401c4",
   "metadata": {},
   "source": [
    "Есть ли зависимость между количеством детей и возвратом кредита в срок?"
   ]
  },
  {
   "cell_type": "markdown",
   "id": "328bd48b",
   "metadata": {},
   "source": [
    "Построим сводную таблицу с группировкой по количеству детей и столбцами:\n",
    "\n",
    "* `0` - число клиентов, не имевших задолженности по кредиту.\n",
    "* `1` - число клиентов, имевших задолженности.\n",
    "* `sum` - общее число клиентов.\n",
    "* `ratio` - доля клиентов, имевших задолженности, среди всех клиентов."
   ]
  },
  {
   "cell_type": "code",
   "execution_count": 45,
   "id": "4ed6aae2",
   "metadata": {
    "scrolled": true
   },
   "outputs": [
    {
     "data": {
      "text/html": [
       "<div>\n",
       "<style scoped>\n",
       "    .dataframe tbody tr th:only-of-type {\n",
       "        vertical-align: middle;\n",
       "    }\n",
       "\n",
       "    .dataframe tbody tr th {\n",
       "        vertical-align: top;\n",
       "    }\n",
       "\n",
       "    .dataframe thead th {\n",
       "        text-align: right;\n",
       "    }\n",
       "</style>\n",
       "<table border=\"1\" class=\"dataframe\">\n",
       "  <thead>\n",
       "    <tr style=\"text-align: right;\">\n",
       "      <th>debt</th>\n",
       "      <th>0</th>\n",
       "      <th>1</th>\n",
       "      <th>sum</th>\n",
       "      <th>ratio</th>\n",
       "    </tr>\n",
       "    <tr>\n",
       "      <th>children</th>\n",
       "      <th></th>\n",
       "      <th></th>\n",
       "      <th></th>\n",
       "      <th></th>\n",
       "    </tr>\n",
       "  </thead>\n",
       "  <tbody>\n",
       "    <tr>\n",
       "      <td>0</td>\n",
       "      <td>12979.0</td>\n",
       "      <td>1058.0</td>\n",
       "      <td>14037.0</td>\n",
       "      <td>0.075372</td>\n",
       "    </tr>\n",
       "    <tr>\n",
       "      <td>1</td>\n",
       "      <td>4398.0</td>\n",
       "      <td>442.0</td>\n",
       "      <td>4840.0</td>\n",
       "      <td>0.091322</td>\n",
       "    </tr>\n",
       "    <tr>\n",
       "      <td>2</td>\n",
       "      <td>1845.0</td>\n",
       "      <td>194.0</td>\n",
       "      <td>2039.0</td>\n",
       "      <td>0.095145</td>\n",
       "    </tr>\n",
       "    <tr>\n",
       "      <td>3</td>\n",
       "      <td>301.0</td>\n",
       "      <td>27.0</td>\n",
       "      <td>328.0</td>\n",
       "      <td>0.082317</td>\n",
       "    </tr>\n",
       "    <tr>\n",
       "      <td>4</td>\n",
       "      <td>37.0</td>\n",
       "      <td>4.0</td>\n",
       "      <td>41.0</td>\n",
       "      <td>0.097561</td>\n",
       "    </tr>\n",
       "    <tr>\n",
       "      <td>5</td>\n",
       "      <td>9.0</td>\n",
       "      <td>NaN</td>\n",
       "      <td>NaN</td>\n",
       "      <td>NaN</td>\n",
       "    </tr>\n",
       "  </tbody>\n",
       "</table>\n",
       "</div>"
      ],
      "text/plain": [
       "debt            0       1      sum     ratio\n",
       "children                                    \n",
       "0         12979.0  1058.0  14037.0  0.075372\n",
       "1          4398.0   442.0   4840.0  0.091322\n",
       "2          1845.0   194.0   2039.0  0.095145\n",
       "3           301.0    27.0    328.0  0.082317\n",
       "4            37.0     4.0     41.0  0.097561\n",
       "5             9.0     NaN      NaN       NaN"
      ]
     },
     "execution_count": 45,
     "metadata": {},
     "output_type": "execute_result"
    }
   ],
   "source": [
    "# функция, которая принимает на вход строку и\n",
    "# по значениям в столбцах '1' и '0'\n",
    "# высчитывает sum и ratio\n",
    "\n",
    "def find_sum_ratio(row):\n",
    "    row['sum'] = row[0] + row[1]\n",
    "    row['ratio'] = row[1] / row['sum']\n",
    "    return row\n",
    "\n",
    "# построение сводной таблицы\n",
    "children_pivot = df.pivot_table(index='children', columns='debt',values='purpose', aggfunc='count')\n",
    "# вызов функции find_sum_ratio для датафрейма\n",
    "children_pivot = children_pivot.apply(find_sum_ratio, axis=1)\n",
    "\n",
    "children_pivot"
   ]
  },
  {
   "cell_type": "markdown",
   "id": "c0e14bfd",
   "metadata": {},
   "source": [
    "Нельзя утверждать, что доля должников растет с увеличением числа детей, так как среди клиентов с 5 детьми вообще нет должников, с 3 — должников меньше чем с 1 или 2. На результат влияет количество клиентов с 4-5 детьми. Выборка слишком маленькая, чтобы делать выводы.\n",
    "\n",
    "Однако можно выдвинуть гипотезу, что возврат кредита в срок зависит не от количества детей, а от их наличия. Построим аналогичную сводную таблицу с группировкой по наличию детей:"
   ]
  },
  {
   "cell_type": "code",
   "execution_count": 46,
   "id": "43a3167e",
   "metadata": {},
   "outputs": [
    {
     "data": {
      "text/html": [
       "<div>\n",
       "<style scoped>\n",
       "    .dataframe tbody tr th:only-of-type {\n",
       "        vertical-align: middle;\n",
       "    }\n",
       "\n",
       "    .dataframe tbody tr th {\n",
       "        vertical-align: top;\n",
       "    }\n",
       "\n",
       "    .dataframe thead th {\n",
       "        text-align: right;\n",
       "    }\n",
       "</style>\n",
       "<table border=\"1\" class=\"dataframe\">\n",
       "  <thead>\n",
       "    <tr style=\"text-align: right;\">\n",
       "      <th>debt</th>\n",
       "      <th>0</th>\n",
       "      <th>1</th>\n",
       "      <th>sum</th>\n",
       "      <th>ratio</th>\n",
       "    </tr>\n",
       "    <tr>\n",
       "      <th>with_children</th>\n",
       "      <th></th>\n",
       "      <th></th>\n",
       "      <th></th>\n",
       "      <th></th>\n",
       "    </tr>\n",
       "  </thead>\n",
       "  <tbody>\n",
       "    <tr>\n",
       "      <td>0</td>\n",
       "      <td>12979.0</td>\n",
       "      <td>1058.0</td>\n",
       "      <td>14037.0</td>\n",
       "      <td>0.075372</td>\n",
       "    </tr>\n",
       "    <tr>\n",
       "      <td>1</td>\n",
       "      <td>6590.0</td>\n",
       "      <td>667.0</td>\n",
       "      <td>7257.0</td>\n",
       "      <td>0.091911</td>\n",
       "    </tr>\n",
       "  </tbody>\n",
       "</table>\n",
       "</div>"
      ],
      "text/plain": [
       "debt                 0       1      sum     ratio\n",
       "with_children                                    \n",
       "0              12979.0  1058.0  14037.0  0.075372\n",
       "1               6590.0   667.0   7257.0  0.091911"
      ]
     },
     "execution_count": 46,
     "metadata": {},
     "output_type": "execute_result"
    }
   ],
   "source": [
    "# формирование столбца, который принимает значение\n",
    "# 1, если дети есть\n",
    "# 0, если детей нет\n",
    "df['with_children'] = df['children'].apply(lambda x: 1 if x > 0 else 0)\n",
    "\n",
    "# построение сводной таблицы\n",
    "with_children_pivot = df.pivot_table(index='with_children', columns='debt',values='purpose', aggfunc='count')\n",
    "# вызов функции find_sum_ratio для датафрейма\n",
    "with_children_pivot = with_children_pivot.apply(find_sum_ratio, axis=1)\n",
    "\n",
    "with_children_pivot"
   ]
  },
  {
   "cell_type": "markdown",
   "id": "94e76805",
   "metadata": {},
   "source": [
    "### Вывод 1:"
   ]
  },
  {
   "cell_type": "markdown",
   "id": "b10770ee",
   "metadata": {},
   "source": [
    "Зависимость между количеством детей и возвратом кредита в срок не наблюдается. \n",
    "\n",
    "Однако доля должников среди клиентов с детьми больше, чем доля должников среди клиентов без детей."
   ]
  },
  {
   "cell_type": "markdown",
   "id": "cda8ee15",
   "metadata": {},
   "source": [
    "### Вопрос 2:"
   ]
  },
  {
   "cell_type": "markdown",
   "id": "b1f93a49",
   "metadata": {},
   "source": [
    "Есть ли зависимость между семейным положением и возвратом кредита в срок?\n",
    "\n",
    "Построим сводную таблицу с группировкой по семейному положению и столбцами, аналогичными предыдущему заданию:"
   ]
  },
  {
   "cell_type": "code",
   "execution_count": 47,
   "id": "97a80d52",
   "metadata": {
    "scrolled": true
   },
   "outputs": [
    {
     "data": {
      "text/html": [
       "<div>\n",
       "<style scoped>\n",
       "    .dataframe tbody tr th:only-of-type {\n",
       "        vertical-align: middle;\n",
       "    }\n",
       "\n",
       "    .dataframe tbody tr th {\n",
       "        vertical-align: top;\n",
       "    }\n",
       "\n",
       "    .dataframe thead th {\n",
       "        text-align: right;\n",
       "    }\n",
       "</style>\n",
       "<table border=\"1\" class=\"dataframe\">\n",
       "  <thead>\n",
       "    <tr style=\"text-align: right;\">\n",
       "      <th></th>\n",
       "      <th></th>\n",
       "      <th>0</th>\n",
       "      <th>1</th>\n",
       "      <th>sum</th>\n",
       "      <th>ratio</th>\n",
       "    </tr>\n",
       "    <tr>\n",
       "      <th>family_status_id</th>\n",
       "      <th>family_status</th>\n",
       "      <th></th>\n",
       "      <th></th>\n",
       "      <th></th>\n",
       "      <th></th>\n",
       "    </tr>\n",
       "  </thead>\n",
       "  <tbody>\n",
       "    <tr>\n",
       "      <td>0</td>\n",
       "      <td>женат / замужем</td>\n",
       "      <td>11323.0</td>\n",
       "      <td>924.0</td>\n",
       "      <td>12247.0</td>\n",
       "      <td>0.075447</td>\n",
       "    </tr>\n",
       "    <tr>\n",
       "      <td>1</td>\n",
       "      <td>гражданский брак</td>\n",
       "      <td>3746.0</td>\n",
       "      <td>383.0</td>\n",
       "      <td>4129.0</td>\n",
       "      <td>0.092759</td>\n",
       "    </tr>\n",
       "    <tr>\n",
       "      <td>2</td>\n",
       "      <td>вдовец / вдова</td>\n",
       "      <td>888.0</td>\n",
       "      <td>62.0</td>\n",
       "      <td>950.0</td>\n",
       "      <td>0.065263</td>\n",
       "    </tr>\n",
       "    <tr>\n",
       "      <td>3</td>\n",
       "      <td>в разводе</td>\n",
       "      <td>1099.0</td>\n",
       "      <td>84.0</td>\n",
       "      <td>1183.0</td>\n",
       "      <td>0.071006</td>\n",
       "    </tr>\n",
       "    <tr>\n",
       "      <td>4</td>\n",
       "      <td>Не женат / не замужем</td>\n",
       "      <td>2513.0</td>\n",
       "      <td>272.0</td>\n",
       "      <td>2785.0</td>\n",
       "      <td>0.097666</td>\n",
       "    </tr>\n",
       "  </tbody>\n",
       "</table>\n",
       "</div>"
      ],
      "text/plain": [
       "                                              0      1      sum     ratio\n",
       "family_status_id family_status                                           \n",
       "0                женат / замужем        11323.0  924.0  12247.0  0.075447\n",
       "1                гражданский брак        3746.0  383.0   4129.0  0.092759\n",
       "2                вдовец / вдова           888.0   62.0    950.0  0.065263\n",
       "3                в разводе               1099.0   84.0   1183.0  0.071006\n",
       "4                Не женат / не замужем   2513.0  272.0   2785.0  0.097666"
      ]
     },
     "execution_count": 47,
     "metadata": {},
     "output_type": "execute_result"
    }
   ],
   "source": [
    "# построение сводной таблицы\n",
    "family_pivot = df.pivot_table(index='family_status_id', columns='debt',values='purpose', aggfunc='count')\n",
    "family_pivot = family_pivot.merge(family_status_dict, on='family_status_id').set_index(['family_status_id', 'family_status'])\n",
    "\n",
    "# вызов функции find_sum_ratio для датафрейма\n",
    "family_pivot = family_pivot.apply(find_sum_ratio, axis=1)\n",
    "family_pivot"
   ]
  },
  {
   "cell_type": "markdown",
   "id": "835e16f2",
   "metadata": {},
   "source": [
    "### Вывод 2:"
   ]
  },
  {
   "cell_type": "markdown",
   "id": "93739de1",
   "metadata": {},
   "source": [
    "Меньшая доля должников приходится на тех, кто состоит или состоял в официально зарегистрированном браке (категории \"женат/замужем\", \"вдовец/вдова\", \"в разводе\"). Клиенты, не состоящие в браке или состоящие в гражданском браке, имеют задолженности чаще."
   ]
  },
  {
   "cell_type": "markdown",
   "id": "80fc0c52",
   "metadata": {},
   "source": [
    "### Вопрос 3:"
   ]
  },
  {
   "cell_type": "markdown",
   "id": "b227339e",
   "metadata": {},
   "source": [
    "Есть ли зависимость между уровнем дохода и возвратом кредита в срок?"
   ]
  },
  {
   "cell_type": "markdown",
   "id": "609a729d",
   "metadata": {},
   "source": [
    "Построим сводную таблицу с группировкой по ежемесячному доходу и столбцами, аналогичными предыдущему заданию:"
   ]
  },
  {
   "cell_type": "code",
   "execution_count": 48,
   "id": "c980ec3f",
   "metadata": {
    "scrolled": true
   },
   "outputs": [
    {
     "data": {
      "text/html": [
       "<div>\n",
       "<style scoped>\n",
       "    .dataframe tbody tr th:only-of-type {\n",
       "        vertical-align: middle;\n",
       "    }\n",
       "\n",
       "    .dataframe tbody tr th {\n",
       "        vertical-align: top;\n",
       "    }\n",
       "\n",
       "    .dataframe thead th {\n",
       "        text-align: right;\n",
       "    }\n",
       "</style>\n",
       "<table border=\"1\" class=\"dataframe\">\n",
       "  <thead>\n",
       "    <tr style=\"text-align: right;\">\n",
       "      <th>debt</th>\n",
       "      <th>0</th>\n",
       "      <th>1</th>\n",
       "      <th>sum</th>\n",
       "      <th>ratio</th>\n",
       "    </tr>\n",
       "    <tr>\n",
       "      <th>total_income_category</th>\n",
       "      <th></th>\n",
       "      <th></th>\n",
       "      <th></th>\n",
       "      <th></th>\n",
       "    </tr>\n",
       "  </thead>\n",
       "  <tbody>\n",
       "    <tr>\n",
       "      <td>A</td>\n",
       "      <td>23.0</td>\n",
       "      <td>2.0</td>\n",
       "      <td>25.0</td>\n",
       "      <td>0.080000</td>\n",
       "    </tr>\n",
       "    <tr>\n",
       "      <td>B</td>\n",
       "      <td>4642.0</td>\n",
       "      <td>353.0</td>\n",
       "      <td>4995.0</td>\n",
       "      <td>0.070671</td>\n",
       "    </tr>\n",
       "    <tr>\n",
       "      <td>C</td>\n",
       "      <td>14557.0</td>\n",
       "      <td>1347.0</td>\n",
       "      <td>15904.0</td>\n",
       "      <td>0.084696</td>\n",
       "    </tr>\n",
       "    <tr>\n",
       "      <td>D</td>\n",
       "      <td>327.0</td>\n",
       "      <td>21.0</td>\n",
       "      <td>348.0</td>\n",
       "      <td>0.060345</td>\n",
       "    </tr>\n",
       "    <tr>\n",
       "      <td>E</td>\n",
       "      <td>20.0</td>\n",
       "      <td>2.0</td>\n",
       "      <td>22.0</td>\n",
       "      <td>0.090909</td>\n",
       "    </tr>\n",
       "  </tbody>\n",
       "</table>\n",
       "</div>"
      ],
      "text/plain": [
       "debt                         0       1      sum     ratio\n",
       "total_income_category                                    \n",
       "A                         23.0     2.0     25.0  0.080000\n",
       "B                       4642.0   353.0   4995.0  0.070671\n",
       "C                      14557.0  1347.0  15904.0  0.084696\n",
       "D                        327.0    21.0    348.0  0.060345\n",
       "E                         20.0     2.0     22.0  0.090909"
      ]
     },
     "execution_count": 48,
     "metadata": {},
     "output_type": "execute_result"
    }
   ],
   "source": [
    "# построение сводной таблицы\n",
    "income_pivot = df.pivot_table(index='total_income_category', columns='debt',values='purpose', aggfunc='count')\n",
    "\n",
    "# вызов функции find_sum_ratio для датафрейма\n",
    "income_pivot = income_pivot.apply(find_sum_ratio, axis=1)\n",
    "\n",
    "income_pivot"
   ]
  },
  {
   "cell_type": "markdown",
   "id": "272bb50f",
   "metadata": {},
   "source": [
    "Отсортируем категории по доле должников:"
   ]
  },
  {
   "cell_type": "code",
   "execution_count": 52,
   "id": "ebe9e0d6",
   "metadata": {},
   "outputs": [
    {
     "data": {
      "text/html": [
       "<div>\n",
       "<style scoped>\n",
       "    .dataframe tbody tr th:only-of-type {\n",
       "        vertical-align: middle;\n",
       "    }\n",
       "\n",
       "    .dataframe tbody tr th {\n",
       "        vertical-align: top;\n",
       "    }\n",
       "\n",
       "    .dataframe thead th {\n",
       "        text-align: right;\n",
       "    }\n",
       "</style>\n",
       "<table border=\"1\" class=\"dataframe\">\n",
       "  <thead>\n",
       "    <tr style=\"text-align: right;\">\n",
       "      <th>debt</th>\n",
       "      <th>0</th>\n",
       "      <th>1</th>\n",
       "      <th>sum</th>\n",
       "      <th>ratio</th>\n",
       "    </tr>\n",
       "    <tr>\n",
       "      <th>total_income_category</th>\n",
       "      <th></th>\n",
       "      <th></th>\n",
       "      <th></th>\n",
       "      <th></th>\n",
       "    </tr>\n",
       "  </thead>\n",
       "  <tbody>\n",
       "    <tr>\n",
       "      <td>E</td>\n",
       "      <td>20.0</td>\n",
       "      <td>2.0</td>\n",
       "      <td>22.0</td>\n",
       "      <td>0.090909</td>\n",
       "    </tr>\n",
       "    <tr>\n",
       "      <td>C</td>\n",
       "      <td>14557.0</td>\n",
       "      <td>1347.0</td>\n",
       "      <td>15904.0</td>\n",
       "      <td>0.084696</td>\n",
       "    </tr>\n",
       "    <tr>\n",
       "      <td>A</td>\n",
       "      <td>23.0</td>\n",
       "      <td>2.0</td>\n",
       "      <td>25.0</td>\n",
       "      <td>0.080000</td>\n",
       "    </tr>\n",
       "    <tr>\n",
       "      <td>B</td>\n",
       "      <td>4642.0</td>\n",
       "      <td>353.0</td>\n",
       "      <td>4995.0</td>\n",
       "      <td>0.070671</td>\n",
       "    </tr>\n",
       "    <tr>\n",
       "      <td>D</td>\n",
       "      <td>327.0</td>\n",
       "      <td>21.0</td>\n",
       "      <td>348.0</td>\n",
       "      <td>0.060345</td>\n",
       "    </tr>\n",
       "  </tbody>\n",
       "</table>\n",
       "</div>"
      ],
      "text/plain": [
       "debt                         0       1      sum     ratio\n",
       "total_income_category                                    \n",
       "E                         20.0     2.0     22.0  0.090909\n",
       "C                      14557.0  1347.0  15904.0  0.084696\n",
       "A                         23.0     2.0     25.0  0.080000\n",
       "B                       4642.0   353.0   4995.0  0.070671\n",
       "D                        327.0    21.0    348.0  0.060345"
      ]
     },
     "execution_count": 52,
     "metadata": {},
     "output_type": "execute_result"
    }
   ],
   "source": [
    "income_pivot.sort_values(by='ratio', ascending=False)"
   ]
  },
  {
   "cell_type": "markdown",
   "id": "909a81b0",
   "metadata": {},
   "source": [
    "### Вывод 3:"
   ]
  },
  {
   "cell_type": "markdown",
   "id": "1fbd8462",
   "metadata": {},
   "source": [
    "Доля должников среди клиентов с самым низким доходом действительно наибольшая (0.09). Но зависимость между уровнем дохода и возвратом кредита в срок не наблюдается. Так, люди с высшим доходом на третьем месте среди должников, а клиенты с доходом, близким к низкому (30001-50000) на последнем с долей должников 0.06.\n",
    "\n",
    "Возможно, важные данные в столбце `total_income` были утеряны при заполнении пропусков медианным значением."
   ]
  },
  {
   "cell_type": "markdown",
   "id": "c776ea5e",
   "metadata": {},
   "source": [
    "### Вопрос 4:"
   ]
  },
  {
   "cell_type": "markdown",
   "id": "ff539b1c",
   "metadata": {},
   "source": [
    "Как разные цели кредита влияют на его возврат в срок?"
   ]
  },
  {
   "cell_type": "markdown",
   "id": "ebe9b76e",
   "metadata": {},
   "source": [
    "Построим сводную таблицу с группировкой по цели кредита и столбцами, аналогичными предыдущему заданию:"
   ]
  },
  {
   "cell_type": "code",
   "execution_count": 49,
   "id": "5edca530",
   "metadata": {
    "scrolled": true
   },
   "outputs": [
    {
     "data": {
      "text/html": [
       "<div>\n",
       "<style scoped>\n",
       "    .dataframe tbody tr th:only-of-type {\n",
       "        vertical-align: middle;\n",
       "    }\n",
       "\n",
       "    .dataframe tbody tr th {\n",
       "        vertical-align: top;\n",
       "    }\n",
       "\n",
       "    .dataframe thead th {\n",
       "        text-align: right;\n",
       "    }\n",
       "</style>\n",
       "<table border=\"1\" class=\"dataframe\">\n",
       "  <thead>\n",
       "    <tr style=\"text-align: right;\">\n",
       "      <th>debt</th>\n",
       "      <th>0</th>\n",
       "      <th>1</th>\n",
       "      <th>sum</th>\n",
       "      <th>ratio</th>\n",
       "    </tr>\n",
       "    <tr>\n",
       "      <th>purpose_category</th>\n",
       "      <th></th>\n",
       "      <th></th>\n",
       "      <th></th>\n",
       "      <th></th>\n",
       "    </tr>\n",
       "  </thead>\n",
       "  <tbody>\n",
       "    <tr>\n",
       "      <td>операции с автомобилем</td>\n",
       "      <td>3873.0</td>\n",
       "      <td>398.0</td>\n",
       "      <td>4271.0</td>\n",
       "      <td>0.093187</td>\n",
       "    </tr>\n",
       "    <tr>\n",
       "      <td>операции с недвижимостью</td>\n",
       "      <td>9953.0</td>\n",
       "      <td>777.0</td>\n",
       "      <td>10730.0</td>\n",
       "      <td>0.072414</td>\n",
       "    </tr>\n",
       "    <tr>\n",
       "      <td>получение образования</td>\n",
       "      <td>3612.0</td>\n",
       "      <td>369.0</td>\n",
       "      <td>3981.0</td>\n",
       "      <td>0.092690</td>\n",
       "    </tr>\n",
       "    <tr>\n",
       "      <td>проведение свадьбы</td>\n",
       "      <td>2131.0</td>\n",
       "      <td>181.0</td>\n",
       "      <td>2312.0</td>\n",
       "      <td>0.078287</td>\n",
       "    </tr>\n",
       "  </tbody>\n",
       "</table>\n",
       "</div>"
      ],
      "text/plain": [
       "debt                           0      1      sum     ratio\n",
       "purpose_category                                          \n",
       "операции с автомобилем    3873.0  398.0   4271.0  0.093187\n",
       "операции с недвижимостью  9953.0  777.0  10730.0  0.072414\n",
       "получение образования     3612.0  369.0   3981.0  0.092690\n",
       "проведение свадьбы        2131.0  181.0   2312.0  0.078287"
      ]
     },
     "execution_count": 49,
     "metadata": {},
     "output_type": "execute_result"
    }
   ],
   "source": [
    "# построение сводной таблицы\n",
    "purpose_pivot = df.pivot_table(index='purpose_category', columns='debt',values='purpose', aggfunc='count')\n",
    "\n",
    "# вызов функции find_sum_ratio для датафрейма\n",
    "purpose_pivot = purpose_pivot.apply(find_sum_ratio, axis=1)\n",
    "\n",
    "purpose_pivot"
   ]
  },
  {
   "cell_type": "markdown",
   "id": "60a844b6",
   "metadata": {},
   "source": [
    "### Вывод 4:"
   ]
  },
  {
   "cell_type": "markdown",
   "id": "f87a5b0c",
   "metadata": {},
   "source": [
    "Доля должников меньше среди тех, кто берет кредит для операций с недвижимостью или проведения свадьбы, и больше среди тех, кто берет его для операций с автомобилем или получения образования. Возможно, это связано с тем, что к покупке жилья люди относятся более ответственно, так как сумма заемных средств и срок кредита, как правило гораздо выше чем в остальных категориях, а свадебные кредиты возвращаются за счет подаренных денег."
   ]
  },
  {
   "cell_type": "markdown",
   "id": "4d570364",
   "metadata": {},
   "source": [
    "## Общий вывод:"
   ]
  },
  {
   "cell_type": "markdown",
   "id": "f465a834",
   "metadata": {},
   "source": [
    "Способность потенциального заёмщика вернуть кредит банку зависит от:\n",
    "* наличия детей;\n",
    "* семейного положения;\n",
    "* цели кредита.\n",
    "\n",
    "Меньшая доля должников приходится на тех, у кого нет детей, и кто состоит/состоял в официально зарегистрированном браке. При этом кредит чаще возвращают в срок, если его берут для операций с недвижимостью или проведения свадьбы.\n",
    "\n",
    "Чтобы точно определить, влияет ли уровень дохода на возврат кредита в срок, необходимо восстановить пропущенные значения и провести еще одно исследование."
   ]
  }
 ],
 "metadata": {
  "ExecuteTimeLog": [
   {
    "duration": 749,
    "start_time": "2022-01-31T16:47:08.711Z"
   },
   {
    "duration": 88,
    "start_time": "2022-01-31T18:03:57.833Z"
   },
   {
    "duration": 17,
    "start_time": "2022-01-31T18:04:59.307Z"
   },
   {
    "duration": 141,
    "start_time": "2022-01-31T18:08:26.874Z"
   },
   {
    "duration": 14,
    "start_time": "2022-01-31T18:21:45.614Z"
   },
   {
    "duration": 12,
    "start_time": "2022-01-31T18:22:40.329Z"
   },
   {
    "duration": 12,
    "start_time": "2022-01-31T18:22:48.260Z"
   },
   {
    "duration": 14,
    "start_time": "2022-01-31T18:24:55.613Z"
   },
   {
    "duration": 9,
    "start_time": "2022-01-31T18:25:23.466Z"
   },
   {
    "duration": 9,
    "start_time": "2022-01-31T18:29:34.468Z"
   },
   {
    "duration": 9,
    "start_time": "2022-01-31T18:29:51.504Z"
   },
   {
    "duration": 14,
    "start_time": "2022-01-31T18:52:56.048Z"
   },
   {
    "duration": 13,
    "start_time": "2022-01-31T18:53:18.669Z"
   },
   {
    "duration": 7190,
    "start_time": "2022-01-31T18:54:01.636Z"
   },
   {
    "duration": 5799,
    "start_time": "2022-01-31T18:54:27.073Z"
   },
   {
    "duration": 6,
    "start_time": "2022-01-31T18:55:51.374Z"
   },
   {
    "duration": 877,
    "start_time": "2022-01-31T18:56:30.619Z"
   },
   {
    "duration": 15,
    "start_time": "2022-01-31T18:56:31.499Z"
   },
   {
    "duration": 36,
    "start_time": "2022-01-31T18:56:31.517Z"
   },
   {
    "duration": 11,
    "start_time": "2022-01-31T18:56:31.556Z"
   },
   {
    "duration": 21,
    "start_time": "2022-01-31T18:56:31.570Z"
   },
   {
    "duration": 14,
    "start_time": "2022-01-31T18:56:31.593Z"
   },
   {
    "duration": 48,
    "start_time": "2022-01-31T18:56:31.610Z"
   },
   {
    "duration": 23,
    "start_time": "2022-01-31T19:13:21.018Z"
   },
   {
    "duration": 20,
    "start_time": "2022-01-31T19:13:33.285Z"
   },
   {
    "duration": 5429,
    "start_time": "2022-01-31T19:13:41.080Z"
   },
   {
    "duration": 11,
    "start_time": "2022-01-31T19:14:28.971Z"
   },
   {
    "duration": 11,
    "start_time": "2022-01-31T19:14:33.339Z"
   },
   {
    "duration": 11,
    "start_time": "2022-01-31T19:14:46.711Z"
   },
   {
    "duration": 6,
    "start_time": "2022-01-31T19:15:22.771Z"
   },
   {
    "duration": 8,
    "start_time": "2022-01-31T19:16:24.104Z"
   },
   {
    "duration": 8,
    "start_time": "2022-01-31T19:35:15.184Z"
   },
   {
    "duration": 6,
    "start_time": "2022-01-31T19:38:41.832Z"
   },
   {
    "duration": 15,
    "start_time": "2022-01-31T19:39:53.341Z"
   },
   {
    "duration": 12,
    "start_time": "2022-01-31T19:43:23.441Z"
   },
   {
    "duration": 16,
    "start_time": "2022-01-31T19:46:25.025Z"
   },
   {
    "duration": 6,
    "start_time": "2022-01-31T19:46:35.172Z"
   },
   {
    "duration": 20,
    "start_time": "2022-01-31T19:52:52.133Z"
   },
   {
    "duration": 11,
    "start_time": "2022-01-31T19:53:03.729Z"
   },
   {
    "duration": 9,
    "start_time": "2022-01-31T19:53:25.165Z"
   },
   {
    "duration": 13,
    "start_time": "2022-01-31T19:58:04.793Z"
   },
   {
    "duration": 888,
    "start_time": "2022-01-31T19:59:26.548Z"
   },
   {
    "duration": 15,
    "start_time": "2022-01-31T19:59:27.439Z"
   },
   {
    "duration": 21,
    "start_time": "2022-01-31T19:59:27.458Z"
   },
   {
    "duration": 9,
    "start_time": "2022-01-31T19:59:27.481Z"
   },
   {
    "duration": 13,
    "start_time": "2022-01-31T19:59:27.493Z"
   },
   {
    "duration": 48,
    "start_time": "2022-01-31T19:59:27.508Z"
   },
   {
    "duration": 19,
    "start_time": "2022-01-31T19:59:27.559Z"
   },
   {
    "duration": 4,
    "start_time": "2022-01-31T19:59:27.582Z"
   },
   {
    "duration": 11,
    "start_time": "2022-01-31T19:59:27.589Z"
   },
   {
    "duration": 9,
    "start_time": "2022-01-31T19:59:27.603Z"
   },
   {
    "duration": 14,
    "start_time": "2022-01-31T19:59:27.648Z"
   },
   {
    "duration": 19,
    "start_time": "2022-01-31T19:59:27.665Z"
   },
   {
    "duration": 10,
    "start_time": "2022-01-31T19:59:27.687Z"
   },
   {
    "duration": 7,
    "start_time": "2022-01-31T19:59:27.700Z"
   },
   {
    "duration": 40,
    "start_time": "2022-01-31T19:59:27.710Z"
   },
   {
    "duration": 21,
    "start_time": "2022-01-31T19:59:27.753Z"
   },
   {
    "duration": 12,
    "start_time": "2022-01-31T20:00:18.114Z"
   },
   {
    "duration": 7,
    "start_time": "2022-01-31T20:00:40.261Z"
   },
   {
    "duration": 11,
    "start_time": "2022-01-31T20:05:52.274Z"
   },
   {
    "duration": 8,
    "start_time": "2022-01-31T20:40:59.066Z"
   },
   {
    "duration": 922,
    "start_time": "2022-02-01T07:00:03.806Z"
   },
   {
    "duration": 23,
    "start_time": "2022-02-01T07:00:04.731Z"
   },
   {
    "duration": 21,
    "start_time": "2022-02-01T07:00:04.759Z"
   },
   {
    "duration": 18,
    "start_time": "2022-02-01T07:00:04.784Z"
   },
   {
    "duration": 44,
    "start_time": "2022-02-01T07:00:04.805Z"
   },
   {
    "duration": 16,
    "start_time": "2022-02-01T07:00:04.852Z"
   },
   {
    "duration": 23,
    "start_time": "2022-02-01T07:00:04.871Z"
   },
   {
    "duration": 5,
    "start_time": "2022-02-01T07:00:04.897Z"
   },
   {
    "duration": 28,
    "start_time": "2022-02-01T07:00:04.907Z"
   },
   {
    "duration": 25,
    "start_time": "2022-02-01T07:00:04.938Z"
   },
   {
    "duration": 14,
    "start_time": "2022-02-01T07:00:04.966Z"
   },
   {
    "duration": 31,
    "start_time": "2022-02-01T07:00:04.982Z"
   },
   {
    "duration": 8,
    "start_time": "2022-02-01T07:00:05.016Z"
   },
   {
    "duration": 11,
    "start_time": "2022-02-01T07:00:05.026Z"
   },
   {
    "duration": 23,
    "start_time": "2022-02-01T07:00:05.040Z"
   },
   {
    "duration": 15,
    "start_time": "2022-02-01T07:00:05.066Z"
   },
   {
    "duration": 7,
    "start_time": "2022-02-01T07:00:05.084Z"
   },
   {
    "duration": 48,
    "start_time": "2022-02-01T07:00:05.094Z"
   },
   {
    "duration": 42,
    "start_time": "2022-02-01T07:00:05.145Z"
   },
   {
    "duration": 12,
    "start_time": "2022-02-01T07:00:42.236Z"
   },
   {
    "duration": 26,
    "start_time": "2022-02-01T07:01:13.952Z"
   },
   {
    "duration": 11,
    "start_time": "2022-02-01T07:01:46.028Z"
   },
   {
    "duration": 10,
    "start_time": "2022-02-01T07:06:25.646Z"
   },
   {
    "duration": 12,
    "start_time": "2022-02-01T07:11:44.239Z"
   },
   {
    "duration": 14,
    "start_time": "2022-02-01T07:12:02.781Z"
   },
   {
    "duration": 13,
    "start_time": "2022-02-01T07:14:03.121Z"
   },
   {
    "duration": 164,
    "start_time": "2022-02-01T07:14:12.433Z"
   },
   {
    "duration": 13,
    "start_time": "2022-02-01T07:14:20.526Z"
   },
   {
    "duration": 98,
    "start_time": "2022-02-01T07:14:39.145Z"
   },
   {
    "duration": 82,
    "start_time": "2022-02-01T07:14:49.127Z"
   },
   {
    "duration": 5,
    "start_time": "2022-02-01T07:23:13.644Z"
   },
   {
    "duration": 7,
    "start_time": "2022-02-01T07:23:20.024Z"
   },
   {
    "duration": 625,
    "start_time": "2022-02-01T07:23:51.687Z"
   },
   {
    "duration": 9,
    "start_time": "2022-02-01T07:24:28.712Z"
   },
   {
    "duration": 8,
    "start_time": "2022-02-01T07:24:40.931Z"
   },
   {
    "duration": 12,
    "start_time": "2022-02-01T07:28:29.949Z"
   },
   {
    "duration": 9,
    "start_time": "2022-02-01T07:29:24.729Z"
   },
   {
    "duration": 9,
    "start_time": "2022-02-01T07:30:23.790Z"
   },
   {
    "duration": 9,
    "start_time": "2022-02-01T07:31:03.821Z"
   },
   {
    "duration": 551,
    "start_time": "2022-02-01T08:05:56.324Z"
   },
   {
    "duration": 16,
    "start_time": "2022-02-01T08:08:36.688Z"
   },
   {
    "duration": 6,
    "start_time": "2022-02-01T08:46:15.656Z"
   },
   {
    "duration": 6,
    "start_time": "2022-02-01T08:46:19.461Z"
   },
   {
    "duration": 5,
    "start_time": "2022-02-01T08:46:21.638Z"
   },
   {
    "duration": 5,
    "start_time": "2022-02-01T08:46:42.458Z"
   },
   {
    "duration": 6,
    "start_time": "2022-02-01T08:46:44.225Z"
   },
   {
    "duration": 24,
    "start_time": "2022-02-01T14:53:44.975Z"
   },
   {
    "duration": 50,
    "start_time": "2022-02-01T14:55:04.504Z"
   },
   {
    "duration": 27,
    "start_time": "2022-02-01T14:55:15.664Z"
   },
   {
    "duration": 24,
    "start_time": "2022-02-01T14:55:44.332Z"
   },
   {
    "duration": 6139,
    "start_time": "2022-02-01T14:59:39.496Z"
   },
   {
    "duration": 9,
    "start_time": "2022-02-01T14:59:53.676Z"
   },
   {
    "duration": 10,
    "start_time": "2022-02-01T14:59:55.712Z"
   },
   {
    "duration": 811,
    "start_time": "2022-02-01T15:00:52.248Z"
   },
   {
    "duration": 21,
    "start_time": "2022-02-01T15:00:53.063Z"
   },
   {
    "duration": 13,
    "start_time": "2022-02-01T15:00:53.088Z"
   },
   {
    "duration": 39,
    "start_time": "2022-02-01T15:00:53.105Z"
   },
   {
    "duration": 9,
    "start_time": "2022-02-01T15:00:53.147Z"
   },
   {
    "duration": 13,
    "start_time": "2022-02-01T15:00:53.158Z"
   },
   {
    "duration": 8,
    "start_time": "2022-02-01T15:00:53.174Z"
   },
   {
    "duration": 55,
    "start_time": "2022-02-01T15:00:53.184Z"
   },
   {
    "duration": 5,
    "start_time": "2022-02-01T15:00:53.242Z"
   },
   {
    "duration": 21,
    "start_time": "2022-02-01T15:00:53.250Z"
   },
   {
    "duration": 23,
    "start_time": "2022-02-01T15:00:53.273Z"
   },
   {
    "duration": 16,
    "start_time": "2022-02-01T15:00:53.298Z"
   },
   {
    "duration": 15,
    "start_time": "2022-02-01T15:00:53.317Z"
   },
   {
    "duration": 12,
    "start_time": "2022-02-01T15:00:53.335Z"
   },
   {
    "duration": 8,
    "start_time": "2022-02-01T15:00:53.349Z"
   },
   {
    "duration": 10,
    "start_time": "2022-02-01T15:00:53.359Z"
   },
   {
    "duration": 11,
    "start_time": "2022-02-01T15:00:53.371Z"
   },
   {
    "duration": 6,
    "start_time": "2022-02-01T15:00:53.385Z"
   },
   {
    "duration": 47,
    "start_time": "2022-02-01T15:00:53.393Z"
   },
   {
    "duration": 13,
    "start_time": "2022-02-01T15:00:53.443Z"
   },
   {
    "duration": 10,
    "start_time": "2022-02-01T15:00:53.458Z"
   },
   {
    "duration": 10,
    "start_time": "2022-02-01T15:00:53.470Z"
   },
   {
    "duration": 51,
    "start_time": "2022-02-01T15:00:53.483Z"
   },
   {
    "duration": 9,
    "start_time": "2022-02-01T15:00:53.536Z"
   },
   {
    "duration": 14,
    "start_time": "2022-02-01T15:00:53.547Z"
   },
   {
    "duration": 540,
    "start_time": "2022-02-01T15:00:53.564Z"
   },
   {
    "duration": 12,
    "start_time": "2022-02-01T15:00:54.110Z"
   },
   {
    "duration": 4,
    "start_time": "2022-02-01T15:00:54.133Z"
   },
   {
    "duration": 7,
    "start_time": "2022-02-01T15:00:54.139Z"
   },
   {
    "duration": 37,
    "start_time": "2022-02-01T15:00:54.149Z"
   },
   {
    "duration": 44,
    "start_time": "2022-02-01T15:00:54.189Z"
   },
   {
    "duration": 22,
    "start_time": "2022-02-01T15:00:54.235Z"
   },
   {
    "duration": 6731,
    "start_time": "2022-02-01T15:03:49.322Z"
   },
   {
    "duration": 21,
    "start_time": "2022-02-01T15:03:59.141Z"
   },
   {
    "duration": 18,
    "start_time": "2022-02-01T15:06:16.201Z"
   },
   {
    "duration": 14,
    "start_time": "2022-02-01T15:06:26.852Z"
   },
   {
    "duration": 10,
    "start_time": "2022-02-01T15:06:50.629Z"
   },
   {
    "duration": 8,
    "start_time": "2022-02-01T15:08:55.678Z"
   },
   {
    "duration": 15,
    "start_time": "2022-02-01T15:30:37.795Z"
   },
   {
    "duration": 16,
    "start_time": "2022-02-01T15:30:54.654Z"
   },
   {
    "duration": 17,
    "start_time": "2022-02-01T15:31:42.679Z"
   },
   {
    "duration": 240,
    "start_time": "2022-02-01T15:33:58.610Z"
   },
   {
    "duration": 15,
    "start_time": "2022-02-01T15:34:34.279Z"
   },
   {
    "duration": 27,
    "start_time": "2022-02-01T15:38:29.248Z"
   },
   {
    "duration": 18,
    "start_time": "2022-02-01T15:38:44.728Z"
   },
   {
    "duration": 88,
    "start_time": "2022-02-01T15:55:18.314Z"
   },
   {
    "duration": 100,
    "start_time": "2022-02-01T15:55:27.066Z"
   },
   {
    "duration": 81,
    "start_time": "2022-02-01T15:55:36.174Z"
   },
   {
    "duration": 13,
    "start_time": "2022-02-01T15:55:42.314Z"
   },
   {
    "duration": 30,
    "start_time": "2022-02-01T16:00:09.378Z"
   },
   {
    "duration": 14,
    "start_time": "2022-02-01T16:00:34.778Z"
   },
   {
    "duration": 27,
    "start_time": "2022-02-01T16:02:06.079Z"
   },
   {
    "duration": 917,
    "start_time": "2022-02-01T16:18:41.806Z"
   },
   {
    "duration": 3828,
    "start_time": "2022-02-01T16:32:03.874Z"
   },
   {
    "duration": 909,
    "start_time": "2022-02-01T16:35:07.367Z"
   },
   {
    "duration": 23,
    "start_time": "2022-02-01T16:35:08.279Z"
   },
   {
    "duration": 31,
    "start_time": "2022-02-01T16:35:08.306Z"
   },
   {
    "duration": 22,
    "start_time": "2022-02-01T16:35:08.341Z"
   },
   {
    "duration": 13,
    "start_time": "2022-02-01T16:35:08.366Z"
   },
   {
    "duration": 14,
    "start_time": "2022-02-01T16:35:08.383Z"
   },
   {
    "duration": 13,
    "start_time": "2022-02-01T16:35:08.433Z"
   },
   {
    "duration": 17,
    "start_time": "2022-02-01T16:35:08.451Z"
   },
   {
    "duration": 6,
    "start_time": "2022-02-01T16:35:08.472Z"
   },
   {
    "duration": 9,
    "start_time": "2022-02-01T16:35:08.481Z"
   },
   {
    "duration": 45,
    "start_time": "2022-02-01T16:35:08.492Z"
   },
   {
    "duration": 5,
    "start_time": "2022-02-01T16:35:08.539Z"
   },
   {
    "duration": 16,
    "start_time": "2022-02-01T16:35:08.546Z"
   },
   {
    "duration": 8,
    "start_time": "2022-02-01T16:35:08.564Z"
   },
   {
    "duration": 7,
    "start_time": "2022-02-01T16:35:08.574Z"
   },
   {
    "duration": 54,
    "start_time": "2022-02-01T16:35:08.583Z"
   },
   {
    "duration": 12,
    "start_time": "2022-02-01T16:35:08.640Z"
   },
   {
    "duration": 6,
    "start_time": "2022-02-01T16:35:08.655Z"
   },
   {
    "duration": 13,
    "start_time": "2022-02-01T16:35:08.664Z"
   },
   {
    "duration": 53,
    "start_time": "2022-02-01T16:35:08.679Z"
   },
   {
    "duration": 15,
    "start_time": "2022-02-01T16:35:08.735Z"
   },
   {
    "duration": 12,
    "start_time": "2022-02-01T16:35:08.753Z"
   },
   {
    "duration": 16,
    "start_time": "2022-02-01T16:35:08.770Z"
   },
   {
    "duration": 20,
    "start_time": "2022-02-01T16:35:08.790Z"
   },
   {
    "duration": 34,
    "start_time": "2022-02-01T16:35:08.834Z"
   },
   {
    "duration": 625,
    "start_time": "2022-02-01T16:35:08.871Z"
   },
   {
    "duration": 13,
    "start_time": "2022-02-01T16:35:09.498Z"
   },
   {
    "duration": 21,
    "start_time": "2022-02-01T16:35:09.514Z"
   },
   {
    "duration": 11,
    "start_time": "2022-02-01T16:35:09.537Z"
   },
   {
    "duration": 31,
    "start_time": "2022-02-01T16:35:09.550Z"
   },
   {
    "duration": 49,
    "start_time": "2022-02-01T16:35:09.583Z"
   },
   {
    "duration": 33,
    "start_time": "2022-02-01T16:35:09.636Z"
   },
   {
    "duration": 7,
    "start_time": "2022-02-01T16:35:09.672Z"
   },
   {
    "duration": 20,
    "start_time": "2022-02-01T16:35:09.681Z"
   },
   {
    "duration": 37,
    "start_time": "2022-02-01T16:35:09.704Z"
   },
   {
    "duration": 10,
    "start_time": "2022-02-01T16:35:09.744Z"
   },
   {
    "duration": 17,
    "start_time": "2022-02-01T16:35:09.757Z"
   },
   {
    "duration": 57,
    "start_time": "2022-02-01T16:35:09.777Z"
   },
   {
    "duration": 19,
    "start_time": "2022-02-01T16:35:09.836Z"
   },
   {
    "duration": 28,
    "start_time": "2022-02-01T16:35:09.857Z"
   },
   {
    "duration": 1033,
    "start_time": "2022-02-01T16:35:09.888Z"
   },
   {
    "duration": 9,
    "start_time": "2022-02-01T16:35:10.924Z"
   },
   {
    "duration": 933,
    "start_time": "2022-02-01T16:36:13.520Z"
   },
   {
    "duration": 4197,
    "start_time": "2022-02-01T16:36:21.555Z"
   },
   {
    "duration": 3975,
    "start_time": "2022-02-01T16:36:49.264Z"
   },
   {
    "duration": 7,
    "start_time": "2022-02-01T16:38:09.343Z"
   },
   {
    "duration": 365,
    "start_time": "2022-02-01T18:30:44.288Z"
   },
   {
    "duration": 362,
    "start_time": "2022-02-01T18:31:21.976Z"
   },
   {
    "duration": 246,
    "start_time": "2022-02-01T18:31:37.582Z"
   },
   {
    "duration": 280,
    "start_time": "2022-02-01T18:32:19.634Z"
   },
   {
    "duration": 25,
    "start_time": "2022-02-01T18:32:28.452Z"
   },
   {
    "duration": 268,
    "start_time": "2022-02-01T18:32:54.636Z"
   },
   {
    "duration": 46,
    "start_time": "2022-02-01T18:34:47.978Z"
   },
   {
    "duration": 25,
    "start_time": "2022-02-01T18:34:57.312Z"
   },
   {
    "duration": 815,
    "start_time": "2022-02-01T18:46:53.080Z"
   },
   {
    "duration": 348,
    "start_time": "2022-02-01T18:46:53.898Z"
   },
   {
    "duration": 266,
    "start_time": "2022-02-01T18:46:53.985Z"
   },
   {
    "duration": 263,
    "start_time": "2022-02-01T18:46:53.989Z"
   },
   {
    "duration": 257,
    "start_time": "2022-02-01T18:46:53.998Z"
   },
   {
    "duration": 254,
    "start_time": "2022-02-01T18:46:54.002Z"
   },
   {
    "duration": 251,
    "start_time": "2022-02-01T18:46:54.006Z"
   },
   {
    "duration": 248,
    "start_time": "2022-02-01T18:46:54.010Z"
   },
   {
    "duration": 247,
    "start_time": "2022-02-01T18:46:54.013Z"
   },
   {
    "duration": 244,
    "start_time": "2022-02-01T18:46:54.017Z"
   },
   {
    "duration": 241,
    "start_time": "2022-02-01T18:46:54.022Z"
   },
   {
    "duration": 237,
    "start_time": "2022-02-01T18:46:54.027Z"
   },
   {
    "duration": 227,
    "start_time": "2022-02-01T18:46:54.038Z"
   },
   {
    "duration": 223,
    "start_time": "2022-02-01T18:46:54.043Z"
   },
   {
    "duration": 221,
    "start_time": "2022-02-01T18:46:54.047Z"
   },
   {
    "duration": 219,
    "start_time": "2022-02-01T18:46:54.050Z"
   },
   {
    "duration": 216,
    "start_time": "2022-02-01T18:46:54.054Z"
   },
   {
    "duration": 215,
    "start_time": "2022-02-01T18:46:54.057Z"
   },
   {
    "duration": 213,
    "start_time": "2022-02-01T18:46:54.061Z"
   },
   {
    "duration": 205,
    "start_time": "2022-02-01T18:46:54.070Z"
   },
   {
    "duration": 204,
    "start_time": "2022-02-01T18:46:54.073Z"
   },
   {
    "duration": 201,
    "start_time": "2022-02-01T18:46:54.077Z"
   },
   {
    "duration": 200,
    "start_time": "2022-02-01T18:46:54.080Z"
   },
   {
    "duration": 196,
    "start_time": "2022-02-01T18:46:54.085Z"
   },
   {
    "duration": 192,
    "start_time": "2022-02-01T18:46:54.091Z"
   },
   {
    "duration": 190,
    "start_time": "2022-02-01T18:46:54.095Z"
   },
   {
    "duration": 171,
    "start_time": "2022-02-01T18:46:54.115Z"
   },
   {
    "duration": 170,
    "start_time": "2022-02-01T18:46:54.118Z"
   },
   {
    "duration": 167,
    "start_time": "2022-02-01T18:46:54.122Z"
   },
   {
    "duration": 152,
    "start_time": "2022-02-01T18:46:54.137Z"
   },
   {
    "duration": 149,
    "start_time": "2022-02-01T18:46:54.141Z"
   },
   {
    "duration": 188,
    "start_time": "2022-02-01T18:46:54.144Z"
   },
   {
    "duration": 186,
    "start_time": "2022-02-01T18:46:54.148Z"
   },
   {
    "duration": 184,
    "start_time": "2022-02-01T18:46:54.151Z"
   },
   {
    "duration": 182,
    "start_time": "2022-02-01T18:46:54.155Z"
   },
   {
    "duration": 180,
    "start_time": "2022-02-01T18:46:54.158Z"
   },
   {
    "duration": 178,
    "start_time": "2022-02-01T18:46:54.162Z"
   },
   {
    "duration": 177,
    "start_time": "2022-02-01T18:46:54.165Z"
   },
   {
    "duration": 175,
    "start_time": "2022-02-01T18:46:54.168Z"
   },
   {
    "duration": 173,
    "start_time": "2022-02-01T18:46:54.172Z"
   },
   {
    "duration": 171,
    "start_time": "2022-02-01T18:46:54.175Z"
   },
   {
    "duration": 170,
    "start_time": "2022-02-01T18:46:54.178Z"
   },
   {
    "duration": 167,
    "start_time": "2022-02-01T18:46:54.182Z"
   },
   {
    "duration": 148,
    "start_time": "2022-02-01T18:46:54.203Z"
   },
   {
    "duration": 143,
    "start_time": "2022-02-01T18:46:54.209Z"
   },
   {
    "duration": 244,
    "start_time": "2022-02-01T18:47:36.460Z"
   },
   {
    "duration": 21,
    "start_time": "2022-02-01T18:47:49.684Z"
   },
   {
    "duration": 934,
    "start_time": "2022-02-01T18:48:14.617Z"
   },
   {
    "duration": 15,
    "start_time": "2022-02-01T18:48:15.554Z"
   },
   {
    "duration": 10,
    "start_time": "2022-02-01T18:48:15.573Z"
   },
   {
    "duration": 47,
    "start_time": "2022-02-01T18:48:15.586Z"
   },
   {
    "duration": 11,
    "start_time": "2022-02-01T18:48:15.637Z"
   },
   {
    "duration": 10,
    "start_time": "2022-02-01T18:48:15.651Z"
   },
   {
    "duration": 7,
    "start_time": "2022-02-01T18:48:15.663Z"
   },
   {
    "duration": 10,
    "start_time": "2022-02-01T18:48:15.673Z"
   },
   {
    "duration": 48,
    "start_time": "2022-02-01T18:48:15.687Z"
   },
   {
    "duration": 10,
    "start_time": "2022-02-01T18:48:15.739Z"
   },
   {
    "duration": 11,
    "start_time": "2022-02-01T18:48:15.752Z"
   },
   {
    "duration": 5,
    "start_time": "2022-02-01T18:48:15.767Z"
   },
   {
    "duration": 12,
    "start_time": "2022-02-01T18:48:15.775Z"
   },
   {
    "duration": 54,
    "start_time": "2022-02-01T18:48:15.790Z"
   },
   {
    "duration": 10,
    "start_time": "2022-02-01T18:48:15.846Z"
   },
   {
    "duration": 9,
    "start_time": "2022-02-01T18:48:15.858Z"
   },
   {
    "duration": 11,
    "start_time": "2022-02-01T18:48:15.870Z"
   },
   {
    "duration": 5,
    "start_time": "2022-02-01T18:48:15.884Z"
   },
   {
    "duration": 50,
    "start_time": "2022-02-01T18:48:15.892Z"
   },
   {
    "duration": 17,
    "start_time": "2022-02-01T18:48:15.945Z"
   },
   {
    "duration": 17,
    "start_time": "2022-02-01T18:48:15.964Z"
   },
   {
    "duration": 17,
    "start_time": "2022-02-01T18:48:15.983Z"
   },
   {
    "duration": 40,
    "start_time": "2022-02-01T18:48:16.002Z"
   },
   {
    "duration": 16,
    "start_time": "2022-02-01T18:48:16.045Z"
   },
   {
    "duration": 11,
    "start_time": "2022-02-01T18:48:16.064Z"
   },
   {
    "duration": 575,
    "start_time": "2022-02-01T18:48:16.077Z"
   },
   {
    "duration": 14,
    "start_time": "2022-02-01T18:48:16.657Z"
   },
   {
    "duration": 5,
    "start_time": "2022-02-01T18:48:16.675Z"
   },
   {
    "duration": 9,
    "start_time": "2022-02-01T18:48:16.682Z"
   },
   {
    "duration": 57,
    "start_time": "2022-02-01T18:48:16.693Z"
   },
   {
    "duration": 26,
    "start_time": "2022-02-01T18:48:16.753Z"
   },
   {
    "duration": 23,
    "start_time": "2022-02-01T18:48:16.782Z"
   },
   {
    "duration": 29,
    "start_time": "2022-02-01T18:48:16.808Z"
   },
   {
    "duration": 27,
    "start_time": "2022-02-01T18:48:16.840Z"
   },
   {
    "duration": 10,
    "start_time": "2022-02-01T18:48:16.869Z"
   },
   {
    "duration": 7,
    "start_time": "2022-02-01T18:48:16.881Z"
   },
   {
    "duration": 44,
    "start_time": "2022-02-01T18:48:16.890Z"
   },
   {
    "duration": 18,
    "start_time": "2022-02-01T18:48:16.936Z"
   },
   {
    "duration": 17,
    "start_time": "2022-02-01T18:48:16.957Z"
   },
   {
    "duration": 64,
    "start_time": "2022-02-01T18:48:16.976Z"
   },
   {
    "duration": 948,
    "start_time": "2022-02-01T18:48:17.043Z"
   },
   {
    "duration": 4274,
    "start_time": "2022-02-01T18:48:17.994Z"
   },
   {
    "duration": 8,
    "start_time": "2022-02-01T18:48:22.271Z"
   },
   {
    "duration": 51,
    "start_time": "2022-02-01T18:48:22.281Z"
   },
   {
    "duration": 4894,
    "start_time": "2022-02-01T18:49:45.025Z"
   },
   {
    "duration": 4658,
    "start_time": "2022-02-01T18:50:37.333Z"
   },
   {
    "duration": 4614,
    "start_time": "2022-02-01T18:50:56.132Z"
   },
   {
    "duration": 8,
    "start_time": "2022-02-01T18:51:20.495Z"
   },
   {
    "duration": 6,
    "start_time": "2022-02-01T18:51:36.783Z"
   },
   {
    "duration": 26,
    "start_time": "2022-02-01T18:52:01.763Z"
   },
   {
    "duration": 28,
    "start_time": "2022-02-01T18:52:12.576Z"
   },
   {
    "duration": 13,
    "start_time": "2022-02-01T18:52:18.933Z"
   },
   {
    "duration": 15,
    "start_time": "2022-02-01T18:53:10.313Z"
   },
   {
    "duration": 4678,
    "start_time": "2022-02-01T19:01:25.292Z"
   },
   {
    "duration": 246,
    "start_time": "2022-02-01T19:03:35.529Z"
   },
   {
    "duration": 6417,
    "start_time": "2022-02-01T19:03:40.961Z"
   },
   {
    "duration": 257,
    "start_time": "2022-02-01T19:05:17.770Z"
   },
   {
    "duration": 7033,
    "start_time": "2022-02-01T19:05:27.033Z"
   },
   {
    "duration": 6,
    "start_time": "2022-02-01T19:05:48.106Z"
   },
   {
    "duration": 968,
    "start_time": "2022-02-01T19:06:23.343Z"
   },
   {
    "duration": 9,
    "start_time": "2022-02-01T19:06:58.102Z"
   },
   {
    "duration": 250,
    "start_time": "2022-02-01T19:08:00.187Z"
   },
   {
    "duration": 999,
    "start_time": "2022-02-01T19:11:13.938Z"
   },
   {
    "duration": 265,
    "start_time": "2022-02-01T19:18:18.414Z"
   },
   {
    "duration": 4717,
    "start_time": "2022-02-01T19:19:25.790Z"
   },
   {
    "duration": 27,
    "start_time": "2022-02-01T19:20:23.884Z"
   },
   {
    "duration": 402,
    "start_time": "2022-02-01T19:21:42.398Z"
   },
   {
    "duration": 18,
    "start_time": "2022-02-01T19:21:53.674Z"
   },
   {
    "duration": 23,
    "start_time": "2022-02-01T19:22:42.090Z"
   },
   {
    "duration": 17,
    "start_time": "2022-02-01T19:22:55.704Z"
   },
   {
    "duration": 275,
    "start_time": "2022-02-01T19:23:04.056Z"
   },
   {
    "duration": 20,
    "start_time": "2022-02-01T19:23:26.978Z"
   },
   {
    "duration": 30,
    "start_time": "2022-02-01T19:23:39.080Z"
   },
   {
    "duration": 17,
    "start_time": "2022-02-01T19:23:49.004Z"
   },
   {
    "duration": 29,
    "start_time": "2022-02-01T19:25:40.164Z"
   },
   {
    "duration": 21,
    "start_time": "2022-02-01T19:25:42.572Z"
   },
   {
    "duration": 27,
    "start_time": "2022-02-01T19:25:52.073Z"
   },
   {
    "duration": 23,
    "start_time": "2022-02-01T19:25:54.032Z"
   },
   {
    "duration": 31,
    "start_time": "2022-02-01T19:26:20.450Z"
   },
   {
    "duration": 96,
    "start_time": "2022-02-01T19:26:22.408Z"
   },
   {
    "duration": 24,
    "start_time": "2022-02-01T19:26:54.062Z"
   },
   {
    "duration": 27,
    "start_time": "2022-02-01T21:01:30.419Z"
   },
   {
    "duration": 34,
    "start_time": "2022-02-01T21:04:21.546Z"
   },
   {
    "duration": 39,
    "start_time": "2022-02-01T21:06:23.973Z"
   },
   {
    "duration": 328,
    "start_time": "2022-02-02T07:20:04.986Z"
   },
   {
    "duration": 724,
    "start_time": "2022-02-02T07:20:45.758Z"
   },
   {
    "duration": 13,
    "start_time": "2022-02-02T07:20:46.485Z"
   },
   {
    "duration": 8,
    "start_time": "2022-02-02T07:20:46.500Z"
   },
   {
    "duration": 16,
    "start_time": "2022-02-02T07:20:46.510Z"
   },
   {
    "duration": 7,
    "start_time": "2022-02-02T07:20:46.528Z"
   },
   {
    "duration": 10,
    "start_time": "2022-02-02T07:20:46.536Z"
   },
   {
    "duration": 6,
    "start_time": "2022-02-02T07:20:46.549Z"
   },
   {
    "duration": 18,
    "start_time": "2022-02-02T07:20:46.558Z"
   },
   {
    "duration": 3,
    "start_time": "2022-02-02T07:20:46.579Z"
   },
   {
    "duration": 37,
    "start_time": "2022-02-02T07:20:46.584Z"
   },
   {
    "duration": 10,
    "start_time": "2022-02-02T07:20:46.622Z"
   },
   {
    "duration": 8,
    "start_time": "2022-02-02T07:20:46.634Z"
   },
   {
    "duration": 17,
    "start_time": "2022-02-02T07:20:46.644Z"
   },
   {
    "duration": 9,
    "start_time": "2022-02-02T07:20:46.663Z"
   },
   {
    "duration": 13,
    "start_time": "2022-02-02T07:20:46.674Z"
   },
   {
    "duration": 11,
    "start_time": "2022-02-02T07:20:46.688Z"
   },
   {
    "duration": 23,
    "start_time": "2022-02-02T07:20:46.701Z"
   },
   {
    "duration": 5,
    "start_time": "2022-02-02T07:20:46.726Z"
   },
   {
    "duration": 12,
    "start_time": "2022-02-02T07:20:46.732Z"
   },
   {
    "duration": 8,
    "start_time": "2022-02-02T07:20:46.746Z"
   },
   {
    "duration": 7,
    "start_time": "2022-02-02T07:20:46.756Z"
   },
   {
    "duration": 9,
    "start_time": "2022-02-02T07:20:46.765Z"
   },
   {
    "duration": 43,
    "start_time": "2022-02-02T07:20:46.777Z"
   },
   {
    "duration": 7,
    "start_time": "2022-02-02T07:20:46.823Z"
   },
   {
    "duration": 11,
    "start_time": "2022-02-02T07:20:46.832Z"
   },
   {
    "duration": 424,
    "start_time": "2022-02-02T07:20:46.845Z"
   },
   {
    "duration": 14,
    "start_time": "2022-02-02T07:20:47.271Z"
   },
   {
    "duration": 4,
    "start_time": "2022-02-02T07:20:47.288Z"
   },
   {
    "duration": 25,
    "start_time": "2022-02-02T07:20:47.294Z"
   },
   {
    "duration": 24,
    "start_time": "2022-02-02T07:20:47.322Z"
   },
   {
    "duration": 28,
    "start_time": "2022-02-02T07:20:47.348Z"
   },
   {
    "duration": 44,
    "start_time": "2022-02-02T07:20:47.379Z"
   },
   {
    "duration": 5,
    "start_time": "2022-02-02T07:20:47.425Z"
   },
   {
    "duration": 11,
    "start_time": "2022-02-02T07:20:47.432Z"
   },
   {
    "duration": 10,
    "start_time": "2022-02-02T07:20:47.445Z"
   },
   {
    "duration": 7,
    "start_time": "2022-02-02T07:20:47.457Z"
   },
   {
    "duration": 22,
    "start_time": "2022-02-02T07:20:47.467Z"
   },
   {
    "duration": 36,
    "start_time": "2022-02-02T07:20:47.491Z"
   },
   {
    "duration": 13,
    "start_time": "2022-02-02T07:20:47.529Z"
   },
   {
    "duration": 34,
    "start_time": "2022-02-02T07:20:47.544Z"
   },
   {
    "duration": 713,
    "start_time": "2022-02-02T07:20:47.580Z"
   },
   {
    "duration": 3380,
    "start_time": "2022-02-02T07:20:48.296Z"
   },
   {
    "duration": 6,
    "start_time": "2022-02-02T07:20:51.678Z"
   },
   {
    "duration": 41,
    "start_time": "2022-02-02T07:20:51.685Z"
   },
   {
    "duration": 29,
    "start_time": "2022-02-02T07:20:51.728Z"
   },
   {
    "duration": 30,
    "start_time": "2022-02-02T07:20:51.760Z"
   },
   {
    "duration": 55,
    "start_time": "2022-02-02T07:20:51.792Z"
   },
   {
    "duration": 22,
    "start_time": "2022-02-02T08:21:42.692Z"
   },
   {
    "duration": 385,
    "start_time": "2022-02-02T08:28:14.872Z"
   },
   {
    "duration": 273,
    "start_time": "2022-02-02T08:28:42.776Z"
   },
   {
    "duration": 404,
    "start_time": "2022-02-02T08:28:46.923Z"
   },
   {
    "duration": 288,
    "start_time": "2022-02-02T08:29:10.408Z"
   },
   {
    "duration": 4,
    "start_time": "2022-02-02T08:29:22.904Z"
   },
   {
    "duration": 4,
    "start_time": "2022-02-02T08:29:38.305Z"
   },
   {
    "duration": 8,
    "start_time": "2022-02-02T08:34:27.702Z"
   },
   {
    "duration": 26,
    "start_time": "2022-02-02T08:34:30.174Z"
   },
   {
    "duration": 25,
    "start_time": "2022-02-02T08:38:29.922Z"
   },
   {
    "duration": 876,
    "start_time": "2022-02-02T08:41:20.595Z"
   },
   {
    "duration": 12,
    "start_time": "2022-02-02T08:41:21.473Z"
   },
   {
    "duration": 10,
    "start_time": "2022-02-02T08:41:21.487Z"
   },
   {
    "duration": 20,
    "start_time": "2022-02-02T08:41:21.500Z"
   },
   {
    "duration": 10,
    "start_time": "2022-02-02T08:41:21.522Z"
   },
   {
    "duration": 22,
    "start_time": "2022-02-02T08:41:21.535Z"
   },
   {
    "duration": 22,
    "start_time": "2022-02-02T08:41:21.559Z"
   },
   {
    "duration": 9,
    "start_time": "2022-02-02T08:41:21.584Z"
   },
   {
    "duration": 4,
    "start_time": "2022-02-02T08:41:21.596Z"
   },
   {
    "duration": 11,
    "start_time": "2022-02-02T08:41:21.601Z"
   },
   {
    "duration": 14,
    "start_time": "2022-02-02T08:41:21.614Z"
   },
   {
    "duration": 15,
    "start_time": "2022-02-02T08:41:21.630Z"
   },
   {
    "duration": 12,
    "start_time": "2022-02-02T08:41:21.647Z"
   },
   {
    "duration": 6,
    "start_time": "2022-02-02T08:41:21.661Z"
   },
   {
    "duration": 6,
    "start_time": "2022-02-02T08:41:21.669Z"
   },
   {
    "duration": 9,
    "start_time": "2022-02-02T08:41:21.677Z"
   },
   {
    "duration": 13,
    "start_time": "2022-02-02T08:41:21.688Z"
   },
   {
    "duration": 5,
    "start_time": "2022-02-02T08:41:21.703Z"
   },
   {
    "duration": 9,
    "start_time": "2022-02-02T08:41:21.710Z"
   },
   {
    "duration": 16,
    "start_time": "2022-02-02T08:41:21.721Z"
   },
   {
    "duration": 22,
    "start_time": "2022-02-02T08:41:21.739Z"
   },
   {
    "duration": 14,
    "start_time": "2022-02-02T08:41:21.763Z"
   },
   {
    "duration": 16,
    "start_time": "2022-02-02T08:41:21.780Z"
   },
   {
    "duration": 7,
    "start_time": "2022-02-02T08:41:21.799Z"
   },
   {
    "duration": 13,
    "start_time": "2022-02-02T08:41:21.808Z"
   },
   {
    "duration": 338,
    "start_time": "2022-02-02T08:41:21.823Z"
   },
   {
    "duration": 11,
    "start_time": "2022-02-02T08:41:22.164Z"
   },
   {
    "duration": 43,
    "start_time": "2022-02-02T08:41:22.176Z"
   },
   {
    "duration": 6,
    "start_time": "2022-02-02T08:41:22.222Z"
   },
   {
    "duration": 31,
    "start_time": "2022-02-02T08:41:22.231Z"
   },
   {
    "duration": 19,
    "start_time": "2022-02-02T08:41:22.264Z"
   },
   {
    "duration": 41,
    "start_time": "2022-02-02T08:41:22.285Z"
   },
   {
    "duration": 6,
    "start_time": "2022-02-02T08:41:22.329Z"
   },
   {
    "duration": 19,
    "start_time": "2022-02-02T08:41:22.337Z"
   },
   {
    "duration": 12,
    "start_time": "2022-02-02T08:41:22.358Z"
   },
   {
    "duration": 10,
    "start_time": "2022-02-02T08:41:22.372Z"
   },
   {
    "duration": 38,
    "start_time": "2022-02-02T08:41:22.384Z"
   },
   {
    "duration": 18,
    "start_time": "2022-02-02T08:41:22.426Z"
   },
   {
    "duration": 77,
    "start_time": "2022-02-02T08:41:22.446Z"
   },
   {
    "duration": 25,
    "start_time": "2022-02-02T08:41:22.525Z"
   },
   {
    "duration": 947,
    "start_time": "2022-02-02T08:41:22.552Z"
   },
   {
    "duration": 3701,
    "start_time": "2022-02-02T08:41:23.501Z"
   },
   {
    "duration": 15,
    "start_time": "2022-02-02T08:41:27.204Z"
   },
   {
    "duration": 34,
    "start_time": "2022-02-02T08:41:27.220Z"
   },
   {
    "duration": 30,
    "start_time": "2022-02-02T08:41:27.257Z"
   },
   {
    "duration": 56,
    "start_time": "2022-02-02T08:41:27.288Z"
   },
   {
    "duration": 23,
    "start_time": "2022-02-02T08:41:27.347Z"
   },
   {
    "duration": 24,
    "start_time": "2022-02-02T08:56:10.956Z"
   },
   {
    "duration": 37,
    "start_time": "2022-02-02T09:00:27.452Z"
   },
   {
    "duration": 35,
    "start_time": "2022-02-02T09:03:06.575Z"
   },
   {
    "duration": 58,
    "start_time": "2022-02-02T09:06:30.538Z"
   },
   {
    "duration": 39,
    "start_time": "2022-02-02T09:14:11.388Z"
   },
   {
    "duration": 40,
    "start_time": "2022-02-02T09:22:44.981Z"
   },
   {
    "duration": 36,
    "start_time": "2022-02-02T09:29:51.758Z"
   },
   {
    "duration": 326,
    "start_time": "2022-02-02T10:05:33.231Z"
   },
   {
    "duration": 19,
    "start_time": "2022-02-02T10:07:25.941Z"
   },
   {
    "duration": 836,
    "start_time": "2022-02-02T10:22:40.969Z"
   },
   {
    "duration": 751,
    "start_time": "2022-02-02T10:28:55.780Z"
   },
   {
    "duration": 756,
    "start_time": "2022-02-02T10:31:23.093Z"
   },
   {
    "duration": 18,
    "start_time": "2022-02-02T10:31:23.852Z"
   },
   {
    "duration": 11,
    "start_time": "2022-02-02T10:31:23.873Z"
   },
   {
    "duration": 15,
    "start_time": "2022-02-02T10:31:23.886Z"
   },
   {
    "duration": 22,
    "start_time": "2022-02-02T10:31:23.903Z"
   },
   {
    "duration": 13,
    "start_time": "2022-02-02T10:31:23.927Z"
   },
   {
    "duration": 8,
    "start_time": "2022-02-02T10:31:23.942Z"
   },
   {
    "duration": 17,
    "start_time": "2022-02-02T10:31:23.953Z"
   },
   {
    "duration": 5,
    "start_time": "2022-02-02T10:31:23.971Z"
   },
   {
    "duration": 10,
    "start_time": "2022-02-02T10:31:23.979Z"
   },
   {
    "duration": 32,
    "start_time": "2022-02-02T10:31:23.990Z"
   },
   {
    "duration": 5,
    "start_time": "2022-02-02T10:31:24.023Z"
   },
   {
    "duration": 18,
    "start_time": "2022-02-02T10:31:24.030Z"
   },
   {
    "duration": 7,
    "start_time": "2022-02-02T10:31:24.051Z"
   },
   {
    "duration": 5,
    "start_time": "2022-02-02T10:31:24.060Z"
   },
   {
    "duration": 10,
    "start_time": "2022-02-02T10:31:24.067Z"
   },
   {
    "duration": 10,
    "start_time": "2022-02-02T10:31:24.079Z"
   },
   {
    "duration": 8,
    "start_time": "2022-02-02T10:31:24.118Z"
   },
   {
    "duration": 21,
    "start_time": "2022-02-02T10:31:24.128Z"
   },
   {
    "duration": 12,
    "start_time": "2022-02-02T10:31:24.152Z"
   },
   {
    "duration": 20,
    "start_time": "2022-02-02T10:31:24.167Z"
   },
   {
    "duration": 10,
    "start_time": "2022-02-02T10:31:24.189Z"
   },
   {
    "duration": 28,
    "start_time": "2022-02-02T10:31:24.203Z"
   },
   {
    "duration": 10,
    "start_time": "2022-02-02T10:31:24.235Z"
   },
   {
    "duration": 16,
    "start_time": "2022-02-02T10:31:24.247Z"
   },
   {
    "duration": 381,
    "start_time": "2022-02-02T10:31:24.266Z"
   },
   {
    "duration": 15,
    "start_time": "2022-02-02T10:31:24.649Z"
   },
   {
    "duration": 13,
    "start_time": "2022-02-02T10:31:24.666Z"
   },
   {
    "duration": 7,
    "start_time": "2022-02-02T10:31:24.681Z"
   },
   {
    "duration": 40,
    "start_time": "2022-02-02T10:31:24.689Z"
   },
   {
    "duration": 20,
    "start_time": "2022-02-02T10:31:24.732Z"
   },
   {
    "duration": 24,
    "start_time": "2022-02-02T10:31:24.756Z"
   },
   {
    "duration": 6,
    "start_time": "2022-02-02T10:31:24.783Z"
   },
   {
    "duration": 38,
    "start_time": "2022-02-02T10:31:24.791Z"
   },
   {
    "duration": 9,
    "start_time": "2022-02-02T10:31:24.831Z"
   },
   {
    "duration": 9,
    "start_time": "2022-02-02T10:31:24.842Z"
   },
   {
    "duration": 14,
    "start_time": "2022-02-02T10:31:24.853Z"
   },
   {
    "duration": 9,
    "start_time": "2022-02-02T10:31:24.869Z"
   },
   {
    "duration": 49,
    "start_time": "2022-02-02T10:31:24.880Z"
   },
   {
    "duration": 21,
    "start_time": "2022-02-02T10:31:24.931Z"
   },
   {
    "duration": 856,
    "start_time": "2022-02-02T10:31:24.954Z"
   },
   {
    "duration": 3688,
    "start_time": "2022-02-02T10:31:25.812Z"
   },
   {
    "duration": 17,
    "start_time": "2022-02-02T10:31:29.502Z"
   },
   {
    "duration": 56,
    "start_time": "2022-02-02T10:31:29.522Z"
   },
   {
    "duration": 64,
    "start_time": "2022-02-02T10:31:29.581Z"
   },
   {
    "duration": 33,
    "start_time": "2022-02-02T10:31:29.647Z"
   },
   {
    "duration": 62,
    "start_time": "2022-02-02T10:31:29.682Z"
   },
   {
    "duration": 30,
    "start_time": "2022-02-02T10:31:29.746Z"
   },
   {
    "duration": 728,
    "start_time": "2022-02-02T10:33:07.158Z"
   },
   {
    "duration": 12,
    "start_time": "2022-02-02T10:33:07.888Z"
   },
   {
    "duration": 18,
    "start_time": "2022-02-02T10:33:07.902Z"
   },
   {
    "duration": 17,
    "start_time": "2022-02-02T10:33:07.922Z"
   },
   {
    "duration": 18,
    "start_time": "2022-02-02T10:33:07.941Z"
   },
   {
    "duration": 15,
    "start_time": "2022-02-02T10:33:07.962Z"
   },
   {
    "duration": 16,
    "start_time": "2022-02-02T10:33:07.980Z"
   },
   {
    "duration": 27,
    "start_time": "2022-02-02T10:33:08.000Z"
   },
   {
    "duration": 9,
    "start_time": "2022-02-02T10:33:08.030Z"
   },
   {
    "duration": 12,
    "start_time": "2022-02-02T10:33:08.041Z"
   },
   {
    "duration": 24,
    "start_time": "2022-02-02T10:33:08.055Z"
   },
   {
    "duration": 10,
    "start_time": "2022-02-02T10:33:08.082Z"
   },
   {
    "duration": 13,
    "start_time": "2022-02-02T10:33:08.094Z"
   },
   {
    "duration": 15,
    "start_time": "2022-02-02T10:33:08.109Z"
   },
   {
    "duration": 27,
    "start_time": "2022-02-02T10:33:08.126Z"
   },
   {
    "duration": 9,
    "start_time": "2022-02-02T10:33:08.155Z"
   },
   {
    "duration": 13,
    "start_time": "2022-02-02T10:33:08.166Z"
   },
   {
    "duration": 10,
    "start_time": "2022-02-02T10:33:08.181Z"
   },
   {
    "duration": 13,
    "start_time": "2022-02-02T10:33:08.193Z"
   },
   {
    "duration": 14,
    "start_time": "2022-02-02T10:33:08.208Z"
   },
   {
    "duration": 10,
    "start_time": "2022-02-02T10:33:08.223Z"
   },
   {
    "duration": 11,
    "start_time": "2022-02-02T10:33:08.235Z"
   },
   {
    "duration": 18,
    "start_time": "2022-02-02T10:33:08.250Z"
   },
   {
    "duration": 9,
    "start_time": "2022-02-02T10:33:08.270Z"
   },
   {
    "duration": 9,
    "start_time": "2022-02-02T10:33:08.281Z"
   },
   {
    "duration": 347,
    "start_time": "2022-02-02T10:33:08.292Z"
   },
   {
    "duration": 14,
    "start_time": "2022-02-02T10:33:08.642Z"
   },
   {
    "duration": 7,
    "start_time": "2022-02-02T10:33:08.658Z"
   },
   {
    "duration": 5,
    "start_time": "2022-02-02T10:33:08.667Z"
   },
   {
    "duration": 46,
    "start_time": "2022-02-02T10:33:08.675Z"
   },
   {
    "duration": 25,
    "start_time": "2022-02-02T10:33:08.723Z"
   },
   {
    "duration": 28,
    "start_time": "2022-02-02T10:33:08.750Z"
   },
   {
    "duration": 5,
    "start_time": "2022-02-02T10:33:08.780Z"
   },
   {
    "duration": 35,
    "start_time": "2022-02-02T10:33:08.787Z"
   },
   {
    "duration": 13,
    "start_time": "2022-02-02T10:33:08.824Z"
   },
   {
    "duration": 10,
    "start_time": "2022-02-02T10:33:08.839Z"
   },
   {
    "duration": 20,
    "start_time": "2022-02-02T10:33:08.851Z"
   },
   {
    "duration": 15,
    "start_time": "2022-02-02T10:33:08.873Z"
   },
   {
    "duration": 28,
    "start_time": "2022-02-02T10:33:08.889Z"
   },
   {
    "duration": 29,
    "start_time": "2022-02-02T10:33:08.921Z"
   },
   {
    "duration": 837,
    "start_time": "2022-02-02T10:33:08.952Z"
   },
   {
    "duration": 3552,
    "start_time": "2022-02-02T10:33:09.791Z"
   },
   {
    "duration": 6,
    "start_time": "2022-02-02T10:33:13.345Z"
   },
   {
    "duration": 47,
    "start_time": "2022-02-02T10:33:13.352Z"
   },
   {
    "duration": 54,
    "start_time": "2022-02-02T10:33:13.401Z"
   },
   {
    "duration": 34,
    "start_time": "2022-02-02T10:33:13.457Z"
   },
   {
    "duration": 51,
    "start_time": "2022-02-02T10:33:13.493Z"
   },
   {
    "duration": 38,
    "start_time": "2022-02-02T10:33:13.545Z"
   },
   {
    "duration": 290,
    "start_time": "2022-02-11T22:43:08.660Z"
   },
   {
    "duration": 672,
    "start_time": "2022-02-11T22:43:15.024Z"
   },
   {
    "duration": 11,
    "start_time": "2022-02-11T22:43:15.698Z"
   },
   {
    "duration": 7,
    "start_time": "2022-02-11T22:43:15.719Z"
   },
   {
    "duration": 11,
    "start_time": "2022-02-11T22:43:15.728Z"
   },
   {
    "duration": 7,
    "start_time": "2022-02-11T22:43:15.741Z"
   },
   {
    "duration": 9,
    "start_time": "2022-02-11T22:43:15.750Z"
   },
   {
    "duration": 6,
    "start_time": "2022-02-11T22:43:15.762Z"
   },
   {
    "duration": 48,
    "start_time": "2022-02-11T22:43:15.770Z"
   },
   {
    "duration": 3,
    "start_time": "2022-02-11T22:43:15.820Z"
   },
   {
    "duration": 9,
    "start_time": "2022-02-11T22:43:15.825Z"
   },
   {
    "duration": 6,
    "start_time": "2022-02-11T22:43:15.835Z"
   },
   {
    "duration": 9,
    "start_time": "2022-02-11T22:43:15.843Z"
   },
   {
    "duration": 9,
    "start_time": "2022-02-11T22:43:15.854Z"
   },
   {
    "duration": 5,
    "start_time": "2022-02-11T22:43:15.865Z"
   },
   {
    "duration": 4,
    "start_time": "2022-02-11T22:43:15.871Z"
   },
   {
    "duration": 6,
    "start_time": "2022-02-11T22:43:15.877Z"
   },
   {
    "duration": 36,
    "start_time": "2022-02-11T22:43:15.884Z"
   },
   {
    "duration": 4,
    "start_time": "2022-02-11T22:43:15.922Z"
   },
   {
    "duration": 8,
    "start_time": "2022-02-11T22:43:15.928Z"
   },
   {
    "duration": 14,
    "start_time": "2022-02-11T22:43:15.937Z"
   },
   {
    "duration": 9,
    "start_time": "2022-02-11T22:43:15.953Z"
   },
   {
    "duration": 5,
    "start_time": "2022-02-11T22:43:15.965Z"
   },
   {
    "duration": 12,
    "start_time": "2022-02-11T22:43:15.972Z"
   },
   {
    "duration": 6,
    "start_time": "2022-02-11T22:43:15.986Z"
   },
   {
    "duration": 10,
    "start_time": "2022-02-11T22:43:16.019Z"
   },
   {
    "duration": 278,
    "start_time": "2022-02-11T22:43:16.031Z"
   },
   {
    "duration": 10,
    "start_time": "2022-02-11T22:43:16.311Z"
   },
   {
    "duration": 14,
    "start_time": "2022-02-11T22:43:16.323Z"
   },
   {
    "duration": 3,
    "start_time": "2022-02-11T22:43:16.339Z"
   },
   {
    "duration": 4,
    "start_time": "2022-02-11T22:43:16.344Z"
   },
   {
    "duration": 19,
    "start_time": "2022-02-11T22:43:16.350Z"
   },
   {
    "duration": 51,
    "start_time": "2022-02-11T22:43:16.370Z"
   },
   {
    "duration": 16,
    "start_time": "2022-02-11T22:43:16.423Z"
   },
   {
    "duration": 4,
    "start_time": "2022-02-11T22:43:16.441Z"
   },
   {
    "duration": 13,
    "start_time": "2022-02-11T22:43:16.447Z"
   },
   {
    "duration": 9,
    "start_time": "2022-02-11T22:43:16.461Z"
   },
   {
    "duration": 6,
    "start_time": "2022-02-11T22:43:16.472Z"
   },
   {
    "duration": 40,
    "start_time": "2022-02-11T22:43:16.479Z"
   },
   {
    "duration": 12,
    "start_time": "2022-02-11T22:43:16.521Z"
   },
   {
    "duration": 12,
    "start_time": "2022-02-11T22:43:16.535Z"
   },
   {
    "duration": 18,
    "start_time": "2022-02-11T22:43:16.548Z"
   },
   {
    "duration": 681,
    "start_time": "2022-02-11T22:43:16.568Z"
   },
   {
    "duration": 3008,
    "start_time": "2022-02-11T22:43:17.250Z"
   },
   {
    "duration": 6,
    "start_time": "2022-02-11T22:43:20.260Z"
   },
   {
    "duration": 53,
    "start_time": "2022-02-11T22:43:20.267Z"
   },
   {
    "duration": 34,
    "start_time": "2022-02-11T22:43:20.322Z"
   },
   {
    "duration": 68,
    "start_time": "2022-02-11T22:43:20.357Z"
   },
   {
    "duration": 32,
    "start_time": "2022-02-11T22:43:20.427Z"
   },
   {
    "duration": 30,
    "start_time": "2022-02-11T22:43:20.460Z"
   },
   {
    "duration": 8,
    "start_time": "2022-02-11T22:44:52.531Z"
   },
   {
    "duration": 754,
    "start_time": "2022-02-12T08:00:10.385Z"
   },
   {
    "duration": 15,
    "start_time": "2022-02-12T08:00:11.142Z"
   },
   {
    "duration": 71,
    "start_time": "2022-02-12T08:00:11.163Z"
   },
   {
    "duration": 9,
    "start_time": "2022-02-12T08:00:11.236Z"
   },
   {
    "duration": 27,
    "start_time": "2022-02-12T08:00:11.248Z"
   },
   {
    "duration": 13,
    "start_time": "2022-02-12T08:00:11.277Z"
   },
   {
    "duration": 27,
    "start_time": "2022-02-12T08:00:11.294Z"
   },
   {
    "duration": 12,
    "start_time": "2022-02-12T08:00:11.324Z"
   },
   {
    "duration": 21,
    "start_time": "2022-02-12T08:00:11.338Z"
   },
   {
    "duration": 15,
    "start_time": "2022-02-12T08:00:11.361Z"
   },
   {
    "duration": 20,
    "start_time": "2022-02-12T08:00:11.378Z"
   },
   {
    "duration": 24,
    "start_time": "2022-02-12T08:00:11.400Z"
   },
   {
    "duration": 8,
    "start_time": "2022-02-12T08:00:11.427Z"
   },
   {
    "duration": 12,
    "start_time": "2022-02-12T08:00:11.437Z"
   },
   {
    "duration": 7,
    "start_time": "2022-02-12T08:00:11.451Z"
   },
   {
    "duration": 15,
    "start_time": "2022-02-12T08:00:11.460Z"
   },
   {
    "duration": 9,
    "start_time": "2022-02-12T08:00:11.477Z"
   },
   {
    "duration": 12,
    "start_time": "2022-02-12T08:00:11.488Z"
   },
   {
    "duration": 6,
    "start_time": "2022-02-12T08:00:11.533Z"
   },
   {
    "duration": 12,
    "start_time": "2022-02-12T08:00:11.541Z"
   },
   {
    "duration": 15,
    "start_time": "2022-02-12T08:00:11.555Z"
   },
   {
    "duration": 10,
    "start_time": "2022-02-12T08:00:11.575Z"
   },
   {
    "duration": 45,
    "start_time": "2022-02-12T08:00:11.587Z"
   },
   {
    "duration": 13,
    "start_time": "2022-02-12T08:00:11.634Z"
   },
   {
    "duration": 9,
    "start_time": "2022-02-12T08:00:11.650Z"
   },
   {
    "duration": 11,
    "start_time": "2022-02-12T08:00:11.662Z"
   },
   {
    "duration": 619,
    "start_time": "2022-02-12T08:00:11.675Z"
   },
   {
    "duration": 12,
    "start_time": "2022-02-12T08:00:12.297Z"
   },
   {
    "duration": 22,
    "start_time": "2022-02-12T08:00:12.311Z"
   },
   {
    "duration": 23,
    "start_time": "2022-02-12T08:00:12.335Z"
   },
   {
    "duration": 42,
    "start_time": "2022-02-12T08:00:12.361Z"
   },
   {
    "duration": 26,
    "start_time": "2022-02-12T08:00:12.405Z"
   },
   {
    "duration": 21,
    "start_time": "2022-02-12T08:00:12.433Z"
   },
   {
    "duration": 11,
    "start_time": "2022-02-12T08:00:12.456Z"
   },
   {
    "duration": 27,
    "start_time": "2022-02-12T08:00:12.470Z"
   },
   {
    "duration": 32,
    "start_time": "2022-02-12T08:00:12.500Z"
   },
   {
    "duration": 12,
    "start_time": "2022-02-12T08:00:12.534Z"
   },
   {
    "duration": 17,
    "start_time": "2022-02-12T08:00:12.548Z"
   },
   {
    "duration": 23,
    "start_time": "2022-02-12T08:00:12.568Z"
   },
   {
    "duration": 28,
    "start_time": "2022-02-12T08:00:12.593Z"
   },
   {
    "duration": 26,
    "start_time": "2022-02-12T08:00:12.632Z"
   },
   {
    "duration": 1014,
    "start_time": "2022-02-12T08:00:12.660Z"
   },
   {
    "duration": 4323,
    "start_time": "2022-02-12T08:00:13.677Z"
   },
   {
    "duration": 8,
    "start_time": "2022-02-12T08:00:18.002Z"
   },
   {
    "duration": 55,
    "start_time": "2022-02-12T08:00:18.033Z"
   },
   {
    "duration": 73,
    "start_time": "2022-02-12T08:00:18.091Z"
   },
   {
    "duration": 66,
    "start_time": "2022-02-12T08:00:18.167Z"
   },
   {
    "duration": 46,
    "start_time": "2022-02-12T08:00:18.235Z"
   },
   {
    "duration": 65,
    "start_time": "2022-02-12T08:00:18.284Z"
   },
   {
    "duration": 13,
    "start_time": "2022-02-12T08:20:24.020Z"
   },
   {
    "duration": 13,
    "start_time": "2022-02-12T08:33:29.583Z"
   },
   {
    "duration": 12,
    "start_time": "2022-02-12T08:33:35.381Z"
   }
  ],
  "kernelspec": {
   "display_name": "Python 3",
   "language": "python",
   "name": "python3"
  },
  "language_info": {
   "codemirror_mode": {
    "name": "ipython",
    "version": 3
   },
   "file_extension": ".py",
   "mimetype": "text/x-python",
   "name": "python",
   "nbconvert_exporter": "python",
   "pygments_lexer": "ipython3",
   "version": "3.8.8"
  },
  "toc": {
   "base_numbering": 1,
   "nav_menu": {},
   "number_sections": false,
   "sideBar": true,
   "skip_h1_title": true,
   "title_cell": "Table of Contents",
   "title_sidebar": "Contents",
   "toc_cell": false,
   "toc_position": {},
   "toc_section_display": true,
   "toc_window_display": false
  }
 },
 "nbformat": 4,
 "nbformat_minor": 5
}
